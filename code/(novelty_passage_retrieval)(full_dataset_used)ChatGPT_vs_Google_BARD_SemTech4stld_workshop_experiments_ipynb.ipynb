{
  "nbformat": 4,
  "nbformat_minor": 0,
  "metadata": {
    "colab": {
      "provenance": []
    },
    "kernelspec": {
      "name": "python3",
      "display_name": "Python 3"
    },
    "language_info": {
      "name": "python"
    }
  },
  "cells": [
    {
      "cell_type": "code",
      "execution_count": null,
      "metadata": {
        "colab": {
          "base_uri": "https://localhost:8080/"
        },
        "id": "tWlgp7h0B7ZY",
        "outputId": "2d839b29-6531-4065-970f-0b730df15b2d"
      },
      "outputs": [
        {
          "output_type": "stream",
          "name": "stdout",
          "text": [
            "Mounted at /content/gdrive/\n"
          ]
        }
      ],
      "source": [
        "# connect to drive\n",
        "from google.colab import drive\n",
        "drive.mount('/content/gdrive/', force_remount=True)"
      ]
    },
    {
      "cell_type": "code",
      "source": [
        "cd gdrive/MyDrive/SemTech4STLD_related_code_and_data/"
      ],
      "metadata": {
        "colab": {
          "base_uri": "https://localhost:8080/"
        },
        "id": "ZMg0ShrMDNfo",
        "outputId": "238b6228-0d83-47f6-e031-f649a8160905"
      },
      "execution_count": null,
      "outputs": [
        {
          "output_type": "stream",
          "name": "stdout",
          "text": [
            "/content/gdrive/MyDrive/SemTech4STLD_related_code_and_data\n"
          ]
        }
      ]
    },
    {
      "cell_type": "code",
      "source": [
        "from google.colab import files\n",
        "files.upload()"
      ],
      "metadata": {
        "id": "DuOGeLTGygXd"
      },
      "execution_count": null,
      "outputs": []
    },
    {
      "cell_type": "code",
      "source": [
        "ls"
      ],
      "metadata": {
        "colab": {
          "base_uri": "https://localhost:8080/"
        },
        "id": "o9I_xBRhDo12",
        "outputId": "f770d3c7-ca3d-4966-e95a-0de9c05c5aa2"
      },
      "execution_count": null,
      "outputs": [
        {
          "output_type": "stream",
          "name": "stdout",
          "text": [
            "'Copy of ClaimCiteRetrieval_ESR_based_JSONed_20-02-2024_new.xlsx'\n",
            "'Copy of ClaimCiteRetrieval_ESR_based_JSONed_20-02-2024.xlsx'\n",
            "'Copy of ClaimCiteRetrieval_ESR_based_JSONed_24-02-2024.xlsx'\n",
            " sample-dataset-for-results-analysis-SemTech4stld.xlsx\n"
          ]
        }
      ]
    },
    {
      "cell_type": "markdown",
      "source": [
        "# Novelty passage retrieval"
      ],
      "metadata": {
        "id": "pVXUdXcWDzc1"
      }
    },
    {
      "cell_type": "code",
      "source": [
        "# Read xl file\n",
        "import pandas as pd\n",
        "csv_file_path = 'Copy of ClaimCiteRetrieval_ESR_based_JSONed_24-02-2024.xlsx'\n",
        "df = pd.read_excel(csv_file_path)"
      ],
      "metadata": {
        "id": "WZXOr8lyDptN"
      },
      "execution_count": null,
      "outputs": []
    },
    {
      "cell_type": "code",
      "source": [
        "df.head(2)"
      ],
      "metadata": {
        "colab": {
          "base_uri": "https://localhost:8080/",
          "height": 335
        },
        "id": "lQONPFk1ETUg",
        "outputId": "78a57e4f-a87e-4734-89ca-c074ef795479"
      },
      "execution_count": null,
      "outputs": [
        {
          "output_type": "execute_result",
          "data": {
            "text/plain": [
              "       APnum            PAnum  \\\n",
              "0  EP4300511  US20140019162A1   \n",
              "1  EP4273738  US20080091405A1   \n",
              "\n",
              "                                             APclaim  \\\n",
              "0  Text classification method to aid on clinical ...   \n",
              "1  A semantic representation generation method of...   \n",
              "\n",
              "                                             PAclaim  \\\n",
              "0  An automated triage system, comprising:\\na pat...   \n",
              "1  A method of analyzing a sentence in a source l...   \n",
              "\n",
              "                                          APabstract  \\\n",
              "0  The present application describes an automatic...   \n",
              "1  In a semantic representation generation method...   \n",
              "\n",
              "                                          PAabstract  \\\n",
              "0  An automated triage system may include a patie...   \n",
              "1  A method and computer system for analyzing sen...   \n",
              "\n",
              "                                               APipc                    PAipc  \\\n",
              "0  G16H50/20, G16H10/60, G16H40/20, G06F40/10, G0...  G06F 9/00, G06O 50/24,    \n",
              "1          G06F40/30, // G06F40/211, G06F40/268, ...                G06F 7/28   \n",
              "\n",
              "                                        PAparagraphs  \\\n",
              "0  [0057]\\nFIGS. 3A-3B illustrate a more detailed...   \n",
              "1    \\n[0004]\\nThe acquired ability to understand...   \n",
              "\n",
              "                                    PApragraphs_Json  ... PApredGPT_top2  \\\n",
              "0  {\\n  \"sentences\": [\\n    {\\n      \"id\": \"0057\"...  ...            NaN   \n",
              "1  {\\n  \"sentences\": [\\n    {\\n      \"id\": \"0004\"...  ...            NaN   \n",
              "\n",
              "  PApredGPT_top3       PApredBARD_all3  PApredBARD_top1  PApredBARD_top2  \\\n",
              "0            NaN  \\n(0058, 0059, 0092)              NaN              NaN   \n",
              "1            NaN    (0004, 0005, 0015)              NaN              NaN   \n",
              "\n",
              "  PApredBARD_top3                                      APipc_GPTpred  \\\n",
              "0             NaN  G16H 30/20, G06Q 50/24, A61B 5/00, G06F 19/00,...   \n",
              "1             NaN  G06F 17/27, G06F 17/28, G06F 17/30, G06F 17/50...   \n",
              "\n",
              "                                      APipc_BARDpred  \\\n",
              "0  ipc1: G06F19/00, ipc2: G06N3/08, ipc3: G16H50/...   \n",
              "1  \\nipc1: G06N3/05, ipc2: G10L15/00, ipc3: H04L2...   \n",
              "\n",
              "                              APipc_abstract_GPTpred  \\\n",
              "0  G06F17/305, G16H30/20, A61B5/1503, G06N3/00, G...   \n",
              "1  G06F17/27, G06N3/04, G06F17/305, G06Q10/08, G0...   \n",
              "\n",
              "                             APipc_abstract_BARDpred  \n",
              "0  G06F17/30, G06F7/07, G16H50/20, G16H50/50, G06...  \n",
              "1  G10L15/00, G10L15/02, G10L25/00, G10L25/04, G0...  \n",
              "\n",
              "[2 rows x 23 columns]"
            ],
            "text/html": [
              "\n",
              "  <div id=\"df-b7656305-b4ad-4670-8773-b11c39ddc51c\" class=\"colab-df-container\">\n",
              "    <div>\n",
              "<style scoped>\n",
              "    .dataframe tbody tr th:only-of-type {\n",
              "        vertical-align: middle;\n",
              "    }\n",
              "\n",
              "    .dataframe tbody tr th {\n",
              "        vertical-align: top;\n",
              "    }\n",
              "\n",
              "    .dataframe thead th {\n",
              "        text-align: right;\n",
              "    }\n",
              "</style>\n",
              "<table border=\"1\" class=\"dataframe\">\n",
              "  <thead>\n",
              "    <tr style=\"text-align: right;\">\n",
              "      <th></th>\n",
              "      <th>APnum</th>\n",
              "      <th>PAnum</th>\n",
              "      <th>APclaim</th>\n",
              "      <th>PAclaim</th>\n",
              "      <th>APabstract</th>\n",
              "      <th>PAabstract</th>\n",
              "      <th>APipc</th>\n",
              "      <th>PAipc</th>\n",
              "      <th>PAparagraphs</th>\n",
              "      <th>PApragraphs_Json</th>\n",
              "      <th>...</th>\n",
              "      <th>PApredGPT_top2</th>\n",
              "      <th>PApredGPT_top3</th>\n",
              "      <th>PApredBARD_all3</th>\n",
              "      <th>PApredBARD_top1</th>\n",
              "      <th>PApredBARD_top2</th>\n",
              "      <th>PApredBARD_top3</th>\n",
              "      <th>APipc_GPTpred</th>\n",
              "      <th>APipc_BARDpred</th>\n",
              "      <th>APipc_abstract_GPTpred</th>\n",
              "      <th>APipc_abstract_BARDpred</th>\n",
              "    </tr>\n",
              "  </thead>\n",
              "  <tbody>\n",
              "    <tr>\n",
              "      <th>0</th>\n",
              "      <td>EP4300511</td>\n",
              "      <td>US20140019162A1</td>\n",
              "      <td>Text classification method to aid on clinical ...</td>\n",
              "      <td>An automated triage system, comprising:\\na pat...</td>\n",
              "      <td>The present application describes an automatic...</td>\n",
              "      <td>An automated triage system may include a patie...</td>\n",
              "      <td>G16H50/20, G16H10/60, G16H40/20, G06F40/10, G0...</td>\n",
              "      <td>G06F 9/00, G06O 50/24,</td>\n",
              "      <td>[0057]\\nFIGS. 3A-3B illustrate a more detailed...</td>\n",
              "      <td>{\\n  \"sentences\": [\\n    {\\n      \"id\": \"0057\"...</td>\n",
              "      <td>...</td>\n",
              "      <td>NaN</td>\n",
              "      <td>NaN</td>\n",
              "      <td>\\n(0058, 0059, 0092)</td>\n",
              "      <td>NaN</td>\n",
              "      <td>NaN</td>\n",
              "      <td>NaN</td>\n",
              "      <td>G16H 30/20, G06Q 50/24, A61B 5/00, G06F 19/00,...</td>\n",
              "      <td>ipc1: G06F19/00, ipc2: G06N3/08, ipc3: G16H50/...</td>\n",
              "      <td>G06F17/305, G16H30/20, A61B5/1503, G06N3/00, G...</td>\n",
              "      <td>G06F17/30, G06F7/07, G16H50/20, G16H50/50, G06...</td>\n",
              "    </tr>\n",
              "    <tr>\n",
              "      <th>1</th>\n",
              "      <td>EP4273738</td>\n",
              "      <td>US20080091405A1</td>\n",
              "      <td>A semantic representation generation method of...</td>\n",
              "      <td>A method of analyzing a sentence in a source l...</td>\n",
              "      <td>In a semantic representation generation method...</td>\n",
              "      <td>A method and computer system for analyzing sen...</td>\n",
              "      <td>G06F40/30, // G06F40/211, G06F40/268, ...</td>\n",
              "      <td>G06F 7/28</td>\n",
              "      <td>\\n[0004]\\nThe acquired ability to understand...</td>\n",
              "      <td>{\\n  \"sentences\": [\\n    {\\n      \"id\": \"0004\"...</td>\n",
              "      <td>...</td>\n",
              "      <td>NaN</td>\n",
              "      <td>NaN</td>\n",
              "      <td>(0004, 0005, 0015)</td>\n",
              "      <td>NaN</td>\n",
              "      <td>NaN</td>\n",
              "      <td>NaN</td>\n",
              "      <td>G06F 17/27, G06F 17/28, G06F 17/30, G06F 17/50...</td>\n",
              "      <td>\\nipc1: G06N3/05, ipc2: G10L15/00, ipc3: H04L2...</td>\n",
              "      <td>G06F17/27, G06N3/04, G06F17/305, G06Q10/08, G0...</td>\n",
              "      <td>G10L15/00, G10L15/02, G10L25/00, G10L25/04, G0...</td>\n",
              "    </tr>\n",
              "  </tbody>\n",
              "</table>\n",
              "<p>2 rows × 23 columns</p>\n",
              "</div>\n",
              "    <div class=\"colab-df-buttons\">\n",
              "\n",
              "  <div class=\"colab-df-container\">\n",
              "    <button class=\"colab-df-convert\" onclick=\"convertToInteractive('df-b7656305-b4ad-4670-8773-b11c39ddc51c')\"\n",
              "            title=\"Convert this dataframe to an interactive table.\"\n",
              "            style=\"display:none;\">\n",
              "\n",
              "  <svg xmlns=\"http://www.w3.org/2000/svg\" height=\"24px\" viewBox=\"0 -960 960 960\">\n",
              "    <path d=\"M120-120v-720h720v720H120Zm60-500h600v-160H180v160Zm220 220h160v-160H400v160Zm0 220h160v-160H400v160ZM180-400h160v-160H180v160Zm440 0h160v-160H620v160ZM180-180h160v-160H180v160Zm440 0h160v-160H620v160Z\"/>\n",
              "  </svg>\n",
              "    </button>\n",
              "\n",
              "  <style>\n",
              "    .colab-df-container {\n",
              "      display:flex;\n",
              "      gap: 12px;\n",
              "    }\n",
              "\n",
              "    .colab-df-convert {\n",
              "      background-color: #E8F0FE;\n",
              "      border: none;\n",
              "      border-radius: 50%;\n",
              "      cursor: pointer;\n",
              "      display: none;\n",
              "      fill: #1967D2;\n",
              "      height: 32px;\n",
              "      padding: 0 0 0 0;\n",
              "      width: 32px;\n",
              "    }\n",
              "\n",
              "    .colab-df-convert:hover {\n",
              "      background-color: #E2EBFA;\n",
              "      box-shadow: 0px 1px 2px rgba(60, 64, 67, 0.3), 0px 1px 3px 1px rgba(60, 64, 67, 0.15);\n",
              "      fill: #174EA6;\n",
              "    }\n",
              "\n",
              "    .colab-df-buttons div {\n",
              "      margin-bottom: 4px;\n",
              "    }\n",
              "\n",
              "    [theme=dark] .colab-df-convert {\n",
              "      background-color: #3B4455;\n",
              "      fill: #D2E3FC;\n",
              "    }\n",
              "\n",
              "    [theme=dark] .colab-df-convert:hover {\n",
              "      background-color: #434B5C;\n",
              "      box-shadow: 0px 1px 3px 1px rgba(0, 0, 0, 0.15);\n",
              "      filter: drop-shadow(0px 1px 2px rgba(0, 0, 0, 0.3));\n",
              "      fill: #FFFFFF;\n",
              "    }\n",
              "  </style>\n",
              "\n",
              "    <script>\n",
              "      const buttonEl =\n",
              "        document.querySelector('#df-b7656305-b4ad-4670-8773-b11c39ddc51c button.colab-df-convert');\n",
              "      buttonEl.style.display =\n",
              "        google.colab.kernel.accessAllowed ? 'block' : 'none';\n",
              "\n",
              "      async function convertToInteractive(key) {\n",
              "        const element = document.querySelector('#df-b7656305-b4ad-4670-8773-b11c39ddc51c');\n",
              "        const dataTable =\n",
              "          await google.colab.kernel.invokeFunction('convertToInteractive',\n",
              "                                                    [key], {});\n",
              "        if (!dataTable) return;\n",
              "\n",
              "        const docLinkHtml = 'Like what you see? Visit the ' +\n",
              "          '<a target=\"_blank\" href=https://colab.research.google.com/notebooks/data_table.ipynb>data table notebook</a>'\n",
              "          + ' to learn more about interactive tables.';\n",
              "        element.innerHTML = '';\n",
              "        dataTable['output_type'] = 'display_data';\n",
              "        await google.colab.output.renderOutput(dataTable, element);\n",
              "        const docLink = document.createElement('div');\n",
              "        docLink.innerHTML = docLinkHtml;\n",
              "        element.appendChild(docLink);\n",
              "      }\n",
              "    </script>\n",
              "  </div>\n",
              "\n",
              "\n",
              "<div id=\"df-517381b7-0fbb-44ae-add9-adc4ab8e6891\">\n",
              "  <button class=\"colab-df-quickchart\" onclick=\"quickchart('df-517381b7-0fbb-44ae-add9-adc4ab8e6891')\"\n",
              "            title=\"Suggest charts\"\n",
              "            style=\"display:none;\">\n",
              "\n",
              "<svg xmlns=\"http://www.w3.org/2000/svg\" height=\"24px\"viewBox=\"0 0 24 24\"\n",
              "     width=\"24px\">\n",
              "    <g>\n",
              "        <path d=\"M19 3H5c-1.1 0-2 .9-2 2v14c0 1.1.9 2 2 2h14c1.1 0 2-.9 2-2V5c0-1.1-.9-2-2-2zM9 17H7v-7h2v7zm4 0h-2V7h2v10zm4 0h-2v-4h2v4z\"/>\n",
              "    </g>\n",
              "</svg>\n",
              "  </button>\n",
              "\n",
              "<style>\n",
              "  .colab-df-quickchart {\n",
              "      --bg-color: #E8F0FE;\n",
              "      --fill-color: #1967D2;\n",
              "      --hover-bg-color: #E2EBFA;\n",
              "      --hover-fill-color: #174EA6;\n",
              "      --disabled-fill-color: #AAA;\n",
              "      --disabled-bg-color: #DDD;\n",
              "  }\n",
              "\n",
              "  [theme=dark] .colab-df-quickchart {\n",
              "      --bg-color: #3B4455;\n",
              "      --fill-color: #D2E3FC;\n",
              "      --hover-bg-color: #434B5C;\n",
              "      --hover-fill-color: #FFFFFF;\n",
              "      --disabled-bg-color: #3B4455;\n",
              "      --disabled-fill-color: #666;\n",
              "  }\n",
              "\n",
              "  .colab-df-quickchart {\n",
              "    background-color: var(--bg-color);\n",
              "    border: none;\n",
              "    border-radius: 50%;\n",
              "    cursor: pointer;\n",
              "    display: none;\n",
              "    fill: var(--fill-color);\n",
              "    height: 32px;\n",
              "    padding: 0;\n",
              "    width: 32px;\n",
              "  }\n",
              "\n",
              "  .colab-df-quickchart:hover {\n",
              "    background-color: var(--hover-bg-color);\n",
              "    box-shadow: 0 1px 2px rgba(60, 64, 67, 0.3), 0 1px 3px 1px rgba(60, 64, 67, 0.15);\n",
              "    fill: var(--button-hover-fill-color);\n",
              "  }\n",
              "\n",
              "  .colab-df-quickchart-complete:disabled,\n",
              "  .colab-df-quickchart-complete:disabled:hover {\n",
              "    background-color: var(--disabled-bg-color);\n",
              "    fill: var(--disabled-fill-color);\n",
              "    box-shadow: none;\n",
              "  }\n",
              "\n",
              "  .colab-df-spinner {\n",
              "    border: 2px solid var(--fill-color);\n",
              "    border-color: transparent;\n",
              "    border-bottom-color: var(--fill-color);\n",
              "    animation:\n",
              "      spin 1s steps(1) infinite;\n",
              "  }\n",
              "\n",
              "  @keyframes spin {\n",
              "    0% {\n",
              "      border-color: transparent;\n",
              "      border-bottom-color: var(--fill-color);\n",
              "      border-left-color: var(--fill-color);\n",
              "    }\n",
              "    20% {\n",
              "      border-color: transparent;\n",
              "      border-left-color: var(--fill-color);\n",
              "      border-top-color: var(--fill-color);\n",
              "    }\n",
              "    30% {\n",
              "      border-color: transparent;\n",
              "      border-left-color: var(--fill-color);\n",
              "      border-top-color: var(--fill-color);\n",
              "      border-right-color: var(--fill-color);\n",
              "    }\n",
              "    40% {\n",
              "      border-color: transparent;\n",
              "      border-right-color: var(--fill-color);\n",
              "      border-top-color: var(--fill-color);\n",
              "    }\n",
              "    60% {\n",
              "      border-color: transparent;\n",
              "      border-right-color: var(--fill-color);\n",
              "    }\n",
              "    80% {\n",
              "      border-color: transparent;\n",
              "      border-right-color: var(--fill-color);\n",
              "      border-bottom-color: var(--fill-color);\n",
              "    }\n",
              "    90% {\n",
              "      border-color: transparent;\n",
              "      border-bottom-color: var(--fill-color);\n",
              "    }\n",
              "  }\n",
              "</style>\n",
              "\n",
              "  <script>\n",
              "    async function quickchart(key) {\n",
              "      const quickchartButtonEl =\n",
              "        document.querySelector('#' + key + ' button');\n",
              "      quickchartButtonEl.disabled = true;  // To prevent multiple clicks.\n",
              "      quickchartButtonEl.classList.add('colab-df-spinner');\n",
              "      try {\n",
              "        const charts = await google.colab.kernel.invokeFunction(\n",
              "            'suggestCharts', [key], {});\n",
              "      } catch (error) {\n",
              "        console.error('Error during call to suggestCharts:', error);\n",
              "      }\n",
              "      quickchartButtonEl.classList.remove('colab-df-spinner');\n",
              "      quickchartButtonEl.classList.add('colab-df-quickchart-complete');\n",
              "    }\n",
              "    (() => {\n",
              "      let quickchartButtonEl =\n",
              "        document.querySelector('#df-517381b7-0fbb-44ae-add9-adc4ab8e6891 button');\n",
              "      quickchartButtonEl.style.display =\n",
              "        google.colab.kernel.accessAllowed ? 'block' : 'none';\n",
              "    })();\n",
              "  </script>\n",
              "</div>\n",
              "    </div>\n",
              "  </div>\n"
            ],
            "application/vnd.google.colaboratory.intrinsic+json": {
              "type": "dataframe",
              "variable_name": "df"
            }
          },
          "metadata": {},
          "execution_count": 26
        }
      ]
    },
    {
      "cell_type": "markdown",
      "source": [
        "### Task 1: Cleaning IPC values"
      ],
      "metadata": {
        "id": "OVdzpLlzyybg"
      }
    },
    {
      "cell_type": "code",
      "source": [
        "\n",
        "# Extract the string values without converting them to integers\n",
        "df['PAcited'] = df['PAcited'].str.extractall(r'(\\d+)').astype(str).groupby(level=0).agg(','.join)\n",
        "\n",
        "# Convert the comma-separated string to a list of strings\n",
        "df['PAcited'] = df['PAcited'].apply(lambda x: [f'{num:04d}' for num in map(int, x.split(','))])\n",
        "\n",
        "\n",
        "# Extract the string values without converting them to integers\n",
        "df['PApredGPT_all3'] = df['PApredGPT_all3'].str.extractall(r'(\\d+)').astype(str).groupby(level=0).agg(','.join)\n",
        "\n",
        "# Convert the comma-separated string to a list of strings with leading zeros preserved\n",
        "df['PApredGPT_all3'] = df['PApredGPT_all3'].apply(lambda x: [f'{num:04d}' for num in map(int, x.split(','))])\n",
        "\n",
        "\n",
        "# Extract the string values without converting them to integers\n",
        "df['PApredBARD_all3'] = df['PApredBARD_all3'].str.extractall(r'(\\d+)').astype(str).groupby(level=0).agg(','.join)\n",
        "\n",
        "# Convert the comma-separated string to a list of strings with leading zeros preserved\n",
        "df['PApredBARD_all3'] = df['PApredBARD_all3'].apply(lambda x: [f'{num:04d}' for num in map(int, x.split(','))])\n",
        "\n",
        "\n"
      ],
      "metadata": {
        "id": "6fTajH9kEZCG"
      },
      "execution_count": null,
      "outputs": []
    },
    {
      "cell_type": "markdown",
      "source": [
        "*Verification after converting to single list*"
      ],
      "metadata": {
        "id": "yfcdhZn3zM9C"
      }
    },
    {
      "cell_type": "code",
      "source": [
        "df['PAcited'][0]"
      ],
      "metadata": {
        "colab": {
          "base_uri": "https://localhost:8080/"
        },
        "id": "dDdQw8r3zJgH",
        "outputId": "5daa66b7-54ca-453b-b3ec-93e5b4b6f4d5"
      },
      "execution_count": null,
      "outputs": [
        {
          "output_type": "execute_result",
          "data": {
            "text/plain": [
              "['0060', '0061', '0092']"
            ]
          },
          "metadata": {},
          "execution_count": 8
        }
      ]
    },
    {
      "cell_type": "code",
      "source": [
        "df['PApredGPT_all3'][0]"
      ],
      "metadata": {
        "colab": {
          "base_uri": "https://localhost:8080/"
        },
        "id": "R4fgR-EBzTuj",
        "outputId": "b8b02d36-d033-4fcf-8898-9efeace7703c"
      },
      "execution_count": null,
      "outputs": [
        {
          "output_type": "execute_result",
          "data": {
            "text/plain": [
              "['0058', '0059', '0061']"
            ]
          },
          "metadata": {},
          "execution_count": 9
        }
      ]
    },
    {
      "cell_type": "code",
      "source": [
        "df['PApredBARD_all3'][0]"
      ],
      "metadata": {
        "colab": {
          "base_uri": "https://localhost:8080/"
        },
        "id": "Yw4vUf_EzW6x",
        "outputId": "e7480c73-fcb6-42fa-a95f-04a6f94c6ae9"
      },
      "execution_count": null,
      "outputs": [
        {
          "output_type": "execute_result",
          "data": {
            "text/plain": [
              "['0058', '0059', '0092']"
            ]
          },
          "metadata": {},
          "execution_count": 10
        }
      ]
    },
    {
      "cell_type": "code",
      "source": [],
      "metadata": {
        "id": "LpYDZkINzZ6S"
      },
      "execution_count": null,
      "outputs": []
    },
    {
      "cell_type": "markdown",
      "source": [
        "# Calculate Top1, Top2, Top3 accuracies of passage retrieval"
      ],
      "metadata": {
        "id": "p6Oxi3pbzrhh"
      }
    },
    {
      "cell_type": "markdown",
      "source": [
        "### Top1 accuracies"
      ],
      "metadata": {
        "id": "FBpiVdk4zuRV"
      }
    },
    {
      "cell_type": "code",
      "source": [
        "# Column to compare\n",
        "predicted_column = 'PApredGPT_all3'\n",
        "truth_column = 'PAcited'\n",
        "\n",
        "# Function to calculate accuracy\n",
        "def calculate_accuracy(row):\n",
        "    predicted_list = row[predicted_column][0]\n",
        "    truth_list = row[truth_column]\n",
        "\n",
        "    # Check if any item in the truth list matches the first item in the predicted list\n",
        "    return any(truth_item == predicted_list for truth_item in truth_list)\n",
        "\n",
        "# Apply the accuracy calculation function to the predicted column and calculate the mean accuracy\n",
        "accuracy_col = f'Top1_accuracy_of_{predicted_column}'\n",
        "accuracy = df.apply(calculate_accuracy, axis=1).mean()\n",
        "\n",
        "# Print the accuracy for the predicted column\n",
        "print(f'{accuracy_col}: {accuracy:.2%}')\n"
      ],
      "metadata": {
        "colab": {
          "base_uri": "https://localhost:8080/"
        },
        "id": "5J25S91Fzsbc",
        "outputId": "175b7b52-58ca-4654-cae5-b43334ec08a3"
      },
      "execution_count": null,
      "outputs": [
        {
          "output_type": "stream",
          "name": "stdout",
          "text": [
            "Top1_accuracy_of_PApredGPT_all3: 55.10%\n"
          ]
        }
      ]
    },
    {
      "cell_type": "code",
      "source": [
        "# Column to compare\n",
        "predicted_column = 'PApredBARD_all3'\n",
        "truth_column = 'PAcited'\n",
        "\n",
        "# Function to calculate accuracy\n",
        "def calculate_accuracy(row):\n",
        "    predicted_list = row[predicted_column][0]\n",
        "    truth_list = row[truth_column]\n",
        "\n",
        "    # Check if any item in the truth list matches the first item in the predicted list\n",
        "    return any(truth_item == predicted_list for truth_item in truth_list)\n",
        "\n",
        "# Apply the accuracy calculation function to the predicted column and calculate the mean accuracy\n",
        "accuracy_col = f'Top1_accuracy_of_{predicted_column}'\n",
        "accuracy = df.apply(calculate_accuracy, axis=1).mean()\n",
        "\n",
        "# Print the accuracy for the predicted column\n",
        "print(f'{accuracy_col}: {accuracy:.2%}')"
      ],
      "metadata": {
        "colab": {
          "base_uri": "https://localhost:8080/"
        },
        "id": "1sXT0ag7z2uY",
        "outputId": "b2ad0be9-f27a-41a1-be5b-a162e8f14f2c"
      },
      "execution_count": null,
      "outputs": [
        {
          "output_type": "stream",
          "name": "stdout",
          "text": [
            "Top1_accuracy_of_PApredBARD_all3: 48.98%\n"
          ]
        }
      ]
    },
    {
      "cell_type": "code",
      "source": [],
      "metadata": {
        "id": "gZk8IAfl0GNr"
      },
      "execution_count": null,
      "outputs": []
    },
    {
      "cell_type": "code",
      "source": [],
      "metadata": {
        "id": "djLEWAaf0OoR"
      },
      "execution_count": null,
      "outputs": []
    },
    {
      "cell_type": "markdown",
      "source": [
        "### Top2 accuracies"
      ],
      "metadata": {
        "id": "mF2dg7bl0O5o"
      }
    },
    {
      "cell_type": "code",
      "source": [
        "# Column to compare\n",
        "predicted_column = 'PApredGPT_all3'\n",
        "truth_column = 'PAcited'\n",
        "\n",
        "# Function to calculate accuracy\n",
        "def calculate_accuracy(row):\n",
        "    predicted_list = row[predicted_column][1]\n",
        "    truth_list = row[truth_column]\n",
        "\n",
        "    # Check if any item in the truth list matches the first item in the predicted list\n",
        "    return any(truth_item == predicted_list for truth_item in truth_list)\n",
        "\n",
        "# Apply the accuracy calculation function to the predicted column and calculate the mean accuracy\n",
        "accuracy_col = f'Top2_accuracy_of_{predicted_column}'\n",
        "accuracy = df.apply(calculate_accuracy, axis=1).mean()\n",
        "\n",
        "# Print the accuracy for the predicted column\n",
        "print(f'{accuracy_col}: {accuracy:.2%}')"
      ],
      "metadata": {
        "colab": {
          "base_uri": "https://localhost:8080/"
        },
        "id": "1zm5a_HV0RV0",
        "outputId": "8bb45bd7-4d60-4894-a8c7-3076bf87ec6a"
      },
      "execution_count": null,
      "outputs": [
        {
          "output_type": "stream",
          "name": "stdout",
          "text": [
            "Top2_accuracy_of_PApredGPT_all3: 48.98%\n"
          ]
        }
      ]
    },
    {
      "cell_type": "code",
      "source": [
        "  # Column to compare\n",
        "predicted_column = 'PApredBARD_all3'\n",
        "truth_column = 'PAcited'\n",
        "\n",
        "# Function to calculate accuracy\n",
        "def calculate_accuracy(row):\n",
        "    predicted_list = row[predicted_column][1]\n",
        "    truth_list = row[truth_column]\n",
        "\n",
        "    # Check if any item in the truth list matches the first item in the predicted list\n",
        "    return any(truth_item == predicted_list for truth_item in truth_list)\n",
        "\n",
        "# Apply the accuracy calculation function to the predicted column and calculate the mean accuracy\n",
        "accuracy_col = f'Top2_accuracy_of_{predicted_column}'\n",
        "accuracy = df.apply(calculate_accuracy, axis=1).mean()\n",
        "\n",
        "# Print the accuracy for the predicted column\n",
        "print(f'{accuracy_col}: {accuracy:.2%}')"
      ],
      "metadata": {
        "colab": {
          "base_uri": "https://localhost:8080/"
        },
        "id": "a3NWL85k0ZQp",
        "outputId": "28d2a99e-0b24-452e-f002-215dd6760ac1"
      },
      "execution_count": null,
      "outputs": [
        {
          "output_type": "stream",
          "name": "stdout",
          "text": [
            "Top2_accuracy_of_PApredBARD_all3: 40.82%\n"
          ]
        }
      ]
    },
    {
      "cell_type": "markdown",
      "source": [
        "### Top3 accuracies"
      ],
      "metadata": {
        "id": "zRzOaOqJ0hci"
      }
    },
    {
      "cell_type": "code",
      "source": [
        "# Column to compare\n",
        "predicted_column = 'PApredGPT_all3'\n",
        "truth_column = 'PAcited'\n",
        "\n",
        "# Function to calculate accuracy\n",
        "def calculate_accuracy(row):\n",
        "    predicted_list = row[predicted_column][2]\n",
        "    truth_list = row[truth_column]\n",
        "\n",
        "    # Check if any item in the truth list matches the first item in the predicted list\n",
        "    return any(truth_item == predicted_list for truth_item in truth_list)\n",
        "\n",
        "# Apply the accuracy calculation function to the predicted column and calculate the mean accuracy\n",
        "accuracy_col = f'Top3_accuracy_of_{predicted_column}'\n",
        "accuracy = df.apply(calculate_accuracy, axis=1).mean()\n",
        "\n",
        "# Print the accuracy for the predicted column\n",
        "print(f'{accuracy_col}: {accuracy:.2%}')"
      ],
      "metadata": {
        "colab": {
          "base_uri": "https://localhost:8080/"
        },
        "id": "Ohuc65o-0gLZ",
        "outputId": "45b2c1bd-6e80-466f-f987-c38f13a22453"
      },
      "execution_count": null,
      "outputs": [
        {
          "output_type": "stream",
          "name": "stdout",
          "text": [
            "Top3_accuracy_of_PApredGPT_all3: 44.90%\n"
          ]
        }
      ]
    },
    {
      "cell_type": "code",
      "source": [
        "  # Column to compare\n",
        "predicted_column = 'PApredBARD_all3'\n",
        "truth_column = 'PAcited'\n",
        "\n",
        "# Function to calculate accuracy\n",
        "def calculate_accuracy(row):\n",
        "    predicted_list = row[predicted_column][2]\n",
        "    truth_list = row[truth_column]\n",
        "\n",
        "    # Check if any item in the truth list matches the first item in the predicted list\n",
        "    return any(truth_item == predicted_list for truth_item in truth_list)\n",
        "\n",
        "# Apply the accuracy calculation function to the predicted column and calculate the mean accuracy\n",
        "accuracy_col = f'Top3_accuracy_of_{predicted_column}'\n",
        "accuracy = df.apply(calculate_accuracy, axis=1).mean()\n",
        "\n",
        "# Print the accuracy for the predicted column\n",
        "print(f'{accuracy_col}: {accuracy:.2%}')"
      ],
      "metadata": {
        "colab": {
          "base_uri": "https://localhost:8080/"
        },
        "id": "nDVmJD3X05C2",
        "outputId": "de1af185-5c50-43c5-dd88-85b9f37e02b1"
      },
      "execution_count": null,
      "outputs": [
        {
          "output_type": "stream",
          "name": "stdout",
          "text": [
            "Top3_accuracy_of_PApredBARD_all3: 51.02%\n"
          ]
        }
      ]
    },
    {
      "cell_type": "code",
      "source": [
        "\n",
        "df.head(2)"
      ],
      "metadata": {
        "colab": {
          "base_uri": "https://localhost:8080/",
          "height": 335
        },
        "id": "anHM9NH41AUE",
        "outputId": "3170f5d5-1410-4b94-8647-7de42d2fea05"
      },
      "execution_count": null,
      "outputs": [
        {
          "output_type": "execute_result",
          "data": {
            "text/plain": [
              "       APnum            PAnum  \\\n",
              "0  EP4300511  US20140019162A1   \n",
              "1  EP4273738  US20080091405A1   \n",
              "\n",
              "                                             APclaim  \\\n",
              "0  Text classification method to aid on clinical ...   \n",
              "1  A semantic representation generation method of...   \n",
              "\n",
              "                                             PAclaim  \\\n",
              "0  An automated triage system, comprising:\\na pat...   \n",
              "1  A method of analyzing a sentence in a source l...   \n",
              "\n",
              "                                          APabstract  \\\n",
              "0  The present application describes an automatic...   \n",
              "1  In a semantic representation generation method...   \n",
              "\n",
              "                                          PAabstract  \\\n",
              "0  An automated triage system may include a patie...   \n",
              "1  A method and computer system for analyzing sen...   \n",
              "\n",
              "                                               APipc                    PAipc  \\\n",
              "0  G16H50/20, G16H10/60, G16H40/20, G06F40/10, G0...  G06F 9/00, G06O 50/24,    \n",
              "1          G06F40/30, // G06F40/211, G06F40/268, ...                G06F 7/28   \n",
              "\n",
              "                                        PAparagraphs  \\\n",
              "0  [0057]\\nFIGS. 3A-3B illustrate a more detailed...   \n",
              "1    \\n[0004]\\nThe acquired ability to understand...   \n",
              "\n",
              "                                    PApragraphs_Json  ... PApredGPT_top2  \\\n",
              "0  {\\n  \"sentences\": [\\n    {\\n      \"id\": \"0057\"...  ...            NaN   \n",
              "1  {\\n  \"sentences\": [\\n    {\\n      \"id\": \"0004\"...  ...            NaN   \n",
              "\n",
              "  PApredGPT_top3     PApredBARD_all3  PApredBARD_top1  PApredBARD_top2  \\\n",
              "0            NaN  [0058, 0059, 0092]              NaN              NaN   \n",
              "1            NaN  [0004, 0005, 0015]              NaN              NaN   \n",
              "\n",
              "  PApredBARD_top3                                      APipc_GPTpred  \\\n",
              "0             NaN  G16H 30/20, G06Q 50/24, A61B 5/00, G06F 19/00,...   \n",
              "1             NaN  G06F 17/27, G06F 17/28, G06F 17/30, G06F 17/50...   \n",
              "\n",
              "                                      APipc_BARDpred  \\\n",
              "0  ipc1: G06F19/00, ipc2: G06N3/08, ipc3: G16H50/...   \n",
              "1  \\nipc1: G06N3/05, ipc2: G10L15/00, ipc3: H04L2...   \n",
              "\n",
              "                              APipc_abstract_GPTpred  \\\n",
              "0  G06F17/305, G16H30/20, A61B5/1503, G06N3/00, G...   \n",
              "1  G06F17/27, G06N3/04, G06F17/305, G06Q10/08, G0...   \n",
              "\n",
              "                             APipc_abstract_BARDpred  \n",
              "0  G06F17/30, G06F7/07, G16H50/20, G16H50/50, G06...  \n",
              "1  G10L15/00, G10L15/02, G10L25/00, G10L25/04, G0...  \n",
              "\n",
              "[2 rows x 23 columns]"
            ],
            "text/html": [
              "\n",
              "  <div id=\"df-05aca54f-47ba-4298-b0f1-82d700c9b2b6\" class=\"colab-df-container\">\n",
              "    <div>\n",
              "<style scoped>\n",
              "    .dataframe tbody tr th:only-of-type {\n",
              "        vertical-align: middle;\n",
              "    }\n",
              "\n",
              "    .dataframe tbody tr th {\n",
              "        vertical-align: top;\n",
              "    }\n",
              "\n",
              "    .dataframe thead th {\n",
              "        text-align: right;\n",
              "    }\n",
              "</style>\n",
              "<table border=\"1\" class=\"dataframe\">\n",
              "  <thead>\n",
              "    <tr style=\"text-align: right;\">\n",
              "      <th></th>\n",
              "      <th>APnum</th>\n",
              "      <th>PAnum</th>\n",
              "      <th>APclaim</th>\n",
              "      <th>PAclaim</th>\n",
              "      <th>APabstract</th>\n",
              "      <th>PAabstract</th>\n",
              "      <th>APipc</th>\n",
              "      <th>PAipc</th>\n",
              "      <th>PAparagraphs</th>\n",
              "      <th>PApragraphs_Json</th>\n",
              "      <th>...</th>\n",
              "      <th>PApredGPT_top2</th>\n",
              "      <th>PApredGPT_top3</th>\n",
              "      <th>PApredBARD_all3</th>\n",
              "      <th>PApredBARD_top1</th>\n",
              "      <th>PApredBARD_top2</th>\n",
              "      <th>PApredBARD_top3</th>\n",
              "      <th>APipc_GPTpred</th>\n",
              "      <th>APipc_BARDpred</th>\n",
              "      <th>APipc_abstract_GPTpred</th>\n",
              "      <th>APipc_abstract_BARDpred</th>\n",
              "    </tr>\n",
              "  </thead>\n",
              "  <tbody>\n",
              "    <tr>\n",
              "      <th>0</th>\n",
              "      <td>EP4300511</td>\n",
              "      <td>US20140019162A1</td>\n",
              "      <td>Text classification method to aid on clinical ...</td>\n",
              "      <td>An automated triage system, comprising:\\na pat...</td>\n",
              "      <td>The present application describes an automatic...</td>\n",
              "      <td>An automated triage system may include a patie...</td>\n",
              "      <td>G16H50/20, G16H10/60, G16H40/20, G06F40/10, G0...</td>\n",
              "      <td>G06F 9/00, G06O 50/24,</td>\n",
              "      <td>[0057]\\nFIGS. 3A-3B illustrate a more detailed...</td>\n",
              "      <td>{\\n  \"sentences\": [\\n    {\\n      \"id\": \"0057\"...</td>\n",
              "      <td>...</td>\n",
              "      <td>NaN</td>\n",
              "      <td>NaN</td>\n",
              "      <td>[0058, 0059, 0092]</td>\n",
              "      <td>NaN</td>\n",
              "      <td>NaN</td>\n",
              "      <td>NaN</td>\n",
              "      <td>G16H 30/20, G06Q 50/24, A61B 5/00, G06F 19/00,...</td>\n",
              "      <td>ipc1: G06F19/00, ipc2: G06N3/08, ipc3: G16H50/...</td>\n",
              "      <td>G06F17/305, G16H30/20, A61B5/1503, G06N3/00, G...</td>\n",
              "      <td>G06F17/30, G06F7/07, G16H50/20, G16H50/50, G06...</td>\n",
              "    </tr>\n",
              "    <tr>\n",
              "      <th>1</th>\n",
              "      <td>EP4273738</td>\n",
              "      <td>US20080091405A1</td>\n",
              "      <td>A semantic representation generation method of...</td>\n",
              "      <td>A method of analyzing a sentence in a source l...</td>\n",
              "      <td>In a semantic representation generation method...</td>\n",
              "      <td>A method and computer system for analyzing sen...</td>\n",
              "      <td>G06F40/30, // G06F40/211, G06F40/268, ...</td>\n",
              "      <td>G06F 7/28</td>\n",
              "      <td>\\n[0004]\\nThe acquired ability to understand...</td>\n",
              "      <td>{\\n  \"sentences\": [\\n    {\\n      \"id\": \"0004\"...</td>\n",
              "      <td>...</td>\n",
              "      <td>NaN</td>\n",
              "      <td>NaN</td>\n",
              "      <td>[0004, 0005, 0015]</td>\n",
              "      <td>NaN</td>\n",
              "      <td>NaN</td>\n",
              "      <td>NaN</td>\n",
              "      <td>G06F 17/27, G06F 17/28, G06F 17/30, G06F 17/50...</td>\n",
              "      <td>\\nipc1: G06N3/05, ipc2: G10L15/00, ipc3: H04L2...</td>\n",
              "      <td>G06F17/27, G06N3/04, G06F17/305, G06Q10/08, G0...</td>\n",
              "      <td>G10L15/00, G10L15/02, G10L25/00, G10L25/04, G0...</td>\n",
              "    </tr>\n",
              "  </tbody>\n",
              "</table>\n",
              "<p>2 rows × 23 columns</p>\n",
              "</div>\n",
              "    <div class=\"colab-df-buttons\">\n",
              "\n",
              "  <div class=\"colab-df-container\">\n",
              "    <button class=\"colab-df-convert\" onclick=\"convertToInteractive('df-05aca54f-47ba-4298-b0f1-82d700c9b2b6')\"\n",
              "            title=\"Convert this dataframe to an interactive table.\"\n",
              "            style=\"display:none;\">\n",
              "\n",
              "  <svg xmlns=\"http://www.w3.org/2000/svg\" height=\"24px\" viewBox=\"0 -960 960 960\">\n",
              "    <path d=\"M120-120v-720h720v720H120Zm60-500h600v-160H180v160Zm220 220h160v-160H400v160Zm0 220h160v-160H400v160ZM180-400h160v-160H180v160Zm440 0h160v-160H620v160ZM180-180h160v-160H180v160Zm440 0h160v-160H620v160Z\"/>\n",
              "  </svg>\n",
              "    </button>\n",
              "\n",
              "  <style>\n",
              "    .colab-df-container {\n",
              "      display:flex;\n",
              "      gap: 12px;\n",
              "    }\n",
              "\n",
              "    .colab-df-convert {\n",
              "      background-color: #E8F0FE;\n",
              "      border: none;\n",
              "      border-radius: 50%;\n",
              "      cursor: pointer;\n",
              "      display: none;\n",
              "      fill: #1967D2;\n",
              "      height: 32px;\n",
              "      padding: 0 0 0 0;\n",
              "      width: 32px;\n",
              "    }\n",
              "\n",
              "    .colab-df-convert:hover {\n",
              "      background-color: #E2EBFA;\n",
              "      box-shadow: 0px 1px 2px rgba(60, 64, 67, 0.3), 0px 1px 3px 1px rgba(60, 64, 67, 0.15);\n",
              "      fill: #174EA6;\n",
              "    }\n",
              "\n",
              "    .colab-df-buttons div {\n",
              "      margin-bottom: 4px;\n",
              "    }\n",
              "\n",
              "    [theme=dark] .colab-df-convert {\n",
              "      background-color: #3B4455;\n",
              "      fill: #D2E3FC;\n",
              "    }\n",
              "\n",
              "    [theme=dark] .colab-df-convert:hover {\n",
              "      background-color: #434B5C;\n",
              "      box-shadow: 0px 1px 3px 1px rgba(0, 0, 0, 0.15);\n",
              "      filter: drop-shadow(0px 1px 2px rgba(0, 0, 0, 0.3));\n",
              "      fill: #FFFFFF;\n",
              "    }\n",
              "  </style>\n",
              "\n",
              "    <script>\n",
              "      const buttonEl =\n",
              "        document.querySelector('#df-05aca54f-47ba-4298-b0f1-82d700c9b2b6 button.colab-df-convert');\n",
              "      buttonEl.style.display =\n",
              "        google.colab.kernel.accessAllowed ? 'block' : 'none';\n",
              "\n",
              "      async function convertToInteractive(key) {\n",
              "        const element = document.querySelector('#df-05aca54f-47ba-4298-b0f1-82d700c9b2b6');\n",
              "        const dataTable =\n",
              "          await google.colab.kernel.invokeFunction('convertToInteractive',\n",
              "                                                    [key], {});\n",
              "        if (!dataTable) return;\n",
              "\n",
              "        const docLinkHtml = 'Like what you see? Visit the ' +\n",
              "          '<a target=\"_blank\" href=https://colab.research.google.com/notebooks/data_table.ipynb>data table notebook</a>'\n",
              "          + ' to learn more about interactive tables.';\n",
              "        element.innerHTML = '';\n",
              "        dataTable['output_type'] = 'display_data';\n",
              "        await google.colab.output.renderOutput(dataTable, element);\n",
              "        const docLink = document.createElement('div');\n",
              "        docLink.innerHTML = docLinkHtml;\n",
              "        element.appendChild(docLink);\n",
              "      }\n",
              "    </script>\n",
              "  </div>\n",
              "\n",
              "\n",
              "<div id=\"df-6d4ef779-52ca-4c1a-b199-f54d5c87b6c4\">\n",
              "  <button class=\"colab-df-quickchart\" onclick=\"quickchart('df-6d4ef779-52ca-4c1a-b199-f54d5c87b6c4')\"\n",
              "            title=\"Suggest charts\"\n",
              "            style=\"display:none;\">\n",
              "\n",
              "<svg xmlns=\"http://www.w3.org/2000/svg\" height=\"24px\"viewBox=\"0 0 24 24\"\n",
              "     width=\"24px\">\n",
              "    <g>\n",
              "        <path d=\"M19 3H5c-1.1 0-2 .9-2 2v14c0 1.1.9 2 2 2h14c1.1 0 2-.9 2-2V5c0-1.1-.9-2-2-2zM9 17H7v-7h2v7zm4 0h-2V7h2v10zm4 0h-2v-4h2v4z\"/>\n",
              "    </g>\n",
              "</svg>\n",
              "  </button>\n",
              "\n",
              "<style>\n",
              "  .colab-df-quickchart {\n",
              "      --bg-color: #E8F0FE;\n",
              "      --fill-color: #1967D2;\n",
              "      --hover-bg-color: #E2EBFA;\n",
              "      --hover-fill-color: #174EA6;\n",
              "      --disabled-fill-color: #AAA;\n",
              "      --disabled-bg-color: #DDD;\n",
              "  }\n",
              "\n",
              "  [theme=dark] .colab-df-quickchart {\n",
              "      --bg-color: #3B4455;\n",
              "      --fill-color: #D2E3FC;\n",
              "      --hover-bg-color: #434B5C;\n",
              "      --hover-fill-color: #FFFFFF;\n",
              "      --disabled-bg-color: #3B4455;\n",
              "      --disabled-fill-color: #666;\n",
              "  }\n",
              "\n",
              "  .colab-df-quickchart {\n",
              "    background-color: var(--bg-color);\n",
              "    border: none;\n",
              "    border-radius: 50%;\n",
              "    cursor: pointer;\n",
              "    display: none;\n",
              "    fill: var(--fill-color);\n",
              "    height: 32px;\n",
              "    padding: 0;\n",
              "    width: 32px;\n",
              "  }\n",
              "\n",
              "  .colab-df-quickchart:hover {\n",
              "    background-color: var(--hover-bg-color);\n",
              "    box-shadow: 0 1px 2px rgba(60, 64, 67, 0.3), 0 1px 3px 1px rgba(60, 64, 67, 0.15);\n",
              "    fill: var(--button-hover-fill-color);\n",
              "  }\n",
              "\n",
              "  .colab-df-quickchart-complete:disabled,\n",
              "  .colab-df-quickchart-complete:disabled:hover {\n",
              "    background-color: var(--disabled-bg-color);\n",
              "    fill: var(--disabled-fill-color);\n",
              "    box-shadow: none;\n",
              "  }\n",
              "\n",
              "  .colab-df-spinner {\n",
              "    border: 2px solid var(--fill-color);\n",
              "    border-color: transparent;\n",
              "    border-bottom-color: var(--fill-color);\n",
              "    animation:\n",
              "      spin 1s steps(1) infinite;\n",
              "  }\n",
              "\n",
              "  @keyframes spin {\n",
              "    0% {\n",
              "      border-color: transparent;\n",
              "      border-bottom-color: var(--fill-color);\n",
              "      border-left-color: var(--fill-color);\n",
              "    }\n",
              "    20% {\n",
              "      border-color: transparent;\n",
              "      border-left-color: var(--fill-color);\n",
              "      border-top-color: var(--fill-color);\n",
              "    }\n",
              "    30% {\n",
              "      border-color: transparent;\n",
              "      border-left-color: var(--fill-color);\n",
              "      border-top-color: var(--fill-color);\n",
              "      border-right-color: var(--fill-color);\n",
              "    }\n",
              "    40% {\n",
              "      border-color: transparent;\n",
              "      border-right-color: var(--fill-color);\n",
              "      border-top-color: var(--fill-color);\n",
              "    }\n",
              "    60% {\n",
              "      border-color: transparent;\n",
              "      border-right-color: var(--fill-color);\n",
              "    }\n",
              "    80% {\n",
              "      border-color: transparent;\n",
              "      border-right-color: var(--fill-color);\n",
              "      border-bottom-color: var(--fill-color);\n",
              "    }\n",
              "    90% {\n",
              "      border-color: transparent;\n",
              "      border-bottom-color: var(--fill-color);\n",
              "    }\n",
              "  }\n",
              "</style>\n",
              "\n",
              "  <script>\n",
              "    async function quickchart(key) {\n",
              "      const quickchartButtonEl =\n",
              "        document.querySelector('#' + key + ' button');\n",
              "      quickchartButtonEl.disabled = true;  // To prevent multiple clicks.\n",
              "      quickchartButtonEl.classList.add('colab-df-spinner');\n",
              "      try {\n",
              "        const charts = await google.colab.kernel.invokeFunction(\n",
              "            'suggestCharts', [key], {});\n",
              "      } catch (error) {\n",
              "        console.error('Error during call to suggestCharts:', error);\n",
              "      }\n",
              "      quickchartButtonEl.classList.remove('colab-df-spinner');\n",
              "      quickchartButtonEl.classList.add('colab-df-quickchart-complete');\n",
              "    }\n",
              "    (() => {\n",
              "      let quickchartButtonEl =\n",
              "        document.querySelector('#df-6d4ef779-52ca-4c1a-b199-f54d5c87b6c4 button');\n",
              "      quickchartButtonEl.style.display =\n",
              "        google.colab.kernel.accessAllowed ? 'block' : 'none';\n",
              "    })();\n",
              "  </script>\n",
              "</div>\n",
              "    </div>\n",
              "  </div>\n"
            ],
            "application/vnd.google.colaboratory.intrinsic+json": {
              "type": "dataframe",
              "variable_name": "df"
            }
          },
          "metadata": {},
          "execution_count": 17
        }
      ]
    },
    {
      "cell_type": "markdown",
      "source": [],
      "metadata": {
        "id": "bQm4UcEd-Rxx"
      }
    },
    {
      "cell_type": "markdown",
      "source": [
        "# Creating PAtotal column to find all candidate paragraphs"
      ],
      "metadata": {
        "id": "Bg3dxQhe-R1O"
      }
    },
    {
      "cell_type": "code",
      "source": [
        "import pandas as pd\n",
        "import json\n",
        "\n",
        "# Assuming your DataFrame is named 'df'\n",
        "# If not, replace 'df' with your DataFrame's actual name\n",
        "\n",
        "# Function to extract 'id' values from JSON string\n",
        "def extract_ids(json_str):\n",
        "    try:\n",
        "        data = json.loads(json_str)\n",
        "        return [sentence[\"id\"] for sentence in data[\"sentences\"]]\n",
        "    except (json.JSONDecodeError, KeyError):\n",
        "        return []\n",
        "\n",
        "# Apply the function to create a new column 'PAtotal'\n",
        "df['PAtotal'] = df['PApragraphs_Json'].apply(extract_ids)\n",
        "\n"
      ],
      "metadata": {
        "id": "EE9C-wab9FHv"
      },
      "execution_count": null,
      "outputs": []
    },
    {
      "cell_type": "code",
      "source": [
        "df['PAtotal']"
      ],
      "metadata": {
        "colab": {
          "base_uri": "https://localhost:8080/"
        },
        "id": "tlnHdcdY9K9d",
        "outputId": "270dd6d4-e24c-4de9-9a10-77cb3997f81a"
      },
      "execution_count": null,
      "outputs": [
        {
          "output_type": "execute_result",
          "data": {
            "text/plain": [
              "0     [0057, 0058, 0059, 0060, 0061, 0092, 0093, 009...\n",
              "1     [0004, 0005, 0007, 0008, 0009, 0010, 0015, 001...\n",
              "2     [0001, 0002, 0003, 0004, 0005, 0006, 0039, 004...\n",
              "3      [0003, 0004, 0005, 0007, 0008, 0009, 0017, 0019]\n",
              "4     [0022, 0023, 0024, 0025, 0026, 0027, 0037, 003...\n",
              "5     [0225, 0226, 0227, 0228, 0224, 0287, 0288, 028...\n",
              "6     [0006, 0007, 0008, 0009, 0026, 0027, 0028, 002...\n",
              "7     [0008, 0009, 0010, 0011, 0021, 0022, 0023, 004...\n",
              "8     [0027, 0028, 0029, 0030, 0031, 0034, 0035, 003...\n",
              "9     [0001, 0002, 0003, 0004, 0005, 0006, 0007, 000...\n",
              "10    [0009, 0010, 0011, 0012, 0034, 0035, 0036, 003...\n",
              "11     [0003, 0016, 0017, 0018, 0022, 0023, 0024, 0025]\n",
              "12    [0003, 0004, 0005, 0006, 0014, 0015, 0016, 001...\n",
              "13    [0005, 0006, 0007, 0018, 0023, 0024, 0025, 003...\n",
              "14    [0039, 0040, 0041, 0042, 0043, 0046, 0047, 004...\n",
              "15    [0001, 0045, 0002, 0003, 0004, 0005, 0006, 000...\n",
              "16    [0142, 0143, 0144, 0168, 0169, 0172, 0182, 018...\n",
              "17    [0008, 0009, 0010, 0011, 0012, 0013, 0026, 002...\n",
              "18    [0009, 0010, 0011, 0024, 0054, 0058, 0059, 006...\n",
              "19                 [0014, 0015, 0016, 0055, 0056, 0057]\n",
              "20    [0007, 0008, 0009, 0012, 0071, 0072, 0073, 007...\n",
              "21    [0001, 0009, 0010, 0017, 0018, 0019, 0020, 003...\n",
              "22    [0014, 0015, 0016, 0017, 0018, 0019, 0020, 003...\n",
              "23    [0026, 0027, 0028, 0053, 0055, 0056, 0057, 005...\n",
              "24    [0005, 0006, 0007, 0010, 0011, 0012, 0013, 001...\n",
              "25    [0001, 0002, 0003, 0058, 0004, 0169, 0005, 000...\n",
              "26    [0001, 0002, 0316, 0677, 0559, 0003, 0004, 000...\n",
              "27    [0068, 0069, 0072, 0073, 0074, 0075, 0001, 000...\n",
              "28    [0055, 0056, 0057, 0058, 0072, 0138, 0081, 008...\n",
              "29     [0001, 0002, 0014, 0018, 0013, 0004, 0005, 0006]\n",
              "30    [0001, 0002, 0003, 0004, 0023, 0038, 0039, 000...\n",
              "31    [0015, 0016, 0017, 0018, 0028, 0024, 0001, 000...\n",
              "32    [0005, 0006, 0007, 0002, 0003, 0004, 0008, 000...\n",
              "33    [0004, 0005, 0006, 0001, 0002, 0003, 0007, 000...\n",
              "34    [0001, 0002, 0003, 0169, 0176, 0177, 0004, 000...\n",
              "35    [0001, 0002, 0003, 0014, 0021, 0027, 0004, 000...\n",
              "36    [0006, 0025, 0045, 0001, 0002, 0003, 0004, 000...\n",
              "37    [0009, 0023, 0165, 0001, 0002, 0003, 0004, 000...\n",
              "38    [0004, 0005, 0006, 0011, 0014, 0020, 0001, 000...\n",
              "39    [0002, 0009, 0020, 0001, 0003, 0004, 0005, 000...\n",
              "40    [0002, 0004, 0014, 0001, 0003, 0005, 0006, 000...\n",
              "41    [0004, 0127, 0042, 0001, 0002, 0003, 0005, 000...\n",
              "42    [0001, 0002, 0003, 0004, 0077, 0044, 0005, 000...\n",
              "43    [0020, 0021, 0043, 0044, 0045, 0046, 0001, 000...\n",
              "44    [0003, 0006, 0008, 0001, 0002, 0004, 0005, 000...\n",
              "45    [0108, 0001, 0002, 0003, 0169, 0162, 0004, 000...\n",
              "46    [0002, 0006, 0008, 0001, 0003, 0004, 0005, 000...\n",
              "47    [0004, 0005, 0032, 0001, 0002, 0003, 0006, 000...\n",
              "48    [0002, 0096, 0117, 0001, 0003, 0004, 0005, 000...\n",
              "Name: PAtotal, dtype: object"
            ]
          },
          "metadata": {},
          "execution_count": 29
        }
      ]
    },
    {
      "cell_type": "code",
      "source": [
        "# Assuming 'df' is your DataFrame with the 'PAtotal' column\n",
        "\n",
        "# Iterate through 'PAtotal' column and identify rows with less than 9 items\n",
        "for index, ids_list in enumerate(df['PAtotal']):\n",
        "    if len(ids_list) < 9:\n",
        "        print(f\"Row {index} has less than 9 items: {ids_list}\")\n"
      ],
      "metadata": {
        "colab": {
          "base_uri": "https://localhost:8080/"
        },
        "id": "mPVBsptj9PJp",
        "outputId": "bd8bac14-4c65-46ac-ddec-f3cccf125ac7"
      },
      "execution_count": null,
      "outputs": [
        {
          "output_type": "stream",
          "name": "stdout",
          "text": [
            "Row 3 has less than 9 items: ['0003', '0004', '0005', '0007', '0008', '0009', '0017', '0019']\n",
            "Row 11 has less than 9 items: ['0003', '0016', '0017', '0018', '0022', '0023', '0024', '0025']\n",
            "Row 19 has less than 9 items: ['0014', '0015', '0016', '0055', '0056', '0057']\n",
            "Row 29 has less than 9 items: ['0001', '0002', '0014', '0018', '0013', '0004', '0005', '0006']\n"
          ]
        }
      ]
    },
    {
      "cell_type": "markdown",
      "source": [
        "# Task2: Calcuate precison, recall, F1 scores"
      ],
      "metadata": {
        "id": "xftCowi6-ZLn"
      }
    },
    {
      "cell_type": "code",
      "source": [],
      "metadata": {
        "id": "_OQXxz26_x4m"
      },
      "execution_count": null,
      "outputs": []
    },
    {
      "cell_type": "code",
      "source": [],
      "metadata": {
        "id": "FSpsgVum_x_a"
      },
      "execution_count": null,
      "outputs": []
    },
    {
      "cell_type": "code",
      "source": [
        "\n",
        "import pandas as pd\n",
        "from sklearn.metrics import precision_score, recall_score, f1_score, accuracy_score\n",
        "\n",
        "# Function to calculate precision, recall, F1 score, and accuracy\n",
        "def calculate_performance(row):\n",
        "    # Extract actual cited values, predicted values, and total values from the row\n",
        "    actual_cited = row['PAcited']\n",
        "    predicted_values = row['PApredGPT_all3']\n",
        "    total_values = row['PAtotal']\n",
        "\n",
        "    # Calculate metrics\n",
        "    precision = precision_score(actual_cited, predicted_values, average='micro')\n",
        "    recall = recall_score(actual_cited, predicted_values, average='micro')\n",
        "    f1 = f1_score(actual_cited, predicted_values, average='micro')\n",
        "    accuracy = accuracy_score(actual_cited, predicted_values)\n",
        "\n",
        "    # Calculate additional metrics based on total values\n",
        "    true_positives = len(set(actual_cited).intersection(set(predicted_values)))\n",
        "    false_positives = len(set(predicted_values).difference(set(actual_cited)))\n",
        "    false_negatives = len(set(actual_cited).difference(set(predicted_values)))\n",
        "    true_negatives = len(set(total_values).difference(set(actual_cited).union(set(predicted_values))))\n",
        "\n",
        "    precision_macro = true_positives / (true_positives + false_positives) if (true_positives + false_positives) != 0 else 0\n",
        "    recall_macro = true_positives / (true_positives + false_negatives) if (true_positives + false_negatives) != 0 else 0\n",
        "    f1_macro = 2 * (precision_macro * recall_macro) / (precision_macro + recall_macro) if (precision_macro + recall_macro) != 0 else 0\n",
        "\n",
        "    return precision, recall, f1, accuracy, precision_macro, recall_macro, f1_macro\n",
        "\n",
        "# Apply the performance calculation function to each row and create a new DataFrame with results\n",
        "performance_df = df.apply(calculate_performance, axis=1, result_type='expand')\n",
        "performance_df.columns = ['Precision', 'Recall', 'F1 Score', 'Accuracy', 'Precision Macro', 'Recall Macro', 'F1 Macro']\n",
        "\n",
        "# Calculate mean values across all rows\n",
        "overall_performance = performance_df.mean()\n",
        "\n",
        "\n",
        "print(\"\\nOverall Performance Metrics:\")\n",
        "print(overall_performance)"
      ],
      "metadata": {
        "colab": {
          "base_uri": "https://localhost:8080/"
        },
        "id": "ePnaiodgAtzA",
        "outputId": "5977b13e-6eef-462b-d730-259069fb14c7"
      },
      "execution_count": null,
      "outputs": [
        {
          "output_type": "stream",
          "name": "stdout",
          "text": [
            "\n",
            "Overall Performance Metrics:\n",
            "Precision          0.251701\n",
            "Recall             0.251701\n",
            "F1 Score           0.251701\n",
            "Accuracy           0.251701\n",
            "Precision Macro    0.496599\n",
            "Recall Macro       0.496599\n",
            "F1 Macro           0.496599\n",
            "dtype: float64\n"
          ]
        }
      ]
    },
    {
      "cell_type": "code",
      "source": [],
      "metadata": {
        "id": "en47woLaAt2X"
      },
      "execution_count": null,
      "outputs": []
    },
    {
      "cell_type": "code",
      "source": [
        "\n",
        "import pandas as pd\n",
        "from sklearn.metrics import precision_score, recall_score, f1_score, accuracy_score\n",
        "# Function to calculate precision, recall, F1 score, and accuracy\n",
        "def calculate_performance(row):\n",
        "    # Extract actual cited values, predicted values, and total values from the row\n",
        "    actual_cited = row['PAcited']\n",
        "    predicted_values = row['PApredGPT_all3']\n",
        "    total_values = row['PAtotal']\n",
        "\n",
        "    # Calculate metrics\n",
        "    precision = precision_score(actual_cited, predicted_values, average='micro')\n",
        "    recall = recall_score(actual_cited, predicted_values, average='micro')\n",
        "    f1 = f1_score(actual_cited, predicted_values, average='micro')\n",
        "    accuracy = accuracy_score(actual_cited, predicted_values)\n",
        "\n",
        "    # Calculate additional metrics based on total values\n",
        "    true_positives = len(set(actual_cited).intersection(set(predicted_values)))\n",
        "    false_positives = len(set(predicted_values).difference(set(actual_cited)))\n",
        "    false_negatives = len(set(actual_cited).difference(set(predicted_values)))\n",
        "    true_negatives = len(set(total_values).difference(set(actual_cited).union(set(predicted_values))))\n",
        "\n",
        "    precision_macro = true_positives / (true_positives + false_positives) if (true_positives + false_positives) != 0 else 0\n",
        "    recall_macro = true_positives / (true_positives + false_negatives) if (true_positives + false_negatives) != 0 else 0\n",
        "    f1_macro = 2 * (precision_macro * recall_macro) / (precision_macro + recall_macro) if (precision_macro + recall_macro) != 0 else 0\n",
        "\n",
        "    return precision, recall, f1, accuracy, precision_macro, recall_macro, f1_macro\n",
        "\n",
        "# Apply the performance calculation function to each row and create a new DataFrame with results\n",
        "performance_df = df.apply(calculate_performance, axis=1, result_type='expand')\n",
        "performance_df.columns = ['Precision', 'Recall', 'F1 Score', 'Accuracy', 'Precision Macro', 'Recall Macro', 'F1 Macro']\n",
        "\n",
        "# Display the original DataFrame and the performance DataFrame\n",
        "#print(\"Original DataFrame:\")\n",
        "#print(df)\n",
        "\n",
        "print(\"\\nPerformance DataFrame:\")\n",
        "print(performance_df)"
      ],
      "metadata": {
        "colab": {
          "base_uri": "https://localhost:8080/"
        },
        "id": "vpTLr7cU9eSf",
        "outputId": "ce396dde-0818-47e4-a162-8eb7c96e977b"
      },
      "execution_count": null,
      "outputs": [
        {
          "output_type": "stream",
          "name": "stdout",
          "text": [
            "\n",
            "Performance DataFrame:\n",
            "    Precision    Recall  F1 Score  Accuracy  Precision Macro  Recall Macro  \\\n",
            "0    0.000000  0.000000  0.000000  0.000000         0.333333      0.333333   \n",
            "1    0.333333  0.333333  0.333333  0.333333         0.666667      0.666667   \n",
            "2    0.333333  0.333333  0.333333  0.333333         0.666667      0.666667   \n",
            "3    0.333333  0.333333  0.333333  0.333333         0.333333      0.333333   \n",
            "4    0.333333  0.333333  0.333333  0.333333         1.000000      1.000000   \n",
            "5    0.000000  0.000000  0.000000  0.000000         0.333333      0.333333   \n",
            "6    0.000000  0.000000  0.000000  0.000000         0.333333      0.333333   \n",
            "7    0.333333  0.333333  0.333333  0.333333         0.333333      0.333333   \n",
            "8    0.333333  0.333333  0.333333  0.333333         0.333333      0.333333   \n",
            "9    0.333333  0.333333  0.333333  0.333333         0.333333      0.333333   \n",
            "10   0.000000  0.000000  0.000000  0.000000         0.333333      0.333333   \n",
            "11   0.333333  0.333333  0.333333  0.333333         0.333333      0.333333   \n",
            "12   0.333333  0.333333  0.333333  0.333333         0.333333      0.333333   \n",
            "13   0.666667  0.666667  0.666667  0.666667         0.666667      0.666667   \n",
            "14   0.000000  0.000000  0.000000  0.000000         0.000000      0.000000   \n",
            "15   0.333333  0.333333  0.333333  0.333333         0.333333      0.333333   \n",
            "16   0.000000  0.000000  0.000000  0.000000         0.333333      0.333333   \n",
            "17   0.000000  0.000000  0.000000  0.000000         0.333333      0.333333   \n",
            "18   0.666667  0.666667  0.666667  0.666667         0.666667      0.666667   \n",
            "19   0.000000  0.000000  0.000000  0.000000         0.666667      0.666667   \n",
            "20   0.000000  0.000000  0.000000  0.000000         0.333333      0.333333   \n",
            "21   0.000000  0.000000  0.000000  0.000000         0.000000      0.000000   \n",
            "22   0.333333  0.333333  0.333333  0.333333         0.666667      0.666667   \n",
            "23   0.000000  0.000000  0.000000  0.000000         0.333333      0.333333   \n",
            "24   0.000000  0.000000  0.000000  0.000000         0.333333      0.333333   \n",
            "25   0.000000  0.000000  0.000000  0.000000         0.333333      0.333333   \n",
            "26   0.000000  0.000000  0.000000  0.000000         0.666667      0.666667   \n",
            "27   0.000000  0.000000  0.000000  0.000000         0.333333      0.333333   \n",
            "28   0.000000  0.000000  0.000000  0.000000         0.333333      0.333333   \n",
            "29   0.333333  0.333333  0.333333  0.333333         0.333333      0.333333   \n",
            "30   0.333333  0.333333  0.333333  0.333333         0.333333      0.333333   \n",
            "31   0.333333  0.333333  0.333333  0.333333         0.666667      0.666667   \n",
            "32   0.333333  0.333333  0.333333  0.333333         0.333333      0.333333   \n",
            "33   1.000000  1.000000  1.000000  1.000000         1.000000      1.000000   \n",
            "34   0.000000  0.000000  0.000000  0.000000         0.333333      0.333333   \n",
            "35   0.333333  0.333333  0.333333  0.333333         1.000000      1.000000   \n",
            "36   0.000000  0.000000  0.000000  0.000000         0.333333      0.333333   \n",
            "37   1.000000  1.000000  1.000000  1.000000         1.000000      1.000000   \n",
            "38   0.333333  0.333333  0.333333  0.333333         0.333333      0.333333   \n",
            "39   0.666667  0.666667  0.666667  0.666667         0.666667      0.666667   \n",
            "40   0.000000  0.000000  0.000000  0.000000         0.666667      0.666667   \n",
            "41   0.333333  0.333333  0.333333  0.333333         0.666667      0.666667   \n",
            "42   0.666667  0.666667  0.666667  0.666667         0.666667      0.666667   \n",
            "43   0.000000  0.000000  0.000000  0.000000         0.333333      0.333333   \n",
            "44   1.000000  1.000000  1.000000  1.000000         1.000000      1.000000   \n",
            "45   0.333333  0.333333  0.333333  0.333333         0.333333      0.333333   \n",
            "46   0.333333  0.333333  0.333333  0.333333         0.666667      0.666667   \n",
            "47   0.000000  0.000000  0.000000  0.000000         1.000000      1.000000   \n",
            "48   0.000000  0.000000  0.000000  0.000000         0.666667      0.666667   \n",
            "\n",
            "    F1 Macro  \n",
            "0   0.333333  \n",
            "1   0.666667  \n",
            "2   0.666667  \n",
            "3   0.333333  \n",
            "4   1.000000  \n",
            "5   0.333333  \n",
            "6   0.333333  \n",
            "7   0.333333  \n",
            "8   0.333333  \n",
            "9   0.333333  \n",
            "10  0.333333  \n",
            "11  0.333333  \n",
            "12  0.333333  \n",
            "13  0.666667  \n",
            "14  0.000000  \n",
            "15  0.333333  \n",
            "16  0.333333  \n",
            "17  0.333333  \n",
            "18  0.666667  \n",
            "19  0.666667  \n",
            "20  0.333333  \n",
            "21  0.000000  \n",
            "22  0.666667  \n",
            "23  0.333333  \n",
            "24  0.333333  \n",
            "25  0.333333  \n",
            "26  0.666667  \n",
            "27  0.333333  \n",
            "28  0.333333  \n",
            "29  0.333333  \n",
            "30  0.333333  \n",
            "31  0.666667  \n",
            "32  0.333333  \n",
            "33  1.000000  \n",
            "34  0.333333  \n",
            "35  1.000000  \n",
            "36  0.333333  \n",
            "37  1.000000  \n",
            "38  0.333333  \n",
            "39  0.666667  \n",
            "40  0.666667  \n",
            "41  0.666667  \n",
            "42  0.666667  \n",
            "43  0.333333  \n",
            "44  1.000000  \n",
            "45  0.333333  \n",
            "46  0.666667  \n",
            "47  1.000000  \n",
            "48  0.666667  \n"
          ]
        }
      ]
    },
    {
      "cell_type": "code",
      "source": [],
      "metadata": {
        "id": "uyaMjcve-wE7"
      },
      "execution_count": null,
      "outputs": []
    }
  ]
}