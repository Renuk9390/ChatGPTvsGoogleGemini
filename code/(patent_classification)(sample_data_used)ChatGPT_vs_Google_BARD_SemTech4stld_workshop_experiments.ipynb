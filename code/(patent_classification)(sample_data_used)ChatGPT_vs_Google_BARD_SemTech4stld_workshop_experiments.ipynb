{
  "nbformat": 4,
  "nbformat_minor": 0,
  "metadata": {
    "colab": {
      "provenance": []
    },
    "kernelspec": {
      "name": "python3",
      "display_name": "Python 3"
    },
    "language_info": {
      "name": "python"
    }
  },
  "cells": [
    {
      "cell_type": "code",
      "execution_count": null,
      "metadata": {
        "id": "8Z59DEXk2iR1"
      },
      "outputs": [],
      "source": []
    },
    {
      "cell_type": "markdown",
      "source": [
        "## Task 1: Convert_paragraphs_to_json_format"
      ],
      "metadata": {
        "id": "f0uFzMJ5Ozr3"
      }
    },
    {
      "cell_type": "code",
      "source": [],
      "metadata": {
        "id": "6fnKKxUOOkxF"
      },
      "execution_count": null,
      "outputs": []
    },
    {
      "cell_type": "code",
      "source": [],
      "metadata": {
        "id": "B4Sn34m-Okz9"
      },
      "execution_count": null,
      "outputs": []
    },
    {
      "cell_type": "code",
      "source": [
        "from google.colab import files"
      ],
      "metadata": {
        "id": "XRTKFDRrKM9R"
      },
      "execution_count": null,
      "outputs": []
    },
    {
      "cell_type": "code",
      "source": [
        "files.upload()"
      ],
      "metadata": {
        "id": "SqK7WRlOKQdm"
      },
      "execution_count": null,
      "outputs": []
    },
    {
      "cell_type": "code",
      "source": [
        "import pandas as pd"
      ],
      "metadata": {
        "id": "HrVge0OjKUif"
      },
      "execution_count": null,
      "outputs": []
    },
    {
      "cell_type": "code",
      "source": [
        "ls"
      ],
      "metadata": {
        "colab": {
          "base_uri": "https://localhost:8080/"
        },
        "id": "up7zucsW8Dec",
        "outputId": "8878ee41-ad0c-4e23-a7bc-d1d556fd3902"
      },
      "execution_count": null,
      "outputs": [
        {
          "output_type": "stream",
          "name": "stdout",
          "text": [
            "'Copy of ClaimCiteRetrieval_ESR_based.xlsx'   \u001b[0m\u001b[01;34msample_data\u001b[0m/\n"
          ]
        }
      ]
    },
    {
      "cell_type": "code",
      "source": [
        "read = pd.read_csv('ClaimCiteRetrieval_ESR_based - Sheet1 (2).csv')"
      ],
      "metadata": {
        "id": "4DpPTlEV8Dh5"
      },
      "execution_count": null,
      "outputs": []
    },
    {
      "cell_type": "code",
      "source": [
        "read.head(2)"
      ],
      "metadata": {
        "colab": {
          "base_uri": "https://localhost:8080/",
          "height": 305
        },
        "id": "kBs1CJWI8r0T",
        "outputId": "9e0cb696-dc96-434c-852d-c7bdffcbef8a"
      },
      "execution_count": null,
      "outputs": [
        {
          "output_type": "execute_result",
          "data": {
            "text/plain": [
              "       APnum            PAnum  \\\n",
              "0  EP4300511  US20140019162A1   \n",
              "1  EP4273738  US20080091405A1   \n",
              "\n",
              "                                             APclaim  \\\n",
              "0  Text classification method to aid on clinical ...   \n",
              "1  A semantic representation generation method of...   \n",
              "\n",
              "                                             PAclaim  \\\n",
              "0  An automated triage system, comprising:\\r\\na p...   \n",
              "1  A method of analyzing a sentence in a source l...   \n",
              "\n",
              "                                          APabstract  \\\n",
              "0  The present application describes an automatic...   \n",
              "1  In a semantic representation generation method...   \n",
              "\n",
              "                                          PAabstract  \\\n",
              "0  An automated triage system may include a patie...   \n",
              "1  A method and computer system for analyzing sen...   \n",
              "\n",
              "                                               APipc                    PAipc  \\\n",
              "0  G16H50/20, G16H10/60, G16H40/20, G06F40/10, G0...  G06F 9/00, G06O 50/24,    \n",
              "1  \\tG06F40/30, // G06F40/211, G06F40/268, G06F40...                G06F 7/28   \n",
              "\n",
              "                                        PAparagraphs  PApragraphs_Json  \\\n",
              "0  [0057]\\nFIGS. 3A-3B illustrate a more detailed...               NaN   \n",
              "1    \\n[0004]\\nThe acquired ability to understand...               NaN   \n",
              "\n",
              "                PAcited  PApredGPT_top1  PApredGPT_top2  PApredGPT_top3  \\\n",
              "0  [0061],[0062],[0063]             NaN             NaN             NaN   \n",
              "1  [0005],[0009],[0015]             NaN             NaN             NaN   \n",
              "\n",
              "   PApredBARD_top1  PApredBARD_top2  PApredBARD_top3  \\\n",
              "0              NaN              NaN              NaN   \n",
              "1              NaN              NaN              NaN   \n",
              "\n",
              "                                       APipc_GPTpred  \\\n",
              "0  G16H 30/20, G06Q 50/24, A61B 5/00, G06F 19/00,...   \n",
              "1  G06F 17/27, G06F 17/28, G06F 17/30, G06F 17/50...   \n",
              "\n",
              "                                      APipc_BARDpred  \n",
              "0  ipc1: G06F19/00, ipc2: G06N3/08, ipc3: G16H50/...  \n",
              "1  \\r\\nipc1: G06N3/05, ipc2: G10L15/00, ipc3: H04...  "
            ],
            "text/html": [
              "\n",
              "  <div id=\"df-7fb54b84-0bb3-48e7-a276-d5bf86f8bd9e\" class=\"colab-df-container\">\n",
              "    <div>\n",
              "<style scoped>\n",
              "    .dataframe tbody tr th:only-of-type {\n",
              "        vertical-align: middle;\n",
              "    }\n",
              "\n",
              "    .dataframe tbody tr th {\n",
              "        vertical-align: top;\n",
              "    }\n",
              "\n",
              "    .dataframe thead th {\n",
              "        text-align: right;\n",
              "    }\n",
              "</style>\n",
              "<table border=\"1\" class=\"dataframe\">\n",
              "  <thead>\n",
              "    <tr style=\"text-align: right;\">\n",
              "      <th></th>\n",
              "      <th>APnum</th>\n",
              "      <th>PAnum</th>\n",
              "      <th>APclaim</th>\n",
              "      <th>PAclaim</th>\n",
              "      <th>APabstract</th>\n",
              "      <th>PAabstract</th>\n",
              "      <th>APipc</th>\n",
              "      <th>PAipc</th>\n",
              "      <th>PAparagraphs</th>\n",
              "      <th>PApragraphs_Json</th>\n",
              "      <th>PAcited</th>\n",
              "      <th>PApredGPT_top1</th>\n",
              "      <th>PApredGPT_top2</th>\n",
              "      <th>PApredGPT_top3</th>\n",
              "      <th>PApredBARD_top1</th>\n",
              "      <th>PApredBARD_top2</th>\n",
              "      <th>PApredBARD_top3</th>\n",
              "      <th>APipc_GPTpred</th>\n",
              "      <th>APipc_BARDpred</th>\n",
              "    </tr>\n",
              "  </thead>\n",
              "  <tbody>\n",
              "    <tr>\n",
              "      <th>0</th>\n",
              "      <td>EP4300511</td>\n",
              "      <td>US20140019162A1</td>\n",
              "      <td>Text classification method to aid on clinical ...</td>\n",
              "      <td>An automated triage system, comprising:\\r\\na p...</td>\n",
              "      <td>The present application describes an automatic...</td>\n",
              "      <td>An automated triage system may include a patie...</td>\n",
              "      <td>G16H50/20, G16H10/60, G16H40/20, G06F40/10, G0...</td>\n",
              "      <td>G06F 9/00, G06O 50/24,</td>\n",
              "      <td>[0057]\\nFIGS. 3A-3B illustrate a more detailed...</td>\n",
              "      <td>NaN</td>\n",
              "      <td>[0061],[0062],[0063]</td>\n",
              "      <td>NaN</td>\n",
              "      <td>NaN</td>\n",
              "      <td>NaN</td>\n",
              "      <td>NaN</td>\n",
              "      <td>NaN</td>\n",
              "      <td>NaN</td>\n",
              "      <td>G16H 30/20, G06Q 50/24, A61B 5/00, G06F 19/00,...</td>\n",
              "      <td>ipc1: G06F19/00, ipc2: G06N3/08, ipc3: G16H50/...</td>\n",
              "    </tr>\n",
              "    <tr>\n",
              "      <th>1</th>\n",
              "      <td>EP4273738</td>\n",
              "      <td>US20080091405A1</td>\n",
              "      <td>A semantic representation generation method of...</td>\n",
              "      <td>A method of analyzing a sentence in a source l...</td>\n",
              "      <td>In a semantic representation generation method...</td>\n",
              "      <td>A method and computer system for analyzing sen...</td>\n",
              "      <td>\\tG06F40/30, // G06F40/211, G06F40/268, G06F40...</td>\n",
              "      <td>G06F 7/28</td>\n",
              "      <td>\\n[0004]\\nThe acquired ability to understand...</td>\n",
              "      <td>NaN</td>\n",
              "      <td>[0005],[0009],[0015]</td>\n",
              "      <td>NaN</td>\n",
              "      <td>NaN</td>\n",
              "      <td>NaN</td>\n",
              "      <td>NaN</td>\n",
              "      <td>NaN</td>\n",
              "      <td>NaN</td>\n",
              "      <td>G06F 17/27, G06F 17/28, G06F 17/30, G06F 17/50...</td>\n",
              "      <td>\\r\\nipc1: G06N3/05, ipc2: G10L15/00, ipc3: H04...</td>\n",
              "    </tr>\n",
              "  </tbody>\n",
              "</table>\n",
              "</div>\n",
              "    <div class=\"colab-df-buttons\">\n",
              "\n",
              "  <div class=\"colab-df-container\">\n",
              "    <button class=\"colab-df-convert\" onclick=\"convertToInteractive('df-7fb54b84-0bb3-48e7-a276-d5bf86f8bd9e')\"\n",
              "            title=\"Convert this dataframe to an interactive table.\"\n",
              "            style=\"display:none;\">\n",
              "\n",
              "  <svg xmlns=\"http://www.w3.org/2000/svg\" height=\"24px\" viewBox=\"0 -960 960 960\">\n",
              "    <path d=\"M120-120v-720h720v720H120Zm60-500h600v-160H180v160Zm220 220h160v-160H400v160Zm0 220h160v-160H400v160ZM180-400h160v-160H180v160Zm440 0h160v-160H620v160ZM180-180h160v-160H180v160Zm440 0h160v-160H620v160Z\"/>\n",
              "  </svg>\n",
              "    </button>\n",
              "\n",
              "  <style>\n",
              "    .colab-df-container {\n",
              "      display:flex;\n",
              "      gap: 12px;\n",
              "    }\n",
              "\n",
              "    .colab-df-convert {\n",
              "      background-color: #E8F0FE;\n",
              "      border: none;\n",
              "      border-radius: 50%;\n",
              "      cursor: pointer;\n",
              "      display: none;\n",
              "      fill: #1967D2;\n",
              "      height: 32px;\n",
              "      padding: 0 0 0 0;\n",
              "      width: 32px;\n",
              "    }\n",
              "\n",
              "    .colab-df-convert:hover {\n",
              "      background-color: #E2EBFA;\n",
              "      box-shadow: 0px 1px 2px rgba(60, 64, 67, 0.3), 0px 1px 3px 1px rgba(60, 64, 67, 0.15);\n",
              "      fill: #174EA6;\n",
              "    }\n",
              "\n",
              "    .colab-df-buttons div {\n",
              "      margin-bottom: 4px;\n",
              "    }\n",
              "\n",
              "    [theme=dark] .colab-df-convert {\n",
              "      background-color: #3B4455;\n",
              "      fill: #D2E3FC;\n",
              "    }\n",
              "\n",
              "    [theme=dark] .colab-df-convert:hover {\n",
              "      background-color: #434B5C;\n",
              "      box-shadow: 0px 1px 3px 1px rgba(0, 0, 0, 0.15);\n",
              "      filter: drop-shadow(0px 1px 2px rgba(0, 0, 0, 0.3));\n",
              "      fill: #FFFFFF;\n",
              "    }\n",
              "  </style>\n",
              "\n",
              "    <script>\n",
              "      const buttonEl =\n",
              "        document.querySelector('#df-7fb54b84-0bb3-48e7-a276-d5bf86f8bd9e button.colab-df-convert');\n",
              "      buttonEl.style.display =\n",
              "        google.colab.kernel.accessAllowed ? 'block' : 'none';\n",
              "\n",
              "      async function convertToInteractive(key) {\n",
              "        const element = document.querySelector('#df-7fb54b84-0bb3-48e7-a276-d5bf86f8bd9e');\n",
              "        const dataTable =\n",
              "          await google.colab.kernel.invokeFunction('convertToInteractive',\n",
              "                                                    [key], {});\n",
              "        if (!dataTable) return;\n",
              "\n",
              "        const docLinkHtml = 'Like what you see? Visit the ' +\n",
              "          '<a target=\"_blank\" href=https://colab.research.google.com/notebooks/data_table.ipynb>data table notebook</a>'\n",
              "          + ' to learn more about interactive tables.';\n",
              "        element.innerHTML = '';\n",
              "        dataTable['output_type'] = 'display_data';\n",
              "        await google.colab.output.renderOutput(dataTable, element);\n",
              "        const docLink = document.createElement('div');\n",
              "        docLink.innerHTML = docLinkHtml;\n",
              "        element.appendChild(docLink);\n",
              "      }\n",
              "    </script>\n",
              "  </div>\n",
              "\n",
              "\n",
              "<div id=\"df-c43a3b87-c490-41be-9236-c0f0b2c9df8a\">\n",
              "  <button class=\"colab-df-quickchart\" onclick=\"quickchart('df-c43a3b87-c490-41be-9236-c0f0b2c9df8a')\"\n",
              "            title=\"Suggest charts\"\n",
              "            style=\"display:none;\">\n",
              "\n",
              "<svg xmlns=\"http://www.w3.org/2000/svg\" height=\"24px\"viewBox=\"0 0 24 24\"\n",
              "     width=\"24px\">\n",
              "    <g>\n",
              "        <path d=\"M19 3H5c-1.1 0-2 .9-2 2v14c0 1.1.9 2 2 2h14c1.1 0 2-.9 2-2V5c0-1.1-.9-2-2-2zM9 17H7v-7h2v7zm4 0h-2V7h2v10zm4 0h-2v-4h2v4z\"/>\n",
              "    </g>\n",
              "</svg>\n",
              "  </button>\n",
              "\n",
              "<style>\n",
              "  .colab-df-quickchart {\n",
              "      --bg-color: #E8F0FE;\n",
              "      --fill-color: #1967D2;\n",
              "      --hover-bg-color: #E2EBFA;\n",
              "      --hover-fill-color: #174EA6;\n",
              "      --disabled-fill-color: #AAA;\n",
              "      --disabled-bg-color: #DDD;\n",
              "  }\n",
              "\n",
              "  [theme=dark] .colab-df-quickchart {\n",
              "      --bg-color: #3B4455;\n",
              "      --fill-color: #D2E3FC;\n",
              "      --hover-bg-color: #434B5C;\n",
              "      --hover-fill-color: #FFFFFF;\n",
              "      --disabled-bg-color: #3B4455;\n",
              "      --disabled-fill-color: #666;\n",
              "  }\n",
              "\n",
              "  .colab-df-quickchart {\n",
              "    background-color: var(--bg-color);\n",
              "    border: none;\n",
              "    border-radius: 50%;\n",
              "    cursor: pointer;\n",
              "    display: none;\n",
              "    fill: var(--fill-color);\n",
              "    height: 32px;\n",
              "    padding: 0;\n",
              "    width: 32px;\n",
              "  }\n",
              "\n",
              "  .colab-df-quickchart:hover {\n",
              "    background-color: var(--hover-bg-color);\n",
              "    box-shadow: 0 1px 2px rgba(60, 64, 67, 0.3), 0 1px 3px 1px rgba(60, 64, 67, 0.15);\n",
              "    fill: var(--button-hover-fill-color);\n",
              "  }\n",
              "\n",
              "  .colab-df-quickchart-complete:disabled,\n",
              "  .colab-df-quickchart-complete:disabled:hover {\n",
              "    background-color: var(--disabled-bg-color);\n",
              "    fill: var(--disabled-fill-color);\n",
              "    box-shadow: none;\n",
              "  }\n",
              "\n",
              "  .colab-df-spinner {\n",
              "    border: 2px solid var(--fill-color);\n",
              "    border-color: transparent;\n",
              "    border-bottom-color: var(--fill-color);\n",
              "    animation:\n",
              "      spin 1s steps(1) infinite;\n",
              "  }\n",
              "\n",
              "  @keyframes spin {\n",
              "    0% {\n",
              "      border-color: transparent;\n",
              "      border-bottom-color: var(--fill-color);\n",
              "      border-left-color: var(--fill-color);\n",
              "    }\n",
              "    20% {\n",
              "      border-color: transparent;\n",
              "      border-left-color: var(--fill-color);\n",
              "      border-top-color: var(--fill-color);\n",
              "    }\n",
              "    30% {\n",
              "      border-color: transparent;\n",
              "      border-left-color: var(--fill-color);\n",
              "      border-top-color: var(--fill-color);\n",
              "      border-right-color: var(--fill-color);\n",
              "    }\n",
              "    40% {\n",
              "      border-color: transparent;\n",
              "      border-right-color: var(--fill-color);\n",
              "      border-top-color: var(--fill-color);\n",
              "    }\n",
              "    60% {\n",
              "      border-color: transparent;\n",
              "      border-right-color: var(--fill-color);\n",
              "    }\n",
              "    80% {\n",
              "      border-color: transparent;\n",
              "      border-right-color: var(--fill-color);\n",
              "      border-bottom-color: var(--fill-color);\n",
              "    }\n",
              "    90% {\n",
              "      border-color: transparent;\n",
              "      border-bottom-color: var(--fill-color);\n",
              "    }\n",
              "  }\n",
              "</style>\n",
              "\n",
              "  <script>\n",
              "    async function quickchart(key) {\n",
              "      const quickchartButtonEl =\n",
              "        document.querySelector('#' + key + ' button');\n",
              "      quickchartButtonEl.disabled = true;  // To prevent multiple clicks.\n",
              "      quickchartButtonEl.classList.add('colab-df-spinner');\n",
              "      try {\n",
              "        const charts = await google.colab.kernel.invokeFunction(\n",
              "            'suggestCharts', [key], {});\n",
              "      } catch (error) {\n",
              "        console.error('Error during call to suggestCharts:', error);\n",
              "      }\n",
              "      quickchartButtonEl.classList.remove('colab-df-spinner');\n",
              "      quickchartButtonEl.classList.add('colab-df-quickchart-complete');\n",
              "    }\n",
              "    (() => {\n",
              "      let quickchartButtonEl =\n",
              "        document.querySelector('#df-c43a3b87-c490-41be-9236-c0f0b2c9df8a button');\n",
              "      quickchartButtonEl.style.display =\n",
              "        google.colab.kernel.accessAllowed ? 'block' : 'none';\n",
              "    })();\n",
              "  </script>\n",
              "</div>\n",
              "    </div>\n",
              "  </div>\n"
            ],
            "application/vnd.google.colaboratory.intrinsic+json": {
              "type": "dataframe",
              "variable_name": "read",
              "summary": "{\n  \"name\": \"read\",\n  \"rows\": 49,\n  \"fields\": [\n    {\n      \"column\": \"APnum\",\n      \"properties\": {\n        \"dtype\": \"string\",\n        \"samples\": [\n          \"EP4113358\",\n          \"EP4184521\",\n          \"EP4199003\"\n        ],\n        \"num_unique_values\": 36,\n        \"semantic_type\": \"\",\n        \"description\": \"\"\n      }\n    },\n    {\n      \"column\": \"PAnum\",\n      \"properties\": {\n        \"dtype\": \"string\",\n        \"samples\": [\n          \"US20170337328A1\",\n          \"CN107093423A\",\n          \"CN111291554A\"\n        ],\n        \"num_unique_values\": 49,\n        \"semantic_type\": \"\",\n        \"description\": \"\"\n      }\n    },\n    {\n      \"column\": \"APclaim\",\n      \"properties\": {\n        \"dtype\": \"string\",\n        \"samples\": [\n          \"A method for determining dynamic materiality, comprising:\\n\\nreceiving, by a processor:\\n\\ninformation indicating a plurality of entities and a plurality of features; and\\n\\na first plurality of items each containing text describing at least one of the plurality of features in association with at least one of the plurality of entities;\\n\\ndetermining, by the processor, for each of the first plurality of items, an item score of the at least one of the plurality of entities with respect to the at least one of the plurality of features;\\n\\ndetermining, by the processor, an entity score based on the item score for each of the first plurality of items;\\n\\ngenerating, by the processor, a materiality signature for the at least one of the plurality of entities based on the entity score;\\n\\ndisplaying, by a graphical user interface, a graphical representation of the materiality signature;\\n\\nreceiving, by the processor, a second plurality of items each containing text describing the at least one of the plurality of features in association with the at least one of the plurality of entities;\\n\\ngenerating, by the processor, an updated materiality signature for the at least one of the plurality of entities based on an updated entity score;\\n\\ndetermining, by the processor, a change in the materiality signature compared to the updated materiality signature; and\\n\\ndisplaying, by the graphical user interface, an alert when the change exceeds a threshold value.\",\n          \"A processing system (700) for generating a fault description for a fault of a medical imaging device, the\\nprocessing system comprising one or more processors configured to:\\nidentify (110) a user profile of a respondent,\\nwherein the user profile indicates a staffing role\\nof the respondent and/or a familiarity of the respondent with the medical imaging device\\nand/or with the operation of the medical imaging\\ndevice;\\nadapt (120) or generate a fault questionnaire\\nbased on at least the identified user profile;\\nreceive (130) respondent input data provided by\\nthe respondent in response to the adapted fault\\nquestionnaire;\\nidentify (140) one or more features of the medical imaging device fault, wherein the identifying\\ncomprises processing at least an output of a natural language processing analysis performed on\\nthe respondent input data; and\\noutput (145) a fault description comprising the\\nidentified one or more features of the medical\\nimaging device fault.\",\n          \"An information processing program for causing a\\ncomputer to execute processing comprising:\\nextracting a sentence vector included in a certain text;\\nspecifying a pattern that matches a transition of\\nthe sentence vector included in the certain text\\nfrom among a plurality of patterns regarding\\ntransitions of a plurality of sentence vectors\\nstored in a storage device; and\\noutputting a score stored in association with the\\nspecified pattern as a score of the certain text.\"\n        ],\n        \"num_unique_values\": 41,\n        \"semantic_type\": \"\",\n        \"description\": \"\"\n      }\n    },\n    {\n      \"column\": \"PAclaim\",\n      \"properties\": {\n        \"dtype\": \"string\",\n        \"samples\": [\n          \"A method, comprising:\\r\\nvisually displaying an electronically formatted medical report, wherein the electronically formatted medical report references a set of electronically formatted images;\\r\\nextracting the references to the set of electronically formatted images from the electronically formatted medical report;\\r\\nlinking the electronically formatted medical report and the set of electronically formatted images by\\r\\ndeterminging an identity of tissure in each image of the set of electronically formatted images where a measurement was made;\\r\\nextracting a description associated with the images where the measurement was made; and\\r\\nretrieving the electronically formatted images where there is a measurement; and\\r\\nvirtually displaying the retrieved images with the references and the description.\",\n          \"a kind of phonetic entry modification method, it is characterised in that the described method comprises the following steps\\uff1a\\r\\nObtain voice messaging of the user by phonetic entry\\uff1b\\r\\nThe voice messaging is recognized, and shows the first speech recognition content that identification is obtained\\uff1b\\r\\nObtain the voice identifier sentence of user's input\\uff1b\\r\\nThe voice identifier sentence is responded to be re-recognized to the voice messaging, and shows second for re-recognizing and obtaining Speech recognition content.\",\n          \"A method of labeling, comprising:\\r\\nstep S1, determining a text to be labeled, a plurality of correct seeds and a plurality of error seeds, wherein each sentence in the text to be labeled has a first entity and a second entity marked by a label, and the correct seeds and the error seeds are both entity pairs formed by the first entity and the second entity;\\r\\nstep S2, traversing each sentence in the text to be labeled according to the correct seed to match a first template;\\r\\nstep S3, traversing each sentence in the text to be annotated according to the first template to match out seeds;\\r\\nstep S4, evaluating the matched seeds according to the existing first template, the existing correct seeds and the existing wrong seeds, wherein the qualified seeds are evaluated as the correct seeds;\\r\\nstep S5, replacing the correct seeds obtained in step S4 with the correct seeds obtained in step S2, and repeating the steps S2-S4 for a set number of times and stopping the operation or stopping the operation until the number of the correct seeds qualified in the evaluation reaches a set threshold value;\\r\\nand step S6, outputting the matched correct seed and the classification relation between the first entity and the second entity in the correct seed.\"\n        ],\n        \"num_unique_values\": 49,\n        \"semantic_type\": \"\",\n        \"description\": \"\"\n      }\n    },\n    {\n      \"column\": \"APabstract\",\n      \"properties\": {\n        \"dtype\": \"string\",\n        \"samples\": [\n          \"An in-vehicle speech interaction method and a\\ndevice are provided. The method includes: obtaining user\\nspeech information; determining a user instruction based\\non the user speech information; determining, based on\\nthe user instruction, whether response content to the user\\ninstruction is privacy-related; and determining, based on\\nwhether the response content is privacy-related, whether\\nto output the response content in a privacy protection\\nmode, to protect privacy from being leaked.\",\n          \"A corpus annotation method and apparatus\\r\\n(102), and a related device are disclosed. The corpus\\r\\nannotation apparatus (102) obtains a corpus set provided\\r\\nby a user through a client, where the corpus set includes\\r\\na plurality of semantic categories of corpuses that the\\r\\nuser expects to annotate, determines a manual annotation corpus and an automatic annotation corpus falling\\r\\nwithin a target semantic category in the corpus set, obtains a manual annotation result of the manual annotation\\r\\ncorpus, and automatically annotates the automatic annotation corpus based on the manual annotation result\\r\\nof the manual annotation corpus. The manual annotation\\r\\nresult and an automatic annotation result that correspond\\r\\nto the automatic annotation corpus are used as training\\r\\ndata to train an inference model. In this way, some corpuses are automatically annotated, improving efficiency\\r\\nof generating an annotation corpus, and reducing labor\\r\\ncosts. In addition, domain experts can only need to manually annotate a small quantity of corpuses under each\\r\\nsemantic category, reducing a quantity of manually annotated corpuses.\",\n          \"A speech understanding method (100) relates\\r\\nto the natural language understanding field, and is applicable in a speech understanding device (1200) provided\\r\\nat a cloud or a terminal, to understand speech information\\r\\nof a user and recognize a target application corresponding to an intent of the user in the speech information. The\\r\\nspeech understanding method (100) includes: (110) obtaining speech information of a user, (120) recognizing\\r\\nan intent in the speech information and one or more slot\\r\\nvalues in the speech information respectively based on\\r\\nintent information and slot information that are stored in\\r\\na comprehensive speech library and that come from a\\r\\nplurality of registered applications, (130) matching,\\r\\nbased on the intent of the speech information, an application corresponding to the speech information, and\\r\\n(140) transferring the intent of the speech information\\r\\nand the one or more slot values in the speech information\\r\\nto the corresponding application. The speech understanding method (100) can support flexible expressions\\r\\nof the user, and is adaptable to all the registered applications. When the method adapts to a new application,\\r\\nthere is no need to re-collect data, label data, and train\\r\\na model. The method has advantages of a short adaptation period and low costs.\"\n        ],\n        \"num_unique_values\": 44,\n        \"semantic_type\": \"\",\n        \"description\": \"\"\n      }\n    },\n    {\n      \"column\": \"PAabstract\",\n      \"properties\": {\n        \"dtype\": \"string\",\n        \"samples\": [\n          \"A recommendation method includes determining one or more aspects of a first item based on at least one descriptive text of the first item. The recommendation method also includes updating a knowledge graph containing nodes that represent multiple items, multiple users, and multiple aspects. Updating the knowledge graph includes linking one or more nodes representing the one or more aspects of the first item to a node representing the first item with one or more first edges. Each of the one or more first edges identifies weights associated with (i) user sentiment about the associated aspect of the first item and (ii) an importance of the associated aspect to the first item. In addition, the recommendation method includes recommending a second item for a user with an explanation based on at least one aspect linked to the second item in the knowledge graph.\",\n          \"Methods, systems, and devices for voice-activated medical assistance are described. The method may include receiving an indication of an audio request from a user and determining whether a response to the audio request includes medical information associated with a patient. After determining whether the response includes medical information, the medical assistance server may identify an access class of the medical information and a permission level associated with accessing the access class of the medical information. The method may further include determining whether the user is authorized to access the access class based on the permission level and transmitting an indication of the response to the audio request based on determining whether the user is authorized.\",\n          \"The invention discloses a method and a device for generating an entity information map, wherein the method comprises the following steps: collecting a text file; respectively extracting named entities related to various category names and attributes of the named entities related to various relation words from various text files according to predefined category names and relation words; according to the attributes of the named entities, performing relevance processing on the named entities in the collected text files respectively to obtain entity relationships among the named entities; searching a related named entity according to the predefined event name, and binding the predefined event name and the searched named entity; and establishing mapping for the related information dispersed in each text file according to the extracted named entity and the entity relationship by taking the predefined event name as a clue, so as to enable the mapping to be aggregated together to form an entity information map. The invention can convert unstructured text data into structured data and realize a multidimensional and complex knowledge map.\"\n        ],\n        \"num_unique_values\": 48,\n        \"semantic_type\": \"\",\n        \"description\": \"\"\n      }\n    },\n    {\n      \"column\": \" APipc\",\n      \"properties\": {\n        \"dtype\": \"string\",\n        \"samples\": [\n          \"G06F40/169, G06F40/186, G06F40/216, G06F40/284, G06F40/30\",\n          \"\\tG16H40/40, G16H10/20, G05B23/02, G06Q10/00, G06F40/20, G07C3/00, G06F11/22, G06F11/07, G06F9/451\",\n          \"\\tG06F40/30, G06F40/295, G16B50/10, G06F16/34, G06N3/02\"\n        ],\n        \"num_unique_values\": 36,\n        \"semantic_type\": \"\",\n        \"description\": \"\"\n      }\n    },\n    {\n      \"column\": \"PAipc\",\n      \"properties\": {\n        \"dtype\": \"string\",\n        \"samples\": [\n          \"G06F 21/32,G10L 17/22,G16H 10/60 \\r\",\n          \"G06F 11/34, G06F 16/901\",\n          \"G06N 5/04, G06F 16/901, G06N 20/00\"\n        ],\n        \"num_unique_values\": 46,\n        \"semantic_type\": \"\",\n        \"description\": \"\"\n      }\n    },\n    {\n      \"column\": \"PAparagraphs\",\n      \"properties\": {\n        \"dtype\": \"string\",\n        \"samples\": [\n          \"\\n[0005]\\nIn one aspect, a method includes visually displaying an electronically formatted medical report, wherein the electronically formatted medical report references a set of electronically formatted images, acquiring the set of electronically formatted images, and linking the electronically formatted medical report and the set of electronically formatted images.\\n[0006]\\nIn another aspect, a computing apparatus (102), includes a memory (108) with at least one computer readable instruction (106) and a processor (104) that executes the at least one computer readable instruction. The processor, in response to executing the at least one computer readable instruction, visually displays an electronically formatted medical report, wherein the electronically formatted medical report references a set of electronically formatted images, acquires the set of electronically formatted images, and links the electronically formatted medical report and the set of electronically formatted images.\\n[0007]\\nIn another aspect, a computer readable storage medium encoded with computer readable instructions, which, when executed by a processer, causes the processor to: visually display an electronically formatted medical report, wherein the electronically formatted medical report references a set of electronically formatted images, acquire the set of electronically formatted images, and link the electronically formatted medical report and the set of electronically formatted images.\\n[0018]\\nFIG. 1 schematically illustrates a system 100. The system 100 includes a computing apparatus 102. The computing apparatus 102 includes a processor(s) 104, which executes a computer readable instruction(s) 106 stored in computer readable storage medium (\\u201cmemory\\u201d) 108, which excludes transitory medium and include physical memory and/or other non-transitory storage medium. The processor 104 can also execute one or more computer readable instructions carried by a carrier wave, a signal or other transitory medium. The computing apparatus 102 includes an input device(s) 110 such as a keyboard, a mouse, a touch screen, etc., and an output device(s) 112 such as a display monitor, etc.\\n[0023]\\nThe image reference extractor 204 processes the sentences in the \\u201cFinding\\u201d section of the report and extracts, for instance, using regular expressions and image references from one or more of the sentences. With one report, this may include extracting: \\u201cseries 11\\u201d and \\u201cimage number 79\\u201d from a sentence \\u201cThe left hepatic reference lesion (series number 11, image number 79) measures approximately 6.4\\u00d75.4 cm.\\u201d\\n[0024]\\nAn example of a suitable algorithm is described in Mabotuwana T, Qian Y, Sevenster M., \\u201cUsing image references in radiology reports to support enhanced report-to-image navigation.\\u201d AMIA Annu Symp Proc., 2013:908-16. Other algorithms are also contemplated herein.\\n[0025]\\nIn a variation, the image reference extractor 204 also extracts, at a sentence level, date information that a sentence may contain. For instance, for the sentence \\u201cOn the 16 Oct. 2011 scan, nodule measures 3 cm (series 5, image 26)\\u201d, the image reference extractor 204 extracts: \\u201cseries 5\\u201d, \\u201cimage 26\\u201d, \\u201c16 Oct. 2011.\\u201d\\r\\n[0035]\\r\\nAn example of a report creation/editing window 602 and a concurrently displayed image(s) window 604 are shown in FIG. 6. In this example, the image(s) window 604 includes a plurality of images with corresponding information. The image(s) window 604 allows the user to move, copy, etc. the information from the image(s) window 604 into the report in the report creation/editing window 602. The user can also update/edit the finding description in the image window 604 or the reporting environment in the report creation/editing window 602 directly.\\r\\n[0036]\\r\\nTurning to FIG. 7, another example of the report/image linking module 122 is schematically illustrated. In general, in this embodiment, the report/image linking module 122 generates a link between findings in an image, which are marked by annotations, and the corresponding keyword in the report. This includes automatically linking keywords in a report with annotations in the image. These annotations can be measurements, arrows, or markings from any other available tool.\",\n          \"[0108] EPC203 can include MME (Mobility Management Entity, mobility management entity) 2031, HSS (Home Subscriber Server, home subscriber server) 2032, other MME2033, SGW (Serving Gate Way, Gateway) 2034, PGW (PDN Gate Way, grouped data network gateway) 2035 and PCRF (Policy and Charging Rules Function, policy and rate functional entity) 2036 etc..Wherein, MME2031 be processing UE201 and There is provided carrying and connection management for the control node of signaling between EPC203.HSS2032 is all to manage for providing some registers Such as function of attaching position register (not shown) etc, and some are preserved about the use such as service features, data rate The special information in family.All customer data can be transmitted by SGW2034, and PGW2035 can provide UE 201 IP Address is distributed and other functions, and PCRF2036 is strategy and the charging control strategic decision-making of business data flow and IP bearing resources Point, it selects and provided available strategy and charging control decision-making with charge execution function unit (not shown) for strategy. \\n[0001] Interface unit 108 is connected the interface that can pass through as at least one external device (ED) with mobile terminal 1 00.For example, External device (ED) can include wired or wireless head-band earphone port, external power source (or battery charger) port, wired or nothing Line FPDP, memory card port, the port for connecting the device with identification module, audio input/output (I/O) end Mouth, video i/o port, ear port etc..Interface unit 108 can be used for receiving the input from external device (ED) (for example, number It is believed that breath, electric power etc.) and the input received is transferred to one or more elements in mobile terminal 1 00 or can be with For transmitting data between mobile terminal 1 00 and external device (ED).\\n[0002] Memory 109 can be used for storage software program and various data.Memory 109 can mainly include storing program area And storage data field, wherein, application program (the such as sound that storing program area can be needed for storage program area, at least one function Sound playing function, image player function etc.) etc.\\uff1bStorage data field can be stored uses created data (such as according to mobile phone Voice data, phone directory etc.) etc..In addition, memory 109 can include high-speed random access memory, it can also include non-easy The property lost memory, for example, at least one disk memory, flush memory device or other volatile solid-state parts.\\n[0003] Processor 110 is the control centre of mobile terminal, utilizes each of various interfaces and the whole mobile terminal of connection Individual part, by operation or performs and is stored in software program and/or module in memory 109, and calls and be stored in storage Data in device 109, perform the various functions and processing data of mobile terminal, so as to carry out integral monitoring to mobile terminal.Place Reason device 110 may include one or more processing units\\uff1bIt is preferred that, processor 110 can integrated application processor and modulatedemodulate mediate Device is managed, wherein, application processor mainly handles operating system, user interface and application program etc., and modem processor is main Handle radio communication.It is understood that above-mentioned modem processor can not also be integrated into processor 110. \\n[0169] For example, as shown in figure 13, phonetic entry application program recognizes the first speech recognition content of user, user has found it In phrase 20 there is identification mistake, and think that phrase 20 can correct speech recognition content by deleting, then, user Can be such as specific to delete by saying voice identifier sentence corresponding with deleting particular phrase function, so that voice Input application program enter it is specific deletion debugging functions pattern, then, repetition recognize the first speech recognition content and Phrase 20, the phonetic entry application program performs the phrase 20 deleted in the first speech recognition content and shows the second language Sound recognizes content. [0162] For example, as shown in Figure 10, phonetic entry application program recognizes the first speech recognition content of user, user has found it In phrase 10 exist identification mistake, then, user can such as be replaced by saying voice identifier sentence corresponding with replacement function Change etc., so that phonetic entry application program enters replacement debugging functions pattern, then, repetition recognizes first language Sound recognizes content and the corresponding explanation replaced phrase or associated with the replacement phrase of the phrase 10\\uff1bSuch as Figure 11 institutes Show, the phonetic entry application program performs the phrase 10 replaced in the first speech recognition content and shows that the second voice is known Other content. \\n[0004] It should be noted that herein, term \\\" comprising \\\", \\\"comprising\\\" or its any other variant are intended to non-row His property is included, so that process, method, article or device including a series of key elements not only include those key elements, and And also including other key elements being not expressly set out, or also include for this process, method, article or device institute inherently Key element.In the absence of more restrictions, the key element limited by sentence \\\"including a ...\\\", it is not excluded that including this Also there is other identical element in process, method, article or the device of key element.\\n[0005] The embodiments of the present invention are for illustration only, and the quality of embodiment is not represented.\\nThrough the above description of the embodiments, those skilled in the art can be understood that above-described embodiment side Method can add the mode of required general hardware platform to realize by software, naturally it is also possible to by hardware, but in many cases The former is more preferably embodiment.Understood based on such, technical scheme is substantially done to prior art in other words Going out the part of contribution can be embodied in the form of software product, and the computer software product is stored in a storage medium In (such as ROM/RAM, magnetic disc, CD), including some instructions are to cause a station terminal equipment (can be mobile phone, computer, clothes It is engaged in device, air conditioner, or network equipment etc.) perform method described in each embodiment of the invention.\\n[0006] The preferred embodiments of the present invention are these are only, are not intended to limit the scope of the invention, it is every to utilize this hair Equivalent structure or equivalent flow conversion that bright specification and accompanying drawing content are made, or directly or indirectly it is used in other related skills Art field, is included within the scope of the present invention.\",\n          \"[0004] \\nIn the field of natural language recognition, relationship extraction is generally performed based on deep learning. The premise is to provide a large amount of labeled data for model training. The existing practice is to label each sentence manually. Both labor and time costs are high.  [0005] A first aspect of the present disclosure provides an annotation method, including:\\nstep S1, determining a text to be labeled, a plurality of correct seeds and a plurality of error seeds, wherein each sentence in the text to be labeled has a first entity and a second entity marked by a label, and the correct seeds and the error seeds are both entity pairs formed by the first entity and the second entity;  [0032] And providing a human-computer interaction interface for a user to input the text to be labeled, the plurality of correct seeds and the plurality of wrong seeds.\\nA second aspect of the present disclosure provides a relationship extraction method, including: labeling a text to be labeled by adopting a labeling method according to the first aspect of the disclosure; and training at least part of sentences in the marked text to be marked by utilizing deep learning to obtain a relation extraction model. \\n[0001] For a better understanding of the technical aspects of the present disclosure, reference is made to the following detailed description taken in conjunction with the accompanying drawings.\\n[0002] In the present disclosure, it is to be understood that terms such as \\\"including\\\" or \\\"having,\\\" or the like, are intended to indicate the presence of the disclosed features, numbers, steps, acts, components, parts, or combinations thereof, and are not intended to preclude the possibility of the presence of one or more other features, numbers, steps, acts, components, parts, or combinations thereof.\\n[0003] It should be further noted that the embodiments and features of the embodiments in the present disclosure may be combined with each other without conflict. The present disclosure will be described in detail below with reference to the accompanying drawings in conjunction with embodiments. \\r\\n[0006] The same and similar parts in the various embodiments of the present application are referred to each other, and each embodiment focuses on differences from the other embodiments. In particular, for the apparatus, device, and computer-readable storage medium embodiments, the description is simplified because they are substantially similar to the method embodiments, and reference may be made to some descriptions of the method embodiments for their relevance.\\r\\n[0007] The apparatus, the device, and the computer-readable storage medium provided in the embodiment of the present application correspond to the method one to one, and therefore, the apparatus, the device, and the computer-readable storage medium also have advantageous technical effects similar to those of the corresponding method.\\r\\n[0008] As will be appreciated by one skilled in the art, embodiments of the present disclosure may be provided as a method, system, or computer program product. Accordingly, the present disclosure may take the form of an entirely hardware embodiment, an entirely software embodiment or an embodiment combining software and hardware aspects. Furthermore, the present disclosure may take the form of a computer program product embodied on one or more computer-usable storage media (including, but not limited to, disk storage, CD-ROM, optical storage, and so forth) having computer-usable program code embodied therein.\"\n        ],\n        \"num_unique_values\": 49,\n        \"semantic_type\": \"\",\n        \"description\": \"\"\n      }\n    },\n    {\n      \"column\": \"PApragraphs_Json\",\n      \"properties\": {\n        \"dtype\": \"number\",\n        \"std\": NaN,\n        \"min\": NaN,\n        \"max\": NaN,\n        \"samples\": [],\n        \"num_unique_values\": 0,\n        \"semantic_type\": \"\",\n        \"description\": \"\"\n      }\n    },\n    {\n      \"column\": \"PAcited\",\n      \"properties\": {\n        \"dtype\": \"string\",\n        \"samples\": [],\n        \"num_unique_values\": 49,\n        \"semantic_type\": \"\",\n        \"description\": \"\"\n      }\n    },\n    {\n      \"column\": \"PApredGPT_top1\",\n      \"properties\": {\n        \"dtype\": \"number\",\n        \"std\": NaN,\n        \"min\": NaN,\n        \"max\": NaN,\n        \"samples\": [],\n        \"num_unique_values\": 0,\n        \"semantic_type\": \"\",\n        \"description\": \"\"\n      }\n    },\n    {\n      \"column\": \"PApredGPT_top2\",\n      \"properties\": {\n        \"dtype\": \"number\",\n        \"std\": NaN,\n        \"min\": NaN,\n        \"max\": NaN,\n        \"samples\": [],\n        \"num_unique_values\": 0,\n        \"semantic_type\": \"\",\n        \"description\": \"\"\n      }\n    },\n    {\n      \"column\": \"PApredGPT_top3\",\n      \"properties\": {\n        \"dtype\": \"number\",\n        \"std\": NaN,\n        \"min\": NaN,\n        \"max\": NaN,\n        \"samples\": [],\n        \"num_unique_values\": 0,\n        \"semantic_type\": \"\",\n        \"description\": \"\"\n      }\n    },\n    {\n      \"column\": \"PApredBARD_top1\",\n      \"properties\": {\n        \"dtype\": \"number\",\n        \"std\": NaN,\n        \"min\": NaN,\n        \"max\": NaN,\n        \"samples\": [],\n        \"num_unique_values\": 0,\n        \"semantic_type\": \"\",\n        \"description\": \"\"\n      }\n    },\n    {\n      \"column\": \"PApredBARD_top2\",\n      \"properties\": {\n        \"dtype\": \"number\",\n        \"std\": NaN,\n        \"min\": NaN,\n        \"max\": NaN,\n        \"samples\": [],\n        \"num_unique_values\": 0,\n        \"semantic_type\": \"\",\n        \"description\": \"\"\n      }\n    },\n    {\n      \"column\": \"PApredBARD_top3\",\n      \"properties\": {\n        \"dtype\": \"number\",\n        \"std\": NaN,\n        \"min\": NaN,\n        \"max\": NaN,\n        \"samples\": [],\n        \"num_unique_values\": 0,\n        \"semantic_type\": \"\",\n        \"description\": \"\"\n      }\n    },\n    {\n      \"column\": \"APipc_GPTpred\",\n      \"properties\": {\n        \"dtype\": \"category\",\n        \"samples\": [],\n        \"num_unique_values\": 3,\n        \"semantic_type\": \"\",\n        \"description\": \"\"\n      }\n    },\n    {\n      \"column\": \"APipc_BARDpred\",\n      \"properties\": {\n        \"dtype\": \"string\",\n        \"samples\": [],\n        \"num_unique_values\": 26,\n        \"semantic_type\": \"\",\n        \"description\": \"\"\n      }\n    }\n  ]\n}"
            }
          },
          "metadata": {},
          "execution_count": 8
        }
      ]
    },
    {
      "cell_type": "code",
      "source": [
        "pwd"
      ],
      "metadata": {
        "colab": {
          "base_uri": "https://localhost:8080/",
          "height": 35
        },
        "id": "kWMKAsAV8uUN",
        "outputId": "1225f2ab-c696-409f-f990-2addf575afdc"
      },
      "execution_count": null,
      "outputs": [
        {
          "output_type": "execute_result",
          "data": {
            "text/plain": [
              "'/content'"
            ],
            "application/vnd.google.colaboratory.intrinsic+json": {
              "type": "string"
            }
          },
          "metadata": {},
          "execution_count": 9
        }
      ]
    },
    {
      "cell_type": "code",
      "source": [],
      "metadata": {
        "id": "8DdC6oka-FR6"
      },
      "execution_count": null,
      "outputs": []
    },
    {
      "cell_type": "code",
      "source": [
        "import re\n",
        "import json\n",
        "import pandas as pd\n",
        "\n",
        "def create_json_dataset(text):\n",
        "    samples = re.split(r'\\[(\\d{4})\\]', text)[1:]\n",
        "    samples = [sample.strip() for sample in samples if sample.strip()]\n",
        "\n",
        "    dataset = {\"sentences\": []}\n",
        "    for i in range(0, len(samples), 2):\n",
        "        sentence_id = samples[i]\n",
        "        sentence_content = samples[i + 1]\n",
        "        dataset[\"sentences\"].append({\"id\": sentence_id, \"content\": sentence_content})\n",
        "\n",
        "    return json.dumps(dataset, indent=2)\n"
      ],
      "metadata": {
        "id": "5oR9Egk3-QxG"
      },
      "execution_count": null,
      "outputs": []
    },
    {
      "cell_type": "code",
      "source": [],
      "metadata": {
        "id": "CPZaeegH-UNH"
      },
      "execution_count": null,
      "outputs": []
    },
    {
      "cell_type": "code",
      "source": [
        "# Read CSV file\n",
        "csv_file_path = '/content/ClaimCiteRetrieval_ESR_based - Sheet1 (2).csv'\n",
        "df = pd.read_csv(csv_file_path)\n",
        "\n",
        "# Process and update each row\n",
        "for index, row in df.iterrows():\n",
        "    text_content = row['PAparagraphs']\n",
        "    json_dataset = create_json_dataset(text_content)\n",
        "    df.at[index, 'PApragraphs_Json'] = json_dataset\n",
        "\n",
        "# Save updated DataFrame to CSV\n",
        "df.to_csv(csv_file_path, index=False)"
      ],
      "metadata": {
        "id": "RWr_7vx3-dsr"
      },
      "execution_count": null,
      "outputs": []
    },
    {
      "cell_type": "code",
      "source": [
        "read = pd.read_csv('ClaimCiteRetrieval_ESR_based - Sheet1 (2).csv')"
      ],
      "metadata": {
        "id": "y-9OVoeV-qkb"
      },
      "execution_count": null,
      "outputs": []
    },
    {
      "cell_type": "code",
      "source": [
        "read.head(2)"
      ],
      "metadata": {
        "colab": {
          "base_uri": "https://localhost:8080/",
          "height": 305
        },
        "id": "Y_ENYlbs-3LV",
        "outputId": "d95d15c2-cfae-4410-85bc-df508595f181"
      },
      "execution_count": null,
      "outputs": [
        {
          "output_type": "execute_result",
          "data": {
            "text/plain": [
              "       APnum            PAnum  \\\n",
              "0  EP4300511  US20140019162A1   \n",
              "1  EP4273738  US20080091405A1   \n",
              "\n",
              "                                             APclaim  \\\n",
              "0  Text classification method to aid on clinical ...   \n",
              "1  A semantic representation generation method of...   \n",
              "\n",
              "                                             PAclaim  \\\n",
              "0  An automated triage system, comprising:\\r\\na p...   \n",
              "1  A method of analyzing a sentence in a source l...   \n",
              "\n",
              "                                          APabstract  \\\n",
              "0  The present application describes an automatic...   \n",
              "1  In a semantic representation generation method...   \n",
              "\n",
              "                                          PAabstract  \\\n",
              "0  An automated triage system may include a patie...   \n",
              "1  A method and computer system for analyzing sen...   \n",
              "\n",
              "                                               APipc                    PAipc  \\\n",
              "0  G16H50/20, G16H10/60, G16H40/20, G06F40/10, G0...  G06F 9/00, G06O 50/24,    \n",
              "1  \\tG06F40/30, // G06F40/211, G06F40/268, G06F40...                G06F 7/28   \n",
              "\n",
              "                                        PAparagraphs  \\\n",
              "0  [0057]\\nFIGS. 3A-3B illustrate a more detailed...   \n",
              "1    \\n[0004]\\nThe acquired ability to understand...   \n",
              "\n",
              "                                    PApragraphs_Json               PAcited  \\\n",
              "0  {\\n  \"sentences\": [\\n    {\\n      \"id\": \"0057\"...  [0061],[0062],[0063]   \n",
              "1  {\\n  \"sentences\": [\\n    {\\n      \"id\": \"0004\"...  [0005],[0009],[0015]   \n",
              "\n",
              "   PApredGPT_top1 PApredGPT_top2  PApredGPT_top3  PApredBARD_top1  \\\n",
              "0             NaN            NaN             NaN              NaN   \n",
              "1             NaN            NaN             NaN              NaN   \n",
              "\n",
              "   PApredBARD_top2  PApredBARD_top3  \\\n",
              "0              NaN              NaN   \n",
              "1              NaN              NaN   \n",
              "\n",
              "                                       APipc_GPTpred  \\\n",
              "0  G16H 30/20, G06Q 50/24, A61B 5/00, G06F 19/00,...   \n",
              "1  G06F 17/27, G06F 17/28, G06F 17/30, G06F 17/50...   \n",
              "\n",
              "                                      APipc_BARDpred  \n",
              "0  ipc1: G06F19/00, ipc2: G06N3/08, ipc3: G16H50/...  \n",
              "1  \\r\\nipc1: G06N3/05, ipc2: G10L15/00, ipc3: H04...  "
            ],
            "text/html": [
              "\n",
              "  <div id=\"df-19297d1a-161a-4253-a0a6-913ab46767d9\" class=\"colab-df-container\">\n",
              "    <div>\n",
              "<style scoped>\n",
              "    .dataframe tbody tr th:only-of-type {\n",
              "        vertical-align: middle;\n",
              "    }\n",
              "\n",
              "    .dataframe tbody tr th {\n",
              "        vertical-align: top;\n",
              "    }\n",
              "\n",
              "    .dataframe thead th {\n",
              "        text-align: right;\n",
              "    }\n",
              "</style>\n",
              "<table border=\"1\" class=\"dataframe\">\n",
              "  <thead>\n",
              "    <tr style=\"text-align: right;\">\n",
              "      <th></th>\n",
              "      <th>APnum</th>\n",
              "      <th>PAnum</th>\n",
              "      <th>APclaim</th>\n",
              "      <th>PAclaim</th>\n",
              "      <th>APabstract</th>\n",
              "      <th>PAabstract</th>\n",
              "      <th>APipc</th>\n",
              "      <th>PAipc</th>\n",
              "      <th>PAparagraphs</th>\n",
              "      <th>PApragraphs_Json</th>\n",
              "      <th>PAcited</th>\n",
              "      <th>PApredGPT_top1</th>\n",
              "      <th>PApredGPT_top2</th>\n",
              "      <th>PApredGPT_top3</th>\n",
              "      <th>PApredBARD_top1</th>\n",
              "      <th>PApredBARD_top2</th>\n",
              "      <th>PApredBARD_top3</th>\n",
              "      <th>APipc_GPTpred</th>\n",
              "      <th>APipc_BARDpred</th>\n",
              "    </tr>\n",
              "  </thead>\n",
              "  <tbody>\n",
              "    <tr>\n",
              "      <th>0</th>\n",
              "      <td>EP4300511</td>\n",
              "      <td>US20140019162A1</td>\n",
              "      <td>Text classification method to aid on clinical ...</td>\n",
              "      <td>An automated triage system, comprising:\\r\\na p...</td>\n",
              "      <td>The present application describes an automatic...</td>\n",
              "      <td>An automated triage system may include a patie...</td>\n",
              "      <td>G16H50/20, G16H10/60, G16H40/20, G06F40/10, G0...</td>\n",
              "      <td>G06F 9/00, G06O 50/24,</td>\n",
              "      <td>[0057]\\nFIGS. 3A-3B illustrate a more detailed...</td>\n",
              "      <td>{\\n  \"sentences\": [\\n    {\\n      \"id\": \"0057\"...</td>\n",
              "      <td>[0061],[0062],[0063]</td>\n",
              "      <td>NaN</td>\n",
              "      <td>NaN</td>\n",
              "      <td>NaN</td>\n",
              "      <td>NaN</td>\n",
              "      <td>NaN</td>\n",
              "      <td>NaN</td>\n",
              "      <td>G16H 30/20, G06Q 50/24, A61B 5/00, G06F 19/00,...</td>\n",
              "      <td>ipc1: G06F19/00, ipc2: G06N3/08, ipc3: G16H50/...</td>\n",
              "    </tr>\n",
              "    <tr>\n",
              "      <th>1</th>\n",
              "      <td>EP4273738</td>\n",
              "      <td>US20080091405A1</td>\n",
              "      <td>A semantic representation generation method of...</td>\n",
              "      <td>A method of analyzing a sentence in a source l...</td>\n",
              "      <td>In a semantic representation generation method...</td>\n",
              "      <td>A method and computer system for analyzing sen...</td>\n",
              "      <td>\\tG06F40/30, // G06F40/211, G06F40/268, G06F40...</td>\n",
              "      <td>G06F 7/28</td>\n",
              "      <td>\\n[0004]\\nThe acquired ability to understand...</td>\n",
              "      <td>{\\n  \"sentences\": [\\n    {\\n      \"id\": \"0004\"...</td>\n",
              "      <td>[0005],[0009],[0015]</td>\n",
              "      <td>NaN</td>\n",
              "      <td>NaN</td>\n",
              "      <td>NaN</td>\n",
              "      <td>NaN</td>\n",
              "      <td>NaN</td>\n",
              "      <td>NaN</td>\n",
              "      <td>G06F 17/27, G06F 17/28, G06F 17/30, G06F 17/50...</td>\n",
              "      <td>\\r\\nipc1: G06N3/05, ipc2: G10L15/00, ipc3: H04...</td>\n",
              "    </tr>\n",
              "  </tbody>\n",
              "</table>\n",
              "</div>\n",
              "    <div class=\"colab-df-buttons\">\n",
              "\n",
              "  <div class=\"colab-df-container\">\n",
              "    <button class=\"colab-df-convert\" onclick=\"convertToInteractive('df-19297d1a-161a-4253-a0a6-913ab46767d9')\"\n",
              "            title=\"Convert this dataframe to an interactive table.\"\n",
              "            style=\"display:none;\">\n",
              "\n",
              "  <svg xmlns=\"http://www.w3.org/2000/svg\" height=\"24px\" viewBox=\"0 -960 960 960\">\n",
              "    <path d=\"M120-120v-720h720v720H120Zm60-500h600v-160H180v160Zm220 220h160v-160H400v160Zm0 220h160v-160H400v160ZM180-400h160v-160H180v160Zm440 0h160v-160H620v160ZM180-180h160v-160H180v160Zm440 0h160v-160H620v160Z\"/>\n",
              "  </svg>\n",
              "    </button>\n",
              "\n",
              "  <style>\n",
              "    .colab-df-container {\n",
              "      display:flex;\n",
              "      gap: 12px;\n",
              "    }\n",
              "\n",
              "    .colab-df-convert {\n",
              "      background-color: #E8F0FE;\n",
              "      border: none;\n",
              "      border-radius: 50%;\n",
              "      cursor: pointer;\n",
              "      display: none;\n",
              "      fill: #1967D2;\n",
              "      height: 32px;\n",
              "      padding: 0 0 0 0;\n",
              "      width: 32px;\n",
              "    }\n",
              "\n",
              "    .colab-df-convert:hover {\n",
              "      background-color: #E2EBFA;\n",
              "      box-shadow: 0px 1px 2px rgba(60, 64, 67, 0.3), 0px 1px 3px 1px rgba(60, 64, 67, 0.15);\n",
              "      fill: #174EA6;\n",
              "    }\n",
              "\n",
              "    .colab-df-buttons div {\n",
              "      margin-bottom: 4px;\n",
              "    }\n",
              "\n",
              "    [theme=dark] .colab-df-convert {\n",
              "      background-color: #3B4455;\n",
              "      fill: #D2E3FC;\n",
              "    }\n",
              "\n",
              "    [theme=dark] .colab-df-convert:hover {\n",
              "      background-color: #434B5C;\n",
              "      box-shadow: 0px 1px 3px 1px rgba(0, 0, 0, 0.15);\n",
              "      filter: drop-shadow(0px 1px 2px rgba(0, 0, 0, 0.3));\n",
              "      fill: #FFFFFF;\n",
              "    }\n",
              "  </style>\n",
              "\n",
              "    <script>\n",
              "      const buttonEl =\n",
              "        document.querySelector('#df-19297d1a-161a-4253-a0a6-913ab46767d9 button.colab-df-convert');\n",
              "      buttonEl.style.display =\n",
              "        google.colab.kernel.accessAllowed ? 'block' : 'none';\n",
              "\n",
              "      async function convertToInteractive(key) {\n",
              "        const element = document.querySelector('#df-19297d1a-161a-4253-a0a6-913ab46767d9');\n",
              "        const dataTable =\n",
              "          await google.colab.kernel.invokeFunction('convertToInteractive',\n",
              "                                                    [key], {});\n",
              "        if (!dataTable) return;\n",
              "\n",
              "        const docLinkHtml = 'Like what you see? Visit the ' +\n",
              "          '<a target=\"_blank\" href=https://colab.research.google.com/notebooks/data_table.ipynb>data table notebook</a>'\n",
              "          + ' to learn more about interactive tables.';\n",
              "        element.innerHTML = '';\n",
              "        dataTable['output_type'] = 'display_data';\n",
              "        await google.colab.output.renderOutput(dataTable, element);\n",
              "        const docLink = document.createElement('div');\n",
              "        docLink.innerHTML = docLinkHtml;\n",
              "        element.appendChild(docLink);\n",
              "      }\n",
              "    </script>\n",
              "  </div>\n",
              "\n",
              "\n",
              "<div id=\"df-a84b0a87-5b4f-44dc-89a3-5f63e5a0a1a2\">\n",
              "  <button class=\"colab-df-quickchart\" onclick=\"quickchart('df-a84b0a87-5b4f-44dc-89a3-5f63e5a0a1a2')\"\n",
              "            title=\"Suggest charts\"\n",
              "            style=\"display:none;\">\n",
              "\n",
              "<svg xmlns=\"http://www.w3.org/2000/svg\" height=\"24px\"viewBox=\"0 0 24 24\"\n",
              "     width=\"24px\">\n",
              "    <g>\n",
              "        <path d=\"M19 3H5c-1.1 0-2 .9-2 2v14c0 1.1.9 2 2 2h14c1.1 0 2-.9 2-2V5c0-1.1-.9-2-2-2zM9 17H7v-7h2v7zm4 0h-2V7h2v10zm4 0h-2v-4h2v4z\"/>\n",
              "    </g>\n",
              "</svg>\n",
              "  </button>\n",
              "\n",
              "<style>\n",
              "  .colab-df-quickchart {\n",
              "      --bg-color: #E8F0FE;\n",
              "      --fill-color: #1967D2;\n",
              "      --hover-bg-color: #E2EBFA;\n",
              "      --hover-fill-color: #174EA6;\n",
              "      --disabled-fill-color: #AAA;\n",
              "      --disabled-bg-color: #DDD;\n",
              "  }\n",
              "\n",
              "  [theme=dark] .colab-df-quickchart {\n",
              "      --bg-color: #3B4455;\n",
              "      --fill-color: #D2E3FC;\n",
              "      --hover-bg-color: #434B5C;\n",
              "      --hover-fill-color: #FFFFFF;\n",
              "      --disabled-bg-color: #3B4455;\n",
              "      --disabled-fill-color: #666;\n",
              "  }\n",
              "\n",
              "  .colab-df-quickchart {\n",
              "    background-color: var(--bg-color);\n",
              "    border: none;\n",
              "    border-radius: 50%;\n",
              "    cursor: pointer;\n",
              "    display: none;\n",
              "    fill: var(--fill-color);\n",
              "    height: 32px;\n",
              "    padding: 0;\n",
              "    width: 32px;\n",
              "  }\n",
              "\n",
              "  .colab-df-quickchart:hover {\n",
              "    background-color: var(--hover-bg-color);\n",
              "    box-shadow: 0 1px 2px rgba(60, 64, 67, 0.3), 0 1px 3px 1px rgba(60, 64, 67, 0.15);\n",
              "    fill: var(--button-hover-fill-color);\n",
              "  }\n",
              "\n",
              "  .colab-df-quickchart-complete:disabled,\n",
              "  .colab-df-quickchart-complete:disabled:hover {\n",
              "    background-color: var(--disabled-bg-color);\n",
              "    fill: var(--disabled-fill-color);\n",
              "    box-shadow: none;\n",
              "  }\n",
              "\n",
              "  .colab-df-spinner {\n",
              "    border: 2px solid var(--fill-color);\n",
              "    border-color: transparent;\n",
              "    border-bottom-color: var(--fill-color);\n",
              "    animation:\n",
              "      spin 1s steps(1) infinite;\n",
              "  }\n",
              "\n",
              "  @keyframes spin {\n",
              "    0% {\n",
              "      border-color: transparent;\n",
              "      border-bottom-color: var(--fill-color);\n",
              "      border-left-color: var(--fill-color);\n",
              "    }\n",
              "    20% {\n",
              "      border-color: transparent;\n",
              "      border-left-color: var(--fill-color);\n",
              "      border-top-color: var(--fill-color);\n",
              "    }\n",
              "    30% {\n",
              "      border-color: transparent;\n",
              "      border-left-color: var(--fill-color);\n",
              "      border-top-color: var(--fill-color);\n",
              "      border-right-color: var(--fill-color);\n",
              "    }\n",
              "    40% {\n",
              "      border-color: transparent;\n",
              "      border-right-color: var(--fill-color);\n",
              "      border-top-color: var(--fill-color);\n",
              "    }\n",
              "    60% {\n",
              "      border-color: transparent;\n",
              "      border-right-color: var(--fill-color);\n",
              "    }\n",
              "    80% {\n",
              "      border-color: transparent;\n",
              "      border-right-color: var(--fill-color);\n",
              "      border-bottom-color: var(--fill-color);\n",
              "    }\n",
              "    90% {\n",
              "      border-color: transparent;\n",
              "      border-bottom-color: var(--fill-color);\n",
              "    }\n",
              "  }\n",
              "</style>\n",
              "\n",
              "  <script>\n",
              "    async function quickchart(key) {\n",
              "      const quickchartButtonEl =\n",
              "        document.querySelector('#' + key + ' button');\n",
              "      quickchartButtonEl.disabled = true;  // To prevent multiple clicks.\n",
              "      quickchartButtonEl.classList.add('colab-df-spinner');\n",
              "      try {\n",
              "        const charts = await google.colab.kernel.invokeFunction(\n",
              "            'suggestCharts', [key], {});\n",
              "      } catch (error) {\n",
              "        console.error('Error during call to suggestCharts:', error);\n",
              "      }\n",
              "      quickchartButtonEl.classList.remove('colab-df-spinner');\n",
              "      quickchartButtonEl.classList.add('colab-df-quickchart-complete');\n",
              "    }\n",
              "    (() => {\n",
              "      let quickchartButtonEl =\n",
              "        document.querySelector('#df-a84b0a87-5b4f-44dc-89a3-5f63e5a0a1a2 button');\n",
              "      quickchartButtonEl.style.display =\n",
              "        google.colab.kernel.accessAllowed ? 'block' : 'none';\n",
              "    })();\n",
              "  </script>\n",
              "</div>\n",
              "    </div>\n",
              "  </div>\n"
            ],
            "application/vnd.google.colaboratory.intrinsic+json": {
              "type": "dataframe",
              "variable_name": "read",
              "summary": "{\n  \"name\": \"read\",\n  \"rows\": 51,\n  \"fields\": [\n    {\n      \"column\": \"APnum\",\n      \"properties\": {\n        \"dtype\": \"string\",\n        \"samples\": [\n          \"EP4113358\",\n          \"EP4184521\",\n          \"EP4199003\"\n        ],\n        \"num_unique_values\": 36,\n        \"semantic_type\": \"\",\n        \"description\": \"\"\n      }\n    },\n    {\n      \"column\": \"PAnum\",\n      \"properties\": {\n        \"dtype\": \"string\",\n        \"samples\": [\n          \"US20170337328A1\",\n          \"CN111951805A\",\n          \"CN212512065U\"\n        ],\n        \"num_unique_values\": 50,\n        \"semantic_type\": \"\",\n        \"description\": \"\"\n      }\n    },\n    {\n      \"column\": \"APclaim\",\n      \"properties\": {\n        \"dtype\": \"string\",\n        \"samples\": [\n          \"An in-vehicle speech interaction method, comprising:\\r\\nobtaining user speech information;\\r\\ndetermining a user instruction based on the user\\r\\nspeech information;\\r\\ndetermining, based on the user instruction,\\r\\nwhether response content to the user instruction\\r\\nis privacy-related; and\\r\\ndetermining, based on whether the response\\r\\ncontent is privacy-related, whether to output the\\r\\nresponse content in a privacy protection mode.\",\n          \"A speech understanding method, comprising:\\nobtaining first speech information;\\nmatching an intent for the first speech information based on intent information in a comprehensive semantic library;\\ndetermining a target application based on the\\nintent of the first speech information;\\nrecognizing one or more slot values in the first\\nspeech information based on slot information in\\nthe comprehensive semantic library, wherein\\nthe intent information and the slot information in\\nthe comprehensive semantic library come from\\na plurality of registered applications; and\\ntransferring the intent of the first speech information and the one or more slot values in the\\nfirst speech information to the target application.\",\n          \"A data clustering method comprises:\\nthe historical clustering data is analyzed, and\\nwhich is decomposed into clustering atoms\\nbased on the properties of each part of the historical clustering data, and associating the clustering atoms with at least one of the clustering\\nattributes of the historical clustering data to\\nwhich the clustering atoms belong; and\\na clustering atomic pool is formed according to\\nthe properties of the clustering atoms, and the\\nclustering atomic pool includes an unstructured\\nrelationship of the clustering atoms;\\nsearching the clustering atoms from the clustering atom pool to form alternative clustering atoms, wherein the search is based on target clustering attribute of the target clustering data, the\\nclustering attribute associated with the clustering atom and the properties of the clustering atom; and\\nthe target clustering data is formed by referencing the alternative clustering atoms.\"\n        ],\n        \"num_unique_values\": 43,\n        \"semantic_type\": \"\",\n        \"description\": \"\"\n      }\n    },\n    {\n      \"column\": \"PAclaim\",\n      \"properties\": {\n        \"dtype\": \"string\",\n        \"samples\": [\n          \"A method, comprising:\\r\\nvisually displaying an electronically formatted medical report, wherein the electronically formatted medical report references a set of electronically formatted images;\\r\\nextracting the references to the set of electronically formatted images from the electronically formatted medical report;\\r\\nlinking the electronically formatted medical report and the set of electronically formatted images by\\r\\ndeterminging an identity of tissure in each image of the set of electronically formatted images where a measurement was made;\\r\\nextracting a description associated with the images where the measurement was made; and\\r\\nretrieving the electronically formatted images where there is a measurement; and\\r\\nvirtually displaying the retrieved images with the references and the description.\",\n          \"A text data processing method, comprising:\\r\\nacquiring a target text;\\r\\nprocessing the target text according to a noise generation model to obtain a noise-added text; in the process of training the noise generation model, the training data of the noise generation model at least comprises a first text and a second text, the first text is a correct text corresponding to the voice data, and the second text is a text obtained by performing voice recognition on the voice data through a first voice recognition model;\\r\\nand training a text processing model by at least taking the noisy text as training data to obtain the trained text processing model.\",\n          \"An intelligent refrigerator based on the Internet of things is characterized in that,\\r\\nthe method comprises the following steps: the system comprises an electronic tag printing module, an electronic tag identification module and a wifi module; the electronic tag printing module and the electronic tag identification module are both connected with a background server through a wifi module;\\r\\nthe electronic tag printing module adopts voice input and is used for uploading voice input information of a user for corresponding food stored in the refrigerator to the background server through the wifi module, and printing the electronic tag of the corresponding food as the identification mark of the food according to the voice identification result of the background server;\\r\\nthe electronic tag identification module is used for regularly reading electronic tags of food in the refrigerator and uploading the electronic tags to the background server through the wifi module, so that the background server can judge the preservation state of the corresponding food and send out early warning to the user terminal.\"\n        ],\n        \"num_unique_values\": 50,\n        \"semantic_type\": \"\",\n        \"description\": \"\"\n      }\n    },\n    {\n      \"column\": \"APabstract\",\n      \"properties\": {\n        \"dtype\": \"string\",\n        \"samples\": [\n          \"An in-vehicle speech interaction method and a\\r\\ndevice are provided. The method includes: obtaining user\\r\\nspeech information; determining a user instruction based\\r\\non the user speech information; determining, based on\\r\\nthe user instruction, whether response content to the user\\r\\ninstruction is privacy-related; and determining, based on\\r\\nwhether the response content is privacy-related, whether\\r\\nto output the response content in a privacy protection\\r\\nmode, to protect privacy from being leaked.\",\n          \"[0058], [0169], [0004]\",\n          \"A speech understanding method (100) relates\\r\\nto the natural language understanding field, and is applicable in a speech understanding device (1200) provided\\r\\nat a cloud or a terminal, to understand speech information\\r\\nof a user and recognize a target application corresponding to an intent of the user in the speech information. The\\r\\nspeech understanding method (100) includes: (110) obtaining speech information of a user, (120) recognizing\\r\\nan intent in the speech information and one or more slot\\r\\nvalues in the speech information respectively based on\\r\\nintent information and slot information that are stored in\\r\\na comprehensive speech library and that come from a\\r\\nplurality of registered applications, (130) matching,\\r\\nbased on the intent of the speech information, an application corresponding to the speech information, and\\r\\n(140) transferring the intent of the speech information\\r\\nand the one or more slot values in the speech information\\r\\nto the corresponding application. The speech understanding method (100) can support flexible expressions\\r\\nof the user, and is adaptable to all the registered applications. When the method adapts to a new application,\\r\\nthere is no need to re-collect data, label data, and train\\r\\na model. The method has advantages of a short adaptation period and low costs.\"\n        ],\n        \"num_unique_values\": 45,\n        \"semantic_type\": \"\",\n        \"description\": \"\"\n      }\n    },\n    {\n      \"column\": \"PAabstract\",\n      \"properties\": {\n        \"dtype\": \"string\",\n        \"samples\": [\n          \"A method includes visually displaying an electronically formatted medical report, wherein the electronically formatted medical report references a set of electronically formatted images, acquiring the set of electronically formatted images, and linking the electronically formatted medical report and the set of electronically formatted images. A computing apparatus (102), includes a memory (108) with at least one computer readable instruction (106) and a processor (104) that executes the at least one computer readable instruction. The processor, in response to executing the at least one computer readable instruction, visually displays an electronically formatted medical report, wherein the electronically formatted medical report references a set of electronically formatted images, acquires the set of electronically formatted images, and links the electronically formatted medical report and the set of electronically formatted images.\",\n          \"The invention discloses a kind of method, device and the computer-readable recording medium of phonetic entry amendment, it is intended to solves existing voice input method and the technical problem quickly corrected during identification mistake occurs.This method includes\\uff1aObtain voice messaging of the user by phonetic entry\\uff1bThe voice messaging is recognized, and shows the first speech recognition content that identification is obtained\\uff1bObtain the voice identifier sentence of user's input\\uff1bThe voice identifier sentence is responded to be re-recognized to the voice messaging, and shows the second speech recognition content for re-recognizing and obtaining.By setting voice identifier sentence in phonetic entry application program, it is used as the entry condition of debugging functions, a variety of debugging functions can be set, when the speech recognition content that phonetic entry application program is recognized is wrong, as long as user says voice identifier sentence, phonetic entry application program will go into modification model, the debugging functions associated according to voice identifier sentence, and rapidly editor is carried out to speech recognition content and corrects and re-recognizes.\",\n          \"The present disclosure provides a labeling method, a relationship extraction method, a storage medium, and an arithmetic device. The labeling method comprises the following steps: determining a text to be marked, a plurality of correct seeds and a plurality of wrong seeds; traversing each sentence in the text to be labeled according to the correct seed to match a first template; traversing each sentence in the text to be labeled according to the first template to match out seeds; and evaluating the matched seeds according to the existing first template, the existing correct seeds and the existing wrong seeds, wherein the qualified seeds are evaluated as the correct seeds. And repeatedly executing the traversal steps for a set number of times and stopping or stopping until the number of the correct seeds qualified by evaluation reaches a set threshold value, and outputting the matched correct seeds and the classification relation between the first entity and the second entity in the correct seeds.\"\n        ],\n        \"num_unique_values\": 49,\n        \"semantic_type\": \"\",\n        \"description\": \"\"\n      }\n    },\n    {\n      \"column\": \" APipc\",\n      \"properties\": {\n        \"dtype\": \"string\",\n        \"samples\": [\n          \"\\tG06F40/30, G06N3/04\",\n          \"\\tG06F40/40, G06F40/30, G06F40/20, G06F40/10\",\n          \"\\tG06F40/279, G06F40/30, G06F40/35, G06N20/00, G06Q10/00\"\n        ],\n        \"num_unique_values\": 37,\n        \"semantic_type\": \"\",\n        \"description\": \"\"\n      }\n    },\n    {\n      \"column\": \"PAipc\",\n      \"properties\": {\n        \"dtype\": \"string\",\n        \"samples\": [\n          \"G06F 21/62,G06F 21/60,G10L 15/26,\\nG16H 10/60,G10L 21/0208\\nH04K 1/06\\nH04K 1/04, G10L 21/0364, G10L 15/08, G06F 3/16, G06Q 30/02, H04L 29/06 \",\n          \"G06N 5/04, G06F 16/901, G06N 20/00\",\n          \"F25D 29/00, G06F 3/16, G06F 3/12\"\n        ],\n        \"num_unique_values\": 45,\n        \"semantic_type\": \"\",\n        \"description\": \"\"\n      }\n    },\n    {\n      \"column\": \"PAparagraphs\",\n      \"properties\": {\n        \"dtype\": \"string\",\n        \"samples\": [\n          \"\\n[0055]\\nWhile the event processing module 180 is shown to be a module separate from the processor 120 in FIG. 1, at least a portion of the event processing module 180 may be included or implemented in the processor 120 or at least one other module, or the overall function of the event processing module 180 may be included or implemented in the processor 120 shown or another processor. The event processing module 180 may perform operations according to embodiments of this disclosure in interoperation with at least one program 140 stored in the memory 130.\\n[0056]\\nAlthough FIG. 1 illustrates one example of a network configuration 100, various changes may be made to FIG. 1. For example, the network configuration 100 could include any number of each component in any suitable arrangement. In general, computing and communication systems come in a wide variety of configurations, and FIG. 1 does not limit the scope of this disclosure to any particular configuration. Also, while FIG. 1 illustrates one operational environment in which various features disclosed in this patent document can be used, these features could be used in any other suitable system.\\n[0057]\\nFIG. 2 illustrates an example architecture 200 for setting up a recommendation system in accordance with this disclosure. For ease of explanation, the architecture 200 of FIG. 2 may be implemented using an electronic device (such as any of the electronic devices 101, 102, 104 or the server 106) of FIG. 1. However, the architecture 200 could be implemented using any suitable electronic device(s) in any suitable system.\\n[0058]\\nAs shown in FIG. 2, the architecture 200 receives input data 202, which in this example includes at least one stream of information about users and items, as well as text about the items. For example, the input data 202 can include information identifying different users associated with a particular company and different items that are liked, purchased, viewed, reviewed, or otherwise used by or associated with the users in some manner. As another example, the input data 202 can include textual descriptions associated with movies, TV shows, music, or other digital content or associated with computers, TVs, stereos, handheld devices, refrigerators, washers, dryers, or other physical products. The text about the items can also or alternatively include user reviews associated with the items. As particular examples, in the context of movies or TV shows, the text about the items can include plot summaries or plot synopses associated with the movies or TV shows and/or user reviews of the movies or TV shows. The input data 202 can be obtained from any suitable source(s) of information. For instance, there are several sources of textual descriptions associated with movies and TV shows, such as IMDB.COM and MOVIELENS.ORG. There are also numerous sources of user reviews of movies and TV shows, such as AMAZON.\\n[0072]\\nTherecommendation engine 222 here operates to generate various output data 224, which in this example includes item ratings and ranked item recommendations. The ranked item recommendations can have any suitable form, such as when expressed as scores that associate different users with different items. In some embodiments, these scores can be computed in an offline or non-real-time manner and then provided to a placement engine (described below) for online use. Of course, the recommendation engine 222 could also generate item recommendations in a real-time manner.\\n[0138]\\nFIG. 11 illustrates an example method 1100 for displaying recommendations in a graphical format in accordance with this disclosure. The method 1100 could, for example, be performed as part of step 520 in the method 500 of FIG. 5 or as part of the step 914 in FIG. 9. For ease of explanation, the method 1100 of FIG. 11 may be implemented using an electronic device (such as any of the electronic devices 101, 102, 104 or the server 106) of FIG. 1 to support the use of the placement engine 306 in the architecture 300 shown in FIG. 3. However, the method 1100 could be implemented using any suitable electronic device(s) in any suitable system. \\r\\n[0081]\\r\\nA knowledge graph is generated or updated using this information at step 408. This could include, for example, the processor 120 of the electronic device executing the graph representation function 208 to generate or update at least one knowledge graph. As particular examples, the graph representation function 208 could generate a node in the knowledge graph for each item (if the item does not already have a corresponding node in the knowledge graph) and generate a node in the knowledge graph for each identified aspect (if the aspect does not already have a corresponding node in the knowledge graph). The graph representation function 208 could also generate edges that link nodes representing the aspects to nodes representing the items having those aspects. As described below, these edges can have multiple weights associated with (i) user sentiment about the aspects and (ii) an importance of each aspect to the associated item(s). The graph representation function 208 could further generate edges that link nodes representing the aspects to nodes representing users who have known sentiments about those aspects. As described below, these edges can have multiple weights associated with (i) user sentiment about the associated aspects and (ii) an importance of each associated aspect to the associated user.\\r\\n[0082]\\r\\nAspects are linked, possibly across different domains, in the knowledge graph at step 410. This could include, for example, the processor 120 of the electronic device executing the aspect linkage function 206 to identify aspects that might be related. In some embodiments, aspects could be defined as being related when multiple users mention the same aspects in the different domains. This could also include the processor 120 of the electronic device executing the graph representation function 208 to add additional edges to the knowledge graph linking the related aspects.\\r\\n[0083]\\r\\nA representation of the nodes in the knowledge graph is generated in a shared vector space at step 412. This could include, for example, the processor 120 of the electronic device executing the shared vector space representation function 210 to identify the nodes and the connections (edges) between the nodes and to represent this information in a vector space. As a particular example, the shared vector space representation function 210 could identify the neighboring node or nodes for each node in the knowledge graph and create a vector space identifying how the nodes in the knowledge graph are connected. A mimic network can be built to allow new information (such as new users, items, or aspects) to be added to the vector space at step 414. This could include, for example, the processor 120 of the electronic device executing the mimic network builder function 216 to generate the mimic network. Again, this can be done to help hide information in the knowledge graph from outside parties, which may be necessary or desirable in some circumstances.\",\n          \"\\n[0004]\\nThe described features generally relate to methods, systems, devices, or apparatuses that support automated voice-activated medical assistance. A medical assistance server may receive an audio request from a user (e.g., patient, clinician, person associated with the patient), where the audio request may include a request for medical information related to the patient (e.g., a lab result, request for the patient's heart rate, etc.). The medical assistance server may then determine if the response to the audio request includes medical information associated with the patient or if the response includes non-medical information associated with the patient (e.g., an appointment confirmation, initiation of a phone call with a clinician, etc.). Based on this determination, the medical assistance server may identify an access class to access the medical information and a permission level to authorize the user to access the medical information. The access class and permission level may be based on a level of security associated with disclosing the medical information to the patient or a person associated with the patient. Before transmitting the response to the audio request, the medical assistance server may determine whether the user is authorized to access the medical information. If the user is authorized, the medical assistance server may transmit the response to the audio request to the user. \\n[0127]\\nThe description herein is provided to enable a person skilled in the art to make or use the disclosure. Various modifications to the disclosure will be readily apparent to those skilled in the art, and the generic principles defined herein may be applied to other variations without departing from the scope of the disclosure. Thus, the disclosure is not limited to the examples and designs described herein, but is to be accorded the broadest scope consistent with the principles and novel features disclosed herein. cm What is claimed is: \\n[0042]\\nBased on the access class and the permission level, medical assistance server 135-a may request an additional authorization credential associated with the user accessing the information. For example, medical assistance server 135-a may request a fingerprint scan, a pin code input, or both. In some cases, the fingerprint scan or the pin code input may also determine the proximity of the user to the system that receives the audio request. After the user inputs the authorization credential, a timer may start to indicate an amount of time that may lapse before the user may be required to revalidate with the authorization credential. [0001]\\nThe following relates generally to voice-activated medical assistance, and more specifically to automated voice-activated medical assistance.\\n[0002]\\nIn a healthcare facility such as a hospital, physiological parameters of the patient (e.g., heart rate, respiratory rate, blood pressure) may be monitored by one or more medical devices. The medical devices may be battery powered and may wirelessly transmit measured patient data over a wireless network within the hospital, thereby allowing the patient to move freely through the hospital while being monitored. Clinicians may remotely monitor the patient by accessing the patient data at a central nurse station or on any web enabled device connected to the network (e.g., smartphone or tablet).\\n[0003]\\nThe medical devices may be configured to transmit patient data over a network outside of the hospital, thereby allowing the patient to return home and continue patient care outside the hospital. The medical devices may also be configured to transmit patient data over a network inside of the hospital, thereby allowing the clinician to diagnose and treat the patient. Because patient care instructions (e.g., how many medications to take, what medications to take, when to take the medication, etc.) may not be written down at the time of the appointment or the patient may lose the at-home instructions, the patient may miss a medication dose or take the wrong medication dose, which may lead to physiological events that could put the patient at risk. [0005] An apparatus for voice-activated medical assistance, comprising:\\na processor;\\nmemory in electronic communication with the processor; and\\ninstructions stored in the memory and executable by the processor to cause the apparatus to:\\nreceive an indication of an audio request from a user;\\ndetermine whether a response to the audio request includes medical information associated with a patient;\\nidentify an access class of the medical information and a permission level associated with accessing the access class of the medical information;\\ndetermine whether the user is authorized to access the access class based at least in part on the permission level; and\\ntransmit an indication of the response to the audio request based at least in part on determining whether the user is authorized. \\n[0006] A non-transitory computer readable medium storing code for voice-activated medical assistance, the code comprising instructions executable by a processor to:\\nreceive an indication of an audio request from a user;\\ndetermine whether a response to the audio request includes medical information associated with a patient;\\nidentify an access class of the medical information and a permission level associated with accessing the access class of the medical information;\\ndetermine whether the user is authorized to access the access class based at least in part on the permission level; and\\ntransmit an indication of the response to the audio request based at least in part on determining whether the user is authorized. \\r\\n[0007] The method of claim 1, wherein the audio request comprises a request for medical information associated with the user, a request to schedule an appointment with a clinician, a request for medical information associated with a person other than the user, a request to initiate a call with the clinician, or a combination thereof.\",\n          \"[0068] Described named entity is the object in real world, such as: personage, place, company, school etc., each named entity has oneself attribute, described attribute comprises attribute of a relation and the characteristic attribute of named entity, wherein, described attribute of a relation is used for associating with other named entity, and described characteristic attribute is used for characterizing the feature that possesses of named entity itself.\\n[0069] Specifically, by decomposing the text gathered from this locality and/or network, obtain participle and the part of speech thereof of text, and according to obtained participle and part of speech thereof, the named entity relevant to each class name predefined is determined from obtained participle, and determine the attribute of a relation of the described named entity relevant to each relation word predefined, and extract determined named entity, and the attribute of a relation of named entity.In addition, the attribute according to each different named entity defines, and extracts the characteristic attribute of named entity. \\n[0072] Specifically, in gathered each text, determine named entity and attribute of a relation thereof the position in text, and utilize determined named entity and attribute of a relation thereof the position in text, contiguous named entity is associated, thus obtains the entity relationship between the named entity that is associated.In other words, named entity and attribute thereof meet predetermined grammer queueing discipline, then determine to have identified entity relationship, can extract it.\\n[0073] In described step S102 and described step 103, the mode that can be combined by machine learning (such as condition random field (CRF) algorithm or hidden horse model (HMM) etc.) and stacked automat (FST) rule realizes the named entity of above-mentioned steps and the automatic identification of entity relationship.\\n[0074] Step S104: according to predefine event name, searches the named entity relevant with it, and predefine event name and the named entity found is bound.\\nSpecifically, in gathered each text, determine the position of predefine event name in text, and utilize the described position of predefine event name in text, from the named entity extracted, search the named entity relevant with described predefine event name. \\n[0075] Specifically, according to the named entity extracted, entity relationship between named entity, the predefine event name bound with named entity, the corresponding information be dispersed in one text file is set up and maps, form each entity general view with different name of one text file, and the similarity (such as adopting the similarity between weights method and the general view of space vector module computational entity) by determining the entity general view with identical name, disambiguation process is carried out to the entity general view of each text, the entity general view with identical name in each text is merged, thus the relevant information be dispersed in each text is set up mapping, form each global entities's general view across text, finally using the named entity of formed each global entities's general view across text as node, using the entity relationship of each global entities's general view as limit, form described entity information collection of illustrative plates.Wherein, described entity general view comprises event class general view and the general view of named entity class wherein, in one text file, utilize predefine event name and the binding relationship of named entity found, form event class general view, utilize described named entity and corresponding entity relationship, form the general view of named entity class. \\r\\n[0001] Preferably, described is called clue with predefine event, according to extracted named entity and described entity relationship, sets up mapping by being dispersed in relevant information in each text described, make it condense together, the step forming entity information collection of illustrative plates comprises:\\r\\nAccording to the named entity extracted, entity relationship between named entity, the predefine event name bound with named entity, the corresponding information be dispersed in one text file is set up and maps, form each entity general view with different name of one text file;\\r\\n[0002] By carrying out disambiguation process to the entity general view of each text, the entity general view with identical name in each text is merged, thus the relevant information be dispersed in each text is set up mapping, form each global entities's general view across text;\\r\\nUtilize each global entities's general view across text formed, form entity information collection of illustrative plates.\\r\\nPreferably, described entity general view comprises event class general view and the general view of named entity class, in one text file, utilize predefine event name and the binding relationship of named entity found, form event class general view, utilize described named entity and corresponding entity relationship, form the general view of named entity class.\\r\\n[0003] Preferably, by determining the similarity of the entity general view with identical name, disambiguation process is carried out to the entity general view of each text.\\r\\nPreferably, by using the named entity of each global entities's general view as node, using the entity relationship of each global entities's general view as limit, form described entity information collection of illustrative plates.\"\n        ],\n        \"num_unique_values\": 48,\n        \"semantic_type\": \"\",\n        \"description\": \"\"\n      }\n    },\n    {\n      \"column\": \"PApragraphs_Json\",\n      \"properties\": {\n        \"dtype\": \"string\",\n        \"samples\": [\n          \"{\\n  \\\"sentences\\\": [\\n    {\\n      \\\"id\\\": \\\"0055\\\",\\n      \\\"content\\\": \\\"While the event processing module 180 is shown to be a module separate from the processor 120 in FIG. 1, at least a portion of the event processing module 180 may be included or implemented in the processor 120 or at least one other module, or the overall function of the event processing module 180 may be included or implemented in the processor 120 shown or another processor. The event processing module 180 may perform operations according to embodiments of this disclosure in interoperation with at least one program 140 stored in the memory 130.\\\"\\n    },\\n    {\\n      \\\"id\\\": \\\"0056\\\",\\n      \\\"content\\\": \\\"Although FIG. 1 illustrates one example of a network configuration 100, various changes may be made to FIG. 1. For example, the network configuration 100 could include any number of each component in any suitable arrangement. In general, computing and communication systems come in a wide variety of configurations, and FIG. 1 does not limit the scope of this disclosure to any particular configuration. Also, while FIG. 1 illustrates one operational environment in which various features disclosed in this patent document can be used, these features could be used in any other suitable system.\\\"\\n    },\\n    {\\n      \\\"id\\\": \\\"0057\\\",\\n      \\\"content\\\": \\\"FIG. 2 illustrates an example architecture 200 for setting up a recommendation system in accordance with this disclosure. For ease of explanation, the architecture 200 of FIG. 2 may be implemented using an electronic device (such as any of the electronic devices 101, 102, 104 or the server 106) of FIG. 1. However, the architecture 200 could be implemented using any suitable electronic device(s) in any suitable system.\\\"\\n    },\\n    {\\n      \\\"id\\\": \\\"0058\\\",\\n      \\\"content\\\": \\\"As shown in FIG. 2, the architecture 200 receives input data 202, which in this example includes at least one stream of information about users and items, as well as text about the items. For example, the input data 202 can include information identifying different users associated with a particular company and different items that are liked, purchased, viewed, reviewed, or otherwise used by or associated with the users in some manner. As another example, the input data 202 can include textual descriptions associated with movies, TV shows, music, or other digital content or associated with computers, TVs, stereos, handheld devices, refrigerators, washers, dryers, or other physical products. The text about the items can also or alternatively include user reviews associated with the items. As particular examples, in the context of movies or TV shows, the text about the items can include plot summaries or plot synopses associated with the movies or TV shows and/or user reviews of the movies or TV shows. The input data 202 can be obtained from any suitable source(s) of information. For instance, there are several sources of textual descriptions associated with movies and TV shows, such as IMDB.COM and MOVIELENS.ORG. There are also numerous sources of user reviews of movies and TV shows, such as AMAZON.\\\"\\n    },\\n    {\\n      \\\"id\\\": \\\"0072\\\",\\n      \\\"content\\\": \\\"Therecommendation engine 222 here operates to generate various output data 224, which in this example includes item ratings and ranked item recommendations. The ranked item recommendations can have any suitable form, such as when expressed as scores that associate different users with different items. In some embodiments, these scores can be computed in an offline or non-real-time manner and then provided to a placement engine (described below) for online use. Of course, the recommendation engine 222 could also generate item recommendations in a real-time manner.\\\"\\n    },\\n    {\\n      \\\"id\\\": \\\"0138\\\",\\n      \\\"content\\\": \\\"FIG. 11 illustrates an example method 1100 for displaying recommendations in a graphical format in accordance with this disclosure. The method 1100 could, for example, be performed as part of step 520 in the method 500 of FIG. 5 or as part of the step 914 in FIG. 9. For ease of explanation, the method 1100 of FIG. 11 may be implemented using an electronic device (such as any of the electronic devices 101, 102, 104 or the server 106) of FIG. 1 to support the use of the placement engine 306 in the architecture 300 shown in FIG. 3. However, the method 1100 could be implemented using any suitable electronic device(s) in any suitable system.\\\"\\n    },\\n    {\\n      \\\"id\\\": \\\"0081\\\",\\n      \\\"content\\\": \\\"A knowledge graph is generated or updated using this information at step 408. This could include, for example, the processor 120 of the electronic device executing the graph representation function 208 to generate or update at least one knowledge graph. As particular examples, the graph representation function 208 could generate a node in the knowledge graph for each item (if the item does not already have a corresponding node in the knowledge graph) and generate a node in the knowledge graph for each identified aspect (if the aspect does not already have a corresponding node in the knowledge graph). The graph representation function 208 could also generate edges that link nodes representing the aspects to nodes representing the items having those aspects. As described below, these edges can have multiple weights associated with (i) user sentiment about the aspects and (ii) an importance of each aspect to the associated item(s). The graph representation function 208 could further generate edges that link nodes representing the aspects to nodes representing users who have known sentiments about those aspects. As described below, these edges can have multiple weights associated with (i) user sentiment about the associated aspects and (ii) an importance of each associated aspect to the associated user.\\\"\\n    },\\n    {\\n      \\\"id\\\": \\\"0082\\\",\\n      \\\"content\\\": \\\"Aspects are linked, possibly across different domains, in the knowledge graph at step 410. This could include, for example, the processor 120 of the electronic device executing the aspect linkage function 206 to identify aspects that might be related. In some embodiments, aspects could be defined as being related when multiple users mention the same aspects in the different domains. This could also include the processor 120 of the electronic device executing the graph representation function 208 to add additional edges to the knowledge graph linking the related aspects.\\\"\\n    },\\n    {\\n      \\\"id\\\": \\\"0083\\\",\\n      \\\"content\\\": \\\"A representation of the nodes in the knowledge graph is generated in a shared vector space at step 412. This could include, for example, the processor 120 of the electronic device executing the shared vector space representation function 210 to identify the nodes and the connections (edges) between the nodes and to represent this information in a vector space. As a particular example, the shared vector space representation function 210 could identify the neighboring node or nodes for each node in the knowledge graph and create a vector space identifying how the nodes in the knowledge graph are connected. A mimic network can be built to allow new information (such as new users, items, or aspects) to be added to the vector space at step 414. This could include, for example, the processor 120 of the electronic device executing the mimic network builder function 216 to generate the mimic network. Again, this can be done to help hide information in the knowledge graph from outside parties, which may be necessary or desirable in some circumstances.\\\"\\n    }\\n  ]\\n}\",\n          \"{\\n  \\\"sentences\\\": [\\n    {\\n      \\\"id\\\": \\\"0004\\\",\\n      \\\"content\\\": \\\"The described features generally relate to methods, systems, devices, or apparatuses that support automated voice-activated medical assistance. A medical assistance server may receive an audio request from a user (e.g., patient, clinician, person associated with the patient), where the audio request may include a request for medical information related to the patient (e.g., a lab result, request for the patient's heart rate, etc.). The medical assistance server may then determine if the response to the audio request includes medical information associated with the patient or if the response includes non-medical information associated with the patient (e.g., an appointment confirmation, initiation of a phone call with a clinician, etc.). Based on this determination, the medical assistance server may identify an access class to access the medical information and a permission level to authorize the user to access the medical information. The access class and permission level may be based on a level of security associated with disclosing the medical information to the patient or a person associated with the patient. Before transmitting the response to the audio request, the medical assistance server may determine whether the user is authorized to access the medical information. If the user is authorized, the medical assistance server may transmit the response to the audio request to the user.\\\"\\n    },\\n    {\\n      \\\"id\\\": \\\"0127\\\",\\n      \\\"content\\\": \\\"The description herein is provided to enable a person skilled in the art to make or use the disclosure. Various modifications to the disclosure will be readily apparent to those skilled in the art, and the generic principles defined herein may be applied to other variations without departing from the scope of the disclosure. Thus, the disclosure is not limited to the examples and designs described herein, but is to be accorded the broadest scope consistent with the principles and novel features disclosed herein. cm What is claimed is:\\\"\\n    },\\n    {\\n      \\\"id\\\": \\\"0042\\\",\\n      \\\"content\\\": \\\"Based on the access class and the permission level, medical assistance server 135-a may request an additional authorization credential associated with the user accessing the information. For example, medical assistance server 135-a may request a fingerprint scan, a pin code input, or both. In some cases, the fingerprint scan or the pin code input may also determine the proximity of the user to the system that receives the audio request. After the user inputs the authorization credential, a timer may start to indicate an amount of time that may lapse before the user may be required to revalidate with the authorization credential.\\\"\\n    },\\n    {\\n      \\\"id\\\": \\\"0001\\\",\\n      \\\"content\\\": \\\"The following relates generally to voice-activated medical assistance, and more specifically to automated voice-activated medical assistance.\\\"\\n    },\\n    {\\n      \\\"id\\\": \\\"0002\\\",\\n      \\\"content\\\": \\\"In a healthcare facility such as a hospital, physiological parameters of the patient (e.g., heart rate, respiratory rate, blood pressure) may be monitored by one or more medical devices. The medical devices may be battery powered and may wirelessly transmit measured patient data over a wireless network within the hospital, thereby allowing the patient to move freely through the hospital while being monitored. Clinicians may remotely monitor the patient by accessing the patient data at a central nurse station or on any web enabled device connected to the network (e.g., smartphone or tablet).\\\"\\n    },\\n    {\\n      \\\"id\\\": \\\"0003\\\",\\n      \\\"content\\\": \\\"The medical devices may be configured to transmit patient data over a network outside of the hospital, thereby allowing the patient to return home and continue patient care outside the hospital. The medical devices may also be configured to transmit patient data over a network inside of the hospital, thereby allowing the clinician to diagnose and treat the patient. Because patient care instructions (e.g., how many medications to take, what medications to take, when to take the medication, etc.) may not be written down at the time of the appointment or the patient may lose the at-home instructions, the patient may miss a medication dose or take the wrong medication dose, which may lead to physiological events that could put the patient at risk.\\\"\\n    },\\n    {\\n      \\\"id\\\": \\\"0005\\\",\\n      \\\"content\\\": \\\"An apparatus for voice-activated medical assistance, comprising:\\\\na processor;\\\\nmemory in electronic communication with the processor; and\\\\ninstructions stored in the memory and executable by the processor to cause the apparatus to:\\\\nreceive an indication of an audio request from a user;\\\\ndetermine whether a response to the audio request includes medical information associated with a patient;\\\\nidentify an access class of the medical information and a permission level associated with accessing the access class of the medical information;\\\\ndetermine whether the user is authorized to access the access class based at least in part on the permission level; and\\\\ntransmit an indication of the response to the audio request based at least in part on determining whether the user is authorized.\\\"\\n    },\\n    {\\n      \\\"id\\\": \\\"0006\\\",\\n      \\\"content\\\": \\\"A non-transitory computer readable medium storing code for voice-activated medical assistance, the code comprising instructions executable by a processor to:\\\\nreceive an indication of an audio request from a user;\\\\ndetermine whether a response to the audio request includes medical information associated with a patient;\\\\nidentify an access class of the medical information and a permission level associated with accessing the access class of the medical information;\\\\ndetermine whether the user is authorized to access the access class based at least in part on the permission level; and\\\\ntransmit an indication of the response to the audio request based at least in part on determining whether the user is authorized.\\\"\\n    },\\n    {\\n      \\\"id\\\": \\\"0007\\\",\\n      \\\"content\\\": \\\"The method of claim 1, wherein the audio request comprises a request for medical information associated with the user, a request to schedule an appointment with a clinician, a request for medical information associated with a person other than the user, a request to initiate a call with the clinician, or a combination thereof.\\\"\\n    }\\n  ]\\n}\",\n          \"{\\n  \\\"sentences\\\": [\\n    {\\n      \\\"id\\\": \\\"0068\\\",\\n      \\\"content\\\": \\\"Described named entity is the object in real world, such as: personage, place, company, school etc., each named entity has oneself attribute, described attribute comprises attribute of a relation and the characteristic attribute of named entity, wherein, described attribute of a relation is used for associating with other named entity, and described characteristic attribute is used for characterizing the feature that possesses of named entity itself.\\\"\\n    },\\n    {\\n      \\\"id\\\": \\\"0069\\\",\\n      \\\"content\\\": \\\"Specifically, by decomposing the text gathered from this locality and/or network, obtain participle and the part of speech thereof of text, and according to obtained participle and part of speech thereof, the named entity relevant to each class name predefined is determined from obtained participle, and determine the attribute of a relation of the described named entity relevant to each relation word predefined, and extract determined named entity, and the attribute of a relation of named entity.In addition, the attribute according to each different named entity defines, and extracts the characteristic attribute of named entity.\\\"\\n    },\\n    {\\n      \\\"id\\\": \\\"0072\\\",\\n      \\\"content\\\": \\\"Specifically, in gathered each text, determine named entity and attribute of a relation thereof the position in text, and utilize determined named entity and attribute of a relation thereof the position in text, contiguous named entity is associated, thus obtains the entity relationship between the named entity that is associated.In other words, named entity and attribute thereof meet predetermined grammer queueing discipline, then determine to have identified entity relationship, can extract it.\\\"\\n    },\\n    {\\n      \\\"id\\\": \\\"0073\\\",\\n      \\\"content\\\": \\\"In described step S102 and described step 103, the mode that can be combined by machine learning (such as condition random field (CRF) algorithm or hidden horse model (HMM) etc.) and stacked automat (FST) rule realizes the named entity of above-mentioned steps and the automatic identification of entity relationship.\\\"\\n    },\\n    {\\n      \\\"id\\\": \\\"0074\\\",\\n      \\\"content\\\": \\\"Step S104: according to predefine event name, searches the named entity relevant with it, and predefine event name and the named entity found is bound.\\\\nSpecifically, in gathered each text, determine the position of predefine event name in text, and utilize the described position of predefine event name in text, from the named entity extracted, search the named entity relevant with described predefine event name.\\\"\\n    },\\n    {\\n      \\\"id\\\": \\\"0075\\\",\\n      \\\"content\\\": \\\"Specifically, according to the named entity extracted, entity relationship between named entity, the predefine event name bound with named entity, the corresponding information be dispersed in one text file is set up and maps, form each entity general view with different name of one text file, and the similarity (such as adopting the similarity between weights method and the general view of space vector module computational entity) by determining the entity general view with identical name, disambiguation process is carried out to the entity general view of each text, the entity general view with identical name in each text is merged, thus the relevant information be dispersed in each text is set up mapping, form each global entities's general view across text, finally using the named entity of formed each global entities's general view across text as node, using the entity relationship of each global entities's general view as limit, form described entity information collection of illustrative plates.Wherein, described entity general view comprises event class general view and the general view of named entity class wherein, in one text file, utilize predefine event name and the binding relationship of named entity found, form event class general view, utilize described named entity and corresponding entity relationship, form the general view of named entity class.\\\"\\n    },\\n    {\\n      \\\"id\\\": \\\"0001\\\",\\n      \\\"content\\\": \\\"Preferably, described is called clue with predefine event, according to extracted named entity and described entity relationship, sets up mapping by being dispersed in relevant information in each text described, make it condense together, the step forming entity information collection of illustrative plates comprises:\\\\r\\\\nAccording to the named entity extracted, entity relationship between named entity, the predefine event name bound with named entity, the corresponding information be dispersed in one text file is set up and maps, form each entity general view with different name of one text file;\\\"\\n    },\\n    {\\n      \\\"id\\\": \\\"0002\\\",\\n      \\\"content\\\": \\\"By carrying out disambiguation process to the entity general view of each text, the entity general view with identical name in each text is merged, thus the relevant information be dispersed in each text is set up mapping, form each global entities's general view across text;\\\\r\\\\nUtilize each global entities's general view across text formed, form entity information collection of illustrative plates.\\\\r\\\\nPreferably, described entity general view comprises event class general view and the general view of named entity class, in one text file, utilize predefine event name and the binding relationship of named entity found, form event class general view, utilize described named entity and corresponding entity relationship, form the general view of named entity class.\\\"\\n    },\\n    {\\n      \\\"id\\\": \\\"0003\\\",\\n      \\\"content\\\": \\\"Preferably, by determining the similarity of the entity general view with identical name, disambiguation process is carried out to the entity general view of each text.\\\\r\\\\nPreferably, by using the named entity of each global entities's general view as node, using the entity relationship of each global entities's general view as limit, form described entity information collection of illustrative plates.\\\"\\n    }\\n  ]\\n}\"\n        ],\n        \"num_unique_values\": 48,\n        \"semantic_type\": \"\",\n        \"description\": \"\"\n      }\n    },\n    {\n      \"column\": \"PAcited\",\n      \"properties\": {\n        \"dtype\": \"string\",\n        \"samples\": [\n          \"[0014],[0018],[0013]\",\n          \"[0004],[0127],[0042]\",\n          \"[0058],[0072],[138]\"\n        ],\n        \"num_unique_values\": 47,\n        \"semantic_type\": \"\",\n        \"description\": \"\"\n      }\n    },\n    {\n      \"column\": \"PApredGPT_top1\",\n      \"properties\": {\n        \"dtype\": \"number\",\n        \"std\": NaN,\n        \"min\": NaN,\n        \"max\": NaN,\n        \"samples\": [],\n        \"num_unique_values\": 0,\n        \"semantic_type\": \"\",\n        \"description\": \"\"\n      }\n    },\n    {\n      \"column\": \"PApredGPT_top2\",\n      \"properties\": {\n        \"dtype\": \"category\",\n        \"samples\": [],\n        \"num_unique_values\": 1,\n        \"semantic_type\": \"\",\n        \"description\": \"\"\n      }\n    },\n    {\n      \"column\": \"PApredGPT_top3\",\n      \"properties\": {\n        \"dtype\": \"number\",\n        \"std\": NaN,\n        \"min\": NaN,\n        \"max\": NaN,\n        \"samples\": [],\n        \"num_unique_values\": 0,\n        \"semantic_type\": \"\",\n        \"description\": \"\"\n      }\n    },\n    {\n      \"column\": \"PApredBARD_top1\",\n      \"properties\": {\n        \"dtype\": \"number\",\n        \"std\": NaN,\n        \"min\": NaN,\n        \"max\": NaN,\n        \"samples\": [],\n        \"num_unique_values\": 0,\n        \"semantic_type\": \"\",\n        \"description\": \"\"\n      }\n    },\n    {\n      \"column\": \"PApredBARD_top2\",\n      \"properties\": {\n        \"dtype\": \"number\",\n        \"std\": NaN,\n        \"min\": NaN,\n        \"max\": NaN,\n        \"samples\": [],\n        \"num_unique_values\": 0,\n        \"semantic_type\": \"\",\n        \"description\": \"\"\n      }\n    },\n    {\n      \"column\": \"PApredBARD_top3\",\n      \"properties\": {\n        \"dtype\": \"number\",\n        \"std\": NaN,\n        \"min\": NaN,\n        \"max\": NaN,\n        \"samples\": [],\n        \"num_unique_values\": 0,\n        \"semantic_type\": \"\",\n        \"description\": \"\"\n      }\n    },\n    {\n      \"column\": \"APipc_GPTpred\",\n      \"properties\": {\n        \"dtype\": \"category\",\n        \"samples\": [],\n        \"num_unique_values\": 4,\n        \"semantic_type\": \"\",\n        \"description\": \"\"\n      }\n    },\n    {\n      \"column\": \"APipc_BARDpred\",\n      \"properties\": {\n        \"dtype\": \"category\",\n        \"samples\": [],\n        \"num_unique_values\": 25,\n        \"semantic_type\": \"\",\n        \"description\": \"\"\n      }\n    }\n  ]\n}"
            }
          },
          "metadata": {},
          "execution_count": 13
        }
      ]
    },
    {
      "cell_type": "code",
      "source": [
        "txt = read['PApragraphs_Json'][0]"
      ],
      "metadata": {
        "id": "3kdcS_dI_AFu"
      },
      "execution_count": null,
      "outputs": []
    },
    {
      "cell_type": "code",
      "source": [
        "txt"
      ],
      "metadata": {
        "colab": {
          "base_uri": "https://localhost:8080/",
          "height": 139
        },
        "id": "Az4qFG77_Lcq",
        "outputId": "0de068ad-83ba-4ceb-8567-1eaacca4e466"
      },
      "execution_count": null,
      "outputs": [
        {
          "output_type": "execute_result",
          "data": {
            "text/plain": [
              "'{\\n  \"sentences\": [\\n    {\\n      \"id\": \"0057\",\\n      \"content\": \"FIGS. 3A-3B illustrate a more detailed block diagram depicting the insight engine server 140. As illustrated in FIGS. 3A-3B, the insight engine server 140 comprises a clinical decision support service module 310, an online nurse advice module 315, and a triage nurse express module 320.\"\\n    },\\n    {\\n      \"id\": \"0058\",\\n      \"content\": \"In an embodiment, the clinical decision support service module 310 (e.g., a data processing engine, a prioritized ranking system, etc.) is configured to facilitate the nurse or practitioner in making recommendations to the patient. The clinical decision support service module 310 may use proven diagnostic protocols (e.g., from a clinical decision rules database) to facilitate the nurse or practitioner in making recommendations to the patient. In some embodiments, the diagnostic protocols used by the clinical decision support service module 310 can be automatically updated (e.g., via the network 120 and an external database, not shown) as the standards and/or protocols are revised by the standards and/or protocols bodies. In addition, the clinical decision support service module 310 may use patient data acquired by the online nurse advice module 315 to facilitate the nurse or practitioner in making recommendations to the patient.\"\\n    },\\n    {\\n      \"id\": \"0059\",\\n      \"content\": \"In some embodiments, the clinical decision support service module 310 is configured to implement triage protocols and provide emergency screening and prioritization (or ranking) of encounters (e.g., patients). The clinical decision support service module 310 can implement a variety of protocols, including the Wolters Kluwer telephone triage protocols and the Schmitt Thompson protocols, among others. The clinical decision support service module 310 can be built on top of the OpenCDS platform. In certain embodiments, the clinical decision support service module 310 accepts input in a data format such as a Continuity of Care Document (CCD) or Virtual Medical Record (VMR). The clinical decision support service module 310 can then use rules to map this data to clinical concepts, which allow for data normalization of both the syntax and semantics, as well as merging from multiple sources. The protocols can be implemented as rules that act upon the clinical concepts. These rules can specify things like triage level, which is used for emergency screening and/or prioritization (or ranking). For example, a patient\\'s symptoms can be mapped to specific clinical concepts, and rules applied to the specific clinical concepts may specify a triage level for that patient. Triage levels of patients can then be compared to perform emergency screening and/or prioritization or ranking of the patients (e.g., the more critical or serious the triage level, the higher the patient will be prioritized or ranked). Emergency screening can tell patients at the end of the interview to seek urgent care or call 911 right away if they have an emergent condition. Prioritization or ranking can separate encounters needing immediate attention from a nurse from those that can wait for a specified time period. The rules can also be used to implement a template response 722 (e.g., an email 722) with personalized health information based on the patient\\'s complaint.\"\\n    },\\n    {\\n      \"id\": \"0060\",\\n      \"content\": \"In an embodiment, the online nurse advice module 315 (e.g., a user interface module) is a web application executed by the insight engine server 140 and accessible by a patient via the one or more triage portals 130 and/or the one or more user devices 150. The online nurse advice module 315 is configured to collect patient data based on an interview of the patient (e.g., based on answers provided by the patient when presented with a series of questions). Such patient data can include a patient\\'s problem list (e.g., a list of symptoms experienced by the patient) and a medication list (e.g., medications currently taken by the patient, taken by the patient in the past, to be taken by the patient in the future, etc.).\"\\n    },\\n    {\\n      \"id\": \"0061\",\\n      \"content\": \"In an embodiment, the triage nurse express module 320 (e.g., a nurse control panel system) is a web application executed by the insight engine server 140 and accessible by a nurse or practitioner via the one or more triage portals 130. The triage nurse express module 320 is configured to reduce the amount of time it takes a nurse or practitioner to review a patient report, which can include at least one recommendation generated by the clinical decision support service module 310. In particular, the triage nurse express module 320 is configured to collect and summarize information nurses need to make a decision. In some embodiments, the triage nurse express module 320 can red flag cases requiring a more urgent follow-up by a nurse or practitioner. Nursing staff, via the one or more triage portals 130, can set criteria specifying deadlines and red flags based on patient indicators and/or history. In certain embodiments, if the specified deadline is approaching and the nurses have still not reviewed the patient report, the triage nurse express module 320 can send an alert to the nurse\\'s mobile device or email reminding the nurse to review the patient report. This can help ensure that all patient reports are reviewed in a timely manner. Additionally, in some embodiments, the functionality of the triage nurse express module 320 can be integrated into a quality management process. For example, when a nurse overturns a recommendation generated by the clinical decision support service module 310, the decision can be automatically recorded in a quality dashboard and trigger a case review process, which are described in greater detail below.\"\\n    },\\n    {\\n      \"id\": \"0092\",\\n      \"content\": \"FIG. 7B illustrates a user interface 710 viewed by a nurse using a triage device, such as the one or more triage devices 130. In certain embodiments, once a patient has completed the survey, the information associated with the patient shows up in a nurse queue according to the patient\\'s priority. In some embodiments, the insight engine server 140 provides the nurse with a succinct summary 712 of the patient\\'s contact information, biographical data, medical history, and/or answers including, but not limited to, affirmations and denials. This thorough list can be important for liability purposes and reduces nurse review time.\"\\n    },\\n    {\\n      \"id\": \"0093\",\\n      \"content\": \"In certain embodiments, the insight engine server 140 also flags possible complications in decision support window 714. As illustrated in FIG. 7B, the report of difficulty breathing is highlighted at the top of the decision support window 714 so that the nurse can see and address the issue immediately.\"\\n    },\\n    {\\n      \"id\": \"0094\",\\n      \"content\": \"FIG. 7C illustrates another user interface 720 viewed by a nurse using a triage device, such as the one or more triage devices 130. In some embodiments, the nurse will typically call the patient, and then reply to the patient with a secure template response 722 (e.g., a secure email 722). Email 722 can be generated by the insight engine server 140 and include instructions, maps, and/or educational content selected for the patient by the nurse or personalized for the patient by the insight engine server 140. For example, if the user reports symptoms consistent with an upper respiratory infection, the user interface 720 and/or the email 722 can automatically display articles about colds and flus to be reviewed by the nurse before being sent to the patient. In certain embodiments, the insight engine server 140 automatically tracks whether the email 722 was read or not, allowing the nurse to follow-up if the patient does not read the email 722. In some embodiments, the email 722 can be a secure email.\"\\n    },\\n    {\\n      \"id\": \"0095\",\\n      \"content\": \"FIG. 7D illustrates another user interface 730 viewed by a nurse using a triage device, such as the one or more triage devices 730. In some embodiments, the data from the patient and/or the nurse is copied to the EMR system 110 with a single click of an input device (e.g., a mouse). In some embodiments, the data is copied as a web or telephone encounter note 732 and stored within the EMR system 110. This can reduce documentation time for the nurse. In certain embodiments, the insight engine sever 140 formats the web or telephone encounter note 732 like a regular EMR note so nurses or practitioners can skim the web or telephone encounter note 732 before the visit and enter the exam room prepared.\"\\n    }\\n  ]\\n}'"
            ],
            "application/vnd.google.colaboratory.intrinsic+json": {
              "type": "string"
            }
          },
          "metadata": {},
          "execution_count": 15
        }
      ]
    },
    {
      "cell_type": "code",
      "source": [
        "ls"
      ],
      "metadata": {
        "colab": {
          "base_uri": "https://localhost:8080/"
        },
        "id": "iF6tUYln_MOx",
        "outputId": "c04a3eb1-3bf2-46d0-fd73-a557aea6bba5"
      },
      "execution_count": null,
      "outputs": [
        {
          "output_type": "stream",
          "name": "stdout",
          "text": [
            "'ClaimCiteRetrieval_ESR_based - Sheet1 (2).csv'   \u001b[0m\u001b[01;34msample_data\u001b[0m/\n"
          ]
        }
      ]
    },
    {
      "cell_type": "code",
      "source": [
        "files.download('ClaimCiteRetrieval_ESR_based - Sheet1 (2).csv')"
      ],
      "metadata": {
        "colab": {
          "base_uri": "https://localhost:8080/",
          "height": 17
        },
        "id": "irbE0UlCIOpu",
        "outputId": "64b0af32-0be3-472b-ee9c-2888bea970db"
      },
      "execution_count": null,
      "outputs": [
        {
          "output_type": "display_data",
          "data": {
            "text/plain": [
              "<IPython.core.display.Javascript object>"
            ],
            "application/javascript": [
              "\n",
              "    async function download(id, filename, size) {\n",
              "      if (!google.colab.kernel.accessAllowed) {\n",
              "        return;\n",
              "      }\n",
              "      const div = document.createElement('div');\n",
              "      const label = document.createElement('label');\n",
              "      label.textContent = `Downloading \"${filename}\": `;\n",
              "      div.appendChild(label);\n",
              "      const progress = document.createElement('progress');\n",
              "      progress.max = size;\n",
              "      div.appendChild(progress);\n",
              "      document.body.appendChild(div);\n",
              "\n",
              "      const buffers = [];\n",
              "      let downloaded = 0;\n",
              "\n",
              "      const channel = await google.colab.kernel.comms.open(id);\n",
              "      // Send a message to notify the kernel that we're ready.\n",
              "      channel.send({})\n",
              "\n",
              "      for await (const message of channel.messages) {\n",
              "        // Send a message to notify the kernel that we're ready.\n",
              "        channel.send({})\n",
              "        if (message.buffers) {\n",
              "          for (const buffer of message.buffers) {\n",
              "            buffers.push(buffer);\n",
              "            downloaded += buffer.byteLength;\n",
              "            progress.value = downloaded;\n",
              "          }\n",
              "        }\n",
              "      }\n",
              "      const blob = new Blob(buffers, {type: 'application/binary'});\n",
              "      const a = document.createElement('a');\n",
              "      a.href = window.URL.createObjectURL(blob);\n",
              "      a.download = filename;\n",
              "      div.appendChild(a);\n",
              "      a.click();\n",
              "      div.remove();\n",
              "    }\n",
              "  "
            ]
          },
          "metadata": {}
        },
        {
          "output_type": "display_data",
          "data": {
            "text/plain": [
              "<IPython.core.display.Javascript object>"
            ],
            "application/javascript": [
              "download(\"download_4e420615-be37-4a11-b8b4-3184c5ad032a\", \"ClaimCiteRetrieval_ESR_based - Sheet1 (2).csv\", 816997)"
            ]
          },
          "metadata": {}
        }
      ]
    },
    {
      "cell_type": "code",
      "source": [],
      "metadata": {
        "id": "8m2alu6nIRXM"
      },
      "execution_count": null,
      "outputs": []
    },
    {
      "cell_type": "markdown",
      "source": [
        "## Reading a xl sheet to convert paragraphs to json"
      ],
      "metadata": {
        "id": "XioJi6J8eirc"
      }
    },
    {
      "cell_type": "code",
      "source": [
        "ls"
      ],
      "metadata": {
        "colab": {
          "base_uri": "https://localhost:8080/"
        },
        "id": "HRAemEgdfl-5",
        "outputId": "a84ceeec-f94e-4c0b-e377-b09bb45a993e"
      },
      "execution_count": null,
      "outputs": [
        {
          "output_type": "stream",
          "name": "stdout",
          "text": [
            "'Copy of ClaimCiteRetrieval_ESR_based.xlsx'   \u001b[0m\u001b[01;34msample_data\u001b[0m/\n"
          ]
        }
      ]
    },
    {
      "cell_type": "code",
      "source": [
        "df = pd.read_excel('./Copy of ClaimCiteRetrieval_ESR_based.xlsx')"
      ],
      "metadata": {
        "id": "pzKyErk7eppk"
      },
      "execution_count": null,
      "outputs": []
    },
    {
      "cell_type": "code",
      "source": [
        "df.head(2)"
      ],
      "metadata": {
        "colab": {
          "base_uri": "https://localhost:8080/",
          "height": 335
        },
        "id": "M-RaTZm7fsK3",
        "outputId": "7826a5b9-6b53-4274-9ab9-e26f85424be6"
      },
      "execution_count": null,
      "outputs": [
        {
          "output_type": "execute_result",
          "data": {
            "text/plain": [
              "       APnum            PAnum  \\\n",
              "0  EP4300511  US20140019162A1   \n",
              "1  EP4273738  US20080091405A1   \n",
              "\n",
              "                                             APclaim  \\\n",
              "0  Text classification method to aid on clinical ...   \n",
              "1  A semantic representation generation method of...   \n",
              "\n",
              "                                             PAclaim  \\\n",
              "0  An automated triage system, comprising:\\na pat...   \n",
              "1  A method of analyzing a sentence in a source l...   \n",
              "\n",
              "                                          APabstract  \\\n",
              "0  The present application describes an automatic...   \n",
              "1  In a semantic representation generation method...   \n",
              "\n",
              "                                          PAabstract  \\\n",
              "0  An automated triage system may include a patie...   \n",
              "1  A method and computer system for analyzing sen...   \n",
              "\n",
              "                                               APipc                    PAipc  \\\n",
              "0  G16H50/20, G16H10/60, G16H40/20, G06F40/10, G0...  G06F 9/00, G06O 50/24,    \n",
              "1  \\tG06F40/30, // G06F40/211, G06F40/268, G06F40...                G06F 7/28   \n",
              "\n",
              "                                        PAparagraphs  PApragraphs_Json  ...  \\\n",
              "0  [0057]\\nFIGS. 3A-3B illustrate a more detailed...               NaN  ...   \n",
              "1    \\n[0004]\\nThe acquired ability to understand...               NaN  ...   \n",
              "\n",
              "  PApredGPT_top1  PApredGPT_top2  PApredGPT_top3  PApredBARD_top1  \\\n",
              "0            NaN             NaN             NaN              NaN   \n",
              "1            NaN             NaN             NaN              NaN   \n",
              "\n",
              "   PApredBARD_top2  PApredBARD_top3  \\\n",
              "0              NaN              NaN   \n",
              "1              NaN              NaN   \n",
              "\n",
              "                                       APipc_GPTpred  \\\n",
              "0  G16H 30/20, G06Q 50/24, A61B 5/00, G06F 19/00,...   \n",
              "1  G06F 17/27, G06F 17/28, G06F 17/30, G06F 17/50...   \n",
              "\n",
              "                                      APipc_BARDpred  \\\n",
              "0  ipc1: G06F19/00, ipc2: G06N3/08, ipc3: G16H50/...   \n",
              "1  \\nipc1: G06N3/05, ipc2: G10L15/00, ipc3: H04L2...   \n",
              "\n",
              "                              APipc_abstract_GPTpred  \\\n",
              "0  G06F17/305, G16H30/20, A61B5/1503, G06N3/00, G...   \n",
              "1  G06F17/27, G06N3/04, G06F17/305, G06Q10/08, G0...   \n",
              "\n",
              "                             APipc_abstract_BARDpred  \n",
              "0  G06F17/30, G06F7/07, G16H50/20, G16H50/50, G06...  \n",
              "1  G10L15/00, G10L15/02, G10L25/00, G10L25/04, G0...  \n",
              "\n",
              "[2 rows x 21 columns]"
            ],
            "text/html": [
              "\n",
              "  <div id=\"df-c67dd697-342b-4be9-814c-e24994e1cc82\" class=\"colab-df-container\">\n",
              "    <div>\n",
              "<style scoped>\n",
              "    .dataframe tbody tr th:only-of-type {\n",
              "        vertical-align: middle;\n",
              "    }\n",
              "\n",
              "    .dataframe tbody tr th {\n",
              "        vertical-align: top;\n",
              "    }\n",
              "\n",
              "    .dataframe thead th {\n",
              "        text-align: right;\n",
              "    }\n",
              "</style>\n",
              "<table border=\"1\" class=\"dataframe\">\n",
              "  <thead>\n",
              "    <tr style=\"text-align: right;\">\n",
              "      <th></th>\n",
              "      <th>APnum</th>\n",
              "      <th>PAnum</th>\n",
              "      <th>APclaim</th>\n",
              "      <th>PAclaim</th>\n",
              "      <th>APabstract</th>\n",
              "      <th>PAabstract</th>\n",
              "      <th>APipc</th>\n",
              "      <th>PAipc</th>\n",
              "      <th>PAparagraphs</th>\n",
              "      <th>PApragraphs_Json</th>\n",
              "      <th>...</th>\n",
              "      <th>PApredGPT_top1</th>\n",
              "      <th>PApredGPT_top2</th>\n",
              "      <th>PApredGPT_top3</th>\n",
              "      <th>PApredBARD_top1</th>\n",
              "      <th>PApredBARD_top2</th>\n",
              "      <th>PApredBARD_top3</th>\n",
              "      <th>APipc_GPTpred</th>\n",
              "      <th>APipc_BARDpred</th>\n",
              "      <th>APipc_abstract_GPTpred</th>\n",
              "      <th>APipc_abstract_BARDpred</th>\n",
              "    </tr>\n",
              "  </thead>\n",
              "  <tbody>\n",
              "    <tr>\n",
              "      <th>0</th>\n",
              "      <td>EP4300511</td>\n",
              "      <td>US20140019162A1</td>\n",
              "      <td>Text classification method to aid on clinical ...</td>\n",
              "      <td>An automated triage system, comprising:\\na pat...</td>\n",
              "      <td>The present application describes an automatic...</td>\n",
              "      <td>An automated triage system may include a patie...</td>\n",
              "      <td>G16H50/20, G16H10/60, G16H40/20, G06F40/10, G0...</td>\n",
              "      <td>G06F 9/00, G06O 50/24,</td>\n",
              "      <td>[0057]\\nFIGS. 3A-3B illustrate a more detailed...</td>\n",
              "      <td>NaN</td>\n",
              "      <td>...</td>\n",
              "      <td>NaN</td>\n",
              "      <td>NaN</td>\n",
              "      <td>NaN</td>\n",
              "      <td>NaN</td>\n",
              "      <td>NaN</td>\n",
              "      <td>NaN</td>\n",
              "      <td>G16H 30/20, G06Q 50/24, A61B 5/00, G06F 19/00,...</td>\n",
              "      <td>ipc1: G06F19/00, ipc2: G06N3/08, ipc3: G16H50/...</td>\n",
              "      <td>G06F17/305, G16H30/20, A61B5/1503, G06N3/00, G...</td>\n",
              "      <td>G06F17/30, G06F7/07, G16H50/20, G16H50/50, G06...</td>\n",
              "    </tr>\n",
              "    <tr>\n",
              "      <th>1</th>\n",
              "      <td>EP4273738</td>\n",
              "      <td>US20080091405A1</td>\n",
              "      <td>A semantic representation generation method of...</td>\n",
              "      <td>A method of analyzing a sentence in a source l...</td>\n",
              "      <td>In a semantic representation generation method...</td>\n",
              "      <td>A method and computer system for analyzing sen...</td>\n",
              "      <td>\\tG06F40/30, // G06F40/211, G06F40/268, G06F40...</td>\n",
              "      <td>G06F 7/28</td>\n",
              "      <td>\\n[0004]\\nThe acquired ability to understand...</td>\n",
              "      <td>NaN</td>\n",
              "      <td>...</td>\n",
              "      <td>NaN</td>\n",
              "      <td>NaN</td>\n",
              "      <td>NaN</td>\n",
              "      <td>NaN</td>\n",
              "      <td>NaN</td>\n",
              "      <td>NaN</td>\n",
              "      <td>G06F 17/27, G06F 17/28, G06F 17/30, G06F 17/50...</td>\n",
              "      <td>\\nipc1: G06N3/05, ipc2: G10L15/00, ipc3: H04L2...</td>\n",
              "      <td>G06F17/27, G06N3/04, G06F17/305, G06Q10/08, G0...</td>\n",
              "      <td>G10L15/00, G10L15/02, G10L25/00, G10L25/04, G0...</td>\n",
              "    </tr>\n",
              "  </tbody>\n",
              "</table>\n",
              "<p>2 rows × 21 columns</p>\n",
              "</div>\n",
              "    <div class=\"colab-df-buttons\">\n",
              "\n",
              "  <div class=\"colab-df-container\">\n",
              "    <button class=\"colab-df-convert\" onclick=\"convertToInteractive('df-c67dd697-342b-4be9-814c-e24994e1cc82')\"\n",
              "            title=\"Convert this dataframe to an interactive table.\"\n",
              "            style=\"display:none;\">\n",
              "\n",
              "  <svg xmlns=\"http://www.w3.org/2000/svg\" height=\"24px\" viewBox=\"0 -960 960 960\">\n",
              "    <path d=\"M120-120v-720h720v720H120Zm60-500h600v-160H180v160Zm220 220h160v-160H400v160Zm0 220h160v-160H400v160ZM180-400h160v-160H180v160Zm440 0h160v-160H620v160ZM180-180h160v-160H180v160Zm440 0h160v-160H620v160Z\"/>\n",
              "  </svg>\n",
              "    </button>\n",
              "\n",
              "  <style>\n",
              "    .colab-df-container {\n",
              "      display:flex;\n",
              "      gap: 12px;\n",
              "    }\n",
              "\n",
              "    .colab-df-convert {\n",
              "      background-color: #E8F0FE;\n",
              "      border: none;\n",
              "      border-radius: 50%;\n",
              "      cursor: pointer;\n",
              "      display: none;\n",
              "      fill: #1967D2;\n",
              "      height: 32px;\n",
              "      padding: 0 0 0 0;\n",
              "      width: 32px;\n",
              "    }\n",
              "\n",
              "    .colab-df-convert:hover {\n",
              "      background-color: #E2EBFA;\n",
              "      box-shadow: 0px 1px 2px rgba(60, 64, 67, 0.3), 0px 1px 3px 1px rgba(60, 64, 67, 0.15);\n",
              "      fill: #174EA6;\n",
              "    }\n",
              "\n",
              "    .colab-df-buttons div {\n",
              "      margin-bottom: 4px;\n",
              "    }\n",
              "\n",
              "    [theme=dark] .colab-df-convert {\n",
              "      background-color: #3B4455;\n",
              "      fill: #D2E3FC;\n",
              "    }\n",
              "\n",
              "    [theme=dark] .colab-df-convert:hover {\n",
              "      background-color: #434B5C;\n",
              "      box-shadow: 0px 1px 3px 1px rgba(0, 0, 0, 0.15);\n",
              "      filter: drop-shadow(0px 1px 2px rgba(0, 0, 0, 0.3));\n",
              "      fill: #FFFFFF;\n",
              "    }\n",
              "  </style>\n",
              "\n",
              "    <script>\n",
              "      const buttonEl =\n",
              "        document.querySelector('#df-c67dd697-342b-4be9-814c-e24994e1cc82 button.colab-df-convert');\n",
              "      buttonEl.style.display =\n",
              "        google.colab.kernel.accessAllowed ? 'block' : 'none';\n",
              "\n",
              "      async function convertToInteractive(key) {\n",
              "        const element = document.querySelector('#df-c67dd697-342b-4be9-814c-e24994e1cc82');\n",
              "        const dataTable =\n",
              "          await google.colab.kernel.invokeFunction('convertToInteractive',\n",
              "                                                    [key], {});\n",
              "        if (!dataTable) return;\n",
              "\n",
              "        const docLinkHtml = 'Like what you see? Visit the ' +\n",
              "          '<a target=\"_blank\" href=https://colab.research.google.com/notebooks/data_table.ipynb>data table notebook</a>'\n",
              "          + ' to learn more about interactive tables.';\n",
              "        element.innerHTML = '';\n",
              "        dataTable['output_type'] = 'display_data';\n",
              "        await google.colab.output.renderOutput(dataTable, element);\n",
              "        const docLink = document.createElement('div');\n",
              "        docLink.innerHTML = docLinkHtml;\n",
              "        element.appendChild(docLink);\n",
              "      }\n",
              "    </script>\n",
              "  </div>\n",
              "\n",
              "\n",
              "<div id=\"df-84d121b2-be21-4824-be16-7058c4d83210\">\n",
              "  <button class=\"colab-df-quickchart\" onclick=\"quickchart('df-84d121b2-be21-4824-be16-7058c4d83210')\"\n",
              "            title=\"Suggest charts\"\n",
              "            style=\"display:none;\">\n",
              "\n",
              "<svg xmlns=\"http://www.w3.org/2000/svg\" height=\"24px\"viewBox=\"0 0 24 24\"\n",
              "     width=\"24px\">\n",
              "    <g>\n",
              "        <path d=\"M19 3H5c-1.1 0-2 .9-2 2v14c0 1.1.9 2 2 2h14c1.1 0 2-.9 2-2V5c0-1.1-.9-2-2-2zM9 17H7v-7h2v7zm4 0h-2V7h2v10zm4 0h-2v-4h2v4z\"/>\n",
              "    </g>\n",
              "</svg>\n",
              "  </button>\n",
              "\n",
              "<style>\n",
              "  .colab-df-quickchart {\n",
              "      --bg-color: #E8F0FE;\n",
              "      --fill-color: #1967D2;\n",
              "      --hover-bg-color: #E2EBFA;\n",
              "      --hover-fill-color: #174EA6;\n",
              "      --disabled-fill-color: #AAA;\n",
              "      --disabled-bg-color: #DDD;\n",
              "  }\n",
              "\n",
              "  [theme=dark] .colab-df-quickchart {\n",
              "      --bg-color: #3B4455;\n",
              "      --fill-color: #D2E3FC;\n",
              "      --hover-bg-color: #434B5C;\n",
              "      --hover-fill-color: #FFFFFF;\n",
              "      --disabled-bg-color: #3B4455;\n",
              "      --disabled-fill-color: #666;\n",
              "  }\n",
              "\n",
              "  .colab-df-quickchart {\n",
              "    background-color: var(--bg-color);\n",
              "    border: none;\n",
              "    border-radius: 50%;\n",
              "    cursor: pointer;\n",
              "    display: none;\n",
              "    fill: var(--fill-color);\n",
              "    height: 32px;\n",
              "    padding: 0;\n",
              "    width: 32px;\n",
              "  }\n",
              "\n",
              "  .colab-df-quickchart:hover {\n",
              "    background-color: var(--hover-bg-color);\n",
              "    box-shadow: 0 1px 2px rgba(60, 64, 67, 0.3), 0 1px 3px 1px rgba(60, 64, 67, 0.15);\n",
              "    fill: var(--button-hover-fill-color);\n",
              "  }\n",
              "\n",
              "  .colab-df-quickchart-complete:disabled,\n",
              "  .colab-df-quickchart-complete:disabled:hover {\n",
              "    background-color: var(--disabled-bg-color);\n",
              "    fill: var(--disabled-fill-color);\n",
              "    box-shadow: none;\n",
              "  }\n",
              "\n",
              "  .colab-df-spinner {\n",
              "    border: 2px solid var(--fill-color);\n",
              "    border-color: transparent;\n",
              "    border-bottom-color: var(--fill-color);\n",
              "    animation:\n",
              "      spin 1s steps(1) infinite;\n",
              "  }\n",
              "\n",
              "  @keyframes spin {\n",
              "    0% {\n",
              "      border-color: transparent;\n",
              "      border-bottom-color: var(--fill-color);\n",
              "      border-left-color: var(--fill-color);\n",
              "    }\n",
              "    20% {\n",
              "      border-color: transparent;\n",
              "      border-left-color: var(--fill-color);\n",
              "      border-top-color: var(--fill-color);\n",
              "    }\n",
              "    30% {\n",
              "      border-color: transparent;\n",
              "      border-left-color: var(--fill-color);\n",
              "      border-top-color: var(--fill-color);\n",
              "      border-right-color: var(--fill-color);\n",
              "    }\n",
              "    40% {\n",
              "      border-color: transparent;\n",
              "      border-right-color: var(--fill-color);\n",
              "      border-top-color: var(--fill-color);\n",
              "    }\n",
              "    60% {\n",
              "      border-color: transparent;\n",
              "      border-right-color: var(--fill-color);\n",
              "    }\n",
              "    80% {\n",
              "      border-color: transparent;\n",
              "      border-right-color: var(--fill-color);\n",
              "      border-bottom-color: var(--fill-color);\n",
              "    }\n",
              "    90% {\n",
              "      border-color: transparent;\n",
              "      border-bottom-color: var(--fill-color);\n",
              "    }\n",
              "  }\n",
              "</style>\n",
              "\n",
              "  <script>\n",
              "    async function quickchart(key) {\n",
              "      const quickchartButtonEl =\n",
              "        document.querySelector('#' + key + ' button');\n",
              "      quickchartButtonEl.disabled = true;  // To prevent multiple clicks.\n",
              "      quickchartButtonEl.classList.add('colab-df-spinner');\n",
              "      try {\n",
              "        const charts = await google.colab.kernel.invokeFunction(\n",
              "            'suggestCharts', [key], {});\n",
              "      } catch (error) {\n",
              "        console.error('Error during call to suggestCharts:', error);\n",
              "      }\n",
              "      quickchartButtonEl.classList.remove('colab-df-spinner');\n",
              "      quickchartButtonEl.classList.add('colab-df-quickchart-complete');\n",
              "    }\n",
              "    (() => {\n",
              "      let quickchartButtonEl =\n",
              "        document.querySelector('#df-84d121b2-be21-4824-be16-7058c4d83210 button');\n",
              "      quickchartButtonEl.style.display =\n",
              "        google.colab.kernel.accessAllowed ? 'block' : 'none';\n",
              "    })();\n",
              "  </script>\n",
              "</div>\n",
              "    </div>\n",
              "  </div>\n"
            ],
            "application/vnd.google.colaboratory.intrinsic+json": {
              "type": "dataframe",
              "variable_name": "df"
            }
          },
          "metadata": {},
          "execution_count": 7
        }
      ]
    },
    {
      "cell_type": "markdown",
      "source": [
        "### method to convert pararaphs to json"
      ],
      "metadata": {
        "id": "Lio_P3DDgU_b"
      }
    },
    {
      "cell_type": "code",
      "source": [
        "import re\n",
        "import json\n",
        "import pandas as pd\n",
        "\n",
        "def create_json_dataset(text):\n",
        "    samples = re.split(r'\\[(\\d{4})\\]', text)[1:]\n",
        "    samples = [sample.strip() for sample in samples if sample.strip()]\n",
        "\n",
        "    dataset = {\"sentences\": []}\n",
        "    for i in range(0, len(samples), 2):\n",
        "        sentence_id = samples[i]\n",
        "        sentence_content = samples[i + 1]\n",
        "        dataset[\"sentences\"].append({\"id\": sentence_id, \"content\": sentence_content})\n",
        "\n",
        "    return json.dumps(dataset, indent=2)\n"
      ],
      "metadata": {
        "id": "Xj-Wa1lKgS9_"
      },
      "execution_count": null,
      "outputs": []
    },
    {
      "cell_type": "code",
      "source": [
        "# Read xl file file\n",
        "csv_file_path = './Copy of ClaimCiteRetrieval_ESR_based.xlsx'\n",
        "df = pd.read_excel(csv_file_path)\n",
        "\n",
        "# Process and update each row\n",
        "for index, row in df.iterrows():\n",
        "    text_content = row['PAparagraphs']\n",
        "    json_dataset = create_json_dataset(text_content)\n",
        "    df.at[index, 'PApragraphs_Json'] = json_dataset\n",
        "\n",
        "# Save updated DataFrame to CSV\n",
        "df.to_excel(csv_file_path, index=False)"
      ],
      "metadata": {
        "id": "QVqYpmmOf9Iw"
      },
      "execution_count": null,
      "outputs": []
    },
    {
      "cell_type": "code",
      "source": [
        "df.head(2)"
      ],
      "metadata": {
        "colab": {
          "base_uri": "https://localhost:8080/",
          "height": 335
        },
        "id": "3OcLWjtrhJSq",
        "outputId": "397d3d04-cf25-47a8-ed44-642047692a48"
      },
      "execution_count": null,
      "outputs": [
        {
          "output_type": "execute_result",
          "data": {
            "text/plain": [
              "       APnum            PAnum  \\\n",
              "0  EP4300511  US20140019162A1   \n",
              "1  EP4273738  US20080091405A1   \n",
              "\n",
              "                                             APclaim  \\\n",
              "0  Text classification method to aid on clinical ...   \n",
              "1  A semantic representation generation method of...   \n",
              "\n",
              "                                             PAclaim  \\\n",
              "0  An automated triage system, comprising:\\na pat...   \n",
              "1  A method of analyzing a sentence in a source l...   \n",
              "\n",
              "                                          APabstract  \\\n",
              "0  The present application describes an automatic...   \n",
              "1  In a semantic representation generation method...   \n",
              "\n",
              "                                          PAabstract  \\\n",
              "0  An automated triage system may include a patie...   \n",
              "1  A method and computer system for analyzing sen...   \n",
              "\n",
              "                                               APipc                    PAipc  \\\n",
              "0  G16H50/20, G16H10/60, G16H40/20, G06F40/10, G0...  G06F 9/00, G06O 50/24,    \n",
              "1  \\tG06F40/30, // G06F40/211, G06F40/268, G06F40...                G06F 7/28   \n",
              "\n",
              "                                        PAparagraphs  \\\n",
              "0  [0057]\\nFIGS. 3A-3B illustrate a more detailed...   \n",
              "1    \\n[0004]\\nThe acquired ability to understand...   \n",
              "\n",
              "                                    PApragraphs_Json  ... PApredGPT_top1  \\\n",
              "0  {\\n  \"sentences\": [\\n    {\\n      \"id\": \"0057\"...  ...            NaN   \n",
              "1  {\\n  \"sentences\": [\\n    {\\n      \"id\": \"0004\"...  ...            NaN   \n",
              "\n",
              "   PApredGPT_top2  PApredGPT_top3  PApredBARD_top1  PApredBARD_top2  \\\n",
              "0             NaN             NaN              NaN              NaN   \n",
              "1             NaN             NaN              NaN              NaN   \n",
              "\n",
              "   PApredBARD_top3                                      APipc_GPTpred  \\\n",
              "0              NaN  G16H 30/20, G06Q 50/24, A61B 5/00, G06F 19/00,...   \n",
              "1              NaN  G06F 17/27, G06F 17/28, G06F 17/30, G06F 17/50...   \n",
              "\n",
              "                                      APipc_BARDpred  \\\n",
              "0  ipc1: G06F19/00, ipc2: G06N3/08, ipc3: G16H50/...   \n",
              "1  \\nipc1: G06N3/05, ipc2: G10L15/00, ipc3: H04L2...   \n",
              "\n",
              "                              APipc_abstract_GPTpred  \\\n",
              "0  G06F17/305, G16H30/20, A61B5/1503, G06N3/00, G...   \n",
              "1  G06F17/27, G06N3/04, G06F17/305, G06Q10/08, G0...   \n",
              "\n",
              "                             APipc_abstract_BARDpred  \n",
              "0  G06F17/30, G06F7/07, G16H50/20, G16H50/50, G06...  \n",
              "1  G10L15/00, G10L15/02, G10L25/00, G10L25/04, G0...  \n",
              "\n",
              "[2 rows x 21 columns]"
            ],
            "text/html": [
              "\n",
              "  <div id=\"df-fa996eeb-cd55-4dd3-b1a2-86efa80c0c95\" class=\"colab-df-container\">\n",
              "    <div>\n",
              "<style scoped>\n",
              "    .dataframe tbody tr th:only-of-type {\n",
              "        vertical-align: middle;\n",
              "    }\n",
              "\n",
              "    .dataframe tbody tr th {\n",
              "        vertical-align: top;\n",
              "    }\n",
              "\n",
              "    .dataframe thead th {\n",
              "        text-align: right;\n",
              "    }\n",
              "</style>\n",
              "<table border=\"1\" class=\"dataframe\">\n",
              "  <thead>\n",
              "    <tr style=\"text-align: right;\">\n",
              "      <th></th>\n",
              "      <th>APnum</th>\n",
              "      <th>PAnum</th>\n",
              "      <th>APclaim</th>\n",
              "      <th>PAclaim</th>\n",
              "      <th>APabstract</th>\n",
              "      <th>PAabstract</th>\n",
              "      <th>APipc</th>\n",
              "      <th>PAipc</th>\n",
              "      <th>PAparagraphs</th>\n",
              "      <th>PApragraphs_Json</th>\n",
              "      <th>...</th>\n",
              "      <th>PApredGPT_top1</th>\n",
              "      <th>PApredGPT_top2</th>\n",
              "      <th>PApredGPT_top3</th>\n",
              "      <th>PApredBARD_top1</th>\n",
              "      <th>PApredBARD_top2</th>\n",
              "      <th>PApredBARD_top3</th>\n",
              "      <th>APipc_GPTpred</th>\n",
              "      <th>APipc_BARDpred</th>\n",
              "      <th>APipc_abstract_GPTpred</th>\n",
              "      <th>APipc_abstract_BARDpred</th>\n",
              "    </tr>\n",
              "  </thead>\n",
              "  <tbody>\n",
              "    <tr>\n",
              "      <th>0</th>\n",
              "      <td>EP4300511</td>\n",
              "      <td>US20140019162A1</td>\n",
              "      <td>Text classification method to aid on clinical ...</td>\n",
              "      <td>An automated triage system, comprising:\\na pat...</td>\n",
              "      <td>The present application describes an automatic...</td>\n",
              "      <td>An automated triage system may include a patie...</td>\n",
              "      <td>G16H50/20, G16H10/60, G16H40/20, G06F40/10, G0...</td>\n",
              "      <td>G06F 9/00, G06O 50/24,</td>\n",
              "      <td>[0057]\\nFIGS. 3A-3B illustrate a more detailed...</td>\n",
              "      <td>{\\n  \"sentences\": [\\n    {\\n      \"id\": \"0057\"...</td>\n",
              "      <td>...</td>\n",
              "      <td>NaN</td>\n",
              "      <td>NaN</td>\n",
              "      <td>NaN</td>\n",
              "      <td>NaN</td>\n",
              "      <td>NaN</td>\n",
              "      <td>NaN</td>\n",
              "      <td>G16H 30/20, G06Q 50/24, A61B 5/00, G06F 19/00,...</td>\n",
              "      <td>ipc1: G06F19/00, ipc2: G06N3/08, ipc3: G16H50/...</td>\n",
              "      <td>G06F17/305, G16H30/20, A61B5/1503, G06N3/00, G...</td>\n",
              "      <td>G06F17/30, G06F7/07, G16H50/20, G16H50/50, G06...</td>\n",
              "    </tr>\n",
              "    <tr>\n",
              "      <th>1</th>\n",
              "      <td>EP4273738</td>\n",
              "      <td>US20080091405A1</td>\n",
              "      <td>A semantic representation generation method of...</td>\n",
              "      <td>A method of analyzing a sentence in a source l...</td>\n",
              "      <td>In a semantic representation generation method...</td>\n",
              "      <td>A method and computer system for analyzing sen...</td>\n",
              "      <td>\\tG06F40/30, // G06F40/211, G06F40/268, G06F40...</td>\n",
              "      <td>G06F 7/28</td>\n",
              "      <td>\\n[0004]\\nThe acquired ability to understand...</td>\n",
              "      <td>{\\n  \"sentences\": [\\n    {\\n      \"id\": \"0004\"...</td>\n",
              "      <td>...</td>\n",
              "      <td>NaN</td>\n",
              "      <td>NaN</td>\n",
              "      <td>NaN</td>\n",
              "      <td>NaN</td>\n",
              "      <td>NaN</td>\n",
              "      <td>NaN</td>\n",
              "      <td>G06F 17/27, G06F 17/28, G06F 17/30, G06F 17/50...</td>\n",
              "      <td>\\nipc1: G06N3/05, ipc2: G10L15/00, ipc3: H04L2...</td>\n",
              "      <td>G06F17/27, G06N3/04, G06F17/305, G06Q10/08, G0...</td>\n",
              "      <td>G10L15/00, G10L15/02, G10L25/00, G10L25/04, G0...</td>\n",
              "    </tr>\n",
              "  </tbody>\n",
              "</table>\n",
              "<p>2 rows × 21 columns</p>\n",
              "</div>\n",
              "    <div class=\"colab-df-buttons\">\n",
              "\n",
              "  <div class=\"colab-df-container\">\n",
              "    <button class=\"colab-df-convert\" onclick=\"convertToInteractive('df-fa996eeb-cd55-4dd3-b1a2-86efa80c0c95')\"\n",
              "            title=\"Convert this dataframe to an interactive table.\"\n",
              "            style=\"display:none;\">\n",
              "\n",
              "  <svg xmlns=\"http://www.w3.org/2000/svg\" height=\"24px\" viewBox=\"0 -960 960 960\">\n",
              "    <path d=\"M120-120v-720h720v720H120Zm60-500h600v-160H180v160Zm220 220h160v-160H400v160Zm0 220h160v-160H400v160ZM180-400h160v-160H180v160Zm440 0h160v-160H620v160ZM180-180h160v-160H180v160Zm440 0h160v-160H620v160Z\"/>\n",
              "  </svg>\n",
              "    </button>\n",
              "\n",
              "  <style>\n",
              "    .colab-df-container {\n",
              "      display:flex;\n",
              "      gap: 12px;\n",
              "    }\n",
              "\n",
              "    .colab-df-convert {\n",
              "      background-color: #E8F0FE;\n",
              "      border: none;\n",
              "      border-radius: 50%;\n",
              "      cursor: pointer;\n",
              "      display: none;\n",
              "      fill: #1967D2;\n",
              "      height: 32px;\n",
              "      padding: 0 0 0 0;\n",
              "      width: 32px;\n",
              "    }\n",
              "\n",
              "    .colab-df-convert:hover {\n",
              "      background-color: #E2EBFA;\n",
              "      box-shadow: 0px 1px 2px rgba(60, 64, 67, 0.3), 0px 1px 3px 1px rgba(60, 64, 67, 0.15);\n",
              "      fill: #174EA6;\n",
              "    }\n",
              "\n",
              "    .colab-df-buttons div {\n",
              "      margin-bottom: 4px;\n",
              "    }\n",
              "\n",
              "    [theme=dark] .colab-df-convert {\n",
              "      background-color: #3B4455;\n",
              "      fill: #D2E3FC;\n",
              "    }\n",
              "\n",
              "    [theme=dark] .colab-df-convert:hover {\n",
              "      background-color: #434B5C;\n",
              "      box-shadow: 0px 1px 3px 1px rgba(0, 0, 0, 0.15);\n",
              "      filter: drop-shadow(0px 1px 2px rgba(0, 0, 0, 0.3));\n",
              "      fill: #FFFFFF;\n",
              "    }\n",
              "  </style>\n",
              "\n",
              "    <script>\n",
              "      const buttonEl =\n",
              "        document.querySelector('#df-fa996eeb-cd55-4dd3-b1a2-86efa80c0c95 button.colab-df-convert');\n",
              "      buttonEl.style.display =\n",
              "        google.colab.kernel.accessAllowed ? 'block' : 'none';\n",
              "\n",
              "      async function convertToInteractive(key) {\n",
              "        const element = document.querySelector('#df-fa996eeb-cd55-4dd3-b1a2-86efa80c0c95');\n",
              "        const dataTable =\n",
              "          await google.colab.kernel.invokeFunction('convertToInteractive',\n",
              "                                                    [key], {});\n",
              "        if (!dataTable) return;\n",
              "\n",
              "        const docLinkHtml = 'Like what you see? Visit the ' +\n",
              "          '<a target=\"_blank\" href=https://colab.research.google.com/notebooks/data_table.ipynb>data table notebook</a>'\n",
              "          + ' to learn more about interactive tables.';\n",
              "        element.innerHTML = '';\n",
              "        dataTable['output_type'] = 'display_data';\n",
              "        await google.colab.output.renderOutput(dataTable, element);\n",
              "        const docLink = document.createElement('div');\n",
              "        docLink.innerHTML = docLinkHtml;\n",
              "        element.appendChild(docLink);\n",
              "      }\n",
              "    </script>\n",
              "  </div>\n",
              "\n",
              "\n",
              "<div id=\"df-60940cf9-2986-4a6e-a42b-ac40f449d5b5\">\n",
              "  <button class=\"colab-df-quickchart\" onclick=\"quickchart('df-60940cf9-2986-4a6e-a42b-ac40f449d5b5')\"\n",
              "            title=\"Suggest charts\"\n",
              "            style=\"display:none;\">\n",
              "\n",
              "<svg xmlns=\"http://www.w3.org/2000/svg\" height=\"24px\"viewBox=\"0 0 24 24\"\n",
              "     width=\"24px\">\n",
              "    <g>\n",
              "        <path d=\"M19 3H5c-1.1 0-2 .9-2 2v14c0 1.1.9 2 2 2h14c1.1 0 2-.9 2-2V5c0-1.1-.9-2-2-2zM9 17H7v-7h2v7zm4 0h-2V7h2v10zm4 0h-2v-4h2v4z\"/>\n",
              "    </g>\n",
              "</svg>\n",
              "  </button>\n",
              "\n",
              "<style>\n",
              "  .colab-df-quickchart {\n",
              "      --bg-color: #E8F0FE;\n",
              "      --fill-color: #1967D2;\n",
              "      --hover-bg-color: #E2EBFA;\n",
              "      --hover-fill-color: #174EA6;\n",
              "      --disabled-fill-color: #AAA;\n",
              "      --disabled-bg-color: #DDD;\n",
              "  }\n",
              "\n",
              "  [theme=dark] .colab-df-quickchart {\n",
              "      --bg-color: #3B4455;\n",
              "      --fill-color: #D2E3FC;\n",
              "      --hover-bg-color: #434B5C;\n",
              "      --hover-fill-color: #FFFFFF;\n",
              "      --disabled-bg-color: #3B4455;\n",
              "      --disabled-fill-color: #666;\n",
              "  }\n",
              "\n",
              "  .colab-df-quickchart {\n",
              "    background-color: var(--bg-color);\n",
              "    border: none;\n",
              "    border-radius: 50%;\n",
              "    cursor: pointer;\n",
              "    display: none;\n",
              "    fill: var(--fill-color);\n",
              "    height: 32px;\n",
              "    padding: 0;\n",
              "    width: 32px;\n",
              "  }\n",
              "\n",
              "  .colab-df-quickchart:hover {\n",
              "    background-color: var(--hover-bg-color);\n",
              "    box-shadow: 0 1px 2px rgba(60, 64, 67, 0.3), 0 1px 3px 1px rgba(60, 64, 67, 0.15);\n",
              "    fill: var(--button-hover-fill-color);\n",
              "  }\n",
              "\n",
              "  .colab-df-quickchart-complete:disabled,\n",
              "  .colab-df-quickchart-complete:disabled:hover {\n",
              "    background-color: var(--disabled-bg-color);\n",
              "    fill: var(--disabled-fill-color);\n",
              "    box-shadow: none;\n",
              "  }\n",
              "\n",
              "  .colab-df-spinner {\n",
              "    border: 2px solid var(--fill-color);\n",
              "    border-color: transparent;\n",
              "    border-bottom-color: var(--fill-color);\n",
              "    animation:\n",
              "      spin 1s steps(1) infinite;\n",
              "  }\n",
              "\n",
              "  @keyframes spin {\n",
              "    0% {\n",
              "      border-color: transparent;\n",
              "      border-bottom-color: var(--fill-color);\n",
              "      border-left-color: var(--fill-color);\n",
              "    }\n",
              "    20% {\n",
              "      border-color: transparent;\n",
              "      border-left-color: var(--fill-color);\n",
              "      border-top-color: var(--fill-color);\n",
              "    }\n",
              "    30% {\n",
              "      border-color: transparent;\n",
              "      border-left-color: var(--fill-color);\n",
              "      border-top-color: var(--fill-color);\n",
              "      border-right-color: var(--fill-color);\n",
              "    }\n",
              "    40% {\n",
              "      border-color: transparent;\n",
              "      border-right-color: var(--fill-color);\n",
              "      border-top-color: var(--fill-color);\n",
              "    }\n",
              "    60% {\n",
              "      border-color: transparent;\n",
              "      border-right-color: var(--fill-color);\n",
              "    }\n",
              "    80% {\n",
              "      border-color: transparent;\n",
              "      border-right-color: var(--fill-color);\n",
              "      border-bottom-color: var(--fill-color);\n",
              "    }\n",
              "    90% {\n",
              "      border-color: transparent;\n",
              "      border-bottom-color: var(--fill-color);\n",
              "    }\n",
              "  }\n",
              "</style>\n",
              "\n",
              "  <script>\n",
              "    async function quickchart(key) {\n",
              "      const quickchartButtonEl =\n",
              "        document.querySelector('#' + key + ' button');\n",
              "      quickchartButtonEl.disabled = true;  // To prevent multiple clicks.\n",
              "      quickchartButtonEl.classList.add('colab-df-spinner');\n",
              "      try {\n",
              "        const charts = await google.colab.kernel.invokeFunction(\n",
              "            'suggestCharts', [key], {});\n",
              "      } catch (error) {\n",
              "        console.error('Error during call to suggestCharts:', error);\n",
              "      }\n",
              "      quickchartButtonEl.classList.remove('colab-df-spinner');\n",
              "      quickchartButtonEl.classList.add('colab-df-quickchart-complete');\n",
              "    }\n",
              "    (() => {\n",
              "      let quickchartButtonEl =\n",
              "        document.querySelector('#df-60940cf9-2986-4a6e-a42b-ac40f449d5b5 button');\n",
              "      quickchartButtonEl.style.display =\n",
              "        google.colab.kernel.accessAllowed ? 'block' : 'none';\n",
              "    })();\n",
              "  </script>\n",
              "</div>\n",
              "    </div>\n",
              "  </div>\n"
            ],
            "application/vnd.google.colaboratory.intrinsic+json": {
              "type": "dataframe",
              "variable_name": "df"
            }
          },
          "metadata": {},
          "execution_count": 10
        }
      ]
    },
    {
      "cell_type": "code",
      "source": [
        "df['PApragraphs_Json']"
      ],
      "metadata": {
        "colab": {
          "base_uri": "https://localhost:8080/",
          "height": 87
        },
        "id": "yAW0Fd8-hXb_",
        "outputId": "9a35e896-b85c-4e82-9cf9-26e39b83c41f"
      },
      "execution_count": null,
      "outputs": [
        {
          "output_type": "execute_result",
          "data": {
            "text/plain": [
              "'{\\n  \"sentences\": [\\n    {\\n      \"id\": \"0057\",\\n      \"content\": \"FIGS. 3A-3B illustrate a more detailed block diagram depicting the insight engine server 140. As illustrated in FIGS. 3A-3B, the insight engine server 140 comprises a clinical decision support service module 310, an online nurse advice module 315, and a triage nurse express module 320.\"\\n    },\\n    {\\n      \"id\": \"0058\",\\n      \"content\": \"In an embodiment, the clinical decision support service module 310 (e.g., a data processing engine, a prioritized ranking system, etc.) is configured to facilitate the nurse or practitioner in making recommendations to the patient. The clinical decision support service module 310 may use proven diagnostic protocols (e.g., from a clinical decision rules database) to facilitate the nurse or practitioner in making recommendations to the patient. In some embodiments, the diagnostic protocols used by the clinical decision support service module 310 can be automatically updated (e.g., via the network 120 and an external database, not shown) as the standards and/or protocols are revised by the standards and/or protocols bodies. In addition, the clinical decision support service module 310 may use patient data acquired by the online nurse advice module 315 to facilitate the nurse or practitioner in making recommendations to the patient.\"\\n    },\\n    {\\n      \"id\": \"0059\",\\n      \"content\": \"In some embodiments, the clinical decision support service module 310 is configured to implement triage protocols and provide emergency screening and prioritization (or ranking) of encounters (e.g., patients). The clinical decision support service module 310 can implement a variety of protocols, including the Wolters Kluwer telephone triage protocols and the Schmitt Thompson protocols, among others. The clinical decision support service module 310 can be built on top of the OpenCDS platform. In certain embodiments, the clinical decision support service module 310 accepts input in a data format such as a Continuity of Care Document (CCD) or Virtual Medical Record (VMR). The clinical decision support service module 310 can then use rules to map this data to clinical concepts, which allow for data normalization of both the syntax and semantics, as well as merging from multiple sources. The protocols can be implemented as rules that act upon the clinical concepts. These rules can specify things like triage level, which is used for emergency screening and/or prioritization (or ranking). For example, a patient\\'s symptoms can be mapped to specific clinical concepts, and rules applied to the specific clinical concepts may specify a triage level for that patient. Triage levels of patients can then be compared to perform emergency screening and/or prioritization or ranking of the patients (e.g., the more critical or serious the triage level, the higher the patient will be prioritized or ranked). Emergency screening can tell patients at the end of the interview to seek urgent care or call 911 right away if they have an emergent condition. Prioritization or ranking can separate encounters needing immediate attention from a nurse from those that can wait for a specified time period. The rules can also be used to implement a template response 722 (e.g., an email 722) with personalized health information based on the patient\\'s complaint.\"\\n    },\\n    {\\n      \"id\": \"0060\",\\n      \"content\": \"In an embodiment, the online nurse advice module 315 (e.g., a user interface module) is a web application executed by the insight engine server 140 and accessible by a patient via the one or more triage portals 130 and/or the one or more user devices 150. The online nurse advice module 315 is configured to collect patient data based on an interview of the patient (e.g., based on answers provided by the patient when presented with a series of questions). Such patient data can include a patient\\'s problem list (e.g., a list of symptoms experienced by the patient) and a medication list (e.g., medications currently taken by the patient, taken by the patient in the past, to be taken by the patient in the future, etc.).\"\\n    },\\n    {\\n      \"id\": \"0061\",\\n      \"content\": \"In an embodiment, the triage nurse express module 320 (e.g., a nurse control panel system) is a web application executed by the insight engine server 140 and accessible by a nurse or practitioner via the one or more triage portals 130. The triage nurse express module 320 is configured to reduce the amount of time it takes a nurse or practitioner to review a patient report, which can include at least one recommendation generated by the clinical decision support service module 310. In particular, the triage nurse express module 320 is configured to collect and summarize information nurses need to make a decision. In some embodiments, the triage nurse express module 320 can red flag cases requiring a more urgent follow-up by a nurse or practitioner. Nursing staff, via the one or more triage portals 130, can set criteria specifying deadlines and red flags based on patient indicators and/or history. In certain embodiments, if the specified deadline is approaching and the nurses have still not reviewed the patient report, the triage nurse express module 320 can send an alert to the nurse\\'s mobile device or email reminding the nurse to review the patient report. This can help ensure that all patient reports are reviewed in a timely manner. Additionally, in some embodiments, the functionality of the triage nurse express module 320 can be integrated into a quality management process. For example, when a nurse overturns a recommendation generated by the clinical decision support service module 310, the decision can be automatically recorded in a quality dashboard and trigger a case review process, which are described in greater detail below.\"\\n    },\\n    {\\n      \"id\": \"0092\",\\n      \"content\": \"FIG. 7B illustrates a user interface 710 viewed by a nurse using a triage device, such as the one or more triage devices 130. In certain embodiments, once a patient has completed the survey, the information associated with the patient shows up in a nurse queue according to the patient\\'s priority. In some embodiments, the insight engine server 140 provides the nurse with a succinct summary 712 of the patient\\'s contact information, biographical data, medical history, and/or answers including, but not limited to, affirmations and denials. This thorough list can be important for liability purposes and reduces nurse review time.\"\\n    },\\n    {\\n      \"id\": \"0093\",\\n      \"content\": \"In certain embodiments, the insight engine server 140 also flags possible complications in decision support window 714. As illustrated in FIG. 7B, the report of difficulty breathing is highlighted at the top of the decision support window 714 so that the nurse can see and address the issue immediately.\"\\n    },\\n    {\\n      \"id\": \"0094\",\\n      \"content\": \"FIG. 7C illustrates another user interface 720 viewed by a nurse using a triage device, such as the one or more triage devices 130. In some embodiments, the nurse will typically call the patient, and then reply to the patient with a secure template response 722 (e.g., a secure email 722). Email 722 can be generated by the insight engine server 140 and include instructions, maps, and/or educational content selected for the patient by the nurse or personalized for the patient by the insight engine server 140. For example, if the user reports symptoms consistent with an upper respiratory infection, the user interface 720 and/or the email 722 can automatically display articles about colds and flus to be reviewed by the nurse before being sent to the patient. In certain embodiments, the insight engine server 140 automatically tracks whether the email 722 was read or not, allowing the nurse to follow-up if the patient does not read the email 722. In some embodiments, the email 722 can be a secure email.\"\\n    },\\n    {\\n      \"id\": \"0095\",\\n      \"content\": \"FIG. 7D illustrates another user interface 730 viewed by a nurse using a triage device, such as the one or more triage devices 730. In some embodiments, the data from the patient and/or the nurse is copied to the EMR system 110 with a single click of an input device (e.g., a mouse). In some embodiments, the data is copied as a web or telephone encounter note 732 and stored within the EMR system 110. This can reduce documentation time for the nurse. In certain embodiments, the insight engine sever 140 formats the web or telephone encounter note 732 like a regular EMR note so nurses or practitioners can skim the web or telephone encounter note 732 before the visit and enter the exam room prepared.\"\\n    }\\n  ]\\n}'"
            ],
            "application/vnd.google.colaboratory.intrinsic+json": {
              "type": "string"
            }
          },
          "metadata": {},
          "execution_count": 11
        }
      ]
    },
    {
      "cell_type": "code",
      "source": [
        "# Check if 'PApragraphs_Json' column contains any empty values\n",
        "if df['PApragraphs_Json'].isna().any():\n",
        "    print(\"There are empty values in the 'PApragraphs_Json' column.\")\n",
        "else:\n",
        "    print(\"No empty values in the 'PApragraphs_Json' column.\")"
      ],
      "metadata": {
        "colab": {
          "base_uri": "https://localhost:8080/"
        },
        "id": "EFUihpJihdqA",
        "outputId": "7ed03853-dc87-4f06-9443-0877ae4d3f26"
      },
      "execution_count": null,
      "outputs": [
        {
          "output_type": "stream",
          "name": "stdout",
          "text": [
            "No empty values in the 'PApragraphs_Json' column.\n"
          ]
        }
      ]
    },
    {
      "cell_type": "code",
      "source": [
        "# Count total non-empty values in the 'PApragraphs_Json' column\n",
        "total_values = df['PApragraphs_Json'].count()\n",
        "\n",
        "print(f'Total non-empty values in the \"PApragraphs_Json\" column: {total_values}')\n"
      ],
      "metadata": {
        "colab": {
          "base_uri": "https://localhost:8080/"
        },
        "id": "sC6RXu3Yhz7j",
        "outputId": "85718ea7-fb9b-49a7-9afc-4dd1bbd45c20"
      },
      "execution_count": null,
      "outputs": [
        {
          "output_type": "stream",
          "name": "stdout",
          "text": [
            "Total non-empty values in the \"PApragraphs_Json\" column: 49\n"
          ]
        }
      ]
    },
    {
      "cell_type": "code",
      "source": [
        "from google.colab import files"
      ],
      "metadata": {
        "id": "1ouarjN5iJmP"
      },
      "execution_count": null,
      "outputs": []
    },
    {
      "cell_type": "code",
      "source": [
        "files.download('./Copy of ClaimCiteRetrieval_ESR_based.xlsx')"
      ],
      "metadata": {
        "colab": {
          "base_uri": "https://localhost:8080/",
          "height": 17
        },
        "id": "RmEQd7tSiRJU",
        "outputId": "cacd4c54-5dbe-4eb4-c855-f311af347bb9"
      },
      "execution_count": null,
      "outputs": [
        {
          "output_type": "display_data",
          "data": {
            "text/plain": [
              "<IPython.core.display.Javascript object>"
            ],
            "application/javascript": [
              "\n",
              "    async function download(id, filename, size) {\n",
              "      if (!google.colab.kernel.accessAllowed) {\n",
              "        return;\n",
              "      }\n",
              "      const div = document.createElement('div');\n",
              "      const label = document.createElement('label');\n",
              "      label.textContent = `Downloading \"${filename}\": `;\n",
              "      div.appendChild(label);\n",
              "      const progress = document.createElement('progress');\n",
              "      progress.max = size;\n",
              "      div.appendChild(progress);\n",
              "      document.body.appendChild(div);\n",
              "\n",
              "      const buffers = [];\n",
              "      let downloaded = 0;\n",
              "\n",
              "      const channel = await google.colab.kernel.comms.open(id);\n",
              "      // Send a message to notify the kernel that we're ready.\n",
              "      channel.send({})\n",
              "\n",
              "      for await (const message of channel.messages) {\n",
              "        // Send a message to notify the kernel that we're ready.\n",
              "        channel.send({})\n",
              "        if (message.buffers) {\n",
              "          for (const buffer of message.buffers) {\n",
              "            buffers.push(buffer);\n",
              "            downloaded += buffer.byteLength;\n",
              "            progress.value = downloaded;\n",
              "          }\n",
              "        }\n",
              "      }\n",
              "      const blob = new Blob(buffers, {type: 'application/binary'});\n",
              "      const a = document.createElement('a');\n",
              "      a.href = window.URL.createObjectURL(blob);\n",
              "      a.download = filename;\n",
              "      div.appendChild(a);\n",
              "      a.click();\n",
              "      div.remove();\n",
              "    }\n",
              "  "
            ]
          },
          "metadata": {}
        },
        {
          "output_type": "display_data",
          "data": {
            "text/plain": [
              "<IPython.core.display.Javascript object>"
            ],
            "application/javascript": [
              "download(\"download_793fa207-553d-456f-ae8c-b02073c0fb21\", \"Copy of ClaimCiteRetrieval_ESR_based.xlsx\", 135507)"
            ]
          },
          "metadata": {}
        }
      ]
    },
    {
      "cell_type": "code",
      "source": [],
      "metadata": {
        "id": "RQlTGnnwibXt"
      },
      "execution_count": null,
      "outputs": []
    },
    {
      "cell_type": "markdown",
      "source": [
        "## Task 2: Data cleaning before checking for prediction results of ChatGPT and GoogleBARD"
      ],
      "metadata": {
        "id": "oK3pIqetO8-Y"
      }
    },
    {
      "cell_type": "code",
      "source": [
        "from google.colab import files\n"
      ],
      "metadata": {
        "id": "fEw7kOMxPQig"
      },
      "execution_count": null,
      "outputs": []
    },
    {
      "cell_type": "code",
      "source": [
        "files.upload()"
      ],
      "metadata": {
        "id": "bCCAHYXetnms"
      },
      "execution_count": null,
      "outputs": []
    },
    {
      "cell_type": "code",
      "source": [
        "ls"
      ],
      "metadata": {
        "colab": {
          "base_uri": "https://localhost:8080/"
        },
        "id": "vRCdijOytsXo",
        "outputId": "6ede35db-d5a8-47cf-9d6b-400adcc8784b"
      },
      "execution_count": null,
      "outputs": [
        {
          "output_type": "stream",
          "name": "stdout",
          "text": [
            "\u001b[0m\u001b[01;34msample_data\u001b[0m/  sample-dataset-for-results-analysis-SemTech4stld.xlsx\n"
          ]
        }
      ]
    },
    {
      "cell_type": "code",
      "source": [
        "import pandas as pd\n"
      ],
      "metadata": {
        "id": "ttxwvrSiuSx9"
      },
      "execution_count": null,
      "outputs": []
    },
    {
      "cell_type": "code",
      "source": [
        "# Read xl file file\n",
        "csv_file_path = './sample-dataset-for-results-analysis-SemTech4stld.xlsx'\n",
        "df = pd.read_excel(csv_file_path)"
      ],
      "metadata": {
        "id": "aQTSyjxktwgq"
      },
      "execution_count": null,
      "outputs": []
    },
    {
      "cell_type": "code",
      "source": [
        "df.head(1)"
      ],
      "metadata": {
        "colab": {
          "base_uri": "https://localhost:8080/",
          "height": 216
        },
        "id": "FVXMKGfXuRdA",
        "outputId": "078ea402-7ce8-4adf-cc2d-b49df5766f5f"
      },
      "execution_count": null,
      "outputs": [
        {
          "output_type": "execute_result",
          "data": {
            "text/plain": [
              "       APnum            PAnum  \\\n",
              "0  EP4300511  US20140019162A1   \n",
              "\n",
              "                                             APclaim  \\\n",
              "0  Text classification method to aid on clinical ...   \n",
              "\n",
              "                                             PAclaim  \\\n",
              "0  An automated triage system, comprising:\\na pat...   \n",
              "\n",
              "                                          APabstract  \\\n",
              "0  The present application describes an automatic...   \n",
              "\n",
              "                                          PAabstract  \\\n",
              "0  An automated triage system may include a patie...   \n",
              "\n",
              "                                               APipc                  PAipc  \\\n",
              "0  G16H50/20, G16H10/60, G16H40/20, G06F40/10, G0...  G06F 9/00, G06O 50/24   \n",
              "\n",
              "                                        PAparagraphs  \\\n",
              "0  [0057]\\nFIGS. 3A-3B illustrate a more detailed...   \n",
              "\n",
              "                                    PApragraphs_Json  ... PApredGPT_top2  \\\n",
              "0  {\\n  \"sentences\": [\\n    {\\n      \"id\": \"0057\"...  ...            NaN   \n",
              "\n",
              "  PApredGPT_top3       PApredBARD_all3  PApredBARD_top1  PApredBARD_top2  \\\n",
              "0            NaN  \\n(0058, 0059, 0092)              NaN              NaN   \n",
              "\n",
              "  PApredBARD_top3                                      APipc_GPTpred  \\\n",
              "0             NaN  G16H 30/20, G06Q 50/24, A61B 5/00, G06F 19/00,...   \n",
              "\n",
              "                                      APipc_BARDpred  \\\n",
              "0  ipc1: G06F19/00, ipc2: G06N3/08, ipc3: G16H50/...   \n",
              "\n",
              "                              APipc_abstract_GPTpred  \\\n",
              "0  G06F17/305, G16H30/20, A61B5/1503, G06N3/00, G...   \n",
              "\n",
              "                             APipc_abstract_BARDpred  \n",
              "0  G06F17/30, G06F7/07, G16H50/20, G16H50/50, G06...  \n",
              "\n",
              "[1 rows x 23 columns]"
            ],
            "text/html": [
              "\n",
              "  <div id=\"df-e069873d-9410-465c-a29a-2c8e0c08fb74\" class=\"colab-df-container\">\n",
              "    <div>\n",
              "<style scoped>\n",
              "    .dataframe tbody tr th:only-of-type {\n",
              "        vertical-align: middle;\n",
              "    }\n",
              "\n",
              "    .dataframe tbody tr th {\n",
              "        vertical-align: top;\n",
              "    }\n",
              "\n",
              "    .dataframe thead th {\n",
              "        text-align: right;\n",
              "    }\n",
              "</style>\n",
              "<table border=\"1\" class=\"dataframe\">\n",
              "  <thead>\n",
              "    <tr style=\"text-align: right;\">\n",
              "      <th></th>\n",
              "      <th>APnum</th>\n",
              "      <th>PAnum</th>\n",
              "      <th>APclaim</th>\n",
              "      <th>PAclaim</th>\n",
              "      <th>APabstract</th>\n",
              "      <th>PAabstract</th>\n",
              "      <th>APipc</th>\n",
              "      <th>PAipc</th>\n",
              "      <th>PAparagraphs</th>\n",
              "      <th>PApragraphs_Json</th>\n",
              "      <th>...</th>\n",
              "      <th>PApredGPT_top2</th>\n",
              "      <th>PApredGPT_top3</th>\n",
              "      <th>PApredBARD_all3</th>\n",
              "      <th>PApredBARD_top1</th>\n",
              "      <th>PApredBARD_top2</th>\n",
              "      <th>PApredBARD_top3</th>\n",
              "      <th>APipc_GPTpred</th>\n",
              "      <th>APipc_BARDpred</th>\n",
              "      <th>APipc_abstract_GPTpred</th>\n",
              "      <th>APipc_abstract_BARDpred</th>\n",
              "    </tr>\n",
              "  </thead>\n",
              "  <tbody>\n",
              "    <tr>\n",
              "      <th>0</th>\n",
              "      <td>EP4300511</td>\n",
              "      <td>US20140019162A1</td>\n",
              "      <td>Text classification method to aid on clinical ...</td>\n",
              "      <td>An automated triage system, comprising:\\na pat...</td>\n",
              "      <td>The present application describes an automatic...</td>\n",
              "      <td>An automated triage system may include a patie...</td>\n",
              "      <td>G16H50/20, G16H10/60, G16H40/20, G06F40/10, G0...</td>\n",
              "      <td>G06F 9/00, G06O 50/24</td>\n",
              "      <td>[0057]\\nFIGS. 3A-3B illustrate a more detailed...</td>\n",
              "      <td>{\\n  \"sentences\": [\\n    {\\n      \"id\": \"0057\"...</td>\n",
              "      <td>...</td>\n",
              "      <td>NaN</td>\n",
              "      <td>NaN</td>\n",
              "      <td>\\n(0058, 0059, 0092)</td>\n",
              "      <td>NaN</td>\n",
              "      <td>NaN</td>\n",
              "      <td>NaN</td>\n",
              "      <td>G16H 30/20, G06Q 50/24, A61B 5/00, G06F 19/00,...</td>\n",
              "      <td>ipc1: G06F19/00, ipc2: G06N3/08, ipc3: G16H50/...</td>\n",
              "      <td>G06F17/305, G16H30/20, A61B5/1503, G06N3/00, G...</td>\n",
              "      <td>G06F17/30, G06F7/07, G16H50/20, G16H50/50, G06...</td>\n",
              "    </tr>\n",
              "  </tbody>\n",
              "</table>\n",
              "<p>1 rows × 23 columns</p>\n",
              "</div>\n",
              "    <div class=\"colab-df-buttons\">\n",
              "\n",
              "  <div class=\"colab-df-container\">\n",
              "    <button class=\"colab-df-convert\" onclick=\"convertToInteractive('df-e069873d-9410-465c-a29a-2c8e0c08fb74')\"\n",
              "            title=\"Convert this dataframe to an interactive table.\"\n",
              "            style=\"display:none;\">\n",
              "\n",
              "  <svg xmlns=\"http://www.w3.org/2000/svg\" height=\"24px\" viewBox=\"0 -960 960 960\">\n",
              "    <path d=\"M120-120v-720h720v720H120Zm60-500h600v-160H180v160Zm220 220h160v-160H400v160Zm0 220h160v-160H400v160ZM180-400h160v-160H180v160Zm440 0h160v-160H620v160ZM180-180h160v-160H180v160Zm440 0h160v-160H620v160Z\"/>\n",
              "  </svg>\n",
              "    </button>\n",
              "\n",
              "  <style>\n",
              "    .colab-df-container {\n",
              "      display:flex;\n",
              "      gap: 12px;\n",
              "    }\n",
              "\n",
              "    .colab-df-convert {\n",
              "      background-color: #E8F0FE;\n",
              "      border: none;\n",
              "      border-radius: 50%;\n",
              "      cursor: pointer;\n",
              "      display: none;\n",
              "      fill: #1967D2;\n",
              "      height: 32px;\n",
              "      padding: 0 0 0 0;\n",
              "      width: 32px;\n",
              "    }\n",
              "\n",
              "    .colab-df-convert:hover {\n",
              "      background-color: #E2EBFA;\n",
              "      box-shadow: 0px 1px 2px rgba(60, 64, 67, 0.3), 0px 1px 3px 1px rgba(60, 64, 67, 0.15);\n",
              "      fill: #174EA6;\n",
              "    }\n",
              "\n",
              "    .colab-df-buttons div {\n",
              "      margin-bottom: 4px;\n",
              "    }\n",
              "\n",
              "    [theme=dark] .colab-df-convert {\n",
              "      background-color: #3B4455;\n",
              "      fill: #D2E3FC;\n",
              "    }\n",
              "\n",
              "    [theme=dark] .colab-df-convert:hover {\n",
              "      background-color: #434B5C;\n",
              "      box-shadow: 0px 1px 3px 1px rgba(0, 0, 0, 0.15);\n",
              "      filter: drop-shadow(0px 1px 2px rgba(0, 0, 0, 0.3));\n",
              "      fill: #FFFFFF;\n",
              "    }\n",
              "  </style>\n",
              "\n",
              "    <script>\n",
              "      const buttonEl =\n",
              "        document.querySelector('#df-e069873d-9410-465c-a29a-2c8e0c08fb74 button.colab-df-convert');\n",
              "      buttonEl.style.display =\n",
              "        google.colab.kernel.accessAllowed ? 'block' : 'none';\n",
              "\n",
              "      async function convertToInteractive(key) {\n",
              "        const element = document.querySelector('#df-e069873d-9410-465c-a29a-2c8e0c08fb74');\n",
              "        const dataTable =\n",
              "          await google.colab.kernel.invokeFunction('convertToInteractive',\n",
              "                                                    [key], {});\n",
              "        if (!dataTable) return;\n",
              "\n",
              "        const docLinkHtml = 'Like what you see? Visit the ' +\n",
              "          '<a target=\"_blank\" href=https://colab.research.google.com/notebooks/data_table.ipynb>data table notebook</a>'\n",
              "          + ' to learn more about interactive tables.';\n",
              "        element.innerHTML = '';\n",
              "        dataTable['output_type'] = 'display_data';\n",
              "        await google.colab.output.renderOutput(dataTable, element);\n",
              "        const docLink = document.createElement('div');\n",
              "        docLink.innerHTML = docLinkHtml;\n",
              "        element.appendChild(docLink);\n",
              "      }\n",
              "    </script>\n",
              "  </div>\n",
              "\n",
              "    </div>\n",
              "  </div>\n"
            ],
            "application/vnd.google.colaboratory.intrinsic+json": {
              "type": "dataframe",
              "variable_name": "df"
            }
          },
          "metadata": {},
          "execution_count": 7
        }
      ]
    },
    {
      "cell_type": "code",
      "source": [
        "print(type(df['APabstract']))"
      ],
      "metadata": {
        "colab": {
          "base_uri": "https://localhost:8080/"
        },
        "id": "abEtfUpyuYYK",
        "outputId": "6c077495-4f19-4c14-8927-e4f9eea38b92"
      },
      "execution_count": null,
      "outputs": [
        {
          "output_type": "stream",
          "name": "stdout",
          "text": [
            "<class 'pandas.core.series.Series'>\n"
          ]
        }
      ]
    },
    {
      "cell_type": "code",
      "source": [
        "# Display the data types of all columns\n",
        "print(df.dtypes)"
      ],
      "metadata": {
        "colab": {
          "base_uri": "https://localhost:8080/"
        },
        "id": "_f93GAzSvHAt",
        "outputId": "0fb0631b-8811-4f41-a38b-303cde77d9d8"
      },
      "execution_count": null,
      "outputs": [
        {
          "output_type": "stream",
          "name": "stdout",
          "text": [
            "APnum                       object\n",
            "PAnum                       object\n",
            "APclaim                     object\n",
            "PAclaim                     object\n",
            "APabstract                  object\n",
            "PAabstract                  object\n",
            " APipc                      object\n",
            "PAipc                       object\n",
            "PAparagraphs                object\n",
            "PApragraphs_Json            object\n",
            "PAcited                     object\n",
            "PApredGPT_all3              object\n",
            "PApredGPT_top1             float64\n",
            "PApredGPT_top2             float64\n",
            "PApredGPT_top3             float64\n",
            "PApredBARD_all3             object\n",
            "PApredBARD_top1            float64\n",
            "PApredBARD_top2            float64\n",
            "PApredBARD_top3            float64\n",
            "APipc_GPTpred               object\n",
            "APipc_BARDpred              object\n",
            "APipc_abstract_GPTpred      object\n",
            "APipc_abstract_BARDpred     object\n",
            "dtype: object\n"
          ]
        }
      ]
    },
    {
      "cell_type": "markdown",
      "source": [
        "#### Length of texts (no. of characters)"
      ],
      "metadata": {
        "id": "L1kxXOqPwKJJ"
      }
    },
    {
      "cell_type": "code",
      "source": [
        "# Assuming df is your DataFrame\n",
        "columns_to_analyze = ['APabstract', 'PAabstract', 'APclaim', 'PAclaim', 'PAparagraphs']\n",
        "\n",
        "# Calculate length for each text in the specified columns\n",
        "lengths = df[columns_to_analyze].apply(lambda x: x.apply(lambda text: len(str(text))))\n",
        "\n",
        "# Display min, max, and mean lengths\n",
        "print(\"Minimum Lengths:\")\n",
        "print(lengths.min())\n",
        "\n",
        "print(\"\\nMaximum Lengths:\")\n",
        "print(lengths.max())\n",
        "\n",
        "print(\"\\nAverage Lengths:\")\n",
        "print(lengths.mean())\n"
      ],
      "metadata": {
        "colab": {
          "base_uri": "https://localhost:8080/"
        },
        "id": "xEeEFnPMvHIC",
        "outputId": "d6f14af1-5949-4f44-d934-c7072238e5fd"
      },
      "execution_count": null,
      "outputs": [
        {
          "output_type": "stream",
          "name": "stdout",
          "text": [
            "Minimum Lengths:\n",
            "APabstract       591\n",
            "PAabstract       730\n",
            "APclaim          471\n",
            "PAclaim          721\n",
            "PAparagraphs    5424\n",
            "dtype: int64\n",
            "\n",
            "Maximum Lengths:\n",
            "APabstract       919\n",
            "PAabstract       908\n",
            "APclaim         2305\n",
            "PAclaim         1769\n",
            "PAparagraphs    8287\n",
            "dtype: int64\n",
            "\n",
            "Average Lengths:\n",
            "APabstract       744.50\n",
            "PAabstract       846.25\n",
            "APclaim         1751.25\n",
            "PAclaim         1073.50\n",
            "PAparagraphs    6798.50\n",
            "dtype: float64\n"
          ]
        }
      ]
    },
    {
      "cell_type": "markdown",
      "source": [
        "#### Length of text (no. of words)"
      ],
      "metadata": {
        "id": "xeGDoMSbwyuJ"
      }
    },
    {
      "cell_type": "code",
      "source": [
        "# Assuming df is your DataFrame\n",
        "columns_to_analyze = ['APabstract', 'PAabstract', 'APclaim', 'PAclaim', 'PAparagraphs']\n",
        "\n",
        "# Calculate number of words for each text in the specified columns\n",
        "word_lengths = df[columns_to_analyze].apply(lambda x: x.apply(lambda text: len(str(text).split())))\n",
        "\n",
        "# Display min, max, and mean word lengths\n",
        "print(\"Minimum Word Lengths:\")\n",
        "print(word_lengths.min())\n",
        "\n",
        "print(\"\\nMaximum Word Lengths:\")\n",
        "print(word_lengths.max())\n",
        "\n",
        "print(\"\\nAverage Word Lengths:\")\n",
        "print(word_lengths.mean())\n"
      ],
      "metadata": {
        "colab": {
          "base_uri": "https://localhost:8080/"
        },
        "id": "Mv19UK9dwIfo",
        "outputId": "5c750cc7-1778-4c7d-dc0f-4bd5bbd60448"
      },
      "execution_count": null,
      "outputs": [
        {
          "output_type": "stream",
          "name": "stdout",
          "text": [
            "Minimum Word Lengths:\n",
            "APabstract       87\n",
            "PAabstract      116\n",
            "APclaim          69\n",
            "PAclaim         121\n",
            "PAparagraphs    796\n",
            "dtype: int64\n",
            "\n",
            "Maximum Word Lengths:\n",
            "APabstract       145\n",
            "PAabstract       134\n",
            "APclaim          337\n",
            "PAclaim          256\n",
            "PAparagraphs    1341\n",
            "dtype: int64\n",
            "\n",
            "Average Word Lengths:\n",
            "APabstract       109.00\n",
            "PAabstract       126.75\n",
            "APclaim          263.00\n",
            "PAclaim          159.50\n",
            "PAparagraphs    1033.50\n",
            "dtype: float64\n"
          ]
        }
      ]
    },
    {
      "cell_type": "code",
      "source": [],
      "metadata": {
        "id": "eY9yLJUL9k8o"
      },
      "execution_count": null,
      "outputs": []
    },
    {
      "cell_type": "code",
      "source": [],
      "metadata": {
        "id": "jGQufiNM9k_A"
      },
      "execution_count": null,
      "outputs": []
    },
    {
      "cell_type": "code",
      "source": [],
      "metadata": {
        "id": "VwZPKHkCD6fn"
      },
      "execution_count": null,
      "outputs": []
    },
    {
      "cell_type": "code",
      "source": [
        "# Trying new method"
      ],
      "metadata": {
        "id": "QO0A8f7XD6kb"
      },
      "execution_count": null,
      "outputs": []
    },
    {
      "cell_type": "markdown",
      "source": [
        "# Acuuracy of GPT and Gemini predictions for patent classification"
      ],
      "metadata": {
        "id": "_R6f3WOQD9mj"
      }
    },
    {
      "cell_type": "code",
      "source": [
        "\n",
        "from google.colab import drive\n",
        "\n",
        "drive.mount('/content/gdrive/', force_remount=True)"
      ],
      "metadata": {
        "id": "E7QNdzigdbt1",
        "colab": {
          "base_uri": "https://localhost:8080/"
        },
        "outputId": "c56322fb-fbba-496d-e20b-8dcfcce2aedf"
      },
      "execution_count": null,
      "outputs": [
        {
          "output_type": "stream",
          "name": "stdout",
          "text": [
            "Mounted at /content/gdrive/\n"
          ]
        }
      ]
    },
    {
      "cell_type": "code",
      "source": [
        "ls"
      ],
      "metadata": {
        "colab": {
          "base_uri": "https://localhost:8080/"
        },
        "id": "gDl46FvAyqPD",
        "outputId": "d4ded7d2-ce16-479e-d166-c10a6833d3de"
      },
      "execution_count": null,
      "outputs": [
        {
          "output_type": "stream",
          "name": "stdout",
          "text": [
            "\u001b[0m\u001b[01;34mgdrive\u001b[0m/  \u001b[01;34msample_data\u001b[0m/\n"
          ]
        }
      ]
    },
    {
      "cell_type": "code",
      "source": [
        "cd gdrive"
      ],
      "metadata": {
        "colab": {
          "base_uri": "https://localhost:8080/"
        },
        "id": "ivXzMWKRzgH4",
        "outputId": "6f00abfc-71b5-4d46-c7e1-42e329ae9a8a"
      },
      "execution_count": null,
      "outputs": [
        {
          "output_type": "stream",
          "name": "stdout",
          "text": [
            "[Errno 2] No such file or directory: 'gdrive/MyDrive'\n",
            "/content/gdrive\n"
          ]
        }
      ]
    },
    {
      "cell_type": "code",
      "source": [
        "ls"
      ],
      "metadata": {
        "colab": {
          "base_uri": "https://localhost:8080/"
        },
        "id": "TXQeL0tMzgKX",
        "outputId": "6191bad9-fdb7-4a14-cfbd-8413745ac471"
      },
      "execution_count": null,
      "outputs": [
        {
          "output_type": "stream",
          "name": "stdout",
          "text": [
            "\u001b[0m\u001b[01;34mMyDrive\u001b[0m/\n"
          ]
        }
      ]
    },
    {
      "cell_type": "code",
      "source": [
        "cd MyDrive/"
      ],
      "metadata": {
        "colab": {
          "base_uri": "https://localhost:8080/"
        },
        "id": "Rp3uLuN_zgPQ",
        "outputId": "96e675dc-9ec2-41e2-aa1c-036c85dc73eb"
      },
      "execution_count": null,
      "outputs": [
        {
          "output_type": "stream",
          "name": "stdout",
          "text": [
            "/content/gdrive/MyDrive\n"
          ]
        }
      ]
    },
    {
      "cell_type": "code",
      "source": [
        "cd SemTech4STLD_related_code_and_data"
      ],
      "metadata": {
        "colab": {
          "base_uri": "https://localhost:8080/"
        },
        "id": "I9R9l6xlzgSf",
        "outputId": "79435ff4-1e40-4d67-fcec-89facc731b33"
      },
      "execution_count": null,
      "outputs": [
        {
          "output_type": "stream",
          "name": "stdout",
          "text": [
            "/content/gdrive/MyDrive/SemTech4STLD_related_code_and_data\n"
          ]
        }
      ]
    },
    {
      "cell_type": "code",
      "source": [
        "ls"
      ],
      "metadata": {
        "id": "GQgyRgfrzve6"
      },
      "execution_count": null,
      "outputs": []
    },
    {
      "cell_type": "code",
      "source": [],
      "metadata": {
        "id": "lelo6b3Fzvh5"
      },
      "execution_count": null,
      "outputs": []
    },
    {
      "cell_type": "code",
      "source": [],
      "metadata": {
        "id": "3UQbWmGzzvk0"
      },
      "execution_count": null,
      "outputs": []
    },
    {
      "cell_type": "code",
      "source": [],
      "metadata": {
        "id": "HT1UqZfszvpU"
      },
      "execution_count": null,
      "outputs": []
    },
    {
      "cell_type": "code",
      "source": [
        "from google.colab import files\n",
        "files.upload()"
      ],
      "metadata": {
        "id": "KkinuW6P7jij"
      },
      "execution_count": null,
      "outputs": []
    },
    {
      "cell_type": "code",
      "source": [
        "ls"
      ],
      "metadata": {
        "colab": {
          "base_uri": "https://localhost:8080/"
        },
        "id": "CUygYRiI7jlb",
        "outputId": "9a6614f1-5783-4180-b1c0-8a7ab735a3e1"
      },
      "execution_count": null,
      "outputs": [
        {
          "output_type": "stream",
          "name": "stdout",
          "text": [
            "sample-dataset-for-results-analysis-SemTech4stld.xlsx\n"
          ]
        }
      ]
    },
    {
      "cell_type": "code",
      "source": [
        "import pandas as pd\n"
      ],
      "metadata": {
        "id": "wJNy8r0l8ahp"
      },
      "execution_count": null,
      "outputs": []
    },
    {
      "cell_type": "code",
      "source": [
        "# Read xl file\n",
        "csv_file_path = './sample-dataset-for-results-analysis-SemTech4stld.xlsx'\n",
        "df = pd.read_excel(csv_file_path)"
      ],
      "metadata": {
        "id": "7_AGfrNb7joo"
      },
      "execution_count": null,
      "outputs": []
    },
    {
      "cell_type": "code",
      "source": [
        "df.head()"
      ],
      "metadata": {
        "colab": {
          "base_uri": "https://localhost:8080/",
          "height": 536
        },
        "id": "BNfe7t6_7jsA",
        "outputId": "b5c41392-2234-4f87-c39f-d96c1a2cae35"
      },
      "execution_count": null,
      "outputs": [
        {
          "output_type": "execute_result",
          "data": {
            "text/plain": [
              "       APnum            PAnum  \\\n",
              "0  EP4300511  US20140019162A1   \n",
              "1  EP4273738  US20080091405A1   \n",
              "2  EP4270403  US20200176098A1   \n",
              "3  EP4270403      US9984772B2   \n",
              "\n",
              "                                             APclaim  \\\n",
              "0  Text classification method to aid on clinical ...   \n",
              "1  A semantic representation generation method of...   \n",
              "2  A computer-implemented method comprising:\\next...   \n",
              "3  A computer-implemented method comprising:\\next...   \n",
              "\n",
              "                                             PAclaim  \\\n",
              "0  An automated triage system, comprising:\\na pat...   \n",
              "1  A method of analyzing a sentence in a source l...   \n",
              "2  A method, comprising:\\ndetermining a first con...   \n",
              "3  A computer-implemented method for predicting a...   \n",
              "\n",
              "                                          APabstract  \\\n",
              "0  The present application describes an automatic...   \n",
              "1  In a semantic representation generation method...   \n",
              "2  A computer-implemented method comprising\\nextr...   \n",
              "3  A computer-implemented method comprising\\nextr...   \n",
              "\n",
              "                                          PAabstract  \\\n",
              "0  An automated triage system may include a patie...   \n",
              "1  A method and computer system for analyzing sen...   \n",
              "2  A method includes the steps of determining a f...   \n",
              "3  A computer-implemented method for predicting a...   \n",
              "\n",
              "                                               APipc  \\\n",
              "0  G16H50/20, G16H10/60, G16H40/20, G06F40/10, G0...   \n",
              "1          G06F40/30, G06F40/211, G06F40/268, G06...   \n",
              "2          G16H10/20, G16H50/20, G16H50/30, G06F1...   \n",
              "3          G16H10/20, G16H50/20, G16H50/30, G06F1...   \n",
              "\n",
              "                                               PAipc  \\\n",
              "0                              G06F 9/00, G06O 50/24   \n",
              "1                                          G06F 7/28   \n",
              "2    G16H 15/00, G06F 40/30,G06F 40/295,\\nG16H 70/00   \n",
              "3  G06F 17/27,G06F 17/30,G06F 19/00,GO6N 3/08,GO6...   \n",
              "\n",
              "                                        PAparagraphs  \\\n",
              "0  [0057]\\nFIGS. 3A-3B illustrate a more detailed...   \n",
              "1    \\n[0004]\\nThe acquired ability to understand...   \n",
              "2  \\n[0001]\\nThis application claims the benefit ...   \n",
              "3  [0003] Traditionally, medical image radiology ...   \n",
              "\n",
              "                                    PApragraphs_Json  ... PApredGPT_top2  \\\n",
              "0  {\\n  \"sentences\": [\\n    {\\n      \"id\": \"0057\"...  ...            NaN   \n",
              "1  {\\n  \"sentences\": [\\n    {\\n      \"id\": \"0004\"...  ...            NaN   \n",
              "2  {\\n  \"sentences\": [\\n    {\\n      \"id\": \"0001\"...  ...            NaN   \n",
              "3  {\\n  \"sentences\": [\\n    {\\n      \"id\": \"0003\"...  ...            NaN   \n",
              "\n",
              "  PApredGPT_top3       PApredBARD_all3  PApredBARD_top1  PApredBARD_top2  \\\n",
              "0            NaN  \\n(0058, 0059, 0092)              NaN              NaN   \n",
              "1            NaN    (0004, 0005, 0015)              NaN              NaN   \n",
              "2            NaN  \\n(0002, 0039, 0040)              NaN              NaN   \n",
              "3            NaN  \\n(0003, 0004, 0005)              NaN              NaN   \n",
              "\n",
              "  PApredBARD_top3                                      APipc_GPTpred  \\\n",
              "0             NaN  G16H 30/20, G06Q 50/24, A61B 5/00, G06F 19/00,...   \n",
              "1             NaN  G06F 17/27, G06F 17/28, G06F 17/30, G06F 17/50...   \n",
              "2             NaN  G06F 17/30, G06N 5/02, G06F 17/27, G06F 19/00,...   \n",
              "3             NaN  G06F 17/30, G06N 5/02, G06F 17/27, G06F 19/00,...   \n",
              "\n",
              "                                      APipc_BARDpred  \\\n",
              "0  ipc1: G06F19/00, ipc2: G06N3/08, ipc3: G16H50/...   \n",
              "1  \\nipc1: G06N3/05, ipc2: G10L15/00, ipc3: H04L2...   \n",
              "2  \\nipc1: G06F17/30, ipc2: G06N3/08, ipc3: G16H5...   \n",
              "3  \\nipc1: G06F17/30, ipc2: G06N3/08, ipc3: G16H5...   \n",
              "\n",
              "                              APipc_abstract_GPTpred  \\\n",
              "0  G06F17/305, G16H30/20, A61B5/1503, G06N3/00, G...   \n",
              "1  G06F17/27, G06N3/04, G06F17/305, G06Q10/08, G0...   \n",
              "2  G06N3/08, G06F17/30, G06F17/27, G06Q50/22, A61...   \n",
              "3  G06N3/08, G06F17/30, G06F17/27, G06Q50/22, A61...   \n",
              "\n",
              "                             APipc_abstract_BARDpred  \n",
              "0  G06F17/30, G06F7/07, G16H50/20, G16H50/50, G06...  \n",
              "1  G10L15/00, G10L15/02, G10L25/00, G10L25/04, G0...  \n",
              "2  G16H50/50, G16H70/60, G06F17/30, G06N3/04, G06...  \n",
              "3  G16H50/50, G16H70/60, G06F17/30, G06N3/04, G06...  \n",
              "\n",
              "[4 rows x 23 columns]"
            ],
            "text/html": [
              "\n",
              "  <div id=\"df-5bfb04f0-8518-47ca-a0cc-ebd75b5e1f5c\" class=\"colab-df-container\">\n",
              "    <div>\n",
              "<style scoped>\n",
              "    .dataframe tbody tr th:only-of-type {\n",
              "        vertical-align: middle;\n",
              "    }\n",
              "\n",
              "    .dataframe tbody tr th {\n",
              "        vertical-align: top;\n",
              "    }\n",
              "\n",
              "    .dataframe thead th {\n",
              "        text-align: right;\n",
              "    }\n",
              "</style>\n",
              "<table border=\"1\" class=\"dataframe\">\n",
              "  <thead>\n",
              "    <tr style=\"text-align: right;\">\n",
              "      <th></th>\n",
              "      <th>APnum</th>\n",
              "      <th>PAnum</th>\n",
              "      <th>APclaim</th>\n",
              "      <th>PAclaim</th>\n",
              "      <th>APabstract</th>\n",
              "      <th>PAabstract</th>\n",
              "      <th>APipc</th>\n",
              "      <th>PAipc</th>\n",
              "      <th>PAparagraphs</th>\n",
              "      <th>PApragraphs_Json</th>\n",
              "      <th>...</th>\n",
              "      <th>PApredGPT_top2</th>\n",
              "      <th>PApredGPT_top3</th>\n",
              "      <th>PApredBARD_all3</th>\n",
              "      <th>PApredBARD_top1</th>\n",
              "      <th>PApredBARD_top2</th>\n",
              "      <th>PApredBARD_top3</th>\n",
              "      <th>APipc_GPTpred</th>\n",
              "      <th>APipc_BARDpred</th>\n",
              "      <th>APipc_abstract_GPTpred</th>\n",
              "      <th>APipc_abstract_BARDpred</th>\n",
              "    </tr>\n",
              "  </thead>\n",
              "  <tbody>\n",
              "    <tr>\n",
              "      <th>0</th>\n",
              "      <td>EP4300511</td>\n",
              "      <td>US20140019162A1</td>\n",
              "      <td>Text classification method to aid on clinical ...</td>\n",
              "      <td>An automated triage system, comprising:\\na pat...</td>\n",
              "      <td>The present application describes an automatic...</td>\n",
              "      <td>An automated triage system may include a patie...</td>\n",
              "      <td>G16H50/20, G16H10/60, G16H40/20, G06F40/10, G0...</td>\n",
              "      <td>G06F 9/00, G06O 50/24</td>\n",
              "      <td>[0057]\\nFIGS. 3A-3B illustrate a more detailed...</td>\n",
              "      <td>{\\n  \"sentences\": [\\n    {\\n      \"id\": \"0057\"...</td>\n",
              "      <td>...</td>\n",
              "      <td>NaN</td>\n",
              "      <td>NaN</td>\n",
              "      <td>\\n(0058, 0059, 0092)</td>\n",
              "      <td>NaN</td>\n",
              "      <td>NaN</td>\n",
              "      <td>NaN</td>\n",
              "      <td>G16H 30/20, G06Q 50/24, A61B 5/00, G06F 19/00,...</td>\n",
              "      <td>ipc1: G06F19/00, ipc2: G06N3/08, ipc3: G16H50/...</td>\n",
              "      <td>G06F17/305, G16H30/20, A61B5/1503, G06N3/00, G...</td>\n",
              "      <td>G06F17/30, G06F7/07, G16H50/20, G16H50/50, G06...</td>\n",
              "    </tr>\n",
              "    <tr>\n",
              "      <th>1</th>\n",
              "      <td>EP4273738</td>\n",
              "      <td>US20080091405A1</td>\n",
              "      <td>A semantic representation generation method of...</td>\n",
              "      <td>A method of analyzing a sentence in a source l...</td>\n",
              "      <td>In a semantic representation generation method...</td>\n",
              "      <td>A method and computer system for analyzing sen...</td>\n",
              "      <td>G06F40/30, G06F40/211, G06F40/268, G06...</td>\n",
              "      <td>G06F 7/28</td>\n",
              "      <td>\\n[0004]\\nThe acquired ability to understand...</td>\n",
              "      <td>{\\n  \"sentences\": [\\n    {\\n      \"id\": \"0004\"...</td>\n",
              "      <td>...</td>\n",
              "      <td>NaN</td>\n",
              "      <td>NaN</td>\n",
              "      <td>(0004, 0005, 0015)</td>\n",
              "      <td>NaN</td>\n",
              "      <td>NaN</td>\n",
              "      <td>NaN</td>\n",
              "      <td>G06F 17/27, G06F 17/28, G06F 17/30, G06F 17/50...</td>\n",
              "      <td>\\nipc1: G06N3/05, ipc2: G10L15/00, ipc3: H04L2...</td>\n",
              "      <td>G06F17/27, G06N3/04, G06F17/305, G06Q10/08, G0...</td>\n",
              "      <td>G10L15/00, G10L15/02, G10L25/00, G10L25/04, G0...</td>\n",
              "    </tr>\n",
              "    <tr>\n",
              "      <th>2</th>\n",
              "      <td>EP4270403</td>\n",
              "      <td>US20200176098A1</td>\n",
              "      <td>A computer-implemented method comprising:\\next...</td>\n",
              "      <td>A method, comprising:\\ndetermining a first con...</td>\n",
              "      <td>A computer-implemented method comprising\\nextr...</td>\n",
              "      <td>A method includes the steps of determining a f...</td>\n",
              "      <td>G16H10/20, G16H50/20, G16H50/30, G06F1...</td>\n",
              "      <td>G16H 15/00, G06F 40/30,G06F 40/295,\\nG16H 70/00</td>\n",
              "      <td>\\n[0001]\\nThis application claims the benefit ...</td>\n",
              "      <td>{\\n  \"sentences\": [\\n    {\\n      \"id\": \"0001\"...</td>\n",
              "      <td>...</td>\n",
              "      <td>NaN</td>\n",
              "      <td>NaN</td>\n",
              "      <td>\\n(0002, 0039, 0040)</td>\n",
              "      <td>NaN</td>\n",
              "      <td>NaN</td>\n",
              "      <td>NaN</td>\n",
              "      <td>G06F 17/30, G06N 5/02, G06F 17/27, G06F 19/00,...</td>\n",
              "      <td>\\nipc1: G06F17/30, ipc2: G06N3/08, ipc3: G16H5...</td>\n",
              "      <td>G06N3/08, G06F17/30, G06F17/27, G06Q50/22, A61...</td>\n",
              "      <td>G16H50/50, G16H70/60, G06F17/30, G06N3/04, G06...</td>\n",
              "    </tr>\n",
              "    <tr>\n",
              "      <th>3</th>\n",
              "      <td>EP4270403</td>\n",
              "      <td>US9984772B2</td>\n",
              "      <td>A computer-implemented method comprising:\\next...</td>\n",
              "      <td>A computer-implemented method for predicting a...</td>\n",
              "      <td>A computer-implemented method comprising\\nextr...</td>\n",
              "      <td>A computer-implemented method for predicting a...</td>\n",
              "      <td>G16H10/20, G16H50/20, G16H50/30, G06F1...</td>\n",
              "      <td>G06F 17/27,G06F 17/30,G06F 19/00,GO6N 3/08,GO6...</td>\n",
              "      <td>[0003] Traditionally, medical image radiology ...</td>\n",
              "      <td>{\\n  \"sentences\": [\\n    {\\n      \"id\": \"0003\"...</td>\n",
              "      <td>...</td>\n",
              "      <td>NaN</td>\n",
              "      <td>NaN</td>\n",
              "      <td>\\n(0003, 0004, 0005)</td>\n",
              "      <td>NaN</td>\n",
              "      <td>NaN</td>\n",
              "      <td>NaN</td>\n",
              "      <td>G06F 17/30, G06N 5/02, G06F 17/27, G06F 19/00,...</td>\n",
              "      <td>\\nipc1: G06F17/30, ipc2: G06N3/08, ipc3: G16H5...</td>\n",
              "      <td>G06N3/08, G06F17/30, G06F17/27, G06Q50/22, A61...</td>\n",
              "      <td>G16H50/50, G16H70/60, G06F17/30, G06N3/04, G06...</td>\n",
              "    </tr>\n",
              "  </tbody>\n",
              "</table>\n",
              "<p>4 rows × 23 columns</p>\n",
              "</div>\n",
              "    <div class=\"colab-df-buttons\">\n",
              "\n",
              "  <div class=\"colab-df-container\">\n",
              "    <button class=\"colab-df-convert\" onclick=\"convertToInteractive('df-5bfb04f0-8518-47ca-a0cc-ebd75b5e1f5c')\"\n",
              "            title=\"Convert this dataframe to an interactive table.\"\n",
              "            style=\"display:none;\">\n",
              "\n",
              "  <svg xmlns=\"http://www.w3.org/2000/svg\" height=\"24px\" viewBox=\"0 -960 960 960\">\n",
              "    <path d=\"M120-120v-720h720v720H120Zm60-500h600v-160H180v160Zm220 220h160v-160H400v160Zm0 220h160v-160H400v160ZM180-400h160v-160H180v160Zm440 0h160v-160H620v160ZM180-180h160v-160H180v160Zm440 0h160v-160H620v160Z\"/>\n",
              "  </svg>\n",
              "    </button>\n",
              "\n",
              "  <style>\n",
              "    .colab-df-container {\n",
              "      display:flex;\n",
              "      gap: 12px;\n",
              "    }\n",
              "\n",
              "    .colab-df-convert {\n",
              "      background-color: #E8F0FE;\n",
              "      border: none;\n",
              "      border-radius: 50%;\n",
              "      cursor: pointer;\n",
              "      display: none;\n",
              "      fill: #1967D2;\n",
              "      height: 32px;\n",
              "      padding: 0 0 0 0;\n",
              "      width: 32px;\n",
              "    }\n",
              "\n",
              "    .colab-df-convert:hover {\n",
              "      background-color: #E2EBFA;\n",
              "      box-shadow: 0px 1px 2px rgba(60, 64, 67, 0.3), 0px 1px 3px 1px rgba(60, 64, 67, 0.15);\n",
              "      fill: #174EA6;\n",
              "    }\n",
              "\n",
              "    .colab-df-buttons div {\n",
              "      margin-bottom: 4px;\n",
              "    }\n",
              "\n",
              "    [theme=dark] .colab-df-convert {\n",
              "      background-color: #3B4455;\n",
              "      fill: #D2E3FC;\n",
              "    }\n",
              "\n",
              "    [theme=dark] .colab-df-convert:hover {\n",
              "      background-color: #434B5C;\n",
              "      box-shadow: 0px 1px 3px 1px rgba(0, 0, 0, 0.15);\n",
              "      filter: drop-shadow(0px 1px 2px rgba(0, 0, 0, 0.3));\n",
              "      fill: #FFFFFF;\n",
              "    }\n",
              "  </style>\n",
              "\n",
              "    <script>\n",
              "      const buttonEl =\n",
              "        document.querySelector('#df-5bfb04f0-8518-47ca-a0cc-ebd75b5e1f5c button.colab-df-convert');\n",
              "      buttonEl.style.display =\n",
              "        google.colab.kernel.accessAllowed ? 'block' : 'none';\n",
              "\n",
              "      async function convertToInteractive(key) {\n",
              "        const element = document.querySelector('#df-5bfb04f0-8518-47ca-a0cc-ebd75b5e1f5c');\n",
              "        const dataTable =\n",
              "          await google.colab.kernel.invokeFunction('convertToInteractive',\n",
              "                                                    [key], {});\n",
              "        if (!dataTable) return;\n",
              "\n",
              "        const docLinkHtml = 'Like what you see? Visit the ' +\n",
              "          '<a target=\"_blank\" href=https://colab.research.google.com/notebooks/data_table.ipynb>data table notebook</a>'\n",
              "          + ' to learn more about interactive tables.';\n",
              "        element.innerHTML = '';\n",
              "        dataTable['output_type'] = 'display_data';\n",
              "        await google.colab.output.renderOutput(dataTable, element);\n",
              "        const docLink = document.createElement('div');\n",
              "        docLink.innerHTML = docLinkHtml;\n",
              "        element.appendChild(docLink);\n",
              "      }\n",
              "    </script>\n",
              "  </div>\n",
              "\n",
              "\n",
              "<div id=\"df-ed3c636f-86eb-4da6-bf15-b7c40df35c28\">\n",
              "  <button class=\"colab-df-quickchart\" onclick=\"quickchart('df-ed3c636f-86eb-4da6-bf15-b7c40df35c28')\"\n",
              "            title=\"Suggest charts\"\n",
              "            style=\"display:none;\">\n",
              "\n",
              "<svg xmlns=\"http://www.w3.org/2000/svg\" height=\"24px\"viewBox=\"0 0 24 24\"\n",
              "     width=\"24px\">\n",
              "    <g>\n",
              "        <path d=\"M19 3H5c-1.1 0-2 .9-2 2v14c0 1.1.9 2 2 2h14c1.1 0 2-.9 2-2V5c0-1.1-.9-2-2-2zM9 17H7v-7h2v7zm4 0h-2V7h2v10zm4 0h-2v-4h2v4z\"/>\n",
              "    </g>\n",
              "</svg>\n",
              "  </button>\n",
              "\n",
              "<style>\n",
              "  .colab-df-quickchart {\n",
              "      --bg-color: #E8F0FE;\n",
              "      --fill-color: #1967D2;\n",
              "      --hover-bg-color: #E2EBFA;\n",
              "      --hover-fill-color: #174EA6;\n",
              "      --disabled-fill-color: #AAA;\n",
              "      --disabled-bg-color: #DDD;\n",
              "  }\n",
              "\n",
              "  [theme=dark] .colab-df-quickchart {\n",
              "      --bg-color: #3B4455;\n",
              "      --fill-color: #D2E3FC;\n",
              "      --hover-bg-color: #434B5C;\n",
              "      --hover-fill-color: #FFFFFF;\n",
              "      --disabled-bg-color: #3B4455;\n",
              "      --disabled-fill-color: #666;\n",
              "  }\n",
              "\n",
              "  .colab-df-quickchart {\n",
              "    background-color: var(--bg-color);\n",
              "    border: none;\n",
              "    border-radius: 50%;\n",
              "    cursor: pointer;\n",
              "    display: none;\n",
              "    fill: var(--fill-color);\n",
              "    height: 32px;\n",
              "    padding: 0;\n",
              "    width: 32px;\n",
              "  }\n",
              "\n",
              "  .colab-df-quickchart:hover {\n",
              "    background-color: var(--hover-bg-color);\n",
              "    box-shadow: 0 1px 2px rgba(60, 64, 67, 0.3), 0 1px 3px 1px rgba(60, 64, 67, 0.15);\n",
              "    fill: var(--button-hover-fill-color);\n",
              "  }\n",
              "\n",
              "  .colab-df-quickchart-complete:disabled,\n",
              "  .colab-df-quickchart-complete:disabled:hover {\n",
              "    background-color: var(--disabled-bg-color);\n",
              "    fill: var(--disabled-fill-color);\n",
              "    box-shadow: none;\n",
              "  }\n",
              "\n",
              "  .colab-df-spinner {\n",
              "    border: 2px solid var(--fill-color);\n",
              "    border-color: transparent;\n",
              "    border-bottom-color: var(--fill-color);\n",
              "    animation:\n",
              "      spin 1s steps(1) infinite;\n",
              "  }\n",
              "\n",
              "  @keyframes spin {\n",
              "    0% {\n",
              "      border-color: transparent;\n",
              "      border-bottom-color: var(--fill-color);\n",
              "      border-left-color: var(--fill-color);\n",
              "    }\n",
              "    20% {\n",
              "      border-color: transparent;\n",
              "      border-left-color: var(--fill-color);\n",
              "      border-top-color: var(--fill-color);\n",
              "    }\n",
              "    30% {\n",
              "      border-color: transparent;\n",
              "      border-left-color: var(--fill-color);\n",
              "      border-top-color: var(--fill-color);\n",
              "      border-right-color: var(--fill-color);\n",
              "    }\n",
              "    40% {\n",
              "      border-color: transparent;\n",
              "      border-right-color: var(--fill-color);\n",
              "      border-top-color: var(--fill-color);\n",
              "    }\n",
              "    60% {\n",
              "      border-color: transparent;\n",
              "      border-right-color: var(--fill-color);\n",
              "    }\n",
              "    80% {\n",
              "      border-color: transparent;\n",
              "      border-right-color: var(--fill-color);\n",
              "      border-bottom-color: var(--fill-color);\n",
              "    }\n",
              "    90% {\n",
              "      border-color: transparent;\n",
              "      border-bottom-color: var(--fill-color);\n",
              "    }\n",
              "  }\n",
              "</style>\n",
              "\n",
              "  <script>\n",
              "    async function quickchart(key) {\n",
              "      const quickchartButtonEl =\n",
              "        document.querySelector('#' + key + ' button');\n",
              "      quickchartButtonEl.disabled = true;  // To prevent multiple clicks.\n",
              "      quickchartButtonEl.classList.add('colab-df-spinner');\n",
              "      try {\n",
              "        const charts = await google.colab.kernel.invokeFunction(\n",
              "            'suggestCharts', [key], {});\n",
              "      } catch (error) {\n",
              "        console.error('Error during call to suggestCharts:', error);\n",
              "      }\n",
              "      quickchartButtonEl.classList.remove('colab-df-spinner');\n",
              "      quickchartButtonEl.classList.add('colab-df-quickchart-complete');\n",
              "    }\n",
              "    (() => {\n",
              "      let quickchartButtonEl =\n",
              "        document.querySelector('#df-ed3c636f-86eb-4da6-bf15-b7c40df35c28 button');\n",
              "      quickchartButtonEl.style.display =\n",
              "        google.colab.kernel.accessAllowed ? 'block' : 'none';\n",
              "    })();\n",
              "  </script>\n",
              "</div>\n",
              "    </div>\n",
              "  </div>\n"
            ],
            "application/vnd.google.colaboratory.intrinsic+json": {
              "type": "dataframe",
              "variable_name": "df"
            }
          },
          "metadata": {},
          "execution_count": 15
        }
      ]
    },
    {
      "cell_type": "code",
      "source": [
        "print(type(df[' APipc'][0]))"
      ],
      "metadata": {
        "colab": {
          "base_uri": "https://localhost:8080/"
        },
        "id": "WIOVeyJl7jvR",
        "outputId": "6d5694f5-3131-4e5b-c213-d965d4a40f34"
      },
      "execution_count": null,
      "outputs": [
        {
          "output_type": "stream",
          "name": "stdout",
          "text": [
            "<class 'str'>\n"
          ]
        }
      ]
    },
    {
      "cell_type": "code",
      "source": [
        "print(type(df[' APipc']))"
      ],
      "metadata": {
        "colab": {
          "base_uri": "https://localhost:8080/"
        },
        "id": "-iLj91-m7jyP",
        "outputId": "8b9f4591-dfee-4ce8-8433-283bf7540fd5"
      },
      "execution_count": null,
      "outputs": [
        {
          "output_type": "stream",
          "name": "stdout",
          "text": [
            "<class 'pandas.core.series.Series'>\n"
          ]
        }
      ]
    },
    {
      "cell_type": "code",
      "source": [
        "print(type(df['APipc_GPTpred']))"
      ],
      "metadata": {
        "colab": {
          "base_uri": "https://localhost:8080/"
        },
        "id": "zJe7oN1o7j4w",
        "outputId": "3a642e2d-4273-4632-ad49-7b0f4a06aef3"
      },
      "execution_count": null,
      "outputs": [
        {
          "output_type": "stream",
          "name": "stdout",
          "text": [
            "<class 'pandas.core.series.Series'>\n"
          ]
        }
      ]
    },
    {
      "cell_type": "code",
      "source": [
        "print(type(df['APipc_GPTpred'][0]))"
      ],
      "metadata": {
        "colab": {
          "base_uri": "https://localhost:8080/"
        },
        "id": "JajCt8cp92Ns",
        "outputId": "09d7f052-33e7-4979-feb4-3e8f5e78db1c"
      },
      "execution_count": null,
      "outputs": [
        {
          "output_type": "stream",
          "name": "stdout",
          "text": [
            "<class 'str'>\n"
          ]
        }
      ]
    },
    {
      "cell_type": "code",
      "source": [
        "print(type(df['APipc_BARDpred']))"
      ],
      "metadata": {
        "colab": {
          "base_uri": "https://localhost:8080/"
        },
        "id": "nZvldmt77j_5",
        "outputId": "043d1935-d72d-4bbd-840c-6ed907fb2a62"
      },
      "execution_count": null,
      "outputs": [
        {
          "output_type": "stream",
          "name": "stdout",
          "text": [
            "<class 'pandas.core.series.Series'>\n"
          ]
        }
      ]
    },
    {
      "cell_type": "code",
      "source": [
        "print(type(df['APipc_BARDpred'][0]))"
      ],
      "metadata": {
        "colab": {
          "base_uri": "https://localhost:8080/"
        },
        "id": "e4IzwYYn95HV",
        "outputId": "b2e92c00-4569-40e5-9808-c8a3ad97f562"
      },
      "execution_count": null,
      "outputs": [
        {
          "output_type": "stream",
          "name": "stdout",
          "text": [
            "<class 'str'>\n"
          ]
        }
      ]
    },
    {
      "cell_type": "code",
      "source": [
        "print(type(df['APipc_abstract_GPTpred']))"
      ],
      "metadata": {
        "colab": {
          "base_uri": "https://localhost:8080/"
        },
        "id": "GV-li2r-9mby",
        "outputId": "8eefdb96-ca48-4c9b-d676-a9f224d86deb"
      },
      "execution_count": null,
      "outputs": [
        {
          "output_type": "stream",
          "name": "stdout",
          "text": [
            "<class 'pandas.core.series.Series'>\n"
          ]
        }
      ]
    },
    {
      "cell_type": "code",
      "source": [
        "print(type(df['APipc_abstract_GPTpred'][0]))"
      ],
      "metadata": {
        "colab": {
          "base_uri": "https://localhost:8080/"
        },
        "id": "e11jovix9-RE",
        "outputId": "04eb2923-c71d-409d-ee8c-a8cc75016f70"
      },
      "execution_count": null,
      "outputs": [
        {
          "output_type": "stream",
          "name": "stdout",
          "text": [
            "<class 'str'>\n"
          ]
        }
      ]
    },
    {
      "cell_type": "code",
      "source": [
        "print(type(df['APipc_abstract_BARDpred']))"
      ],
      "metadata": {
        "colab": {
          "base_uri": "https://localhost:8080/"
        },
        "id": "tqWcDi049meV",
        "outputId": "b2432df0-5edf-4540-d7bb-b62332d69b34"
      },
      "execution_count": null,
      "outputs": [
        {
          "output_type": "stream",
          "name": "stdout",
          "text": [
            "<class 'pandas.core.series.Series'>\n"
          ]
        }
      ]
    },
    {
      "cell_type": "code",
      "source": [
        "print(type(df['APipc_abstract_BARDpred'][0]))"
      ],
      "metadata": {
        "colab": {
          "base_uri": "https://localhost:8080/"
        },
        "id": "K--fVkn5-EIE",
        "outputId": "abaac96d-ca44-4c00-c533-54fb9a952f64"
      },
      "execution_count": null,
      "outputs": [
        {
          "output_type": "stream",
          "name": "stdout",
          "text": [
            "<class 'str'>\n"
          ]
        }
      ]
    },
    {
      "cell_type": "code",
      "source": [
        "df.head()"
      ],
      "metadata": {
        "colab": {
          "base_uri": "https://localhost:8080/",
          "height": 536
        },
        "id": "vg0HCxFoESuf",
        "outputId": "77a88567-9848-484e-eead-3b348c2f4b05"
      },
      "execution_count": null,
      "outputs": [
        {
          "output_type": "execute_result",
          "data": {
            "text/plain": [
              "       APnum            PAnum  \\\n",
              "0  EP4300511  US20140019162A1   \n",
              "1  EP4273738  US20080091405A1   \n",
              "2  EP4270403  US20200176098A1   \n",
              "3  EP4270403      US9984772B2   \n",
              "\n",
              "                                             APclaim  \\\n",
              "0  Text classification method to aid on clinical ...   \n",
              "1  A semantic representation generation method of...   \n",
              "2  A computer-implemented method comprising:\\next...   \n",
              "3  A computer-implemented method comprising:\\next...   \n",
              "\n",
              "                                             PAclaim  \\\n",
              "0  An automated triage system, comprising:\\na pat...   \n",
              "1  A method of analyzing a sentence in a source l...   \n",
              "2  A method, comprising:\\ndetermining a first con...   \n",
              "3  A computer-implemented method for predicting a...   \n",
              "\n",
              "                                          APabstract  \\\n",
              "0  The present application describes an automatic...   \n",
              "1  In a semantic representation generation method...   \n",
              "2  A computer-implemented method comprising\\nextr...   \n",
              "3  A computer-implemented method comprising\\nextr...   \n",
              "\n",
              "                                          PAabstract  \\\n",
              "0  An automated triage system may include a patie...   \n",
              "1  A method and computer system for analyzing sen...   \n",
              "2  A method includes the steps of determining a f...   \n",
              "3  A computer-implemented method for predicting a...   \n",
              "\n",
              "                                               APipc  \\\n",
              "0  G16H50/20, G16H10/60, G16H40/20, G06F40/10, G0...   \n",
              "1          G06F40/30, G06F40/211, G06F40/268, G06...   \n",
              "2          G16H10/20, G16H50/20, G16H50/30, G06F1...   \n",
              "3          G16H10/20, G16H50/20, G16H50/30, G06F1...   \n",
              "\n",
              "                                               PAipc  \\\n",
              "0                              G06F 9/00, G06O 50/24   \n",
              "1                                          G06F 7/28   \n",
              "2    G16H 15/00, G06F 40/30,G06F 40/295,\\nG16H 70/00   \n",
              "3  G06F 17/27,G06F 17/30,G06F 19/00,GO6N 3/08,GO6...   \n",
              "\n",
              "                                        PAparagraphs  \\\n",
              "0  [0057]\\nFIGS. 3A-3B illustrate a more detailed...   \n",
              "1    \\n[0004]\\nThe acquired ability to understand...   \n",
              "2  \\n[0001]\\nThis application claims the benefit ...   \n",
              "3  [0003] Traditionally, medical image radiology ...   \n",
              "\n",
              "                                    PApragraphs_Json  ... PApredGPT_top2  \\\n",
              "0  {\\n  \"sentences\": [\\n    {\\n      \"id\": \"0057\"...  ...            NaN   \n",
              "1  {\\n  \"sentences\": [\\n    {\\n      \"id\": \"0004\"...  ...            NaN   \n",
              "2  {\\n  \"sentences\": [\\n    {\\n      \"id\": \"0001\"...  ...            NaN   \n",
              "3  {\\n  \"sentences\": [\\n    {\\n      \"id\": \"0003\"...  ...            NaN   \n",
              "\n",
              "  PApredGPT_top3       PApredBARD_all3  PApredBARD_top1  PApredBARD_top2  \\\n",
              "0            NaN  \\n(0058, 0059, 0092)              NaN              NaN   \n",
              "1            NaN    (0004, 0005, 0015)              NaN              NaN   \n",
              "2            NaN  \\n(0002, 0039, 0040)              NaN              NaN   \n",
              "3            NaN  \\n(0003, 0004, 0005)              NaN              NaN   \n",
              "\n",
              "  PApredBARD_top3                                      APipc_GPTpred  \\\n",
              "0             NaN  G16H 30/20, G06Q 50/24, A61B 5/00, G06F 19/00,...   \n",
              "1             NaN  G06F 17/27, G06F 17/28, G06F 17/30, G06F 17/50...   \n",
              "2             NaN  G06F 17/30, G06N 5/02, G06F 17/27, G06F 19/00,...   \n",
              "3             NaN  G06F 17/30, G06N 5/02, G06F 17/27, G06F 19/00,...   \n",
              "\n",
              "                                      APipc_BARDpred  \\\n",
              "0  ipc1: G06F19/00, ipc2: G06N3/08, ipc3: G16H50/...   \n",
              "1  \\nipc1: G06N3/05, ipc2: G10L15/00, ipc3: H04L2...   \n",
              "2  \\nipc1: G06F17/30, ipc2: G06N3/08, ipc3: G16H5...   \n",
              "3  \\nipc1: G06F17/30, ipc2: G06N3/08, ipc3: G16H5...   \n",
              "\n",
              "                              APipc_abstract_GPTpred  \\\n",
              "0  G06F17/305, G16H30/20, A61B5/1503, G06N3/00, G...   \n",
              "1  G06F17/27, G06N3/04, G06F17/305, G06Q10/08, G0...   \n",
              "2  G06N3/08, G06F17/30, G06F17/27, G06Q50/22, A61...   \n",
              "3  G06N3/08, G06F17/30, G06F17/27, G06Q50/22, A61...   \n",
              "\n",
              "                             APipc_abstract_BARDpred  \n",
              "0  G06F17/30, G06F7/07, G16H50/20, G16H50/50, G06...  \n",
              "1  G10L15/00, G10L15/02, G10L25/00, G10L25/04, G0...  \n",
              "2  G16H50/50, G16H70/60, G06F17/30, G06N3/04, G06...  \n",
              "3  G16H50/50, G16H70/60, G06F17/30, G06N3/04, G06...  \n",
              "\n",
              "[4 rows x 23 columns]"
            ],
            "text/html": [
              "\n",
              "  <div id=\"df-0d2c9880-580d-4547-a5f1-c4d4737fca5e\" class=\"colab-df-container\">\n",
              "    <div>\n",
              "<style scoped>\n",
              "    .dataframe tbody tr th:only-of-type {\n",
              "        vertical-align: middle;\n",
              "    }\n",
              "\n",
              "    .dataframe tbody tr th {\n",
              "        vertical-align: top;\n",
              "    }\n",
              "\n",
              "    .dataframe thead th {\n",
              "        text-align: right;\n",
              "    }\n",
              "</style>\n",
              "<table border=\"1\" class=\"dataframe\">\n",
              "  <thead>\n",
              "    <tr style=\"text-align: right;\">\n",
              "      <th></th>\n",
              "      <th>APnum</th>\n",
              "      <th>PAnum</th>\n",
              "      <th>APclaim</th>\n",
              "      <th>PAclaim</th>\n",
              "      <th>APabstract</th>\n",
              "      <th>PAabstract</th>\n",
              "      <th>APipc</th>\n",
              "      <th>PAipc</th>\n",
              "      <th>PAparagraphs</th>\n",
              "      <th>PApragraphs_Json</th>\n",
              "      <th>...</th>\n",
              "      <th>PApredGPT_top2</th>\n",
              "      <th>PApredGPT_top3</th>\n",
              "      <th>PApredBARD_all3</th>\n",
              "      <th>PApredBARD_top1</th>\n",
              "      <th>PApredBARD_top2</th>\n",
              "      <th>PApredBARD_top3</th>\n",
              "      <th>APipc_GPTpred</th>\n",
              "      <th>APipc_BARDpred</th>\n",
              "      <th>APipc_abstract_GPTpred</th>\n",
              "      <th>APipc_abstract_BARDpred</th>\n",
              "    </tr>\n",
              "  </thead>\n",
              "  <tbody>\n",
              "    <tr>\n",
              "      <th>0</th>\n",
              "      <td>EP4300511</td>\n",
              "      <td>US20140019162A1</td>\n",
              "      <td>Text classification method to aid on clinical ...</td>\n",
              "      <td>An automated triage system, comprising:\\na pat...</td>\n",
              "      <td>The present application describes an automatic...</td>\n",
              "      <td>An automated triage system may include a patie...</td>\n",
              "      <td>G16H50/20, G16H10/60, G16H40/20, G06F40/10, G0...</td>\n",
              "      <td>G06F 9/00, G06O 50/24</td>\n",
              "      <td>[0057]\\nFIGS. 3A-3B illustrate a more detailed...</td>\n",
              "      <td>{\\n  \"sentences\": [\\n    {\\n      \"id\": \"0057\"...</td>\n",
              "      <td>...</td>\n",
              "      <td>NaN</td>\n",
              "      <td>NaN</td>\n",
              "      <td>\\n(0058, 0059, 0092)</td>\n",
              "      <td>NaN</td>\n",
              "      <td>NaN</td>\n",
              "      <td>NaN</td>\n",
              "      <td>G16H 30/20, G06Q 50/24, A61B 5/00, G06F 19/00,...</td>\n",
              "      <td>ipc1: G06F19/00, ipc2: G06N3/08, ipc3: G16H50/...</td>\n",
              "      <td>G06F17/305, G16H30/20, A61B5/1503, G06N3/00, G...</td>\n",
              "      <td>G06F17/30, G06F7/07, G16H50/20, G16H50/50, G06...</td>\n",
              "    </tr>\n",
              "    <tr>\n",
              "      <th>1</th>\n",
              "      <td>EP4273738</td>\n",
              "      <td>US20080091405A1</td>\n",
              "      <td>A semantic representation generation method of...</td>\n",
              "      <td>A method of analyzing a sentence in a source l...</td>\n",
              "      <td>In a semantic representation generation method...</td>\n",
              "      <td>A method and computer system for analyzing sen...</td>\n",
              "      <td>G06F40/30, G06F40/211, G06F40/268, G06...</td>\n",
              "      <td>G06F 7/28</td>\n",
              "      <td>\\n[0004]\\nThe acquired ability to understand...</td>\n",
              "      <td>{\\n  \"sentences\": [\\n    {\\n      \"id\": \"0004\"...</td>\n",
              "      <td>...</td>\n",
              "      <td>NaN</td>\n",
              "      <td>NaN</td>\n",
              "      <td>(0004, 0005, 0015)</td>\n",
              "      <td>NaN</td>\n",
              "      <td>NaN</td>\n",
              "      <td>NaN</td>\n",
              "      <td>G06F 17/27, G06F 17/28, G06F 17/30, G06F 17/50...</td>\n",
              "      <td>\\nipc1: G06N3/05, ipc2: G10L15/00, ipc3: H04L2...</td>\n",
              "      <td>G06F17/27, G06N3/04, G06F17/305, G06Q10/08, G0...</td>\n",
              "      <td>G10L15/00, G10L15/02, G10L25/00, G10L25/04, G0...</td>\n",
              "    </tr>\n",
              "    <tr>\n",
              "      <th>2</th>\n",
              "      <td>EP4270403</td>\n",
              "      <td>US20200176098A1</td>\n",
              "      <td>A computer-implemented method comprising:\\next...</td>\n",
              "      <td>A method, comprising:\\ndetermining a first con...</td>\n",
              "      <td>A computer-implemented method comprising\\nextr...</td>\n",
              "      <td>A method includes the steps of determining a f...</td>\n",
              "      <td>G16H10/20, G16H50/20, G16H50/30, G06F1...</td>\n",
              "      <td>G16H 15/00, G06F 40/30,G06F 40/295,\\nG16H 70/00</td>\n",
              "      <td>\\n[0001]\\nThis application claims the benefit ...</td>\n",
              "      <td>{\\n  \"sentences\": [\\n    {\\n      \"id\": \"0001\"...</td>\n",
              "      <td>...</td>\n",
              "      <td>NaN</td>\n",
              "      <td>NaN</td>\n",
              "      <td>\\n(0002, 0039, 0040)</td>\n",
              "      <td>NaN</td>\n",
              "      <td>NaN</td>\n",
              "      <td>NaN</td>\n",
              "      <td>G06F 17/30, G06N 5/02, G06F 17/27, G06F 19/00,...</td>\n",
              "      <td>\\nipc1: G06F17/30, ipc2: G06N3/08, ipc3: G16H5...</td>\n",
              "      <td>G06N3/08, G06F17/30, G06F17/27, G06Q50/22, A61...</td>\n",
              "      <td>G16H50/50, G16H70/60, G06F17/30, G06N3/04, G06...</td>\n",
              "    </tr>\n",
              "    <tr>\n",
              "      <th>3</th>\n",
              "      <td>EP4270403</td>\n",
              "      <td>US9984772B2</td>\n",
              "      <td>A computer-implemented method comprising:\\next...</td>\n",
              "      <td>A computer-implemented method for predicting a...</td>\n",
              "      <td>A computer-implemented method comprising\\nextr...</td>\n",
              "      <td>A computer-implemented method for predicting a...</td>\n",
              "      <td>G16H10/20, G16H50/20, G16H50/30, G06F1...</td>\n",
              "      <td>G06F 17/27,G06F 17/30,G06F 19/00,GO6N 3/08,GO6...</td>\n",
              "      <td>[0003] Traditionally, medical image radiology ...</td>\n",
              "      <td>{\\n  \"sentences\": [\\n    {\\n      \"id\": \"0003\"...</td>\n",
              "      <td>...</td>\n",
              "      <td>NaN</td>\n",
              "      <td>NaN</td>\n",
              "      <td>\\n(0003, 0004, 0005)</td>\n",
              "      <td>NaN</td>\n",
              "      <td>NaN</td>\n",
              "      <td>NaN</td>\n",
              "      <td>G06F 17/30, G06N 5/02, G06F 17/27, G06F 19/00,...</td>\n",
              "      <td>\\nipc1: G06F17/30, ipc2: G06N3/08, ipc3: G16H5...</td>\n",
              "      <td>G06N3/08, G06F17/30, G06F17/27, G06Q50/22, A61...</td>\n",
              "      <td>G16H50/50, G16H70/60, G06F17/30, G06N3/04, G06...</td>\n",
              "    </tr>\n",
              "  </tbody>\n",
              "</table>\n",
              "<p>4 rows × 23 columns</p>\n",
              "</div>\n",
              "    <div class=\"colab-df-buttons\">\n",
              "\n",
              "  <div class=\"colab-df-container\">\n",
              "    <button class=\"colab-df-convert\" onclick=\"convertToInteractive('df-0d2c9880-580d-4547-a5f1-c4d4737fca5e')\"\n",
              "            title=\"Convert this dataframe to an interactive table.\"\n",
              "            style=\"display:none;\">\n",
              "\n",
              "  <svg xmlns=\"http://www.w3.org/2000/svg\" height=\"24px\" viewBox=\"0 -960 960 960\">\n",
              "    <path d=\"M120-120v-720h720v720H120Zm60-500h600v-160H180v160Zm220 220h160v-160H400v160Zm0 220h160v-160H400v160ZM180-400h160v-160H180v160Zm440 0h160v-160H620v160ZM180-180h160v-160H180v160Zm440 0h160v-160H620v160Z\"/>\n",
              "  </svg>\n",
              "    </button>\n",
              "\n",
              "  <style>\n",
              "    .colab-df-container {\n",
              "      display:flex;\n",
              "      gap: 12px;\n",
              "    }\n",
              "\n",
              "    .colab-df-convert {\n",
              "      background-color: #E8F0FE;\n",
              "      border: none;\n",
              "      border-radius: 50%;\n",
              "      cursor: pointer;\n",
              "      display: none;\n",
              "      fill: #1967D2;\n",
              "      height: 32px;\n",
              "      padding: 0 0 0 0;\n",
              "      width: 32px;\n",
              "    }\n",
              "\n",
              "    .colab-df-convert:hover {\n",
              "      background-color: #E2EBFA;\n",
              "      box-shadow: 0px 1px 2px rgba(60, 64, 67, 0.3), 0px 1px 3px 1px rgba(60, 64, 67, 0.15);\n",
              "      fill: #174EA6;\n",
              "    }\n",
              "\n",
              "    .colab-df-buttons div {\n",
              "      margin-bottom: 4px;\n",
              "    }\n",
              "\n",
              "    [theme=dark] .colab-df-convert {\n",
              "      background-color: #3B4455;\n",
              "      fill: #D2E3FC;\n",
              "    }\n",
              "\n",
              "    [theme=dark] .colab-df-convert:hover {\n",
              "      background-color: #434B5C;\n",
              "      box-shadow: 0px 1px 3px 1px rgba(0, 0, 0, 0.15);\n",
              "      filter: drop-shadow(0px 1px 2px rgba(0, 0, 0, 0.3));\n",
              "      fill: #FFFFFF;\n",
              "    }\n",
              "  </style>\n",
              "\n",
              "    <script>\n",
              "      const buttonEl =\n",
              "        document.querySelector('#df-0d2c9880-580d-4547-a5f1-c4d4737fca5e button.colab-df-convert');\n",
              "      buttonEl.style.display =\n",
              "        google.colab.kernel.accessAllowed ? 'block' : 'none';\n",
              "\n",
              "      async function convertToInteractive(key) {\n",
              "        const element = document.querySelector('#df-0d2c9880-580d-4547-a5f1-c4d4737fca5e');\n",
              "        const dataTable =\n",
              "          await google.colab.kernel.invokeFunction('convertToInteractive',\n",
              "                                                    [key], {});\n",
              "        if (!dataTable) return;\n",
              "\n",
              "        const docLinkHtml = 'Like what you see? Visit the ' +\n",
              "          '<a target=\"_blank\" href=https://colab.research.google.com/notebooks/data_table.ipynb>data table notebook</a>'\n",
              "          + ' to learn more about interactive tables.';\n",
              "        element.innerHTML = '';\n",
              "        dataTable['output_type'] = 'display_data';\n",
              "        await google.colab.output.renderOutput(dataTable, element);\n",
              "        const docLink = document.createElement('div');\n",
              "        docLink.innerHTML = docLinkHtml;\n",
              "        element.appendChild(docLink);\n",
              "      }\n",
              "    </script>\n",
              "  </div>\n",
              "\n",
              "\n",
              "<div id=\"df-159738bd-5987-4736-a3b4-9952aeafce2e\">\n",
              "  <button class=\"colab-df-quickchart\" onclick=\"quickchart('df-159738bd-5987-4736-a3b4-9952aeafce2e')\"\n",
              "            title=\"Suggest charts\"\n",
              "            style=\"display:none;\">\n",
              "\n",
              "<svg xmlns=\"http://www.w3.org/2000/svg\" height=\"24px\"viewBox=\"0 0 24 24\"\n",
              "     width=\"24px\">\n",
              "    <g>\n",
              "        <path d=\"M19 3H5c-1.1 0-2 .9-2 2v14c0 1.1.9 2 2 2h14c1.1 0 2-.9 2-2V5c0-1.1-.9-2-2-2zM9 17H7v-7h2v7zm4 0h-2V7h2v10zm4 0h-2v-4h2v4z\"/>\n",
              "    </g>\n",
              "</svg>\n",
              "  </button>\n",
              "\n",
              "<style>\n",
              "  .colab-df-quickchart {\n",
              "      --bg-color: #E8F0FE;\n",
              "      --fill-color: #1967D2;\n",
              "      --hover-bg-color: #E2EBFA;\n",
              "      --hover-fill-color: #174EA6;\n",
              "      --disabled-fill-color: #AAA;\n",
              "      --disabled-bg-color: #DDD;\n",
              "  }\n",
              "\n",
              "  [theme=dark] .colab-df-quickchart {\n",
              "      --bg-color: #3B4455;\n",
              "      --fill-color: #D2E3FC;\n",
              "      --hover-bg-color: #434B5C;\n",
              "      --hover-fill-color: #FFFFFF;\n",
              "      --disabled-bg-color: #3B4455;\n",
              "      --disabled-fill-color: #666;\n",
              "  }\n",
              "\n",
              "  .colab-df-quickchart {\n",
              "    background-color: var(--bg-color);\n",
              "    border: none;\n",
              "    border-radius: 50%;\n",
              "    cursor: pointer;\n",
              "    display: none;\n",
              "    fill: var(--fill-color);\n",
              "    height: 32px;\n",
              "    padding: 0;\n",
              "    width: 32px;\n",
              "  }\n",
              "\n",
              "  .colab-df-quickchart:hover {\n",
              "    background-color: var(--hover-bg-color);\n",
              "    box-shadow: 0 1px 2px rgba(60, 64, 67, 0.3), 0 1px 3px 1px rgba(60, 64, 67, 0.15);\n",
              "    fill: var(--button-hover-fill-color);\n",
              "  }\n",
              "\n",
              "  .colab-df-quickchart-complete:disabled,\n",
              "  .colab-df-quickchart-complete:disabled:hover {\n",
              "    background-color: var(--disabled-bg-color);\n",
              "    fill: var(--disabled-fill-color);\n",
              "    box-shadow: none;\n",
              "  }\n",
              "\n",
              "  .colab-df-spinner {\n",
              "    border: 2px solid var(--fill-color);\n",
              "    border-color: transparent;\n",
              "    border-bottom-color: var(--fill-color);\n",
              "    animation:\n",
              "      spin 1s steps(1) infinite;\n",
              "  }\n",
              "\n",
              "  @keyframes spin {\n",
              "    0% {\n",
              "      border-color: transparent;\n",
              "      border-bottom-color: var(--fill-color);\n",
              "      border-left-color: var(--fill-color);\n",
              "    }\n",
              "    20% {\n",
              "      border-color: transparent;\n",
              "      border-left-color: var(--fill-color);\n",
              "      border-top-color: var(--fill-color);\n",
              "    }\n",
              "    30% {\n",
              "      border-color: transparent;\n",
              "      border-left-color: var(--fill-color);\n",
              "      border-top-color: var(--fill-color);\n",
              "      border-right-color: var(--fill-color);\n",
              "    }\n",
              "    40% {\n",
              "      border-color: transparent;\n",
              "      border-right-color: var(--fill-color);\n",
              "      border-top-color: var(--fill-color);\n",
              "    }\n",
              "    60% {\n",
              "      border-color: transparent;\n",
              "      border-right-color: var(--fill-color);\n",
              "    }\n",
              "    80% {\n",
              "      border-color: transparent;\n",
              "      border-right-color: var(--fill-color);\n",
              "      border-bottom-color: var(--fill-color);\n",
              "    }\n",
              "    90% {\n",
              "      border-color: transparent;\n",
              "      border-bottom-color: var(--fill-color);\n",
              "    }\n",
              "  }\n",
              "</style>\n",
              "\n",
              "  <script>\n",
              "    async function quickchart(key) {\n",
              "      const quickchartButtonEl =\n",
              "        document.querySelector('#' + key + ' button');\n",
              "      quickchartButtonEl.disabled = true;  // To prevent multiple clicks.\n",
              "      quickchartButtonEl.classList.add('colab-df-spinner');\n",
              "      try {\n",
              "        const charts = await google.colab.kernel.invokeFunction(\n",
              "            'suggestCharts', [key], {});\n",
              "      } catch (error) {\n",
              "        console.error('Error during call to suggestCharts:', error);\n",
              "      }\n",
              "      quickchartButtonEl.classList.remove('colab-df-spinner');\n",
              "      quickchartButtonEl.classList.add('colab-df-quickchart-complete');\n",
              "    }\n",
              "    (() => {\n",
              "      let quickchartButtonEl =\n",
              "        document.querySelector('#df-159738bd-5987-4736-a3b4-9952aeafce2e button');\n",
              "      quickchartButtonEl.style.display =\n",
              "        google.colab.kernel.accessAllowed ? 'block' : 'none';\n",
              "    })();\n",
              "  </script>\n",
              "</div>\n",
              "    </div>\n",
              "  </div>\n"
            ],
            "application/vnd.google.colaboratory.intrinsic+json": {
              "type": "dataframe",
              "variable_name": "df"
            }
          },
          "metadata": {},
          "execution_count": 32
        }
      ]
    },
    {
      "cell_type": "code",
      "source": [],
      "metadata": {
        "id": "9OcT8RYYEZs1"
      },
      "execution_count": null,
      "outputs": []
    },
    {
      "cell_type": "markdown",
      "source": [
        "# cleaninig all ipc to list of ipcs"
      ],
      "metadata": {
        "id": "qiqbA06eEaV_"
      }
    },
    {
      "cell_type": "code",
      "source": [
        "import pandas as pd\n",
        "\n",
        "# Columns to clean\n",
        "columns_to_clean = [' APipc', 'APipc_GPTpred', 'APipc_BARDpred', 'APipc_abstract_GPTpred', 'APipc_abstract_BARDpred']\n",
        "\n",
        "# Function to clean IPC lists\n",
        "def clean_ipc_list(ipc_list):\n",
        "    return [code.replace('//', '').replace(' ', '').replace('ipc1:', '').replace('ipc2:', '').replace('ipc3:', '').replace('ipc4:', '').replace('ipc5:', '').strip() for code in ipc_list]\n",
        "\n",
        "# Apply the cleaning function to specified columns\n",
        "for column in columns_to_clean:\n",
        "    df[column] = df[column].apply(lambda x: clean_ipc_list(x.split(', ')) if isinstance(x, str) else x)\n",
        "\n",
        "# Print the updated DataFrame\n",
        "\n"
      ],
      "metadata": {
        "id": "6fcmE2pTES6j"
      },
      "execution_count": null,
      "outputs": []
    },
    {
      "cell_type": "code",
      "source": [
        "df.head()"
      ],
      "metadata": {
        "colab": {
          "base_uri": "https://localhost:8080/",
          "height": 536
        },
        "id": "h9fZXM-yES9r",
        "outputId": "48f5aafa-6825-4140-d258-96974b87d872"
      },
      "execution_count": null,
      "outputs": [
        {
          "output_type": "execute_result",
          "data": {
            "text/plain": [
              "       APnum            PAnum  \\\n",
              "0  EP4300511  US20140019162A1   \n",
              "1  EP4273738  US20080091405A1   \n",
              "2  EP4270403  US20200176098A1   \n",
              "3  EP4270403      US9984772B2   \n",
              "\n",
              "                                             APclaim  \\\n",
              "0  Text classification method to aid on clinical ...   \n",
              "1  A semantic representation generation method of...   \n",
              "2  A computer-implemented method comprising:\\next...   \n",
              "3  A computer-implemented method comprising:\\next...   \n",
              "\n",
              "                                             PAclaim  \\\n",
              "0  An automated triage system, comprising:\\na pat...   \n",
              "1  A method of analyzing a sentence in a source l...   \n",
              "2  A method, comprising:\\ndetermining a first con...   \n",
              "3  A computer-implemented method for predicting a...   \n",
              "\n",
              "                                          APabstract  \\\n",
              "0  The present application describes an automatic...   \n",
              "1  In a semantic representation generation method...   \n",
              "2  A computer-implemented method comprising\\nextr...   \n",
              "3  A computer-implemented method comprising\\nextr...   \n",
              "\n",
              "                                          PAabstract  \\\n",
              "0  An automated triage system may include a patie...   \n",
              "1  A method and computer system for analyzing sen...   \n",
              "2  A method includes the steps of determining a f...   \n",
              "3  A computer-implemented method for predicting a...   \n",
              "\n",
              "                                               APipc  \\\n",
              "0  [G16H50/20, G16H10/60, G16H40/20, G06F40/10, G...   \n",
              "1  [G06F40/30, G06F40/211, G06F40/268, G06F40/284...   \n",
              "2  [G16H10/20, G16H50/20, G16H50/30, G06F16/35, G...   \n",
              "3  [G16H10/20, G16H50/20, G16H50/30, G06F16/35, G...   \n",
              "\n",
              "                                               PAipc  \\\n",
              "0                              G06F 9/00, G06O 50/24   \n",
              "1                                          G06F 7/28   \n",
              "2    G16H 15/00, G06F 40/30,G06F 40/295,\\nG16H 70/00   \n",
              "3  G06F 17/27,G06F 17/30,G06F 19/00,GO6N 3/08,GO6...   \n",
              "\n",
              "                                        PAparagraphs  \\\n",
              "0  [0057]\\nFIGS. 3A-3B illustrate a more detailed...   \n",
              "1    \\n[0004]\\nThe acquired ability to understand...   \n",
              "2  \\n[0001]\\nThis application claims the benefit ...   \n",
              "3  [0003] Traditionally, medical image radiology ...   \n",
              "\n",
              "                                    PApragraphs_Json  ... PApredGPT_top2  \\\n",
              "0  {\\n  \"sentences\": [\\n    {\\n      \"id\": \"0057\"...  ...            NaN   \n",
              "1  {\\n  \"sentences\": [\\n    {\\n      \"id\": \"0004\"...  ...            NaN   \n",
              "2  {\\n  \"sentences\": [\\n    {\\n      \"id\": \"0001\"...  ...            NaN   \n",
              "3  {\\n  \"sentences\": [\\n    {\\n      \"id\": \"0003\"...  ...            NaN   \n",
              "\n",
              "  PApredGPT_top3       PApredBARD_all3  PApredBARD_top1  PApredBARD_top2  \\\n",
              "0            NaN  \\n(0058, 0059, 0092)              NaN              NaN   \n",
              "1            NaN    (0004, 0005, 0015)              NaN              NaN   \n",
              "2            NaN  \\n(0002, 0039, 0040)              NaN              NaN   \n",
              "3            NaN  \\n(0003, 0004, 0005)              NaN              NaN   \n",
              "\n",
              "  PApredBARD_top3                                      APipc_GPTpred  \\\n",
              "0             NaN  [G16H30/20, G06Q50/24, A61B5/00, G06F19/00, A6...   \n",
              "1             NaN  [G06F17/27, G06F17/28, G06F17/30, G06F17/50, G...   \n",
              "2             NaN  [G06F17/30, G06N5/02, G06F17/27, G06F19/00, G1...   \n",
              "3             NaN  [G06F17/30, G06N5/02, G06F17/27, G06F19/00, G1...   \n",
              "\n",
              "                                      APipc_BARDpred  \\\n",
              "0  [G06F19/00, G06N3/08, G16H50/00, A61B5/04, G06...   \n",
              "1  [G06N3/05, G10L15/00, H04L29/06, G06F17/53, G0...   \n",
              "2  [G06F17/30, G06N3/08, G16H50/50, I01J4/02, G06...   \n",
              "3  [G06F17/30, G06N3/08, G16H50/50, I01J4/02, G06...   \n",
              "\n",
              "                              APipc_abstract_GPTpred  \\\n",
              "0  [G06F17/305, G16H30/20, A61B5/1503, G06N3/00, ...   \n",
              "1  [G06F17/27, G06N3/04, G06F17/305, G06Q10/08, G...   \n",
              "2  [G06N3/08, G06F17/30, G06F17/27, G06Q50/22, A6...   \n",
              "3  [G06N3/08, G06F17/30, G06F17/27, G06Q50/22, A6...   \n",
              "\n",
              "                             APipc_abstract_BARDpred  \n",
              "0  [G06F17/30, G06F7/07, G16H50/20, G16H50/50, G0...  \n",
              "1  [G10L15/00, G10L15/02, G10L25/00, G10L25/04, G...  \n",
              "2  [G16H50/50, G16H70/60, G06F17/30, G06N3/04, G0...  \n",
              "3  [G16H50/50, G16H70/60, G06F17/30, G06N3/04, G0...  \n",
              "\n",
              "[4 rows x 23 columns]"
            ],
            "text/html": [
              "\n",
              "  <div id=\"df-ff375ae6-720e-4478-80e4-03140cebc50f\" class=\"colab-df-container\">\n",
              "    <div>\n",
              "<style scoped>\n",
              "    .dataframe tbody tr th:only-of-type {\n",
              "        vertical-align: middle;\n",
              "    }\n",
              "\n",
              "    .dataframe tbody tr th {\n",
              "        vertical-align: top;\n",
              "    }\n",
              "\n",
              "    .dataframe thead th {\n",
              "        text-align: right;\n",
              "    }\n",
              "</style>\n",
              "<table border=\"1\" class=\"dataframe\">\n",
              "  <thead>\n",
              "    <tr style=\"text-align: right;\">\n",
              "      <th></th>\n",
              "      <th>APnum</th>\n",
              "      <th>PAnum</th>\n",
              "      <th>APclaim</th>\n",
              "      <th>PAclaim</th>\n",
              "      <th>APabstract</th>\n",
              "      <th>PAabstract</th>\n",
              "      <th>APipc</th>\n",
              "      <th>PAipc</th>\n",
              "      <th>PAparagraphs</th>\n",
              "      <th>PApragraphs_Json</th>\n",
              "      <th>...</th>\n",
              "      <th>PApredGPT_top2</th>\n",
              "      <th>PApredGPT_top3</th>\n",
              "      <th>PApredBARD_all3</th>\n",
              "      <th>PApredBARD_top1</th>\n",
              "      <th>PApredBARD_top2</th>\n",
              "      <th>PApredBARD_top3</th>\n",
              "      <th>APipc_GPTpred</th>\n",
              "      <th>APipc_BARDpred</th>\n",
              "      <th>APipc_abstract_GPTpred</th>\n",
              "      <th>APipc_abstract_BARDpred</th>\n",
              "    </tr>\n",
              "  </thead>\n",
              "  <tbody>\n",
              "    <tr>\n",
              "      <th>0</th>\n",
              "      <td>EP4300511</td>\n",
              "      <td>US20140019162A1</td>\n",
              "      <td>Text classification method to aid on clinical ...</td>\n",
              "      <td>An automated triage system, comprising:\\na pat...</td>\n",
              "      <td>The present application describes an automatic...</td>\n",
              "      <td>An automated triage system may include a patie...</td>\n",
              "      <td>[G16H50/20, G16H10/60, G16H40/20, G06F40/10, G...</td>\n",
              "      <td>G06F 9/00, G06O 50/24</td>\n",
              "      <td>[0057]\\nFIGS. 3A-3B illustrate a more detailed...</td>\n",
              "      <td>{\\n  \"sentences\": [\\n    {\\n      \"id\": \"0057\"...</td>\n",
              "      <td>...</td>\n",
              "      <td>NaN</td>\n",
              "      <td>NaN</td>\n",
              "      <td>\\n(0058, 0059, 0092)</td>\n",
              "      <td>NaN</td>\n",
              "      <td>NaN</td>\n",
              "      <td>NaN</td>\n",
              "      <td>[G16H30/20, G06Q50/24, A61B5/00, G06F19/00, A6...</td>\n",
              "      <td>[G06F19/00, G06N3/08, G16H50/00, A61B5/04, G06...</td>\n",
              "      <td>[G06F17/305, G16H30/20, A61B5/1503, G06N3/00, ...</td>\n",
              "      <td>[G06F17/30, G06F7/07, G16H50/20, G16H50/50, G0...</td>\n",
              "    </tr>\n",
              "    <tr>\n",
              "      <th>1</th>\n",
              "      <td>EP4273738</td>\n",
              "      <td>US20080091405A1</td>\n",
              "      <td>A semantic representation generation method of...</td>\n",
              "      <td>A method of analyzing a sentence in a source l...</td>\n",
              "      <td>In a semantic representation generation method...</td>\n",
              "      <td>A method and computer system for analyzing sen...</td>\n",
              "      <td>[G06F40/30, G06F40/211, G06F40/268, G06F40/284...</td>\n",
              "      <td>G06F 7/28</td>\n",
              "      <td>\\n[0004]\\nThe acquired ability to understand...</td>\n",
              "      <td>{\\n  \"sentences\": [\\n    {\\n      \"id\": \"0004\"...</td>\n",
              "      <td>...</td>\n",
              "      <td>NaN</td>\n",
              "      <td>NaN</td>\n",
              "      <td>(0004, 0005, 0015)</td>\n",
              "      <td>NaN</td>\n",
              "      <td>NaN</td>\n",
              "      <td>NaN</td>\n",
              "      <td>[G06F17/27, G06F17/28, G06F17/30, G06F17/50, G...</td>\n",
              "      <td>[G06N3/05, G10L15/00, H04L29/06, G06F17/53, G0...</td>\n",
              "      <td>[G06F17/27, G06N3/04, G06F17/305, G06Q10/08, G...</td>\n",
              "      <td>[G10L15/00, G10L15/02, G10L25/00, G10L25/04, G...</td>\n",
              "    </tr>\n",
              "    <tr>\n",
              "      <th>2</th>\n",
              "      <td>EP4270403</td>\n",
              "      <td>US20200176098A1</td>\n",
              "      <td>A computer-implemented method comprising:\\next...</td>\n",
              "      <td>A method, comprising:\\ndetermining a first con...</td>\n",
              "      <td>A computer-implemented method comprising\\nextr...</td>\n",
              "      <td>A method includes the steps of determining a f...</td>\n",
              "      <td>[G16H10/20, G16H50/20, G16H50/30, G06F16/35, G...</td>\n",
              "      <td>G16H 15/00, G06F 40/30,G06F 40/295,\\nG16H 70/00</td>\n",
              "      <td>\\n[0001]\\nThis application claims the benefit ...</td>\n",
              "      <td>{\\n  \"sentences\": [\\n    {\\n      \"id\": \"0001\"...</td>\n",
              "      <td>...</td>\n",
              "      <td>NaN</td>\n",
              "      <td>NaN</td>\n",
              "      <td>\\n(0002, 0039, 0040)</td>\n",
              "      <td>NaN</td>\n",
              "      <td>NaN</td>\n",
              "      <td>NaN</td>\n",
              "      <td>[G06F17/30, G06N5/02, G06F17/27, G06F19/00, G1...</td>\n",
              "      <td>[G06F17/30, G06N3/08, G16H50/50, I01J4/02, G06...</td>\n",
              "      <td>[G06N3/08, G06F17/30, G06F17/27, G06Q50/22, A6...</td>\n",
              "      <td>[G16H50/50, G16H70/60, G06F17/30, G06N3/04, G0...</td>\n",
              "    </tr>\n",
              "    <tr>\n",
              "      <th>3</th>\n",
              "      <td>EP4270403</td>\n",
              "      <td>US9984772B2</td>\n",
              "      <td>A computer-implemented method comprising:\\next...</td>\n",
              "      <td>A computer-implemented method for predicting a...</td>\n",
              "      <td>A computer-implemented method comprising\\nextr...</td>\n",
              "      <td>A computer-implemented method for predicting a...</td>\n",
              "      <td>[G16H10/20, G16H50/20, G16H50/30, G06F16/35, G...</td>\n",
              "      <td>G06F 17/27,G06F 17/30,G06F 19/00,GO6N 3/08,GO6...</td>\n",
              "      <td>[0003] Traditionally, medical image radiology ...</td>\n",
              "      <td>{\\n  \"sentences\": [\\n    {\\n      \"id\": \"0003\"...</td>\n",
              "      <td>...</td>\n",
              "      <td>NaN</td>\n",
              "      <td>NaN</td>\n",
              "      <td>\\n(0003, 0004, 0005)</td>\n",
              "      <td>NaN</td>\n",
              "      <td>NaN</td>\n",
              "      <td>NaN</td>\n",
              "      <td>[G06F17/30, G06N5/02, G06F17/27, G06F19/00, G1...</td>\n",
              "      <td>[G06F17/30, G06N3/08, G16H50/50, I01J4/02, G06...</td>\n",
              "      <td>[G06N3/08, G06F17/30, G06F17/27, G06Q50/22, A6...</td>\n",
              "      <td>[G16H50/50, G16H70/60, G06F17/30, G06N3/04, G0...</td>\n",
              "    </tr>\n",
              "  </tbody>\n",
              "</table>\n",
              "<p>4 rows × 23 columns</p>\n",
              "</div>\n",
              "    <div class=\"colab-df-buttons\">\n",
              "\n",
              "  <div class=\"colab-df-container\">\n",
              "    <button class=\"colab-df-convert\" onclick=\"convertToInteractive('df-ff375ae6-720e-4478-80e4-03140cebc50f')\"\n",
              "            title=\"Convert this dataframe to an interactive table.\"\n",
              "            style=\"display:none;\">\n",
              "\n",
              "  <svg xmlns=\"http://www.w3.org/2000/svg\" height=\"24px\" viewBox=\"0 -960 960 960\">\n",
              "    <path d=\"M120-120v-720h720v720H120Zm60-500h600v-160H180v160Zm220 220h160v-160H400v160Zm0 220h160v-160H400v160ZM180-400h160v-160H180v160Zm440 0h160v-160H620v160ZM180-180h160v-160H180v160Zm440 0h160v-160H620v160Z\"/>\n",
              "  </svg>\n",
              "    </button>\n",
              "\n",
              "  <style>\n",
              "    .colab-df-container {\n",
              "      display:flex;\n",
              "      gap: 12px;\n",
              "    }\n",
              "\n",
              "    .colab-df-convert {\n",
              "      background-color: #E8F0FE;\n",
              "      border: none;\n",
              "      border-radius: 50%;\n",
              "      cursor: pointer;\n",
              "      display: none;\n",
              "      fill: #1967D2;\n",
              "      height: 32px;\n",
              "      padding: 0 0 0 0;\n",
              "      width: 32px;\n",
              "    }\n",
              "\n",
              "    .colab-df-convert:hover {\n",
              "      background-color: #E2EBFA;\n",
              "      box-shadow: 0px 1px 2px rgba(60, 64, 67, 0.3), 0px 1px 3px 1px rgba(60, 64, 67, 0.15);\n",
              "      fill: #174EA6;\n",
              "    }\n",
              "\n",
              "    .colab-df-buttons div {\n",
              "      margin-bottom: 4px;\n",
              "    }\n",
              "\n",
              "    [theme=dark] .colab-df-convert {\n",
              "      background-color: #3B4455;\n",
              "      fill: #D2E3FC;\n",
              "    }\n",
              "\n",
              "    [theme=dark] .colab-df-convert:hover {\n",
              "      background-color: #434B5C;\n",
              "      box-shadow: 0px 1px 3px 1px rgba(0, 0, 0, 0.15);\n",
              "      filter: drop-shadow(0px 1px 2px rgba(0, 0, 0, 0.3));\n",
              "      fill: #FFFFFF;\n",
              "    }\n",
              "  </style>\n",
              "\n",
              "    <script>\n",
              "      const buttonEl =\n",
              "        document.querySelector('#df-ff375ae6-720e-4478-80e4-03140cebc50f button.colab-df-convert');\n",
              "      buttonEl.style.display =\n",
              "        google.colab.kernel.accessAllowed ? 'block' : 'none';\n",
              "\n",
              "      async function convertToInteractive(key) {\n",
              "        const element = document.querySelector('#df-ff375ae6-720e-4478-80e4-03140cebc50f');\n",
              "        const dataTable =\n",
              "          await google.colab.kernel.invokeFunction('convertToInteractive',\n",
              "                                                    [key], {});\n",
              "        if (!dataTable) return;\n",
              "\n",
              "        const docLinkHtml = 'Like what you see? Visit the ' +\n",
              "          '<a target=\"_blank\" href=https://colab.research.google.com/notebooks/data_table.ipynb>data table notebook</a>'\n",
              "          + ' to learn more about interactive tables.';\n",
              "        element.innerHTML = '';\n",
              "        dataTable['output_type'] = 'display_data';\n",
              "        await google.colab.output.renderOutput(dataTable, element);\n",
              "        const docLink = document.createElement('div');\n",
              "        docLink.innerHTML = docLinkHtml;\n",
              "        element.appendChild(docLink);\n",
              "      }\n",
              "    </script>\n",
              "  </div>\n",
              "\n",
              "\n",
              "<div id=\"df-070eb96b-1bd2-4691-8f62-feeb4da8728a\">\n",
              "  <button class=\"colab-df-quickchart\" onclick=\"quickchart('df-070eb96b-1bd2-4691-8f62-feeb4da8728a')\"\n",
              "            title=\"Suggest charts\"\n",
              "            style=\"display:none;\">\n",
              "\n",
              "<svg xmlns=\"http://www.w3.org/2000/svg\" height=\"24px\"viewBox=\"0 0 24 24\"\n",
              "     width=\"24px\">\n",
              "    <g>\n",
              "        <path d=\"M19 3H5c-1.1 0-2 .9-2 2v14c0 1.1.9 2 2 2h14c1.1 0 2-.9 2-2V5c0-1.1-.9-2-2-2zM9 17H7v-7h2v7zm4 0h-2V7h2v10zm4 0h-2v-4h2v4z\"/>\n",
              "    </g>\n",
              "</svg>\n",
              "  </button>\n",
              "\n",
              "<style>\n",
              "  .colab-df-quickchart {\n",
              "      --bg-color: #E8F0FE;\n",
              "      --fill-color: #1967D2;\n",
              "      --hover-bg-color: #E2EBFA;\n",
              "      --hover-fill-color: #174EA6;\n",
              "      --disabled-fill-color: #AAA;\n",
              "      --disabled-bg-color: #DDD;\n",
              "  }\n",
              "\n",
              "  [theme=dark] .colab-df-quickchart {\n",
              "      --bg-color: #3B4455;\n",
              "      --fill-color: #D2E3FC;\n",
              "      --hover-bg-color: #434B5C;\n",
              "      --hover-fill-color: #FFFFFF;\n",
              "      --disabled-bg-color: #3B4455;\n",
              "      --disabled-fill-color: #666;\n",
              "  }\n",
              "\n",
              "  .colab-df-quickchart {\n",
              "    background-color: var(--bg-color);\n",
              "    border: none;\n",
              "    border-radius: 50%;\n",
              "    cursor: pointer;\n",
              "    display: none;\n",
              "    fill: var(--fill-color);\n",
              "    height: 32px;\n",
              "    padding: 0;\n",
              "    width: 32px;\n",
              "  }\n",
              "\n",
              "  .colab-df-quickchart:hover {\n",
              "    background-color: var(--hover-bg-color);\n",
              "    box-shadow: 0 1px 2px rgba(60, 64, 67, 0.3), 0 1px 3px 1px rgba(60, 64, 67, 0.15);\n",
              "    fill: var(--button-hover-fill-color);\n",
              "  }\n",
              "\n",
              "  .colab-df-quickchart-complete:disabled,\n",
              "  .colab-df-quickchart-complete:disabled:hover {\n",
              "    background-color: var(--disabled-bg-color);\n",
              "    fill: var(--disabled-fill-color);\n",
              "    box-shadow: none;\n",
              "  }\n",
              "\n",
              "  .colab-df-spinner {\n",
              "    border: 2px solid var(--fill-color);\n",
              "    border-color: transparent;\n",
              "    border-bottom-color: var(--fill-color);\n",
              "    animation:\n",
              "      spin 1s steps(1) infinite;\n",
              "  }\n",
              "\n",
              "  @keyframes spin {\n",
              "    0% {\n",
              "      border-color: transparent;\n",
              "      border-bottom-color: var(--fill-color);\n",
              "      border-left-color: var(--fill-color);\n",
              "    }\n",
              "    20% {\n",
              "      border-color: transparent;\n",
              "      border-left-color: var(--fill-color);\n",
              "      border-top-color: var(--fill-color);\n",
              "    }\n",
              "    30% {\n",
              "      border-color: transparent;\n",
              "      border-left-color: var(--fill-color);\n",
              "      border-top-color: var(--fill-color);\n",
              "      border-right-color: var(--fill-color);\n",
              "    }\n",
              "    40% {\n",
              "      border-color: transparent;\n",
              "      border-right-color: var(--fill-color);\n",
              "      border-top-color: var(--fill-color);\n",
              "    }\n",
              "    60% {\n",
              "      border-color: transparent;\n",
              "      border-right-color: var(--fill-color);\n",
              "    }\n",
              "    80% {\n",
              "      border-color: transparent;\n",
              "      border-right-color: var(--fill-color);\n",
              "      border-bottom-color: var(--fill-color);\n",
              "    }\n",
              "    90% {\n",
              "      border-color: transparent;\n",
              "      border-bottom-color: var(--fill-color);\n",
              "    }\n",
              "  }\n",
              "</style>\n",
              "\n",
              "  <script>\n",
              "    async function quickchart(key) {\n",
              "      const quickchartButtonEl =\n",
              "        document.querySelector('#' + key + ' button');\n",
              "      quickchartButtonEl.disabled = true;  // To prevent multiple clicks.\n",
              "      quickchartButtonEl.classList.add('colab-df-spinner');\n",
              "      try {\n",
              "        const charts = await google.colab.kernel.invokeFunction(\n",
              "            'suggestCharts', [key], {});\n",
              "      } catch (error) {\n",
              "        console.error('Error during call to suggestCharts:', error);\n",
              "      }\n",
              "      quickchartButtonEl.classList.remove('colab-df-spinner');\n",
              "      quickchartButtonEl.classList.add('colab-df-quickchart-complete');\n",
              "    }\n",
              "    (() => {\n",
              "      let quickchartButtonEl =\n",
              "        document.querySelector('#df-070eb96b-1bd2-4691-8f62-feeb4da8728a button');\n",
              "      quickchartButtonEl.style.display =\n",
              "        google.colab.kernel.accessAllowed ? 'block' : 'none';\n",
              "    })();\n",
              "  </script>\n",
              "</div>\n",
              "    </div>\n",
              "  </div>\n"
            ],
            "application/vnd.google.colaboratory.intrinsic+json": {
              "type": "dataframe",
              "variable_name": "df"
            }
          },
          "metadata": {},
          "execution_count": 36
        }
      ]
    },
    {
      "cell_type": "code",
      "source": [
        "rm -r './sample-dataset-for-results-analysis-SemTech4stld_cleaned.xlsx'"
      ],
      "metadata": {
        "id": "8eSu_CG01Sv7"
      },
      "execution_count": null,
      "outputs": []
    },
    {
      "cell_type": "code",
      "source": [
        "ls"
      ],
      "metadata": {
        "colab": {
          "base_uri": "https://localhost:8080/"
        },
        "id": "D6aqMZUg5N1p",
        "outputId": "04689845-65dc-47fe-b403-e28b524320c4"
      },
      "execution_count": null,
      "outputs": [
        {
          "output_type": "stream",
          "name": "stdout",
          "text": [
            "sample-dataset-for-results-analysis-SemTech4stld.xlsx\n"
          ]
        }
      ]
    },
    {
      "cell_type": "code",
      "source": [
        "df.head()"
      ],
      "metadata": {
        "colab": {
          "base_uri": "https://localhost:8080/",
          "height": 536
        },
        "id": "6Mvv3kCW1pAK",
        "outputId": "a550492b-c372-4d64-b67f-945e0858a6a3"
      },
      "execution_count": null,
      "outputs": [
        {
          "output_type": "execute_result",
          "data": {
            "text/plain": [
              "       APnum            PAnum  \\\n",
              "0  EP4300511  US20140019162A1   \n",
              "1  EP4273738  US20080091405A1   \n",
              "2  EP4270403  US20200176098A1   \n",
              "3  EP4270403      US9984772B2   \n",
              "\n",
              "                                             APclaim  \\\n",
              "0  Text classification method to aid on clinical ...   \n",
              "1  A semantic representation generation method of...   \n",
              "2  A computer-implemented method comprising:\\next...   \n",
              "3  A computer-implemented method comprising:\\next...   \n",
              "\n",
              "                                             PAclaim  \\\n",
              "0  An automated triage system, comprising:\\na pat...   \n",
              "1  A method of analyzing a sentence in a source l...   \n",
              "2  A method, comprising:\\ndetermining a first con...   \n",
              "3  A computer-implemented method for predicting a...   \n",
              "\n",
              "                                          APabstract  \\\n",
              "0  The present application describes an automatic...   \n",
              "1  In a semantic representation generation method...   \n",
              "2  A computer-implemented method comprising\\nextr...   \n",
              "3  A computer-implemented method comprising\\nextr...   \n",
              "\n",
              "                                          PAabstract  \\\n",
              "0  An automated triage system may include a patie...   \n",
              "1  A method and computer system for analyzing sen...   \n",
              "2  A method includes the steps of determining a f...   \n",
              "3  A computer-implemented method for predicting a...   \n",
              "\n",
              "                                               APipc  \\\n",
              "0  [G16H50/20, G16H10/60, G16H40/20, G06F40/10, G...   \n",
              "1  [G06F40/30, G06F40/211, G06F40/268, G06F40/284...   \n",
              "2  [G16H10/20, G16H50/20, G16H50/30, G06F16/35, G...   \n",
              "3  [G16H10/20, G16H50/20, G16H50/30, G06F16/35, G...   \n",
              "\n",
              "                                               PAipc  \\\n",
              "0                              G06F 9/00, G06O 50/24   \n",
              "1                                          G06F 7/28   \n",
              "2    G16H 15/00, G06F 40/30,G06F 40/295,\\nG16H 70/00   \n",
              "3  G06F 17/27,G06F 17/30,G06F 19/00,GO6N 3/08,GO6...   \n",
              "\n",
              "                                        PAparagraphs  \\\n",
              "0  [0057]\\nFIGS. 3A-3B illustrate a more detailed...   \n",
              "1    \\n[0004]\\nThe acquired ability to understand...   \n",
              "2  \\n[0001]\\nThis application claims the benefit ...   \n",
              "3  [0003] Traditionally, medical image radiology ...   \n",
              "\n",
              "                                    PApragraphs_Json  ... PApredGPT_top2  \\\n",
              "0  {\\n  \"sentences\": [\\n    {\\n      \"id\": \"0057\"...  ...            NaN   \n",
              "1  {\\n  \"sentences\": [\\n    {\\n      \"id\": \"0004\"...  ...            NaN   \n",
              "2  {\\n  \"sentences\": [\\n    {\\n      \"id\": \"0001\"...  ...            NaN   \n",
              "3  {\\n  \"sentences\": [\\n    {\\n      \"id\": \"0003\"...  ...            NaN   \n",
              "\n",
              "  PApredGPT_top3       PApredBARD_all3  PApredBARD_top1  PApredBARD_top2  \\\n",
              "0            NaN  \\n(0058, 0059, 0092)              NaN              NaN   \n",
              "1            NaN    (0004, 0005, 0015)              NaN              NaN   \n",
              "2            NaN  \\n(0002, 0039, 0040)              NaN              NaN   \n",
              "3            NaN  \\n(0003, 0004, 0005)              NaN              NaN   \n",
              "\n",
              "  PApredBARD_top3                                      APipc_GPTpred  \\\n",
              "0             NaN  [G16H30/20, G06Q50/24, A61B5/00, G06F19/00, A6...   \n",
              "1             NaN  [G06F17/27, G06F17/28, G06F17/30, G06F17/50, G...   \n",
              "2             NaN  [G06F17/30, G06N5/02, G06F17/27, G06F19/00, G1...   \n",
              "3             NaN  [G06F17/30, G06N5/02, G06F17/27, G06F19/00, G1...   \n",
              "\n",
              "                                      APipc_BARDpred  \\\n",
              "0  [G06F19/00, G06N3/08, G16H50/00, A61B5/04, G06...   \n",
              "1  [G06N3/05, G10L15/00, H04L29/06, G06F17/53, G0...   \n",
              "2  [G06F17/30, G06N3/08, G16H50/50, I01J4/02, G06...   \n",
              "3  [G06F17/30, G06N3/08, G16H50/50, I01J4/02, G06...   \n",
              "\n",
              "                              APipc_abstract_GPTpred  \\\n",
              "0  [G06F17/305, G16H30/20, A61B5/1503, G06N3/00, ...   \n",
              "1  [G06F17/27, G06N3/04, G06F17/305, G06Q10/08, G...   \n",
              "2  [G06N3/08, G06F17/30, G06F17/27, G06Q50/22, A6...   \n",
              "3  [G06N3/08, G06F17/30, G06F17/27, G06Q50/22, A6...   \n",
              "\n",
              "                             APipc_abstract_BARDpred  \n",
              "0  [G06F17/30, G06F7/07, G16H50/20, G16H50/50, G0...  \n",
              "1  [G10L15/00, G10L15/02, G10L25/00, G10L25/04, G...  \n",
              "2  [G16H50/50, G16H70/60, G06F17/30, G06N3/04, G0...  \n",
              "3  [G16H50/50, G16H70/60, G06F17/30, G06N3/04, G0...  \n",
              "\n",
              "[4 rows x 23 columns]"
            ],
            "text/html": [
              "\n",
              "  <div id=\"df-11415757-fcdb-4305-9f4d-bed2fe6d0ba6\" class=\"colab-df-container\">\n",
              "    <div>\n",
              "<style scoped>\n",
              "    .dataframe tbody tr th:only-of-type {\n",
              "        vertical-align: middle;\n",
              "    }\n",
              "\n",
              "    .dataframe tbody tr th {\n",
              "        vertical-align: top;\n",
              "    }\n",
              "\n",
              "    .dataframe thead th {\n",
              "        text-align: right;\n",
              "    }\n",
              "</style>\n",
              "<table border=\"1\" class=\"dataframe\">\n",
              "  <thead>\n",
              "    <tr style=\"text-align: right;\">\n",
              "      <th></th>\n",
              "      <th>APnum</th>\n",
              "      <th>PAnum</th>\n",
              "      <th>APclaim</th>\n",
              "      <th>PAclaim</th>\n",
              "      <th>APabstract</th>\n",
              "      <th>PAabstract</th>\n",
              "      <th>APipc</th>\n",
              "      <th>PAipc</th>\n",
              "      <th>PAparagraphs</th>\n",
              "      <th>PApragraphs_Json</th>\n",
              "      <th>...</th>\n",
              "      <th>PApredGPT_top2</th>\n",
              "      <th>PApredGPT_top3</th>\n",
              "      <th>PApredBARD_all3</th>\n",
              "      <th>PApredBARD_top1</th>\n",
              "      <th>PApredBARD_top2</th>\n",
              "      <th>PApredBARD_top3</th>\n",
              "      <th>APipc_GPTpred</th>\n",
              "      <th>APipc_BARDpred</th>\n",
              "      <th>APipc_abstract_GPTpred</th>\n",
              "      <th>APipc_abstract_BARDpred</th>\n",
              "    </tr>\n",
              "  </thead>\n",
              "  <tbody>\n",
              "    <tr>\n",
              "      <th>0</th>\n",
              "      <td>EP4300511</td>\n",
              "      <td>US20140019162A1</td>\n",
              "      <td>Text classification method to aid on clinical ...</td>\n",
              "      <td>An automated triage system, comprising:\\na pat...</td>\n",
              "      <td>The present application describes an automatic...</td>\n",
              "      <td>An automated triage system may include a patie...</td>\n",
              "      <td>[G16H50/20, G16H10/60, G16H40/20, G06F40/10, G...</td>\n",
              "      <td>G06F 9/00, G06O 50/24</td>\n",
              "      <td>[0057]\\nFIGS. 3A-3B illustrate a more detailed...</td>\n",
              "      <td>{\\n  \"sentences\": [\\n    {\\n      \"id\": \"0057\"...</td>\n",
              "      <td>...</td>\n",
              "      <td>NaN</td>\n",
              "      <td>NaN</td>\n",
              "      <td>\\n(0058, 0059, 0092)</td>\n",
              "      <td>NaN</td>\n",
              "      <td>NaN</td>\n",
              "      <td>NaN</td>\n",
              "      <td>[G16H30/20, G06Q50/24, A61B5/00, G06F19/00, A6...</td>\n",
              "      <td>[G06F19/00, G06N3/08, G16H50/00, A61B5/04, G06...</td>\n",
              "      <td>[G06F17/305, G16H30/20, A61B5/1503, G06N3/00, ...</td>\n",
              "      <td>[G06F17/30, G06F7/07, G16H50/20, G16H50/50, G0...</td>\n",
              "    </tr>\n",
              "    <tr>\n",
              "      <th>1</th>\n",
              "      <td>EP4273738</td>\n",
              "      <td>US20080091405A1</td>\n",
              "      <td>A semantic representation generation method of...</td>\n",
              "      <td>A method of analyzing a sentence in a source l...</td>\n",
              "      <td>In a semantic representation generation method...</td>\n",
              "      <td>A method and computer system for analyzing sen...</td>\n",
              "      <td>[G06F40/30, G06F40/211, G06F40/268, G06F40/284...</td>\n",
              "      <td>G06F 7/28</td>\n",
              "      <td>\\n[0004]\\nThe acquired ability to understand...</td>\n",
              "      <td>{\\n  \"sentences\": [\\n    {\\n      \"id\": \"0004\"...</td>\n",
              "      <td>...</td>\n",
              "      <td>NaN</td>\n",
              "      <td>NaN</td>\n",
              "      <td>(0004, 0005, 0015)</td>\n",
              "      <td>NaN</td>\n",
              "      <td>NaN</td>\n",
              "      <td>NaN</td>\n",
              "      <td>[G06F17/27, G06F17/28, G06F17/30, G06F17/50, G...</td>\n",
              "      <td>[G06N3/05, G10L15/00, H04L29/06, G06F17/53, G0...</td>\n",
              "      <td>[G06F17/27, G06N3/04, G06F17/305, G06Q10/08, G...</td>\n",
              "      <td>[G10L15/00, G10L15/02, G10L25/00, G10L25/04, G...</td>\n",
              "    </tr>\n",
              "    <tr>\n",
              "      <th>2</th>\n",
              "      <td>EP4270403</td>\n",
              "      <td>US20200176098A1</td>\n",
              "      <td>A computer-implemented method comprising:\\next...</td>\n",
              "      <td>A method, comprising:\\ndetermining a first con...</td>\n",
              "      <td>A computer-implemented method comprising\\nextr...</td>\n",
              "      <td>A method includes the steps of determining a f...</td>\n",
              "      <td>[G16H10/20, G16H50/20, G16H50/30, G06F16/35, G...</td>\n",
              "      <td>G16H 15/00, G06F 40/30,G06F 40/295,\\nG16H 70/00</td>\n",
              "      <td>\\n[0001]\\nThis application claims the benefit ...</td>\n",
              "      <td>{\\n  \"sentences\": [\\n    {\\n      \"id\": \"0001\"...</td>\n",
              "      <td>...</td>\n",
              "      <td>NaN</td>\n",
              "      <td>NaN</td>\n",
              "      <td>\\n(0002, 0039, 0040)</td>\n",
              "      <td>NaN</td>\n",
              "      <td>NaN</td>\n",
              "      <td>NaN</td>\n",
              "      <td>[G06F17/30, G06N5/02, G06F17/27, G06F19/00, G1...</td>\n",
              "      <td>[G06F17/30, G06N3/08, G16H50/50, I01J4/02, G06...</td>\n",
              "      <td>[G06N3/08, G06F17/30, G06F17/27, G06Q50/22, A6...</td>\n",
              "      <td>[G16H50/50, G16H70/60, G06F17/30, G06N3/04, G0...</td>\n",
              "    </tr>\n",
              "    <tr>\n",
              "      <th>3</th>\n",
              "      <td>EP4270403</td>\n",
              "      <td>US9984772B2</td>\n",
              "      <td>A computer-implemented method comprising:\\next...</td>\n",
              "      <td>A computer-implemented method for predicting a...</td>\n",
              "      <td>A computer-implemented method comprising\\nextr...</td>\n",
              "      <td>A computer-implemented method for predicting a...</td>\n",
              "      <td>[G16H10/20, G16H50/20, G16H50/30, G06F16/35, G...</td>\n",
              "      <td>G06F 17/27,G06F 17/30,G06F 19/00,GO6N 3/08,GO6...</td>\n",
              "      <td>[0003] Traditionally, medical image radiology ...</td>\n",
              "      <td>{\\n  \"sentences\": [\\n    {\\n      \"id\": \"0003\"...</td>\n",
              "      <td>...</td>\n",
              "      <td>NaN</td>\n",
              "      <td>NaN</td>\n",
              "      <td>\\n(0003, 0004, 0005)</td>\n",
              "      <td>NaN</td>\n",
              "      <td>NaN</td>\n",
              "      <td>NaN</td>\n",
              "      <td>[G06F17/30, G06N5/02, G06F17/27, G06F19/00, G1...</td>\n",
              "      <td>[G06F17/30, G06N3/08, G16H50/50, I01J4/02, G06...</td>\n",
              "      <td>[G06N3/08, G06F17/30, G06F17/27, G06Q50/22, A6...</td>\n",
              "      <td>[G16H50/50, G16H70/60, G06F17/30, G06N3/04, G0...</td>\n",
              "    </tr>\n",
              "  </tbody>\n",
              "</table>\n",
              "<p>4 rows × 23 columns</p>\n",
              "</div>\n",
              "    <div class=\"colab-df-buttons\">\n",
              "\n",
              "  <div class=\"colab-df-container\">\n",
              "    <button class=\"colab-df-convert\" onclick=\"convertToInteractive('df-11415757-fcdb-4305-9f4d-bed2fe6d0ba6')\"\n",
              "            title=\"Convert this dataframe to an interactive table.\"\n",
              "            style=\"display:none;\">\n",
              "\n",
              "  <svg xmlns=\"http://www.w3.org/2000/svg\" height=\"24px\" viewBox=\"0 -960 960 960\">\n",
              "    <path d=\"M120-120v-720h720v720H120Zm60-500h600v-160H180v160Zm220 220h160v-160H400v160Zm0 220h160v-160H400v160ZM180-400h160v-160H180v160Zm440 0h160v-160H620v160ZM180-180h160v-160H180v160Zm440 0h160v-160H620v160Z\"/>\n",
              "  </svg>\n",
              "    </button>\n",
              "\n",
              "  <style>\n",
              "    .colab-df-container {\n",
              "      display:flex;\n",
              "      gap: 12px;\n",
              "    }\n",
              "\n",
              "    .colab-df-convert {\n",
              "      background-color: #E8F0FE;\n",
              "      border: none;\n",
              "      border-radius: 50%;\n",
              "      cursor: pointer;\n",
              "      display: none;\n",
              "      fill: #1967D2;\n",
              "      height: 32px;\n",
              "      padding: 0 0 0 0;\n",
              "      width: 32px;\n",
              "    }\n",
              "\n",
              "    .colab-df-convert:hover {\n",
              "      background-color: #E2EBFA;\n",
              "      box-shadow: 0px 1px 2px rgba(60, 64, 67, 0.3), 0px 1px 3px 1px rgba(60, 64, 67, 0.15);\n",
              "      fill: #174EA6;\n",
              "    }\n",
              "\n",
              "    .colab-df-buttons div {\n",
              "      margin-bottom: 4px;\n",
              "    }\n",
              "\n",
              "    [theme=dark] .colab-df-convert {\n",
              "      background-color: #3B4455;\n",
              "      fill: #D2E3FC;\n",
              "    }\n",
              "\n",
              "    [theme=dark] .colab-df-convert:hover {\n",
              "      background-color: #434B5C;\n",
              "      box-shadow: 0px 1px 3px 1px rgba(0, 0, 0, 0.15);\n",
              "      filter: drop-shadow(0px 1px 2px rgba(0, 0, 0, 0.3));\n",
              "      fill: #FFFFFF;\n",
              "    }\n",
              "  </style>\n",
              "\n",
              "    <script>\n",
              "      const buttonEl =\n",
              "        document.querySelector('#df-11415757-fcdb-4305-9f4d-bed2fe6d0ba6 button.colab-df-convert');\n",
              "      buttonEl.style.display =\n",
              "        google.colab.kernel.accessAllowed ? 'block' : 'none';\n",
              "\n",
              "      async function convertToInteractive(key) {\n",
              "        const element = document.querySelector('#df-11415757-fcdb-4305-9f4d-bed2fe6d0ba6');\n",
              "        const dataTable =\n",
              "          await google.colab.kernel.invokeFunction('convertToInteractive',\n",
              "                                                    [key], {});\n",
              "        if (!dataTable) return;\n",
              "\n",
              "        const docLinkHtml = 'Like what you see? Visit the ' +\n",
              "          '<a target=\"_blank\" href=https://colab.research.google.com/notebooks/data_table.ipynb>data table notebook</a>'\n",
              "          + ' to learn more about interactive tables.';\n",
              "        element.innerHTML = '';\n",
              "        dataTable['output_type'] = 'display_data';\n",
              "        await google.colab.output.renderOutput(dataTable, element);\n",
              "        const docLink = document.createElement('div');\n",
              "        docLink.innerHTML = docLinkHtml;\n",
              "        element.appendChild(docLink);\n",
              "      }\n",
              "    </script>\n",
              "  </div>\n",
              "\n",
              "\n",
              "<div id=\"df-7e2e57f6-8893-4aa1-aaee-ddf6d286921c\">\n",
              "  <button class=\"colab-df-quickchart\" onclick=\"quickchart('df-7e2e57f6-8893-4aa1-aaee-ddf6d286921c')\"\n",
              "            title=\"Suggest charts\"\n",
              "            style=\"display:none;\">\n",
              "\n",
              "<svg xmlns=\"http://www.w3.org/2000/svg\" height=\"24px\"viewBox=\"0 0 24 24\"\n",
              "     width=\"24px\">\n",
              "    <g>\n",
              "        <path d=\"M19 3H5c-1.1 0-2 .9-2 2v14c0 1.1.9 2 2 2h14c1.1 0 2-.9 2-2V5c0-1.1-.9-2-2-2zM9 17H7v-7h2v7zm4 0h-2V7h2v10zm4 0h-2v-4h2v4z\"/>\n",
              "    </g>\n",
              "</svg>\n",
              "  </button>\n",
              "\n",
              "<style>\n",
              "  .colab-df-quickchart {\n",
              "      --bg-color: #E8F0FE;\n",
              "      --fill-color: #1967D2;\n",
              "      --hover-bg-color: #E2EBFA;\n",
              "      --hover-fill-color: #174EA6;\n",
              "      --disabled-fill-color: #AAA;\n",
              "      --disabled-bg-color: #DDD;\n",
              "  }\n",
              "\n",
              "  [theme=dark] .colab-df-quickchart {\n",
              "      --bg-color: #3B4455;\n",
              "      --fill-color: #D2E3FC;\n",
              "      --hover-bg-color: #434B5C;\n",
              "      --hover-fill-color: #FFFFFF;\n",
              "      --disabled-bg-color: #3B4455;\n",
              "      --disabled-fill-color: #666;\n",
              "  }\n",
              "\n",
              "  .colab-df-quickchart {\n",
              "    background-color: var(--bg-color);\n",
              "    border: none;\n",
              "    border-radius: 50%;\n",
              "    cursor: pointer;\n",
              "    display: none;\n",
              "    fill: var(--fill-color);\n",
              "    height: 32px;\n",
              "    padding: 0;\n",
              "    width: 32px;\n",
              "  }\n",
              "\n",
              "  .colab-df-quickchart:hover {\n",
              "    background-color: var(--hover-bg-color);\n",
              "    box-shadow: 0 1px 2px rgba(60, 64, 67, 0.3), 0 1px 3px 1px rgba(60, 64, 67, 0.15);\n",
              "    fill: var(--button-hover-fill-color);\n",
              "  }\n",
              "\n",
              "  .colab-df-quickchart-complete:disabled,\n",
              "  .colab-df-quickchart-complete:disabled:hover {\n",
              "    background-color: var(--disabled-bg-color);\n",
              "    fill: var(--disabled-fill-color);\n",
              "    box-shadow: none;\n",
              "  }\n",
              "\n",
              "  .colab-df-spinner {\n",
              "    border: 2px solid var(--fill-color);\n",
              "    border-color: transparent;\n",
              "    border-bottom-color: var(--fill-color);\n",
              "    animation:\n",
              "      spin 1s steps(1) infinite;\n",
              "  }\n",
              "\n",
              "  @keyframes spin {\n",
              "    0% {\n",
              "      border-color: transparent;\n",
              "      border-bottom-color: var(--fill-color);\n",
              "      border-left-color: var(--fill-color);\n",
              "    }\n",
              "    20% {\n",
              "      border-color: transparent;\n",
              "      border-left-color: var(--fill-color);\n",
              "      border-top-color: var(--fill-color);\n",
              "    }\n",
              "    30% {\n",
              "      border-color: transparent;\n",
              "      border-left-color: var(--fill-color);\n",
              "      border-top-color: var(--fill-color);\n",
              "      border-right-color: var(--fill-color);\n",
              "    }\n",
              "    40% {\n",
              "      border-color: transparent;\n",
              "      border-right-color: var(--fill-color);\n",
              "      border-top-color: var(--fill-color);\n",
              "    }\n",
              "    60% {\n",
              "      border-color: transparent;\n",
              "      border-right-color: var(--fill-color);\n",
              "    }\n",
              "    80% {\n",
              "      border-color: transparent;\n",
              "      border-right-color: var(--fill-color);\n",
              "      border-bottom-color: var(--fill-color);\n",
              "    }\n",
              "    90% {\n",
              "      border-color: transparent;\n",
              "      border-bottom-color: var(--fill-color);\n",
              "    }\n",
              "  }\n",
              "</style>\n",
              "\n",
              "  <script>\n",
              "    async function quickchart(key) {\n",
              "      const quickchartButtonEl =\n",
              "        document.querySelector('#' + key + ' button');\n",
              "      quickchartButtonEl.disabled = true;  // To prevent multiple clicks.\n",
              "      quickchartButtonEl.classList.add('colab-df-spinner');\n",
              "      try {\n",
              "        const charts = await google.colab.kernel.invokeFunction(\n",
              "            'suggestCharts', [key], {});\n",
              "      } catch (error) {\n",
              "        console.error('Error during call to suggestCharts:', error);\n",
              "      }\n",
              "      quickchartButtonEl.classList.remove('colab-df-spinner');\n",
              "      quickchartButtonEl.classList.add('colab-df-quickchart-complete');\n",
              "    }\n",
              "    (() => {\n",
              "      let quickchartButtonEl =\n",
              "        document.querySelector('#df-7e2e57f6-8893-4aa1-aaee-ddf6d286921c button');\n",
              "      quickchartButtonEl.style.display =\n",
              "        google.colab.kernel.accessAllowed ? 'block' : 'none';\n",
              "    })();\n",
              "  </script>\n",
              "</div>\n",
              "    </div>\n",
              "  </div>\n"
            ],
            "application/vnd.google.colaboratory.intrinsic+json": {
              "type": "dataframe",
              "variable_name": "df"
            }
          },
          "metadata": {},
          "execution_count": 42
        }
      ]
    },
    {
      "cell_type": "code",
      "source": [],
      "metadata": {
        "id": "K4tXZRmL3pMT"
      },
      "execution_count": null,
      "outputs": []
    },
    {
      "cell_type": "code",
      "source": [
        "df['APipc_BARDpred'][3]"
      ],
      "metadata": {
        "colab": {
          "base_uri": "https://localhost:8080/"
        },
        "id": "pK_QiKuR3pO7",
        "outputId": "ee020398-d859-4d0c-844c-fb69269cf775"
      },
      "execution_count": null,
      "outputs": [
        {
          "output_type": "execute_result",
          "data": {
            "text/plain": [
              "['G06F17/30', 'G06N3/08', 'G16H50/50', 'I01J4/02', 'G06Q50/10']"
            ]
          },
          "metadata": {},
          "execution_count": 45
        }
      ]
    },
    {
      "cell_type": "code",
      "source": [],
      "metadata": {
        "id": "ATwBt-v_AVz_"
      },
      "execution_count": null,
      "outputs": []
    },
    {
      "cell_type": "code",
      "source": [],
      "metadata": {
        "id": "AgRFB9LKAV5P"
      },
      "execution_count": null,
      "outputs": []
    },
    {
      "cell_type": "markdown",
      "source": [
        "# verification code"
      ],
      "metadata": {
        "id": "W8lGu0_9AdNF"
      }
    },
    {
      "cell_type": "code",
      "source": [
        "# Function to extract class level from IPC code\n",
        "def extract_class(ipc_code):\n",
        "    return ipc_code.split('/')[0][:4]\n",
        "\n",
        "# Function to calculate accuracy\n",
        "def calculate_accuracy(truth_list, predicted_list):\n",
        "    # Extract class levels from the first item in the predicted list\n",
        "    predicted_class = extract_class(predicted_list[0])\n",
        "\n",
        "    # Check if the class level of the predicted list matches any class level in the truth list\n",
        "    return any(extract_class(truth_code) == predicted_class for truth_code in truth_list)\n",
        "\n",
        "# Example usage\n",
        "truth_list = ['G06F19/00', 'H04L12/26', 'G06Q50/00']\n",
        "predicted_list = ['G06J18/00', 'H04L12/30', 'G06Q49/00']\n",
        "\n",
        "# Calculate accuracy\n",
        "accuracy = calculate_accuracy(truth_list, predicted_list)\n",
        "\n",
        "# Print the accuracy\n",
        "print(f'Top1 accuracy at sub-class level: {accuracy}')"
      ],
      "metadata": {
        "colab": {
          "base_uri": "https://localhost:8080/"
        },
        "id": "CKBy7CNRAWC2",
        "outputId": "9ff8df7a-1f26-43c2-8b6d-dfa891b1899f"
      },
      "execution_count": null,
      "outputs": [
        {
          "output_type": "stream",
          "name": "stdout",
          "text": [
            "Top1 accuracy at sub-class level: False\n"
          ]
        }
      ]
    },
    {
      "cell_type": "code",
      "source": [],
      "metadata": {
        "id": "LPcpMcQtHish"
      },
      "execution_count": null,
      "outputs": []
    },
    {
      "cell_type": "markdown",
      "source": [
        "# verification for sub-group level"
      ],
      "metadata": {
        "id": "JHqpDQ8sHhTp"
      }
    },
    {
      "cell_type": "code",
      "source": [
        "# Function to extract class level from IPC code\n",
        "#def extract_class(ipc_code):\n",
        "#    return ipc_code.split('/')[0][:4]\n",
        "\n",
        "# Function to calculate accuracy\n",
        "def calculate_accuracy(truth_list, predicted_list):\n",
        "    # Extract class levels from the first item in the predicted list\n",
        "    predicted_class = predicted_list[2]\n",
        "\n",
        "    # Check if the class level of the predicted list matches any class level in the truth list\n",
        "    return any(truth_code == predicted_class for truth_code in truth_list)\n",
        "\n",
        "# Example usage\n",
        "truth_list = ['G06F19/00', 'H04L12/26', 'G06Q49/00']\n",
        "predicted_list = ['G06J18/00', 'H04L12/30', 'G06Q49/00']\n",
        "\n",
        "# Calculate accuracy\n",
        "accuracy = calculate_accuracy(truth_list, predicted_list)\n",
        "\n",
        "# Print the accuracy\n",
        "print(f'Top3 accuracy at sub-group level: {accuracy}')"
      ],
      "metadata": {
        "colab": {
          "base_uri": "https://localhost:8080/"
        },
        "id": "VJ7_jm6m1pHB",
        "outputId": "a0ed1b44-ed10-4f0c-d932-636ef445000c"
      },
      "execution_count": null,
      "outputs": [
        {
          "output_type": "stream",
          "name": "stdout",
          "text": [
            "Top3 accuracy at sub-group level: True\n"
          ]
        }
      ]
    },
    {
      "cell_type": "code",
      "source": [],
      "metadata": {
        "id": "2W5iVm2uHsG4"
      },
      "execution_count": null,
      "outputs": []
    },
    {
      "cell_type": "code",
      "source": [],
      "metadata": {
        "id": "SkzVgf-ZHsJq"
      },
      "execution_count": null,
      "outputs": []
    },
    {
      "cell_type": "markdown",
      "source": [
        "# Calcuate accuracy at Top 1 (using the first item of predicted ipcs)"
      ],
      "metadata": {
        "id": "gA8lM8JB5bke"
      }
    },
    {
      "cell_type": "markdown",
      "source": [
        "# section level"
      ],
      "metadata": {
        "id": "E3NxefK7LIaV"
      }
    },
    {
      "cell_type": "code",
      "source": [
        "import pandas as pd\n",
        "\n",
        "# Assuming df is your DataFrame\n",
        "# ... (your DataFrame initialization)\n",
        "\n",
        "# Columns to compare\n",
        "truth_column = ' APipc'\n",
        "predicted_columns = ['APipc_GPTpred', 'APipc_BARDpred', 'APipc_abstract_GPTpred', 'APipc_abstract_BARDpred']\n",
        "\n",
        "# Function to extract section level from IPC code\n",
        "def extract_section(ipc_code):\n",
        "    return ipc_code.split('/')[0][0]\n",
        "\n",
        "# Function to calculate accuracy\n",
        "def calculate_accuracy(row, predicted_column):\n",
        "    truth_list = row[truth_column]\n",
        "    predicted_list = row[predicted_column]\n",
        "\n",
        "    # Extract section levels from the first item in the predicted list\n",
        "    predicted_section = extract_section(predicted_list[0])\n",
        "\n",
        "    # Check if the section level of the predicted list matches any section level in the truth list\n",
        "    return any(extract_section(truth_code) == predicted_section for truth_code in truth_list)\n",
        "\n",
        "# Apply the accuracy calculation function to each predicted column and calculate the mean accuracy\n",
        "for predicted_column in predicted_columns:\n",
        "    accuracy = df.apply(lambda row: calculate_accuracy(row, predicted_column), axis=1).mean()\n",
        "\n",
        "    # Print the accuracy for each predicted column\n",
        "    print(f'Top1 accuracy of {predicted_column} at section level: {accuracy:.2%}')\n"
      ],
      "metadata": {
        "colab": {
          "base_uri": "https://localhost:8080/"
        },
        "id": "svIVXtKEETBs",
        "outputId": "6f5b9412-021a-49a0-88b9-b98e29c5b4b7"
      },
      "execution_count": null,
      "outputs": [
        {
          "output_type": "stream",
          "name": "stdout",
          "text": [
            "Top1 accuracy of APipc_GPTpred at section level: 100.00%\n",
            "Top1 accuracy of APipc_BARDpred at section level: 100.00%\n",
            "Top1 accuracy of APipc_abstract_GPTpred at section level: 100.00%\n",
            "Top1 accuracy of APipc_abstract_BARDpred at section level: 100.00%\n"
          ]
        }
      ]
    },
    {
      "cell_type": "markdown",
      "source": [
        "# class level"
      ],
      "metadata": {
        "id": "q0MOePJ_LLks"
      }
    },
    {
      "cell_type": "code",
      "source": [
        "import pandas as pd\n",
        "\n",
        "# Assuming df is your DataFrame\n",
        "# ... (your DataFrame initialization)\n",
        "\n",
        "# Columns to compare\n",
        "truth_column = ' APipc'\n",
        "predicted_columns = ['APipc_GPTpred', 'APipc_BARDpred', 'APipc_abstract_GPTpred', 'APipc_abstract_BARDpred']\n",
        "\n",
        "# Function to extract class level from IPC code\n",
        "def extract_class(ipc_code):\n",
        "    return ipc_code.split('/')[0][:3]\n",
        "\n",
        "# Function to calculate accuracy\n",
        "def calculate_accuracy(row, predicted_column):\n",
        "    truth_list = row[truth_column]\n",
        "    predicted_list = row[predicted_column]\n",
        "\n",
        "    # Extract class levels from the first item in the predicted list\n",
        "    predicted_class = extract_class(predicted_list[0])\n",
        "\n",
        "    # Check if the class level of the predicted list matches any class level in the truth list\n",
        "    return any(extract_class(truth_code) == predicted_class for truth_code in truth_list)\n",
        "\n",
        "# Apply the accuracy calculation function to each predicted column and calculate the mean accuracy\n",
        "for predicted_column in predicted_columns:\n",
        "    accuracy = df.apply(lambda row: calculate_accuracy(row, predicted_column), axis=1).mean()\n",
        "\n",
        "    # Print the accuracy for each predicted column\n",
        "    print(f'Top1 accuracy of {predicted_column} at class level: {accuracy:.2%}')\n"
      ],
      "metadata": {
        "colab": {
          "base_uri": "https://localhost:8080/"
        },
        "id": "aXVG3hsSETDr",
        "outputId": "b40607b1-111b-45b8-cfb1-368f5f120769"
      },
      "execution_count": null,
      "outputs": [
        {
          "output_type": "stream",
          "name": "stdout",
          "text": [
            "Top1 accuracy of APipc_GPTpred at class level: 100.00%\n",
            "Top1 accuracy of APipc_BARDpred at class level: 100.00%\n",
            "Top1 accuracy of APipc_abstract_GPTpred at class level: 100.00%\n",
            "Top1 accuracy of APipc_abstract_BARDpred at class level: 75.00%\n"
          ]
        }
      ]
    },
    {
      "cell_type": "code",
      "source": [],
      "metadata": {
        "id": "idVQhpFUL5Cl"
      },
      "execution_count": null,
      "outputs": []
    },
    {
      "cell_type": "markdown",
      "source": [
        "# sub-class level"
      ],
      "metadata": {
        "id": "fSBTTQ6XL549"
      }
    },
    {
      "cell_type": "code",
      "source": [
        "import pandas as pd\n",
        "\n",
        "# Assuming df is your DataFrame\n",
        "# ... (your DataFrame initialization)\n",
        "\n",
        "# Columns to compare\n",
        "truth_column = ' APipc'\n",
        "predicted_columns = ['APipc_GPTpred', 'APipc_BARDpred', 'APipc_abstract_GPTpred', 'APipc_abstract_BARDpred']\n",
        "\n",
        "# Function to extract sub-class level from IPC code\n",
        "def extract_subclass(ipc_code):\n",
        "    return ipc_code.split('/')[0][:4]\n",
        "\n",
        "# Function to calculate accuracy\n",
        "def calculate_accuracy(row, predicted_column):\n",
        "    truth_list = row[truth_column]\n",
        "    predicted_list = row[predicted_column]\n",
        "\n",
        "    # Extract sub-class levels from the first item in the predicted list\n",
        "    predicted_subclass = extract_subclass(predicted_list[0])\n",
        "\n",
        "    # Check if the sub-class level of the predicted list matches any sub-class level in the truth list\n",
        "    return any(extract_subclass(truth_code) == predicted_subclass for truth_code in truth_list)\n",
        "\n",
        "# Apply the accuracy calculation function to each predicted column and calculate the mean accuracy\n",
        "for predicted_column in predicted_columns:\n",
        "    accuracy = df.apply(lambda row: calculate_accuracy(row, predicted_column), axis=1).mean()\n",
        "\n",
        "    # Print the accuracy for each predicted column\n",
        "    print(f'Top1 accuracy of {predicted_column} at sub-class level: {accuracy:.2%}')\n"
      ],
      "metadata": {
        "colab": {
          "base_uri": "https://localhost:8080/"
        },
        "id": "w_LRwtHFLOnV",
        "outputId": "76c81241-fae0-4ca5-ec5d-d20de93c2071"
      },
      "execution_count": null,
      "outputs": [
        {
          "output_type": "stream",
          "name": "stdout",
          "text": [
            "Top1 accuracy of APipc_GPTpred at sub-class level: 100.00%\n",
            "Top1 accuracy of APipc_BARDpred at sub-class level: 75.00%\n",
            "Top1 accuracy of APipc_abstract_GPTpred at sub-class level: 50.00%\n",
            "Top1 accuracy of APipc_abstract_BARDpred at sub-class level: 75.00%\n"
          ]
        }
      ]
    },
    {
      "cell_type": "markdown",
      "source": [
        "## sub-group level"
      ],
      "metadata": {
        "id": "KG25wMJFIVS6"
      }
    },
    {
      "cell_type": "code",
      "source": [
        "import pandas as pd\n",
        "\n",
        "# Assuming df is your DataFrame\n",
        "# ... (your DataFrame initialization)\n",
        "\n",
        "# Columns to compare\n",
        "truth_column = ' APipc'\n",
        "predicted_columns = ['APipc_GPTpred', 'APipc_BARDpred', 'APipc_abstract_GPTpred', 'APipc_abstract_BARDpred']\n",
        "\n",
        "# Function to extract sub-class level from IPC code\n",
        "#def extract_subclass(ipc_code):\n",
        "#    return ipc_code.split('/')[0][:4]\n",
        "\n",
        "# Function to calculate accuracy\n",
        "def calculate_accuracy(row, predicted_column):\n",
        "    truth_list = row[truth_column]\n",
        "    predicted_list = row[predicted_column]\n",
        "\n",
        "    # Extract sub-group levels from the first item in the predicted list\n",
        "    predicted_subclass = predicted_list[0]\n",
        "\n",
        "    # Check if the sub-group level of the predicted list matches any sub-class level in the truth list\n",
        "    return any(truth_code == predicted_subclass for truth_code in truth_list)\n",
        "\n",
        "# Apply the accuracy calculation function to each predicted column and calculate the mean accuracy\n",
        "for predicted_column in predicted_columns:\n",
        "    accuracy = df.apply(lambda row: calculate_accuracy(row, predicted_column), axis=1).mean()\n",
        "\n",
        "    # Print the accuracy for each predicted column\n",
        "    print(f'Top1 accuracy of {predicted_column} at sub-group level: {accuracy:.2%}')\n"
      ],
      "metadata": {
        "colab": {
          "base_uri": "https://localhost:8080/"
        },
        "id": "wGilYhNkIYQS",
        "outputId": "2a0e0d14-318e-449b-f4a7-0ebd3afdc390"
      },
      "execution_count": null,
      "outputs": [
        {
          "output_type": "stream",
          "name": "stdout",
          "text": [
            "Top1 accuracy of APipc_GPTpred at sub-group level: 0.00%\n",
            "Top1 accuracy of APipc_BARDpred at sub-group level: 0.00%\n",
            "Top1 accuracy of APipc_abstract_GPTpred at sub-group level: 0.00%\n",
            "Top1 accuracy of APipc_abstract_BARDpred at sub-group level: 0.00%\n"
          ]
        }
      ]
    },
    {
      "cell_type": "code",
      "source": [],
      "metadata": {
        "id": "maM3XckUIYTe"
      },
      "execution_count": null,
      "outputs": []
    },
    {
      "cell_type": "code",
      "source": [],
      "metadata": {
        "id": "aUeNTfWZIYW4"
      },
      "execution_count": null,
      "outputs": []
    },
    {
      "cell_type": "markdown",
      "source": [
        "# Calcuate accuracy at Top 2 (using the second item of predicted ipcs)"
      ],
      "metadata": {
        "id": "siPugcQEAlM3"
      }
    },
    {
      "cell_type": "markdown",
      "source": [
        "## verification code"
      ],
      "metadata": {
        "id": "-dgCo7ZVAr6_"
      }
    },
    {
      "cell_type": "code",
      "source": [
        "# Function to extract class level from IPC code\n",
        "def extract_class(ipc_code):\n",
        "    return ipc_code.split('/')[0][:4]\n",
        "\n",
        "# Function to calculate accuracy\n",
        "def calculate_accuracy(truth_list, predicted_list):\n",
        "    # Extract class levels from the second item in the predicted list\n",
        "    predicted_class = extract_class(predicted_list[1])\n",
        "\n",
        "    # Check if the class level of the predicted list matches any class level in the truth list\n",
        "    return any(extract_class(truth_code) == predicted_class for truth_code in truth_list)\n",
        "\n",
        "# Example usage\n",
        "truth_list = ['G06F19/00', 'H04K12/26', 'G06Q50/00']\n",
        "predicted_list = ['G06J18/00', 'G06Q12/30', 'G06Q49/00']\n",
        "\n",
        "# Calculate accuracy\n",
        "accuracy = calculate_accuracy(truth_list, predicted_list)\n",
        "\n",
        "# Print the accuracy\n",
        "print(f'Top1 accuracy at sub-class level: {accuracy}')"
      ],
      "metadata": {
        "id": "EzgbYi5UMm4R",
        "colab": {
          "base_uri": "https://localhost:8080/"
        },
        "outputId": "bdfb020f-7c56-4069-fe2f-324aac91c3c1"
      },
      "execution_count": null,
      "outputs": [
        {
          "output_type": "stream",
          "name": "stdout",
          "text": [
            "Top1 accuracy at class level: True\n"
          ]
        }
      ]
    },
    {
      "cell_type": "markdown",
      "source": [
        "## section level"
      ],
      "metadata": {
        "id": "Rz2fjWYiFtAU"
      }
    },
    {
      "cell_type": "code",
      "source": [
        "import pandas as pd\n",
        "\n",
        "# Assuming df is your DataFrame\n",
        "# ... (your DataFrame initialization)\n",
        "\n",
        "# Columns to compare\n",
        "truth_column = ' APipc'\n",
        "predicted_columns = ['APipc_GPTpred', 'APipc_BARDpred', 'APipc_abstract_GPTpred', 'APipc_abstract_BARDpred']\n",
        "\n",
        "# Function to extract section level from IPC code\n",
        "def extract_section(ipc_code):\n",
        "    return ipc_code.split('/')[0][0]\n",
        "\n",
        "# Function to calculate accuracy\n",
        "def calculate_accuracy(row, predicted_column):\n",
        "    truth_list = row[truth_column]\n",
        "    predicted_list = row[predicted_column]\n",
        "\n",
        "    # Extract section levels from the first item in the predicted list\n",
        "    predicted_section = extract_section(predicted_list[1])\n",
        "\n",
        "    # Check if the section level of the predicted list matches any section level in the truth list\n",
        "    return any(extract_section(truth_code) == predicted_section for truth_code in truth_list)\n",
        "\n",
        "# Apply the accuracy calculation function to each predicted column and calculate the mean accuracy\n",
        "for predicted_column in predicted_columns:\n",
        "    accuracy = df.apply(lambda row: calculate_accuracy(row, predicted_column), axis=1).mean()\n",
        "\n",
        "    # Print the accuracy for each predicted column\n",
        "    print(f'Top2 accuracy of {predicted_column} at section level: {accuracy:.2%}')\n"
      ],
      "metadata": {
        "id": "yPIJ9YXNMpoh",
        "colab": {
          "base_uri": "https://localhost:8080/"
        },
        "outputId": "4c2bd0e6-b746-4e62-ed98-31b7ecef0bd5"
      },
      "execution_count": null,
      "outputs": [
        {
          "output_type": "stream",
          "name": "stdout",
          "text": [
            "Top2 accuracy of APipc_GPTpred at section level: 100.00%\n",
            "Top2 accuracy of APipc_BARDpred at section level: 100.00%\n",
            "Top2 accuracy of APipc_abstract_GPTpred at section level: 100.00%\n",
            "Top2 accuracy of APipc_abstract_BARDpred at section level: 100.00%\n"
          ]
        }
      ]
    },
    {
      "cell_type": "markdown",
      "source": [
        "## class level"
      ],
      "metadata": {
        "id": "hc8-On-wGATi"
      }
    },
    {
      "cell_type": "code",
      "source": [
        "import pandas as pd\n",
        "\n",
        "# Assuming df is your DataFrame\n",
        "# ... (your DataFrame initialization)\n",
        "\n",
        "# Columns to compare\n",
        "truth_column = ' APipc'\n",
        "predicted_columns = ['APipc_GPTpred', 'APipc_BARDpred', 'APipc_abstract_GPTpred', 'APipc_abstract_BARDpred']\n",
        "\n",
        "# Function to extract class level from IPC code\n",
        "def extract_class(ipc_code):\n",
        "    return ipc_code.split('/')[0][:3]\n",
        "\n",
        "# Function to calculate accuracy\n",
        "def calculate_accuracy(row, predicted_column):\n",
        "    truth_list = row[truth_column]\n",
        "    predicted_list = row[predicted_column]\n",
        "\n",
        "    # Extract class levels from the first item in the predicted list\n",
        "    predicted_class = extract_class(predicted_list[1])\n",
        "\n",
        "    # Check if the class level of the predicted list matches any class level in the truth list\n",
        "    return any(extract_class(truth_code) == predicted_class for truth_code in truth_list)\n",
        "\n",
        "# Apply the accuracy calculation function to each predicted column and calculate the mean accuracy\n",
        "for predicted_column in predicted_columns:\n",
        "    accuracy = df.apply(lambda row: calculate_accuracy(row, predicted_column), axis=1).mean()\n",
        "\n",
        "    # Print the accuracy for each predicted column\n",
        "    print(f'Top2 accuracy of {predicted_column} at class level: {accuracy:.2%}')\n"
      ],
      "metadata": {
        "id": "wyKqZJvQMpra",
        "colab": {
          "base_uri": "https://localhost:8080/"
        },
        "outputId": "8f70c296-5e22-41b0-8b78-e529867d7edb"
      },
      "execution_count": null,
      "outputs": [
        {
          "output_type": "stream",
          "name": "stdout",
          "text": [
            "Top2 accuracy of APipc_GPTpred at class level: 100.00%\n",
            "Top2 accuracy of APipc_BARDpred at class level: 75.00%\n",
            "Top2 accuracy of APipc_abstract_GPTpred at class level: 100.00%\n",
            "Top2 accuracy of APipc_abstract_BARDpred at class level: 75.00%\n"
          ]
        }
      ]
    },
    {
      "cell_type": "markdown",
      "source": [
        "## sub-class level"
      ],
      "metadata": {
        "id": "WxqbqrBSGQzX"
      }
    },
    {
      "cell_type": "code",
      "source": [
        "import pandas as pd\n",
        "\n",
        "# Assuming df is your DataFrame\n",
        "# ... (your DataFrame initialization)\n",
        "\n",
        "# Columns to compare\n",
        "truth_column = ' APipc'\n",
        "predicted_columns = ['APipc_GPTpred', 'APipc_BARDpred', 'APipc_abstract_GPTpred', 'APipc_abstract_BARDpred']\n",
        "\n",
        "# Function to extract sub-class level from IPC code\n",
        "def extract_subclass(ipc_code):\n",
        "    return ipc_code.split('/')[0][:4]\n",
        "\n",
        "# Function to calculate accuracy\n",
        "def calculate_accuracy(row, predicted_column):\n",
        "    truth_list = row[truth_column]\n",
        "    predicted_list = row[predicted_column]\n",
        "\n",
        "    # Extract sub-class levels from the first item in the predicted list\n",
        "    predicted_subclass = extract_subclass(predicted_list[1])\n",
        "\n",
        "    # Check if the sub-class level of the predicted list matches any sub-class level in the truth list\n",
        "    return any(extract_subclass(truth_code) == predicted_subclass for truth_code in truth_list)\n",
        "\n",
        "# Ap n in predicted_columns:\n",
        "    accuracy = df.apply(lambda row: calculate_accuracy(row, predicted_column), axis=1).mean()\n",
        "\n",
        "    # Print the accuracy for each predicted column\n",
        "    print(f'Top2 accuracy of {predicted_column} at sub-class level: {accuracy:.2%}')"
      ],
      "metadata": {
        "id": "HPeAo8L3Mpua",
        "colab": {
          "base_uri": "https://localhost:8080/"
        },
        "outputId": "4f17589e-f943-4e96-9a41-f703dd91860d"
      },
      "execution_count": null,
      "outputs": [
        {
          "output_type": "stream",
          "name": "stdout",
          "text": [
            "Top2 accuracy of APipc_GPTpred at sub-class level: 25.00%\n",
            "Top2 accuracy of APipc_BARDpred at sub-class level: 25.00%\n",
            "Top2 accuracy of APipc_abstract_GPTpred at sub-class level: 75.00%\n",
            "Top2 accuracy of APipc_abstract_BARDpred at sub-class level: 75.00%\n"
          ]
        }
      ]
    },
    {
      "cell_type": "markdown",
      "source": [
        "## sub-group level"
      ],
      "metadata": {
        "id": "eF9t7dcSMJv3"
      }
    },
    {
      "cell_type": "code",
      "source": [
        "import pandas as pd\n",
        "\n",
        "# Assuming df is your DataFrame\n",
        "# ... (your DataFrame initialization)\n",
        "\n",
        "# Columns to compare\n",
        "truth_column = ' APipc'\n",
        "predicted_columns = ['APipc_GPTpred', 'APipc_BARDpred', 'APipc_abstract_GPTpred', 'APipc_abstract_BARDpred']\n",
        "\n",
        "# Function to extract sub-class level from IPC code\n",
        "#def extract_subclass(ipc_code):\n",
        "#    return ipc_code.split('/')[0][:4]\n",
        "\n",
        "# Function to calculate accuracy\n",
        "def calculate_accuracy(row, predicted_column):\n",
        "    truth_list = row[truth_column]\n",
        "    predicted_list = row[predicted_column]\n",
        "\n",
        "    # Extract sub-group levels from the first item in the predicted list\n",
        "    predicted_subclass = predicted_list[1]\n",
        "\n",
        "    # Check if the sub-group level of the predicted list matches any sub-group level in the truth list\n",
        "    return any(truth_code == predicted_subclass for truth_code in truth_list)\n",
        "\n",
        "# Apply the accuracy calculation function to each predicted column and calculate the mean accuracy\n",
        "for predicted_column in predicted_columns:\n",
        "    accuracy = df.apply(lambda row: calculate_accuracy(row, predicted_column), axis=1).mean()\n",
        "\n",
        "    # Print the accuracy for each predicted column\n",
        "    print(f'Top2 accuracy of {predicted_column} at sub-group level: {accuracy:.2%}')"
      ],
      "metadata": {
        "id": "GoWI29jeMp36",
        "colab": {
          "base_uri": "https://localhost:8080/"
        },
        "outputId": "c1875bf6-a3c2-44d7-803d-ae2ba7d2708f"
      },
      "execution_count": null,
      "outputs": [
        {
          "output_type": "stream",
          "name": "stdout",
          "text": [
            "Top2 accuracy of APipc_GPTpred at sub-group level: 0.00%\n",
            "Top2 accuracy of APipc_BARDpred at sub-group level: 0.00%\n",
            "Top2 accuracy of APipc_abstract_GPTpred at sub-group level: 0.00%\n",
            "Top2 accuracy of APipc_abstract_BARDpred at sub-group level: 0.00%\n"
          ]
        }
      ]
    },
    {
      "cell_type": "code",
      "source": [
        "\n",
        "\n"
      ],
      "metadata": {
        "id": "qOaVPCZSMfYF"
      },
      "execution_count": null,
      "outputs": []
    },
    {
      "cell_type": "code",
      "source": [],
      "metadata": {
        "id": "i3-ZgoorOX9T"
      },
      "execution_count": null,
      "outputs": []
    }
  ]
}