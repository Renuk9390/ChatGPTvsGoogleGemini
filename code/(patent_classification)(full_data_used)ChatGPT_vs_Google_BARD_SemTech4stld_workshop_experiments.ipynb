{
  "nbformat": 4,
  "nbformat_minor": 0,
  "metadata": {
    "colab": {
      "provenance": []
    },
    "kernelspec": {
      "name": "python3",
      "display_name": "Python 3"
    },
    "language_info": {
      "name": "python"
    }
  },
  "cells": [
    {
      "cell_type": "code",
      "execution_count": null,
      "metadata": {
        "colab": {
          "base_uri": "https://localhost:8080/"
        },
        "id": "Cy7Rd8MKvUlV",
        "outputId": "cfd61642-1fa9-4282-c769-0ed372706851"
      },
      "outputs": [
        {
          "output_type": "stream",
          "name": "stdout",
          "text": [
            "Mounted at /content/gdrive/\n"
          ]
        }
      ],
      "source": [
        "# connect to drive\n",
        "from google.colab import drive\n",
        "drive.mount('/content/gdrive/', force_remount=True)"
      ]
    },
    {
      "cell_type": "code",
      "source": [
        "cd gdrive/MyDrive/SemTech4STLD_related_code_and_data/"
      ],
      "metadata": {
        "colab": {
          "base_uri": "https://localhost:8080/"
        },
        "id": "o01G2NyKwL24",
        "outputId": "476d8109-a6a3-453c-df47-de8153eba7a7"
      },
      "execution_count": null,
      "outputs": [
        {
          "output_type": "stream",
          "name": "stdout",
          "text": [
            "/content/gdrive/MyDrive/SemTech4STLD_related_code_and_data\n"
          ]
        }
      ]
    },
    {
      "cell_type": "code",
      "source": [
        "# upload dataset to drive\n",
        "from google.colab import files\n",
        "files.upload()"
      ],
      "metadata": {
        "id": "egsqgfwOvjY1"
      },
      "execution_count": null,
      "outputs": []
    },
    {
      "cell_type": "code",
      "source": [
        "ls"
      ],
      "metadata": {
        "colab": {
          "base_uri": "https://localhost:8080/"
        },
        "id": "M285zS8svp-k",
        "outputId": "b3107ebc-0906-43cc-c944-cce27dac42a6"
      },
      "execution_count": null,
      "outputs": [
        {
          "output_type": "stream",
          "name": "stdout",
          "text": [
            "'Copy of ClaimCiteRetrieval_ESR_based_JSONed_20-02-2024_new.xlsx'\n",
            "'Copy of ClaimCiteRetrieval_ESR_based_JSONed_20-02-2024.xlsx'\n",
            " sample-dataset-for-results-analysis-SemTech4stld.xlsx\n"
          ]
        }
      ]
    },
    {
      "cell_type": "code",
      "source": [
        "import pandas as pd\n",
        "# Read xl file file\n",
        "csv_file_path = './Copy of ClaimCiteRetrieval_ESR_based_JSONed_20-02-2024_new.xlsx'\n",
        "df = pd.read_excel(csv_file_path)"
      ],
      "metadata": {
        "id": "PyFhhQ6cwbg8"
      },
      "execution_count": null,
      "outputs": []
    },
    {
      "cell_type": "code",
      "source": [
        "df.head(2)"
      ],
      "metadata": {
        "colab": {
          "base_uri": "https://localhost:8080/",
          "height": 335
        },
        "id": "Sk8crvDsvqEk",
        "outputId": "fe38766f-46a8-4d89-fab8-ae1a1ad40b01"
      },
      "execution_count": null,
      "outputs": [
        {
          "output_type": "execute_result",
          "data": {
            "text/plain": [
              "       APnum            PAnum  \\\n",
              "0  EP4300511  US20140019162A1   \n",
              "1  EP4273738  US20080091405A1   \n",
              "\n",
              "                                             APclaim  \\\n",
              "0  Text classification method to aid on clinical ...   \n",
              "1  A semantic representation generation method of...   \n",
              "\n",
              "                                             PAclaim  \\\n",
              "0  An automated triage system, comprising:\\na pat...   \n",
              "1  A method of analyzing a sentence in a source l...   \n",
              "\n",
              "                                          APabstract  \\\n",
              "0  The present application describes an automatic...   \n",
              "1  In a semantic representation generation method...   \n",
              "\n",
              "                                          PAabstract  \\\n",
              "0  An automated triage system may include a patie...   \n",
              "1  A method and computer system for analyzing sen...   \n",
              "\n",
              "                                               APipc                    PAipc  \\\n",
              "0  G16H50/20, G16H10/60, G16H40/20, G06F40/10, G0...  G06F 9/00, G06O 50/24,    \n",
              "1          G06F40/30, // G06F40/211, G06F40/268, ...                G06F 7/28   \n",
              "\n",
              "                                        PAparagraphs  \\\n",
              "0  [0057]\\nFIGS. 3A-3B illustrate a more detailed...   \n",
              "1    \\n[0004]\\nThe acquired ability to understand...   \n",
              "\n",
              "                                    PApragraphs_Json  ... PApredGPT_top2  \\\n",
              "0  {\\n  \"sentences\": [\\n    {\\n      \"id\": \"0057\"...  ...            NaN   \n",
              "1  {\\n  \"sentences\": [\\n    {\\n      \"id\": \"0004\"...  ...            NaN   \n",
              "\n",
              "  PApredGPT_top3       PApredBARD_all3  PApredBARD_top1  PApredBARD_top2  \\\n",
              "0            NaN  \\n(0058, 0059, 0092)              NaN              NaN   \n",
              "1            NaN    (0004, 0005, 0015)              NaN              NaN   \n",
              "\n",
              "  PApredBARD_top3                                      APipc_GPTpred  \\\n",
              "0             NaN  G16H 30/20, G06Q 50/24, A61B 5/00, G06F 19/00,...   \n",
              "1             NaN  G06F 17/27, G06F 17/28, G06F 17/30, G06F 17/50...   \n",
              "\n",
              "                                      APipc_BARDpred  \\\n",
              "0  ipc1: G06F19/00, ipc2: G06N3/08, ipc3: G16H50/...   \n",
              "1  \\nipc1: G06N3/05, ipc2: G10L15/00, ipc3: H04L2...   \n",
              "\n",
              "                              APipc_abstract_GPTpred  \\\n",
              "0  G06F17/305, G16H30/20, A61B5/1503, G06N3/00, G...   \n",
              "1  G06F17/27, G06N3/04, G06F17/305, G06Q10/08, G0...   \n",
              "\n",
              "                             APipc_abstract_BARDpred  \n",
              "0  G06F17/30, G06F7/07, G16H50/20, G16H50/50, G06...  \n",
              "1  G10L15/00, G10L15/02, G10L25/00, G10L25/04, G0...  \n",
              "\n",
              "[2 rows x 23 columns]"
            ],
            "text/html": [
              "\n",
              "  <div id=\"df-5d0ee9e2-d13a-424e-bd56-40d07797762d\" class=\"colab-df-container\">\n",
              "    <div>\n",
              "<style scoped>\n",
              "    .dataframe tbody tr th:only-of-type {\n",
              "        vertical-align: middle;\n",
              "    }\n",
              "\n",
              "    .dataframe tbody tr th {\n",
              "        vertical-align: top;\n",
              "    }\n",
              "\n",
              "    .dataframe thead th {\n",
              "        text-align: right;\n",
              "    }\n",
              "</style>\n",
              "<table border=\"1\" class=\"dataframe\">\n",
              "  <thead>\n",
              "    <tr style=\"text-align: right;\">\n",
              "      <th></th>\n",
              "      <th>APnum</th>\n",
              "      <th>PAnum</th>\n",
              "      <th>APclaim</th>\n",
              "      <th>PAclaim</th>\n",
              "      <th>APabstract</th>\n",
              "      <th>PAabstract</th>\n",
              "      <th>APipc</th>\n",
              "      <th>PAipc</th>\n",
              "      <th>PAparagraphs</th>\n",
              "      <th>PApragraphs_Json</th>\n",
              "      <th>...</th>\n",
              "      <th>PApredGPT_top2</th>\n",
              "      <th>PApredGPT_top3</th>\n",
              "      <th>PApredBARD_all3</th>\n",
              "      <th>PApredBARD_top1</th>\n",
              "      <th>PApredBARD_top2</th>\n",
              "      <th>PApredBARD_top3</th>\n",
              "      <th>APipc_GPTpred</th>\n",
              "      <th>APipc_BARDpred</th>\n",
              "      <th>APipc_abstract_GPTpred</th>\n",
              "      <th>APipc_abstract_BARDpred</th>\n",
              "    </tr>\n",
              "  </thead>\n",
              "  <tbody>\n",
              "    <tr>\n",
              "      <th>0</th>\n",
              "      <td>EP4300511</td>\n",
              "      <td>US20140019162A1</td>\n",
              "      <td>Text classification method to aid on clinical ...</td>\n",
              "      <td>An automated triage system, comprising:\\na pat...</td>\n",
              "      <td>The present application describes an automatic...</td>\n",
              "      <td>An automated triage system may include a patie...</td>\n",
              "      <td>G16H50/20, G16H10/60, G16H40/20, G06F40/10, G0...</td>\n",
              "      <td>G06F 9/00, G06O 50/24,</td>\n",
              "      <td>[0057]\\nFIGS. 3A-3B illustrate a more detailed...</td>\n",
              "      <td>{\\n  \"sentences\": [\\n    {\\n      \"id\": \"0057\"...</td>\n",
              "      <td>...</td>\n",
              "      <td>NaN</td>\n",
              "      <td>NaN</td>\n",
              "      <td>\\n(0058, 0059, 0092)</td>\n",
              "      <td>NaN</td>\n",
              "      <td>NaN</td>\n",
              "      <td>NaN</td>\n",
              "      <td>G16H 30/20, G06Q 50/24, A61B 5/00, G06F 19/00,...</td>\n",
              "      <td>ipc1: G06F19/00, ipc2: G06N3/08, ipc3: G16H50/...</td>\n",
              "      <td>G06F17/305, G16H30/20, A61B5/1503, G06N3/00, G...</td>\n",
              "      <td>G06F17/30, G06F7/07, G16H50/20, G16H50/50, G06...</td>\n",
              "    </tr>\n",
              "    <tr>\n",
              "      <th>1</th>\n",
              "      <td>EP4273738</td>\n",
              "      <td>US20080091405A1</td>\n",
              "      <td>A semantic representation generation method of...</td>\n",
              "      <td>A method of analyzing a sentence in a source l...</td>\n",
              "      <td>In a semantic representation generation method...</td>\n",
              "      <td>A method and computer system for analyzing sen...</td>\n",
              "      <td>G06F40/30, // G06F40/211, G06F40/268, ...</td>\n",
              "      <td>G06F 7/28</td>\n",
              "      <td>\\n[0004]\\nThe acquired ability to understand...</td>\n",
              "      <td>{\\n  \"sentences\": [\\n    {\\n      \"id\": \"0004\"...</td>\n",
              "      <td>...</td>\n",
              "      <td>NaN</td>\n",
              "      <td>NaN</td>\n",
              "      <td>(0004, 0005, 0015)</td>\n",
              "      <td>NaN</td>\n",
              "      <td>NaN</td>\n",
              "      <td>NaN</td>\n",
              "      <td>G06F 17/27, G06F 17/28, G06F 17/30, G06F 17/50...</td>\n",
              "      <td>\\nipc1: G06N3/05, ipc2: G10L15/00, ipc3: H04L2...</td>\n",
              "      <td>G06F17/27, G06N3/04, G06F17/305, G06Q10/08, G0...</td>\n",
              "      <td>G10L15/00, G10L15/02, G10L25/00, G10L25/04, G0...</td>\n",
              "    </tr>\n",
              "  </tbody>\n",
              "</table>\n",
              "<p>2 rows × 23 columns</p>\n",
              "</div>\n",
              "    <div class=\"colab-df-buttons\">\n",
              "\n",
              "  <div class=\"colab-df-container\">\n",
              "    <button class=\"colab-df-convert\" onclick=\"convertToInteractive('df-5d0ee9e2-d13a-424e-bd56-40d07797762d')\"\n",
              "            title=\"Convert this dataframe to an interactive table.\"\n",
              "            style=\"display:none;\">\n",
              "\n",
              "  <svg xmlns=\"http://www.w3.org/2000/svg\" height=\"24px\" viewBox=\"0 -960 960 960\">\n",
              "    <path d=\"M120-120v-720h720v720H120Zm60-500h600v-160H180v160Zm220 220h160v-160H400v160Zm0 220h160v-160H400v160ZM180-400h160v-160H180v160Zm440 0h160v-160H620v160ZM180-180h160v-160H180v160Zm440 0h160v-160H620v160Z\"/>\n",
              "  </svg>\n",
              "    </button>\n",
              "\n",
              "  <style>\n",
              "    .colab-df-container {\n",
              "      display:flex;\n",
              "      gap: 12px;\n",
              "    }\n",
              "\n",
              "    .colab-df-convert {\n",
              "      background-color: #E8F0FE;\n",
              "      border: none;\n",
              "      border-radius: 50%;\n",
              "      cursor: pointer;\n",
              "      display: none;\n",
              "      fill: #1967D2;\n",
              "      height: 32px;\n",
              "      padding: 0 0 0 0;\n",
              "      width: 32px;\n",
              "    }\n",
              "\n",
              "    .colab-df-convert:hover {\n",
              "      background-color: #E2EBFA;\n",
              "      box-shadow: 0px 1px 2px rgba(60, 64, 67, 0.3), 0px 1px 3px 1px rgba(60, 64, 67, 0.15);\n",
              "      fill: #174EA6;\n",
              "    }\n",
              "\n",
              "    .colab-df-buttons div {\n",
              "      margin-bottom: 4px;\n",
              "    }\n",
              "\n",
              "    [theme=dark] .colab-df-convert {\n",
              "      background-color: #3B4455;\n",
              "      fill: #D2E3FC;\n",
              "    }\n",
              "\n",
              "    [theme=dark] .colab-df-convert:hover {\n",
              "      background-color: #434B5C;\n",
              "      box-shadow: 0px 1px 3px 1px rgba(0, 0, 0, 0.15);\n",
              "      filter: drop-shadow(0px 1px 2px rgba(0, 0, 0, 0.3));\n",
              "      fill: #FFFFFF;\n",
              "    }\n",
              "  </style>\n",
              "\n",
              "    <script>\n",
              "      const buttonEl =\n",
              "        document.querySelector('#df-5d0ee9e2-d13a-424e-bd56-40d07797762d button.colab-df-convert');\n",
              "      buttonEl.style.display =\n",
              "        google.colab.kernel.accessAllowed ? 'block' : 'none';\n",
              "\n",
              "      async function convertToInteractive(key) {\n",
              "        const element = document.querySelector('#df-5d0ee9e2-d13a-424e-bd56-40d07797762d');\n",
              "        const dataTable =\n",
              "          await google.colab.kernel.invokeFunction('convertToInteractive',\n",
              "                                                    [key], {});\n",
              "        if (!dataTable) return;\n",
              "\n",
              "        const docLinkHtml = 'Like what you see? Visit the ' +\n",
              "          '<a target=\"_blank\" href=https://colab.research.google.com/notebooks/data_table.ipynb>data table notebook</a>'\n",
              "          + ' to learn more about interactive tables.';\n",
              "        element.innerHTML = '';\n",
              "        dataTable['output_type'] = 'display_data';\n",
              "        await google.colab.output.renderOutput(dataTable, element);\n",
              "        const docLink = document.createElement('div');\n",
              "        docLink.innerHTML = docLinkHtml;\n",
              "        element.appendChild(docLink);\n",
              "      }\n",
              "    </script>\n",
              "  </div>\n",
              "\n",
              "\n",
              "<div id=\"df-f7f68c2a-8852-4d75-8136-6899c432a395\">\n",
              "  <button class=\"colab-df-quickchart\" onclick=\"quickchart('df-f7f68c2a-8852-4d75-8136-6899c432a395')\"\n",
              "            title=\"Suggest charts\"\n",
              "            style=\"display:none;\">\n",
              "\n",
              "<svg xmlns=\"http://www.w3.org/2000/svg\" height=\"24px\"viewBox=\"0 0 24 24\"\n",
              "     width=\"24px\">\n",
              "    <g>\n",
              "        <path d=\"M19 3H5c-1.1 0-2 .9-2 2v14c0 1.1.9 2 2 2h14c1.1 0 2-.9 2-2V5c0-1.1-.9-2-2-2zM9 17H7v-7h2v7zm4 0h-2V7h2v10zm4 0h-2v-4h2v4z\"/>\n",
              "    </g>\n",
              "</svg>\n",
              "  </button>\n",
              "\n",
              "<style>\n",
              "  .colab-df-quickchart {\n",
              "      --bg-color: #E8F0FE;\n",
              "      --fill-color: #1967D2;\n",
              "      --hover-bg-color: #E2EBFA;\n",
              "      --hover-fill-color: #174EA6;\n",
              "      --disabled-fill-color: #AAA;\n",
              "      --disabled-bg-color: #DDD;\n",
              "  }\n",
              "\n",
              "  [theme=dark] .colab-df-quickchart {\n",
              "      --bg-color: #3B4455;\n",
              "      --fill-color: #D2E3FC;\n",
              "      --hover-bg-color: #434B5C;\n",
              "      --hover-fill-color: #FFFFFF;\n",
              "      --disabled-bg-color: #3B4455;\n",
              "      --disabled-fill-color: #666;\n",
              "  }\n",
              "\n",
              "  .colab-df-quickchart {\n",
              "    background-color: var(--bg-color);\n",
              "    border: none;\n",
              "    border-radius: 50%;\n",
              "    cursor: pointer;\n",
              "    display: none;\n",
              "    fill: var(--fill-color);\n",
              "    height: 32px;\n",
              "    padding: 0;\n",
              "    width: 32px;\n",
              "  }\n",
              "\n",
              "  .colab-df-quickchart:hover {\n",
              "    background-color: var(--hover-bg-color);\n",
              "    box-shadow: 0 1px 2px rgba(60, 64, 67, 0.3), 0 1px 3px 1px rgba(60, 64, 67, 0.15);\n",
              "    fill: var(--button-hover-fill-color);\n",
              "  }\n",
              "\n",
              "  .colab-df-quickchart-complete:disabled,\n",
              "  .colab-df-quickchart-complete:disabled:hover {\n",
              "    background-color: var(--disabled-bg-color);\n",
              "    fill: var(--disabled-fill-color);\n",
              "    box-shadow: none;\n",
              "  }\n",
              "\n",
              "  .colab-df-spinner {\n",
              "    border: 2px solid var(--fill-color);\n",
              "    border-color: transparent;\n",
              "    border-bottom-color: var(--fill-color);\n",
              "    animation:\n",
              "      spin 1s steps(1) infinite;\n",
              "  }\n",
              "\n",
              "  @keyframes spin {\n",
              "    0% {\n",
              "      border-color: transparent;\n",
              "      border-bottom-color: var(--fill-color);\n",
              "      border-left-color: var(--fill-color);\n",
              "    }\n",
              "    20% {\n",
              "      border-color: transparent;\n",
              "      border-left-color: var(--fill-color);\n",
              "      border-top-color: var(--fill-color);\n",
              "    }\n",
              "    30% {\n",
              "      border-color: transparent;\n",
              "      border-left-color: var(--fill-color);\n",
              "      border-top-color: var(--fill-color);\n",
              "      border-right-color: var(--fill-color);\n",
              "    }\n",
              "    40% {\n",
              "      border-color: transparent;\n",
              "      border-right-color: var(--fill-color);\n",
              "      border-top-color: var(--fill-color);\n",
              "    }\n",
              "    60% {\n",
              "      border-color: transparent;\n",
              "      border-right-color: var(--fill-color);\n",
              "    }\n",
              "    80% {\n",
              "      border-color: transparent;\n",
              "      border-right-color: var(--fill-color);\n",
              "      border-bottom-color: var(--fill-color);\n",
              "    }\n",
              "    90% {\n",
              "      border-color: transparent;\n",
              "      border-bottom-color: var(--fill-color);\n",
              "    }\n",
              "  }\n",
              "</style>\n",
              "\n",
              "  <script>\n",
              "    async function quickchart(key) {\n",
              "      const quickchartButtonEl =\n",
              "        document.querySelector('#' + key + ' button');\n",
              "      quickchartButtonEl.disabled = true;  // To prevent multiple clicks.\n",
              "      quickchartButtonEl.classList.add('colab-df-spinner');\n",
              "      try {\n",
              "        const charts = await google.colab.kernel.invokeFunction(\n",
              "            'suggestCharts', [key], {});\n",
              "      } catch (error) {\n",
              "        console.error('Error during call to suggestCharts:', error);\n",
              "      }\n",
              "      quickchartButtonEl.classList.remove('colab-df-spinner');\n",
              "      quickchartButtonEl.classList.add('colab-df-quickchart-complete');\n",
              "    }\n",
              "    (() => {\n",
              "      let quickchartButtonEl =\n",
              "        document.querySelector('#df-f7f68c2a-8852-4d75-8136-6899c432a395 button');\n",
              "      quickchartButtonEl.style.display =\n",
              "        google.colab.kernel.accessAllowed ? 'block' : 'none';\n",
              "    })();\n",
              "  </script>\n",
              "</div>\n",
              "    </div>\n",
              "  </div>\n"
            ],
            "application/vnd.google.colaboratory.intrinsic+json": {
              "type": "dataframe",
              "variable_name": "df"
            }
          },
          "metadata": {},
          "execution_count": 10
        }
      ]
    },
    {
      "cell_type": "code",
      "source": [
        "df.shape"
      ],
      "metadata": {
        "colab": {
          "base_uri": "https://localhost:8080/"
        },
        "id": "n8iZJalAvqHd",
        "outputId": "84061b4f-c100-4a3b-8a56-b6e0b3807701"
      },
      "execution_count": null,
      "outputs": [
        {
          "output_type": "execute_result",
          "data": {
            "text/plain": [
              "(49, 23)"
            ]
          },
          "metadata": {},
          "execution_count": 7
        }
      ]
    },
    {
      "cell_type": "code",
      "source": [],
      "metadata": {
        "id": "kuuhCsnvvqKu"
      },
      "execution_count": null,
      "outputs": []
    },
    {
      "cell_type": "markdown",
      "source": [
        "# Task 1: Length of text (no. words) across different text type of 'ClaimCiteRetrieval' dataset"
      ],
      "metadata": {
        "id": "K_85cZgmxHaZ"
      }
    },
    {
      "cell_type": "code",
      "source": [
        "# Assuming df is your DataFrame\n",
        "columns_to_analyze = ['APabstract', 'PAabstract', 'APclaim', 'PAclaim', 'PAparagraphs']\n",
        "\n",
        "# Calculate number of words for each text in the specified columns\n",
        "word_lengths = df[columns_to_analyze].apply(lambda x: x.apply(lambda text: len(str(text).split())))\n",
        "\n",
        "# Display min, max, and mean word lengths\n",
        "print(\"Minimum Word Lengths:\")\n",
        "print(word_lengths.min())\n",
        "\n",
        "print(\"\\nMaximum Word Lengths:\")\n",
        "print(word_lengths.max())\n",
        "\n",
        "print(\"\\nAverage Word Lengths:\")\n",
        "print(word_lengths.mean())\n"
      ],
      "metadata": {
        "colab": {
          "base_uri": "https://localhost:8080/"
        },
        "id": "d5VlYL2kvqOE",
        "outputId": "c0dc2c01-c51c-4b81-a802-45f2868c4821"
      },
      "execution_count": null,
      "outputs": [
        {
          "output_type": "stream",
          "name": "stdout",
          "text": [
            "Minimum Word Lengths:\n",
            "APabstract       23\n",
            "PAabstract       58\n",
            "APclaim          51\n",
            "PAclaim          58\n",
            "PAparagraphs    386\n",
            "dtype: int64\n",
            "\n",
            "Maximum Word Lengths:\n",
            "APabstract       201\n",
            "PAabstract       216\n",
            "APclaim          337\n",
            "PAclaim          421\n",
            "PAparagraphs    1581\n",
            "dtype: int64\n",
            "\n",
            "Average Word Lengths:\n",
            "APabstract      121.265306\n",
            "PAabstract      137.632653\n",
            "APclaim         166.163265\n",
            "PAclaim         151.795918\n",
            "PAparagraphs    946.387755\n",
            "dtype: float64\n"
          ]
        }
      ]
    },
    {
      "cell_type": "markdown",
      "source": [
        "### Task 1.1: Percentage of counts for each distinct two-letter prefix"
      ],
      "metadata": {
        "id": "lujS4oQJyuxx"
      }
    },
    {
      "cell_type": "markdown",
      "source": [
        "Below code clearly says that, patent document from US and China in general holds longer abstracts and shorter claims in comparison to European patent documents."
      ],
      "metadata": {
        "id": "c5qbhFo4zJrp"
      }
    },
    {
      "cell_type": "code",
      "source": [
        "import pandas as pd\n",
        "\n",
        "# Assuming 'df' is your DataFrame with the 'PAnum' column\n",
        "# Replace 'PAnum' with the actual column name in your DataFrame\n",
        "distinct_prefix_counts = df['PAnum'].str[:2].value_counts(normalize=True) * 100\n",
        "\n",
        "print(\"Percentage of counts for each distinct two-letter prefix:\")\n",
        "print(distinct_prefix_counts)"
      ],
      "metadata": {
        "colab": {
          "base_uri": "https://localhost:8080/"
        },
        "id": "SsvY_egmvqRY",
        "outputId": "a22ab44b-e65a-413b-a920-2e1151fb1365"
      },
      "execution_count": null,
      "outputs": [
        {
          "output_type": "stream",
          "name": "stdout",
          "text": [
            "Percentage of counts for each distinct two-letter prefix:\n",
            "US    46.938776\n",
            "CN    40.816327\n",
            "WO     8.163265\n",
            "EP     2.040816\n",
            "KR     2.040816\n",
            "Name: PAnum, dtype: float64\n"
          ]
        }
      ]
    },
    {
      "cell_type": "code",
      "source": [
        "ls"
      ],
      "metadata": {
        "colab": {
          "base_uri": "https://localhost:8080/"
        },
        "id": "gCuHSgwK7DIy",
        "outputId": "ac3a416c-337b-49ea-f691-c565e837e1d8"
      },
      "execution_count": null,
      "outputs": [
        {
          "output_type": "stream",
          "name": "stdout",
          "text": [
            "'Copy of ClaimCiteRetrieval_ESR_based_JSONed_20-02-2024_new.xlsx'\n",
            "'Copy of ClaimCiteRetrieval_ESR_based_JSONed_20-02-2024.xlsx'\n",
            " sample-dataset-for-results-analysis-SemTech4stld.xlsx\n"
          ]
        }
      ]
    },
    {
      "cell_type": "code",
      "source": [],
      "metadata": {
        "id": "wEsJi6J_7DQO"
      },
      "execution_count": null,
      "outputs": []
    },
    {
      "cell_type": "markdown",
      "source": [
        "# Task 2: Preprocessing for Patent classification using ChatGPT and google Gemini"
      ],
      "metadata": {
        "id": "MBWBSEza7E-C"
      }
    },
    {
      "cell_type": "markdown",
      "source": [
        "### Task 2.1: Cleaning IPC columns"
      ],
      "metadata": {
        "id": "X6B3M5YS7OvD"
      }
    },
    {
      "cell_type": "code",
      "source": [
        "import pandas as pd\n",
        "\n",
        "# Columns to clean\n",
        "columns_to_clean = [' APipc', 'APipc_GPTpred', 'APipc_BARDpred', 'APipc_abstract_GPTpred', 'APipc_abstract_BARDpred']\n",
        "\n",
        "# Function to clean IPC lists\n",
        "def clean_ipc_list(ipc_list):\n",
        "    return [code.replace('//', '').replace(' ', '').replace('ipc1:', '').replace('ipc2:', '').replace('ipc3:', '').replace('ipc4:', '').replace('ipc5:', '').strip() for code in ipc_list]\n",
        "\n",
        "# Apply the cleaning function to specified columns\n",
        "for column in columns_to_clean:\n",
        "    df[column] = df[column].apply(lambda x: clean_ipc_list(x.split(',')) if isinstance(x, str) else x)\n",
        "\n",
        "# Print the updated DataFrame\n",
        "\n"
      ],
      "metadata": {
        "id": "1n-oiUUm7Dta"
      },
      "execution_count": null,
      "outputs": []
    },
    {
      "cell_type": "code",
      "source": [
        "df.head(2)"
      ],
      "metadata": {
        "colab": {
          "base_uri": "https://localhost:8080/",
          "height": 335
        },
        "id": "O7MtLISSy-xM",
        "outputId": "c7041f94-11d5-4c75-ecc7-a12a058de68b"
      },
      "execution_count": null,
      "outputs": [
        {
          "output_type": "execute_result",
          "data": {
            "text/plain": [
              "       APnum            PAnum  \\\n",
              "0  EP4300511  US20140019162A1   \n",
              "1  EP4273738  US20080091405A1   \n",
              "\n",
              "                                             APclaim  \\\n",
              "0  Text classification method to aid on clinical ...   \n",
              "1  A semantic representation generation method of...   \n",
              "\n",
              "                                             PAclaim  \\\n",
              "0  An automated triage system, comprising:\\na pat...   \n",
              "1  A method of analyzing a sentence in a source l...   \n",
              "\n",
              "                                          APabstract  \\\n",
              "0  The present application describes an automatic...   \n",
              "1  In a semantic representation generation method...   \n",
              "\n",
              "                                          PAabstract  \\\n",
              "0  An automated triage system may include a patie...   \n",
              "1  A method and computer system for analyzing sen...   \n",
              "\n",
              "                                               APipc                    PAipc  \\\n",
              "0  [G16H50/20, G16H10/60, G16H40/20, G06F40/10, G...  G06F 9/00, G06O 50/24,    \n",
              "1  [G06F40/30, G06F40/211, G06F40/268, G06F40/284...                G06F 7/28   \n",
              "\n",
              "                                        PAparagraphs  \\\n",
              "0  [0057]\\nFIGS. 3A-3B illustrate a more detailed...   \n",
              "1    \\n[0004]\\nThe acquired ability to understand...   \n",
              "\n",
              "                                    PApragraphs_Json  ... PApredGPT_top2  \\\n",
              "0  {\\n  \"sentences\": [\\n    {\\n      \"id\": \"0057\"...  ...            NaN   \n",
              "1  {\\n  \"sentences\": [\\n    {\\n      \"id\": \"0004\"...  ...            NaN   \n",
              "\n",
              "  PApredGPT_top3       PApredBARD_all3  PApredBARD_top1  PApredBARD_top2  \\\n",
              "0            NaN  \\n(0058, 0059, 0092)              NaN              NaN   \n",
              "1            NaN    (0004, 0005, 0015)              NaN              NaN   \n",
              "\n",
              "  PApredBARD_top3                                      APipc_GPTpred  \\\n",
              "0             NaN  [G16H30/20, G06Q50/24, A61B5/00, G06F19/00, A6...   \n",
              "1             NaN  [G06F17/27, G06F17/28, G06F17/30, G06F17/50, G...   \n",
              "\n",
              "                                      APipc_BARDpred  \\\n",
              "0  [G06F19/00, G06N3/08, G16H50/00, A61B5/04, G06...   \n",
              "1  [G06N3/05, G10L15/00, H04L29/06, G06F17/53, G0...   \n",
              "\n",
              "                              APipc_abstract_GPTpred  \\\n",
              "0  [G06F17/305, G16H30/20, A61B5/1503, G06N3/00, ...   \n",
              "1  [G06F17/27, G06N3/04, G06F17/305, G06Q10/08, G...   \n",
              "\n",
              "                             APipc_abstract_BARDpred  \n",
              "0  [G06F17/30, G06F7/07, G16H50/20, G16H50/50, G0...  \n",
              "1  [G10L15/00, G10L15/02, G10L25/00, G10L25/04, G...  \n",
              "\n",
              "[2 rows x 23 columns]"
            ],
            "text/html": [
              "\n",
              "  <div id=\"df-05db057d-9fd0-4ff4-b8d6-2236f5ab0255\" class=\"colab-df-container\">\n",
              "    <div>\n",
              "<style scoped>\n",
              "    .dataframe tbody tr th:only-of-type {\n",
              "        vertical-align: middle;\n",
              "    }\n",
              "\n",
              "    .dataframe tbody tr th {\n",
              "        vertical-align: top;\n",
              "    }\n",
              "\n",
              "    .dataframe thead th {\n",
              "        text-align: right;\n",
              "    }\n",
              "</style>\n",
              "<table border=\"1\" class=\"dataframe\">\n",
              "  <thead>\n",
              "    <tr style=\"text-align: right;\">\n",
              "      <th></th>\n",
              "      <th>APnum</th>\n",
              "      <th>PAnum</th>\n",
              "      <th>APclaim</th>\n",
              "      <th>PAclaim</th>\n",
              "      <th>APabstract</th>\n",
              "      <th>PAabstract</th>\n",
              "      <th>APipc</th>\n",
              "      <th>PAipc</th>\n",
              "      <th>PAparagraphs</th>\n",
              "      <th>PApragraphs_Json</th>\n",
              "      <th>...</th>\n",
              "      <th>PApredGPT_top2</th>\n",
              "      <th>PApredGPT_top3</th>\n",
              "      <th>PApredBARD_all3</th>\n",
              "      <th>PApredBARD_top1</th>\n",
              "      <th>PApredBARD_top2</th>\n",
              "      <th>PApredBARD_top3</th>\n",
              "      <th>APipc_GPTpred</th>\n",
              "      <th>APipc_BARDpred</th>\n",
              "      <th>APipc_abstract_GPTpred</th>\n",
              "      <th>APipc_abstract_BARDpred</th>\n",
              "    </tr>\n",
              "  </thead>\n",
              "  <tbody>\n",
              "    <tr>\n",
              "      <th>0</th>\n",
              "      <td>EP4300511</td>\n",
              "      <td>US20140019162A1</td>\n",
              "      <td>Text classification method to aid on clinical ...</td>\n",
              "      <td>An automated triage system, comprising:\\na pat...</td>\n",
              "      <td>The present application describes an automatic...</td>\n",
              "      <td>An automated triage system may include a patie...</td>\n",
              "      <td>[G16H50/20, G16H10/60, G16H40/20, G06F40/10, G...</td>\n",
              "      <td>G06F 9/00, G06O 50/24,</td>\n",
              "      <td>[0057]\\nFIGS. 3A-3B illustrate a more detailed...</td>\n",
              "      <td>{\\n  \"sentences\": [\\n    {\\n      \"id\": \"0057\"...</td>\n",
              "      <td>...</td>\n",
              "      <td>NaN</td>\n",
              "      <td>NaN</td>\n",
              "      <td>\\n(0058, 0059, 0092)</td>\n",
              "      <td>NaN</td>\n",
              "      <td>NaN</td>\n",
              "      <td>NaN</td>\n",
              "      <td>[G16H30/20, G06Q50/24, A61B5/00, G06F19/00, A6...</td>\n",
              "      <td>[G06F19/00, G06N3/08, G16H50/00, A61B5/04, G06...</td>\n",
              "      <td>[G06F17/305, G16H30/20, A61B5/1503, G06N3/00, ...</td>\n",
              "      <td>[G06F17/30, G06F7/07, G16H50/20, G16H50/50, G0...</td>\n",
              "    </tr>\n",
              "    <tr>\n",
              "      <th>1</th>\n",
              "      <td>EP4273738</td>\n",
              "      <td>US20080091405A1</td>\n",
              "      <td>A semantic representation generation method of...</td>\n",
              "      <td>A method of analyzing a sentence in a source l...</td>\n",
              "      <td>In a semantic representation generation method...</td>\n",
              "      <td>A method and computer system for analyzing sen...</td>\n",
              "      <td>[G06F40/30, G06F40/211, G06F40/268, G06F40/284...</td>\n",
              "      <td>G06F 7/28</td>\n",
              "      <td>\\n[0004]\\nThe acquired ability to understand...</td>\n",
              "      <td>{\\n  \"sentences\": [\\n    {\\n      \"id\": \"0004\"...</td>\n",
              "      <td>...</td>\n",
              "      <td>NaN</td>\n",
              "      <td>NaN</td>\n",
              "      <td>(0004, 0005, 0015)</td>\n",
              "      <td>NaN</td>\n",
              "      <td>NaN</td>\n",
              "      <td>NaN</td>\n",
              "      <td>[G06F17/27, G06F17/28, G06F17/30, G06F17/50, G...</td>\n",
              "      <td>[G06N3/05, G10L15/00, H04L29/06, G06F17/53, G0...</td>\n",
              "      <td>[G06F17/27, G06N3/04, G06F17/305, G06Q10/08, G...</td>\n",
              "      <td>[G10L15/00, G10L15/02, G10L25/00, G10L25/04, G...</td>\n",
              "    </tr>\n",
              "  </tbody>\n",
              "</table>\n",
              "<p>2 rows × 23 columns</p>\n",
              "</div>\n",
              "    <div class=\"colab-df-buttons\">\n",
              "\n",
              "  <div class=\"colab-df-container\">\n",
              "    <button class=\"colab-df-convert\" onclick=\"convertToInteractive('df-05db057d-9fd0-4ff4-b8d6-2236f5ab0255')\"\n",
              "            title=\"Convert this dataframe to an interactive table.\"\n",
              "            style=\"display:none;\">\n",
              "\n",
              "  <svg xmlns=\"http://www.w3.org/2000/svg\" height=\"24px\" viewBox=\"0 -960 960 960\">\n",
              "    <path d=\"M120-120v-720h720v720H120Zm60-500h600v-160H180v160Zm220 220h160v-160H400v160Zm0 220h160v-160H400v160ZM180-400h160v-160H180v160Zm440 0h160v-160H620v160ZM180-180h160v-160H180v160Zm440 0h160v-160H620v160Z\"/>\n",
              "  </svg>\n",
              "    </button>\n",
              "\n",
              "  <style>\n",
              "    .colab-df-container {\n",
              "      display:flex;\n",
              "      gap: 12px;\n",
              "    }\n",
              "\n",
              "    .colab-df-convert {\n",
              "      background-color: #E8F0FE;\n",
              "      border: none;\n",
              "      border-radius: 50%;\n",
              "      cursor: pointer;\n",
              "      display: none;\n",
              "      fill: #1967D2;\n",
              "      height: 32px;\n",
              "      padding: 0 0 0 0;\n",
              "      width: 32px;\n",
              "    }\n",
              "\n",
              "    .colab-df-convert:hover {\n",
              "      background-color: #E2EBFA;\n",
              "      box-shadow: 0px 1px 2px rgba(60, 64, 67, 0.3), 0px 1px 3px 1px rgba(60, 64, 67, 0.15);\n",
              "      fill: #174EA6;\n",
              "    }\n",
              "\n",
              "    .colab-df-buttons div {\n",
              "      margin-bottom: 4px;\n",
              "    }\n",
              "\n",
              "    [theme=dark] .colab-df-convert {\n",
              "      background-color: #3B4455;\n",
              "      fill: #D2E3FC;\n",
              "    }\n",
              "\n",
              "    [theme=dark] .colab-df-convert:hover {\n",
              "      background-color: #434B5C;\n",
              "      box-shadow: 0px 1px 3px 1px rgba(0, 0, 0, 0.15);\n",
              "      filter: drop-shadow(0px 1px 2px rgba(0, 0, 0, 0.3));\n",
              "      fill: #FFFFFF;\n",
              "    }\n",
              "  </style>\n",
              "\n",
              "    <script>\n",
              "      const buttonEl =\n",
              "        document.querySelector('#df-05db057d-9fd0-4ff4-b8d6-2236f5ab0255 button.colab-df-convert');\n",
              "      buttonEl.style.display =\n",
              "        google.colab.kernel.accessAllowed ? 'block' : 'none';\n",
              "\n",
              "      async function convertToInteractive(key) {\n",
              "        const element = document.querySelector('#df-05db057d-9fd0-4ff4-b8d6-2236f5ab0255');\n",
              "        const dataTable =\n",
              "          await google.colab.kernel.invokeFunction('convertToInteractive',\n",
              "                                                    [key], {});\n",
              "        if (!dataTable) return;\n",
              "\n",
              "        const docLinkHtml = 'Like what you see? Visit the ' +\n",
              "          '<a target=\"_blank\" href=https://colab.research.google.com/notebooks/data_table.ipynb>data table notebook</a>'\n",
              "          + ' to learn more about interactive tables.';\n",
              "        element.innerHTML = '';\n",
              "        dataTable['output_type'] = 'display_data';\n",
              "        await google.colab.output.renderOutput(dataTable, element);\n",
              "        const docLink = document.createElement('div');\n",
              "        docLink.innerHTML = docLinkHtml;\n",
              "        element.appendChild(docLink);\n",
              "      }\n",
              "    </script>\n",
              "  </div>\n",
              "\n",
              "\n",
              "<div id=\"df-82847bb6-90bc-4ec9-849b-e85070029434\">\n",
              "  <button class=\"colab-df-quickchart\" onclick=\"quickchart('df-82847bb6-90bc-4ec9-849b-e85070029434')\"\n",
              "            title=\"Suggest charts\"\n",
              "            style=\"display:none;\">\n",
              "\n",
              "<svg xmlns=\"http://www.w3.org/2000/svg\" height=\"24px\"viewBox=\"0 0 24 24\"\n",
              "     width=\"24px\">\n",
              "    <g>\n",
              "        <path d=\"M19 3H5c-1.1 0-2 .9-2 2v14c0 1.1.9 2 2 2h14c1.1 0 2-.9 2-2V5c0-1.1-.9-2-2-2zM9 17H7v-7h2v7zm4 0h-2V7h2v10zm4 0h-2v-4h2v4z\"/>\n",
              "    </g>\n",
              "</svg>\n",
              "  </button>\n",
              "\n",
              "<style>\n",
              "  .colab-df-quickchart {\n",
              "      --bg-color: #E8F0FE;\n",
              "      --fill-color: #1967D2;\n",
              "      --hover-bg-color: #E2EBFA;\n",
              "      --hover-fill-color: #174EA6;\n",
              "      --disabled-fill-color: #AAA;\n",
              "      --disabled-bg-color: #DDD;\n",
              "  }\n",
              "\n",
              "  [theme=dark] .colab-df-quickchart {\n",
              "      --bg-color: #3B4455;\n",
              "      --fill-color: #D2E3FC;\n",
              "      --hover-bg-color: #434B5C;\n",
              "      --hover-fill-color: #FFFFFF;\n",
              "      --disabled-bg-color: #3B4455;\n",
              "      --disabled-fill-color: #666;\n",
              "  }\n",
              "\n",
              "  .colab-df-quickchart {\n",
              "    background-color: var(--bg-color);\n",
              "    border: none;\n",
              "    border-radius: 50%;\n",
              "    cursor: pointer;\n",
              "    display: none;\n",
              "    fill: var(--fill-color);\n",
              "    height: 32px;\n",
              "    padding: 0;\n",
              "    width: 32px;\n",
              "  }\n",
              "\n",
              "  .colab-df-quickchart:hover {\n",
              "    background-color: var(--hover-bg-color);\n",
              "    box-shadow: 0 1px 2px rgba(60, 64, 67, 0.3), 0 1px 3px 1px rgba(60, 64, 67, 0.15);\n",
              "    fill: var(--button-hover-fill-color);\n",
              "  }\n",
              "\n",
              "  .colab-df-quickchart-complete:disabled,\n",
              "  .colab-df-quickchart-complete:disabled:hover {\n",
              "    background-color: var(--disabled-bg-color);\n",
              "    fill: var(--disabled-fill-color);\n",
              "    box-shadow: none;\n",
              "  }\n",
              "\n",
              "  .colab-df-spinner {\n",
              "    border: 2px solid var(--fill-color);\n",
              "    border-color: transparent;\n",
              "    border-bottom-color: var(--fill-color);\n",
              "    animation:\n",
              "      spin 1s steps(1) infinite;\n",
              "  }\n",
              "\n",
              "  @keyframes spin {\n",
              "    0% {\n",
              "      border-color: transparent;\n",
              "      border-bottom-color: var(--fill-color);\n",
              "      border-left-color: var(--fill-color);\n",
              "    }\n",
              "    20% {\n",
              "      border-color: transparent;\n",
              "      border-left-color: var(--fill-color);\n",
              "      border-top-color: var(--fill-color);\n",
              "    }\n",
              "    30% {\n",
              "      border-color: transparent;\n",
              "      border-left-color: var(--fill-color);\n",
              "      border-top-color: var(--fill-color);\n",
              "      border-right-color: var(--fill-color);\n",
              "    }\n",
              "    40% {\n",
              "      border-color: transparent;\n",
              "      border-right-color: var(--fill-color);\n",
              "      border-top-color: var(--fill-color);\n",
              "    }\n",
              "    60% {\n",
              "      border-color: transparent;\n",
              "      border-right-color: var(--fill-color);\n",
              "    }\n",
              "    80% {\n",
              "      border-color: transparent;\n",
              "      border-right-color: var(--fill-color);\n",
              "      border-bottom-color: var(--fill-color);\n",
              "    }\n",
              "    90% {\n",
              "      border-color: transparent;\n",
              "      border-bottom-color: var(--fill-color);\n",
              "    }\n",
              "  }\n",
              "</style>\n",
              "\n",
              "  <script>\n",
              "    async function quickchart(key) {\n",
              "      const quickchartButtonEl =\n",
              "        document.querySelector('#' + key + ' button');\n",
              "      quickchartButtonEl.disabled = true;  // To prevent multiple clicks.\n",
              "      quickchartButtonEl.classList.add('colab-df-spinner');\n",
              "      try {\n",
              "        const charts = await google.colab.kernel.invokeFunction(\n",
              "            'suggestCharts', [key], {});\n",
              "      } catch (error) {\n",
              "        console.error('Error during call to suggestCharts:', error);\n",
              "      }\n",
              "      quickchartButtonEl.classList.remove('colab-df-spinner');\n",
              "      quickchartButtonEl.classList.add('colab-df-quickchart-complete');\n",
              "    }\n",
              "    (() => {\n",
              "      let quickchartButtonEl =\n",
              "        document.querySelector('#df-82847bb6-90bc-4ec9-849b-e85070029434 button');\n",
              "      quickchartButtonEl.style.display =\n",
              "        google.colab.kernel.accessAllowed ? 'block' : 'none';\n",
              "    })();\n",
              "  </script>\n",
              "</div>\n",
              "    </div>\n",
              "  </div>\n"
            ],
            "application/vnd.google.colaboratory.intrinsic+json": {
              "type": "dataframe",
              "variable_name": "df"
            }
          },
          "metadata": {},
          "execution_count": 12
        }
      ]
    },
    {
      "cell_type": "markdown",
      "source": [
        "### Task 2.2: Verification code for section-level classification"
      ],
      "metadata": {
        "id": "EjS_I5Ds72Al"
      }
    },
    {
      "cell_type": "code",
      "source": [
        "# Function to extract class level from IPC code\n",
        "def extract_class(ipc_code):\n",
        "    return ipc_code.split('/')[0][:4]\n",
        "\n",
        "# Function to calculate accuracy\n",
        "def calculate_accuracy(truth_list, predicted_list):\n",
        "    # Extract class levels from the first item in the predicted list\n",
        "    predicted_class = extract_class(predicted_list[0])#0 means Top1 # change here for Top2,3\n",
        "\n",
        "    # Check if the class level of the predicted list matches any class level in the truth list\n",
        "    return any(extract_class(truth_code) == predicted_class for truth_code in truth_list)\n",
        "\n",
        "# Example usage\n",
        "truth_list = ['G06F19/00', 'H04L12/26', 'G06Q50/00']\n",
        "predicted_list = ['G06J18/00', 'H04L12/30', 'G06Q49/00']\n",
        "\n",
        "# Calculate accuracy\n",
        "accuracy = calculate_accuracy(truth_list, predicted_list)\n",
        "\n",
        "# Print the accuracy\n",
        "print(f'Top1 accuracy at sub-class level: {accuracy}')"
      ],
      "metadata": {
        "colab": {
          "base_uri": "https://localhost:8080/"
        },
        "id": "-FiIMTq97i6I",
        "outputId": "5d5e5902-0cac-45cb-8b11-e8ea00d45f00"
      },
      "execution_count": null,
      "outputs": [
        {
          "output_type": "stream",
          "name": "stdout",
          "text": [
            "Top1 accuracy at sub-class level: False\n"
          ]
        }
      ]
    },
    {
      "cell_type": "markdown",
      "source": [
        "### Task 2.3: Verification code for sub-group level classification"
      ],
      "metadata": {
        "id": "YRjm0zdp9BIt"
      }
    },
    {
      "cell_type": "code",
      "source": [
        "# Function to extract class level from IPC code\n",
        "#def extract_class(ipc_code):\n",
        "#    return ipc_code.split('/')[0][:4]\n",
        "\n",
        "# Function to calculate accuracy\n",
        "def calculate_accuracy(truth_list, predicted_list):\n",
        "    # Extract class levels from the first item in the predicted list\n",
        "    predicted_class = predicted_list[2] # 2 means Top 3\n",
        "\n",
        "    # Check if the class level of the predicted list matches any class level in the truth list\n",
        "    return any(truth_code == predicted_class for truth_code in truth_list)\n",
        "\n",
        "# Example usage\n",
        "truth_list = ['G06F19/00', 'H04L12/26', 'G06Q49/00']\n",
        "predicted_list = ['G06J18/00', 'H04L12/30', 'G06Q49/00']\n",
        "\n",
        "# Calculate accuracy\n",
        "accuracy = calculate_accuracy(truth_list, predicted_list)\n",
        "\n",
        "# Print the accuracy\n",
        "print(f'Top3 accuracy at sub-group level: {accuracy}')"
      ],
      "metadata": {
        "colab": {
          "base_uri": "https://localhost:8080/"
        },
        "id": "9dclfFG784nX",
        "outputId": "4079600d-f649-4917-bc92-2afb368d8fad"
      },
      "execution_count": null,
      "outputs": [
        {
          "output_type": "stream",
          "name": "stdout",
          "text": [
            "Top3 accuracy at sub-group level: True\n"
          ]
        }
      ]
    },
    {
      "cell_type": "code",
      "source": [],
      "metadata": {
        "id": "QWBozJzf-3vh"
      },
      "execution_count": null,
      "outputs": []
    },
    {
      "cell_type": "code",
      "source": [],
      "metadata": {
        "id": "OLiDt3LP-3yH"
      },
      "execution_count": null,
      "outputs": []
    },
    {
      "cell_type": "markdown",
      "source": [
        "# Task 3: Patent classification using ChatGPT and Google Gemini"
      ],
      "metadata": {
        "id": "rWSoln-u_fOe"
      }
    },
    {
      "cell_type": "markdown",
      "source": [
        "### Task 3.1: Top1 accuracies"
      ],
      "metadata": {
        "id": "Lgq85qXK_mdz"
      }
    },
    {
      "cell_type": "markdown",
      "source": [
        "*At section level*\n"
      ],
      "metadata": {
        "id": "ShIiIA-__31w"
      }
    },
    {
      "cell_type": "code",
      "source": [
        "import pandas as pd\n",
        "\n",
        "# Assuming df is your DataFrame\n",
        "# ... (your DataFrame initialization)\n",
        "\n",
        "# Columns to compare\n",
        "truth_column = ' APipc'\n",
        "predicted_columns = ['APipc_GPTpred', 'APipc_BARDpred', 'APipc_abstract_GPTpred', 'APipc_abstract_BARDpred']\n",
        "\n",
        "# Function to extract section level from IPC code\n",
        "def extract_section(ipc_code):\n",
        "    return ipc_code.split('/')[0][0] #section level\n",
        "\n",
        "# Function to calculate accuracy\n",
        "def calculate_accuracy(row, predicted_column):\n",
        "    truth_list = row[truth_column]\n",
        "    predicted_list = row[predicted_column]\n",
        "\n",
        "    # Extract section levels from the first item in the predicted list\n",
        "    predicted_section = extract_section(predicted_list[0]) #top1\n",
        "\n",
        "    # Check if the section level of the predicted list matches any section level in the truth list\n",
        "    return any(extract_section(truth_code) == predicted_section for truth_code in truth_list)\n",
        "\n",
        "# Apply the accuracy calculation function to each predicted column and calculate the mean accuracy\n",
        "for predicted_column in predicted_columns:\n",
        "    accuracy = df.apply(lambda row: calculate_accuracy(row, predicted_column), axis=1).mean()\n",
        "\n",
        "    # Print the accuracy for each predicted column\n",
        "    print(f'Top1 accuracy of {predicted_column} at section level: {accuracy:.2%}')"
      ],
      "metadata": {
        "colab": {
          "base_uri": "https://localhost:8080/"
        },
        "id": "g6p2_2Yt-31P",
        "outputId": "867f607f-300e-4932-d094-d868f7ae6f40"
      },
      "execution_count": null,
      "outputs": [
        {
          "output_type": "stream",
          "name": "stdout",
          "text": [
            "Top1 accuracy of APipc_GPTpred at section level: 100.00%\n",
            "Top1 accuracy of APipc_BARDpred at section level: 100.00%\n",
            "Top1 accuracy of APipc_abstract_GPTpred at section level: 95.92%\n",
            "Top1 accuracy of APipc_abstract_BARDpred at section level: 100.00%\n"
          ]
        }
      ]
    },
    {
      "cell_type": "markdown",
      "source": [
        "*At class level*"
      ],
      "metadata": {
        "id": "UyabycBfAOVz"
      }
    },
    {
      "cell_type": "code",
      "source": [
        "import pandas as pd\n",
        "\n",
        "truth_column = ' APipc'\n",
        "predicted_columns = ['APipc_GPTpred', 'APipc_BARDpred', 'APipc_abstract_GPTpred', 'APipc_abstract_BARDpred']\n",
        "\n",
        "# Function to extract class level from IPC code\n",
        "def extract_class(ipc_code):\n",
        "    return ipc_code.split('/')[0][:3]\n",
        "\n",
        "# Function to calculate accuracy\n",
        "def calculate_accuracy(row, predicted_column):\n",
        "    truth_list = row[truth_column]\n",
        "    predicted_list = row[predicted_column]\n",
        "\n",
        "\n",
        "    predicted_class = extract_class(predicted_list[0])\n",
        "\n",
        "    # Check if the class level of the predicted list matches any class level in the truth list\n",
        "    return any(extract_class(truth_code) == predicted_class for truth_code in truth_list)\n",
        "\n",
        "# Apply the accuracy calculation function to each predicted column and calculate the mean accuracy\n",
        "for predicted_column in predicted_columns:\n",
        "    accuracy = df.apply(lambda row: calculate_accuracy(row, predicted_column), axis=1).mean()\n",
        "\n",
        "    # Print the accuracy for each predicted column\n",
        "    print(f'Top1 accuracy of {predicted_column} at class level: {accuracy:.2%}')"
      ],
      "metadata": {
        "colab": {
          "base_uri": "https://localhost:8080/"
        },
        "id": "wTmLThEm-34-",
        "outputId": "7017ed83-e53a-45de-966a-255d53406b3f"
      },
      "execution_count": null,
      "outputs": [
        {
          "output_type": "stream",
          "name": "stdout",
          "text": [
            "Top1 accuracy of APipc_GPTpred at class level: 100.00%\n",
            "Top1 accuracy of APipc_BARDpred at class level: 100.00%\n",
            "Top1 accuracy of APipc_abstract_GPTpred at class level: 95.92%\n",
            "Top1 accuracy of APipc_abstract_BARDpred at class level: 79.59%\n"
          ]
        }
      ]
    },
    {
      "cell_type": "markdown",
      "source": [
        "*At sub-class level*"
      ],
      "metadata": {
        "id": "cn2SP9HgAqd9"
      }
    },
    {
      "cell_type": "code",
      "source": [
        "import pandas as pd\n",
        "\n",
        "truth_column = ' APipc'\n",
        "predicted_columns = ['APipc_GPTpred', 'APipc_BARDpred', 'APipc_abstract_GPTpred', 'APipc_abstract_BARDpred']\n",
        "\n",
        "# Function to extract class level from IPC code\n",
        "def extract_class(ipc_code):\n",
        "    return ipc_code.split('/')[0][:4]\n",
        "\n",
        "# Function to calculate accuracy\n",
        "def calculate_accuracy(row, predicted_column):\n",
        "    truth_list = row[truth_column]\n",
        "    predicted_list = row[predicted_column]\n",
        "\n",
        "\n",
        "    predicted_class = extract_class(predicted_list[0])\n",
        "\n",
        "    # Check if the class level of the predicted list matches any class level in the truth list\n",
        "    return any(extract_class(truth_code) == predicted_class for truth_code in truth_list)\n",
        "\n",
        "# Apply the accuracy calculation function to each predicted column and calculate the mean accuracy\n",
        "for predicted_column in predicted_columns:\n",
        "    accuracy = df.apply(lambda row: calculate_accuracy(row, predicted_column), axis=1).mean()\n",
        "\n",
        "    # Print the accuracy for each predicted column\n",
        "    print(f'Top1 accuracy of {predicted_column} at sub-class level: {accuracy:.2%}')"
      ],
      "metadata": {
        "colab": {
          "base_uri": "https://localhost:8080/"
        },
        "id": "iEUo2hCE-37_",
        "outputId": "36284b55-8a6c-4aa5-df0f-7edff3dd1bca"
      },
      "execution_count": null,
      "outputs": [
        {
          "output_type": "stream",
          "name": "stdout",
          "text": [
            "Top1 accuracy of APipc_GPTpred at sub-class level: 48.98%\n",
            "Top1 accuracy of APipc_BARDpred at sub-class level: 89.80%\n",
            "Top1 accuracy of APipc_abstract_GPTpred at sub-class level: 59.18%\n",
            "Top1 accuracy of APipc_abstract_BARDpred at sub-class level: 75.51%\n"
          ]
        }
      ]
    },
    {
      "cell_type": "markdown",
      "source": [
        "*At sub-group level*"
      ],
      "metadata": {
        "id": "6XrbUML2BI26"
      }
    },
    {
      "cell_type": "code",
      "source": [
        "import pandas as pd\n",
        "\n",
        "\n",
        "truth_column = ' APipc'\n",
        "predicted_columns = ['APipc_GPTpred', 'APipc_BARDpred', 'APipc_abstract_GPTpred', 'APipc_abstract_BARDpred']\n",
        "\n",
        "\n",
        "# Function to calculate accuracy\n",
        "def calculate_accuracy(row, predicted_column):\n",
        "    truth_list = row[truth_column]\n",
        "    predicted_list = row[predicted_column]\n",
        "\n",
        "    # Extract sub-group levels from the first item in the predicted list\n",
        "    predicted_subclass = predicted_list[0]\n",
        "\n",
        "    # Check if the sub-group level of the predicted list matches any sub-class level in the truth list\n",
        "    return any(truth_code == predicted_subclass for truth_code in truth_list)\n",
        "\n",
        "# Apply the accuracy calculation function to each predicted column and calculate the mean accuracy\n",
        "for predicted_column in predicted_columns:\n",
        "    accuracy = df.apply(lambda row: calculate_accuracy(row, predicted_column), axis=1).mean()\n",
        "\n",
        "    # Print the accuracy for each predicted column\n",
        "    print(f'Top1 accuracy of {predicted_column} at sub-group level: {accuracy:.2%}')\n"
      ],
      "metadata": {
        "colab": {
          "base_uri": "https://localhost:8080/"
        },
        "id": "reBMBUgC-3-9",
        "outputId": "227b37c1-486a-4684-e1b2-1f14904e51dd"
      },
      "execution_count": null,
      "outputs": [
        {
          "output_type": "stream",
          "name": "stdout",
          "text": [
            "Top1 accuracy of APipc_GPTpred at sub-group level: 10.20%\n",
            "Top1 accuracy of APipc_BARDpred at sub-group level: 2.04%\n",
            "Top1 accuracy of APipc_abstract_GPTpred at sub-group level: 4.08%\n",
            "Top1 accuracy of APipc_abstract_BARDpred at sub-group level: 0.00%\n"
          ]
        }
      ]
    },
    {
      "cell_type": "code",
      "source": [],
      "metadata": {
        "id": "cSjD9AweBIKX"
      },
      "execution_count": null,
      "outputs": []
    },
    {
      "cell_type": "markdown",
      "source": [
        "#### Task 3.2: Top2 accuracies"
      ],
      "metadata": {
        "id": "ZD99zO40CVgy"
      }
    },
    {
      "cell_type": "code",
      "source": [
        "df.head(2)"
      ],
      "metadata": {
        "colab": {
          "base_uri": "https://localhost:8080/",
          "height": 335
        },
        "id": "35JS5bRrEFe_",
        "outputId": "6222741e-7236-475a-b435-06530c19b102"
      },
      "execution_count": null,
      "outputs": [
        {
          "output_type": "execute_result",
          "data": {
            "text/plain": [
              "       APnum            PAnum  \\\n",
              "0  EP4300511  US20140019162A1   \n",
              "1  EP4273738  US20080091405A1   \n",
              "\n",
              "                                             APclaim  \\\n",
              "0  Text classification method to aid on clinical ...   \n",
              "1  A semantic representation generation method of...   \n",
              "\n",
              "                                             PAclaim  \\\n",
              "0  An automated triage system, comprising:\\na pat...   \n",
              "1  A method of analyzing a sentence in a source l...   \n",
              "\n",
              "                                          APabstract  \\\n",
              "0  The present application describes an automatic...   \n",
              "1  In a semantic representation generation method...   \n",
              "\n",
              "                                          PAabstract  \\\n",
              "0  An automated triage system may include a patie...   \n",
              "1  A method and computer system for analyzing sen...   \n",
              "\n",
              "                                               APipc                    PAipc  \\\n",
              "0  [G16H50/20, G16H10/60, G16H40/20, G06F40/10, G...  G06F 9/00, G06O 50/24,    \n",
              "1  [G06F40/30, G06F40/211, G06F40/268, G06F40/284...                G06F 7/28   \n",
              "\n",
              "                                        PAparagraphs  \\\n",
              "0  [0057]\\nFIGS. 3A-3B illustrate a more detailed...   \n",
              "1    \\n[0004]\\nThe acquired ability to understand...   \n",
              "\n",
              "                                    PApragraphs_Json  ... PApredGPT_top1  \\\n",
              "0  {\\n  \"sentences\": [\\n    {\\n      \"id\": \"0057\"...  ...            NaN   \n",
              "1  {\\n  \"sentences\": [\\n    {\\n      \"id\": \"0004\"...  ...            NaN   \n",
              "\n",
              "   PApredGPT_top2  PApredGPT_top3  PApredBARD_top1  PApredBARD_top2  \\\n",
              "0             NaN             NaN              NaN              NaN   \n",
              "1             NaN             NaN              NaN              NaN   \n",
              "\n",
              "   PApredBARD_top3                                      APipc_GPTpred  \\\n",
              "0              NaN  [G16H30/20, G06Q50/24, A61B5/00, G06F19/00, A6...   \n",
              "1              NaN  [G06F17/27, G06F17/28, G06F17/30, G06F17/50, G...   \n",
              "\n",
              "                                      APipc_BARDpred  \\\n",
              "0  [G06F19/00, G06N3/08, G16H50/00, A61B5/04, G06...   \n",
              "1  [G06N3/05, G10L15/00, H04L29/06, G06F17/53, G0...   \n",
              "\n",
              "                              APipc_abstract_GPTpred  \\\n",
              "0  [G06F17/305, G16H30/20, A61B5/1503, G06N3/00, ...   \n",
              "1  [G06F17/27, G06N3/04, G06F17/305, G06Q10/08, G...   \n",
              "\n",
              "                             APipc_abstract_BARDpred  \n",
              "0  [G06F17/30, G06F7/07, G16H50/20, G16H50/50, G0...  \n",
              "1  [G10L15/00, G10L15/02, G10L25/00, G10L25/04, G...  \n",
              "\n",
              "[2 rows x 21 columns]"
            ],
            "text/html": [
              "\n",
              "  <div id=\"df-a6b8b741-9705-46df-bd03-63358f1230c3\" class=\"colab-df-container\">\n",
              "    <div>\n",
              "<style scoped>\n",
              "    .dataframe tbody tr th:only-of-type {\n",
              "        vertical-align: middle;\n",
              "    }\n",
              "\n",
              "    .dataframe tbody tr th {\n",
              "        vertical-align: top;\n",
              "    }\n",
              "\n",
              "    .dataframe thead th {\n",
              "        text-align: right;\n",
              "    }\n",
              "</style>\n",
              "<table border=\"1\" class=\"dataframe\">\n",
              "  <thead>\n",
              "    <tr style=\"text-align: right;\">\n",
              "      <th></th>\n",
              "      <th>APnum</th>\n",
              "      <th>PAnum</th>\n",
              "      <th>APclaim</th>\n",
              "      <th>PAclaim</th>\n",
              "      <th>APabstract</th>\n",
              "      <th>PAabstract</th>\n",
              "      <th>APipc</th>\n",
              "      <th>PAipc</th>\n",
              "      <th>PAparagraphs</th>\n",
              "      <th>PApragraphs_Json</th>\n",
              "      <th>...</th>\n",
              "      <th>PApredGPT_top1</th>\n",
              "      <th>PApredGPT_top2</th>\n",
              "      <th>PApredGPT_top3</th>\n",
              "      <th>PApredBARD_top1</th>\n",
              "      <th>PApredBARD_top2</th>\n",
              "      <th>PApredBARD_top3</th>\n",
              "      <th>APipc_GPTpred</th>\n",
              "      <th>APipc_BARDpred</th>\n",
              "      <th>APipc_abstract_GPTpred</th>\n",
              "      <th>APipc_abstract_BARDpred</th>\n",
              "    </tr>\n",
              "  </thead>\n",
              "  <tbody>\n",
              "    <tr>\n",
              "      <th>0</th>\n",
              "      <td>EP4300511</td>\n",
              "      <td>US20140019162A1</td>\n",
              "      <td>Text classification method to aid on clinical ...</td>\n",
              "      <td>An automated triage system, comprising:\\na pat...</td>\n",
              "      <td>The present application describes an automatic...</td>\n",
              "      <td>An automated triage system may include a patie...</td>\n",
              "      <td>[G16H50/20, G16H10/60, G16H40/20, G06F40/10, G...</td>\n",
              "      <td>G06F 9/00, G06O 50/24,</td>\n",
              "      <td>[0057]\\nFIGS. 3A-3B illustrate a more detailed...</td>\n",
              "      <td>{\\n  \"sentences\": [\\n    {\\n      \"id\": \"0057\"...</td>\n",
              "      <td>...</td>\n",
              "      <td>NaN</td>\n",
              "      <td>NaN</td>\n",
              "      <td>NaN</td>\n",
              "      <td>NaN</td>\n",
              "      <td>NaN</td>\n",
              "      <td>NaN</td>\n",
              "      <td>[G16H30/20, G06Q50/24, A61B5/00, G06F19/00, A6...</td>\n",
              "      <td>[G06F19/00, G06N3/08, G16H50/00, A61B5/04, G06...</td>\n",
              "      <td>[G06F17/305, G16H30/20, A61B5/1503, G06N3/00, ...</td>\n",
              "      <td>[G06F17/30, G06F7/07, G16H50/20, G16H50/50, G0...</td>\n",
              "    </tr>\n",
              "    <tr>\n",
              "      <th>1</th>\n",
              "      <td>EP4273738</td>\n",
              "      <td>US20080091405A1</td>\n",
              "      <td>A semantic representation generation method of...</td>\n",
              "      <td>A method of analyzing a sentence in a source l...</td>\n",
              "      <td>In a semantic representation generation method...</td>\n",
              "      <td>A method and computer system for analyzing sen...</td>\n",
              "      <td>[G06F40/30, G06F40/211, G06F40/268, G06F40/284...</td>\n",
              "      <td>G06F 7/28</td>\n",
              "      <td>\\n[0004]\\nThe acquired ability to understand...</td>\n",
              "      <td>{\\n  \"sentences\": [\\n    {\\n      \"id\": \"0004\"...</td>\n",
              "      <td>...</td>\n",
              "      <td>NaN</td>\n",
              "      <td>NaN</td>\n",
              "      <td>NaN</td>\n",
              "      <td>NaN</td>\n",
              "      <td>NaN</td>\n",
              "      <td>NaN</td>\n",
              "      <td>[G06F17/27, G06F17/28, G06F17/30, G06F17/50, G...</td>\n",
              "      <td>[G06N3/05, G10L15/00, H04L29/06, G06F17/53, G0...</td>\n",
              "      <td>[G06F17/27, G06N3/04, G06F17/305, G06Q10/08, G...</td>\n",
              "      <td>[G10L15/00, G10L15/02, G10L25/00, G10L25/04, G...</td>\n",
              "    </tr>\n",
              "  </tbody>\n",
              "</table>\n",
              "<p>2 rows × 21 columns</p>\n",
              "</div>\n",
              "    <div class=\"colab-df-buttons\">\n",
              "\n",
              "  <div class=\"colab-df-container\">\n",
              "    <button class=\"colab-df-convert\" onclick=\"convertToInteractive('df-a6b8b741-9705-46df-bd03-63358f1230c3')\"\n",
              "            title=\"Convert this dataframe to an interactive table.\"\n",
              "            style=\"display:none;\">\n",
              "\n",
              "  <svg xmlns=\"http://www.w3.org/2000/svg\" height=\"24px\" viewBox=\"0 -960 960 960\">\n",
              "    <path d=\"M120-120v-720h720v720H120Zm60-500h600v-160H180v160Zm220 220h160v-160H400v160Zm0 220h160v-160H400v160ZM180-400h160v-160H180v160Zm440 0h160v-160H620v160ZM180-180h160v-160H180v160Zm440 0h160v-160H620v160Z\"/>\n",
              "  </svg>\n",
              "    </button>\n",
              "\n",
              "  <style>\n",
              "    .colab-df-container {\n",
              "      display:flex;\n",
              "      gap: 12px;\n",
              "    }\n",
              "\n",
              "    .colab-df-convert {\n",
              "      background-color: #E8F0FE;\n",
              "      border: none;\n",
              "      border-radius: 50%;\n",
              "      cursor: pointer;\n",
              "      display: none;\n",
              "      fill: #1967D2;\n",
              "      height: 32px;\n",
              "      padding: 0 0 0 0;\n",
              "      width: 32px;\n",
              "    }\n",
              "\n",
              "    .colab-df-convert:hover {\n",
              "      background-color: #E2EBFA;\n",
              "      box-shadow: 0px 1px 2px rgba(60, 64, 67, 0.3), 0px 1px 3px 1px rgba(60, 64, 67, 0.15);\n",
              "      fill: #174EA6;\n",
              "    }\n",
              "\n",
              "    .colab-df-buttons div {\n",
              "      margin-bottom: 4px;\n",
              "    }\n",
              "\n",
              "    [theme=dark] .colab-df-convert {\n",
              "      background-color: #3B4455;\n",
              "      fill: #D2E3FC;\n",
              "    }\n",
              "\n",
              "    [theme=dark] .colab-df-convert:hover {\n",
              "      background-color: #434B5C;\n",
              "      box-shadow: 0px 1px 3px 1px rgba(0, 0, 0, 0.15);\n",
              "      filter: drop-shadow(0px 1px 2px rgba(0, 0, 0, 0.3));\n",
              "      fill: #FFFFFF;\n",
              "    }\n",
              "  </style>\n",
              "\n",
              "    <script>\n",
              "      const buttonEl =\n",
              "        document.querySelector('#df-a6b8b741-9705-46df-bd03-63358f1230c3 button.colab-df-convert');\n",
              "      buttonEl.style.display =\n",
              "        google.colab.kernel.accessAllowed ? 'block' : 'none';\n",
              "\n",
              "      async function convertToInteractive(key) {\n",
              "        const element = document.querySelector('#df-a6b8b741-9705-46df-bd03-63358f1230c3');\n",
              "        const dataTable =\n",
              "          await google.colab.kernel.invokeFunction('convertToInteractive',\n",
              "                                                    [key], {});\n",
              "        if (!dataTable) return;\n",
              "\n",
              "        const docLinkHtml = 'Like what you see? Visit the ' +\n",
              "          '<a target=\"_blank\" href=https://colab.research.google.com/notebooks/data_table.ipynb>data table notebook</a>'\n",
              "          + ' to learn more about interactive tables.';\n",
              "        element.innerHTML = '';\n",
              "        dataTable['output_type'] = 'display_data';\n",
              "        await google.colab.output.renderOutput(dataTable, element);\n",
              "        const docLink = document.createElement('div');\n",
              "        docLink.innerHTML = docLinkHtml;\n",
              "        element.appendChild(docLink);\n",
              "      }\n",
              "    </script>\n",
              "  </div>\n",
              "\n",
              "\n",
              "<div id=\"df-9cfcc962-c85f-4a69-b4f5-e83cc746dc41\">\n",
              "  <button class=\"colab-df-quickchart\" onclick=\"quickchart('df-9cfcc962-c85f-4a69-b4f5-e83cc746dc41')\"\n",
              "            title=\"Suggest charts\"\n",
              "            style=\"display:none;\">\n",
              "\n",
              "<svg xmlns=\"http://www.w3.org/2000/svg\" height=\"24px\"viewBox=\"0 0 24 24\"\n",
              "     width=\"24px\">\n",
              "    <g>\n",
              "        <path d=\"M19 3H5c-1.1 0-2 .9-2 2v14c0 1.1.9 2 2 2h14c1.1 0 2-.9 2-2V5c0-1.1-.9-2-2-2zM9 17H7v-7h2v7zm4 0h-2V7h2v10zm4 0h-2v-4h2v4z\"/>\n",
              "    </g>\n",
              "</svg>\n",
              "  </button>\n",
              "\n",
              "<style>\n",
              "  .colab-df-quickchart {\n",
              "      --bg-color: #E8F0FE;\n",
              "      --fill-color: #1967D2;\n",
              "      --hover-bg-color: #E2EBFA;\n",
              "      --hover-fill-color: #174EA6;\n",
              "      --disabled-fill-color: #AAA;\n",
              "      --disabled-bg-color: #DDD;\n",
              "  }\n",
              "\n",
              "  [theme=dark] .colab-df-quickchart {\n",
              "      --bg-color: #3B4455;\n",
              "      --fill-color: #D2E3FC;\n",
              "      --hover-bg-color: #434B5C;\n",
              "      --hover-fill-color: #FFFFFF;\n",
              "      --disabled-bg-color: #3B4455;\n",
              "      --disabled-fill-color: #666;\n",
              "  }\n",
              "\n",
              "  .colab-df-quickchart {\n",
              "    background-color: var(--bg-color);\n",
              "    border: none;\n",
              "    border-radius: 50%;\n",
              "    cursor: pointer;\n",
              "    display: none;\n",
              "    fill: var(--fill-color);\n",
              "    height: 32px;\n",
              "    padding: 0;\n",
              "    width: 32px;\n",
              "  }\n",
              "\n",
              "  .colab-df-quickchart:hover {\n",
              "    background-color: var(--hover-bg-color);\n",
              "    box-shadow: 0 1px 2px rgba(60, 64, 67, 0.3), 0 1px 3px 1px rgba(60, 64, 67, 0.15);\n",
              "    fill: var(--button-hover-fill-color);\n",
              "  }\n",
              "\n",
              "  .colab-df-quickchart-complete:disabled,\n",
              "  .colab-df-quickchart-complete:disabled:hover {\n",
              "    background-color: var(--disabled-bg-color);\n",
              "    fill: var(--disabled-fill-color);\n",
              "    box-shadow: none;\n",
              "  }\n",
              "\n",
              "  .colab-df-spinner {\n",
              "    border: 2px solid var(--fill-color);\n",
              "    border-color: transparent;\n",
              "    border-bottom-color: var(--fill-color);\n",
              "    animation:\n",
              "      spin 1s steps(1) infinite;\n",
              "  }\n",
              "\n",
              "  @keyframes spin {\n",
              "    0% {\n",
              "      border-color: transparent;\n",
              "      border-bottom-color: var(--fill-color);\n",
              "      border-left-color: var(--fill-color);\n",
              "    }\n",
              "    20% {\n",
              "      border-color: transparent;\n",
              "      border-left-color: var(--fill-color);\n",
              "      border-top-color: var(--fill-color);\n",
              "    }\n",
              "    30% {\n",
              "      border-color: transparent;\n",
              "      border-left-color: var(--fill-color);\n",
              "      border-top-color: var(--fill-color);\n",
              "      border-right-color: var(--fill-color);\n",
              "    }\n",
              "    40% {\n",
              "      border-color: transparent;\n",
              "      border-right-color: var(--fill-color);\n",
              "      border-top-color: var(--fill-color);\n",
              "    }\n",
              "    60% {\n",
              "      border-color: transparent;\n",
              "      border-right-color: var(--fill-color);\n",
              "    }\n",
              "    80% {\n",
              "      border-color: transparent;\n",
              "      border-right-color: var(--fill-color);\n",
              "      border-bottom-color: var(--fill-color);\n",
              "    }\n",
              "    90% {\n",
              "      border-color: transparent;\n",
              "      border-bottom-color: var(--fill-color);\n",
              "    }\n",
              "  }\n",
              "</style>\n",
              "\n",
              "  <script>\n",
              "    async function quickchart(key) {\n",
              "      const quickchartButtonEl =\n",
              "        document.querySelector('#' + key + ' button');\n",
              "      quickchartButtonEl.disabled = true;  // To prevent multiple clicks.\n",
              "      quickchartButtonEl.classList.add('colab-df-spinner');\n",
              "      try {\n",
              "        const charts = await google.colab.kernel.invokeFunction(\n",
              "            'suggestCharts', [key], {});\n",
              "      } catch (error) {\n",
              "        console.error('Error during call to suggestCharts:', error);\n",
              "      }\n",
              "      quickchartButtonEl.classList.remove('colab-df-spinner');\n",
              "      quickchartButtonEl.classList.add('colab-df-quickchart-complete');\n",
              "    }\n",
              "    (() => {\n",
              "      let quickchartButtonEl =\n",
              "        document.querySelector('#df-9cfcc962-c85f-4a69-b4f5-e83cc746dc41 button');\n",
              "      quickchartButtonEl.style.display =\n",
              "        google.colab.kernel.accessAllowed ? 'block' : 'none';\n",
              "    })();\n",
              "  </script>\n",
              "</div>\n",
              "    </div>\n",
              "  </div>\n"
            ],
            "application/vnd.google.colaboratory.intrinsic+json": {
              "type": "dataframe",
              "variable_name": "df"
            }
          },
          "metadata": {},
          "execution_count": 27
        }
      ]
    },
    {
      "cell_type": "markdown",
      "source": [
        "*At section level*"
      ],
      "metadata": {
        "id": "PGM17ggcDDt6"
      }
    },
    {
      "cell_type": "code",
      "source": [
        "import pandas as pd\n",
        "\n",
        "# Assuming df is your DataFrame\n",
        "# ... (your DataFrame initialization)\n",
        "\n",
        "# Columns to compare\n",
        "truth_column = ' APipc'\n",
        "predicted_columns = ['APipc_GPTpred', 'APipc_BARDpred', 'APipc_abstract_GPTpred', 'APipc_abstract_BARDpred']\n",
        "\n",
        "# Function to extract section level from IPC code\n",
        "def extract_section(ipc_code):\n",
        "    return ipc_code.split('/')[0][0] #section level\n",
        "\n",
        "# Function to calculate accuracy\n",
        "def calculate_accuracy(row, predicted_column):\n",
        "    truth_list = row[truth_column]\n",
        "    predicted_list = row[predicted_column]\n",
        "\n",
        "    # Extract section levels from the first item in the predicted list\n",
        "    predicted_section = extract_section(predicted_list[1]) #top1\n",
        "\n",
        "    # Check if the section level of the predicted list matches any section level in the truth list\n",
        "    return any(extract_section(truth_code) == predicted_section for truth_code in truth_list)\n",
        "\n",
        "# Apply the accuracy calculation function to each predicted column and calculate the mean accuracy\n",
        "for predicted_column in predicted_columns:\n",
        "    accuracy = df.apply(lambda row: calculate_accuracy(row, predicted_column), axis=1).mean()\n",
        "\n",
        "    # Print the accuracy for each predicted column\n",
        "    print(f'Top2 accuracy of {predicted_column} at section level: {accuracy:.2%}')"
      ],
      "metadata": {
        "colab": {
          "base_uri": "https://localhost:8080/"
        },
        "id": "H3wU60jKKSv0",
        "outputId": "4d9ddec1-5ad6-4fbc-b082-b6ef788136a4"
      },
      "execution_count": null,
      "outputs": [
        {
          "output_type": "stream",
          "name": "stdout",
          "text": [
            "Top2 accuracy of APipc_GPTpred at section level: 100.00%\n",
            "Top2 accuracy of APipc_BARDpred at section level: 89.80%\n",
            "Top2 accuracy of APipc_abstract_GPTpred at section level: 100.00%\n",
            "Top2 accuracy of APipc_abstract_BARDpred at section level: 100.00%\n"
          ]
        }
      ]
    },
    {
      "cell_type": "markdown",
      "source": [
        "*At class-level*"
      ],
      "metadata": {
        "id": "lmTiw5hJCtPq"
      }
    },
    {
      "cell_type": "code",
      "source": [
        "import pandas as pd\n",
        "\n",
        "truth_column = ' APipc'\n",
        "predicted_columns = ['APipc_GPTpred', 'APipc_BARDpred', 'APipc_abstract_GPTpred', 'APipc_abstract_BARDpred']\n",
        "\n",
        "# Function to extract class level from IPC code\n",
        "def extract_class(ipc_code):\n",
        "    return ipc_code.split('/')[0][:3]\n",
        "\n",
        "# Function to calculate accuracy\n",
        "def calculate_accuracy(row, predicted_column):\n",
        "    truth_list = row[truth_column]\n",
        "    predicted_list = row[predicted_column]\n",
        "\n",
        "\n",
        "    predicted_class = extract_class(predicted_list[1])\n",
        "\n",
        "    # Check if the class level of the predicted list matches any class level in the truth list\n",
        "    return any(extract_class(truth_code) == predicted_class for truth_code in truth_list)\n",
        "\n",
        "# Apply the accuracy calculation function to each predicted column and calculate the mean accuracy\n",
        "for predicted_column in predicted_columns:\n",
        "    accuracy = df.apply(lambda row: calculate_accuracy(row, predicted_column), axis=1).mean()\n",
        "\n",
        "    # Print the accuracy for each predicted column\n",
        "    print(f'Top2 accuracy of {predicted_column} at class level: {accuracy:.2%}')"
      ],
      "metadata": {
        "colab": {
          "base_uri": "https://localhost:8080/"
        },
        "id": "ROJwZRXjCHZy",
        "outputId": "7fd32580-0fa8-4098-d2ef-2ba16549609f"
      },
      "execution_count": null,
      "outputs": [
        {
          "output_type": "stream",
          "name": "stdout",
          "text": [
            "Top2 accuracy of APipc_GPTpred at class level: 100.00%\n",
            "Top2 accuracy of APipc_BARDpred at class level: 83.67%\n",
            "Top2 accuracy of APipc_abstract_GPTpred at class level: 97.96%\n",
            "Top2 accuracy of APipc_abstract_BARDpred at class level: 95.92%\n"
          ]
        }
      ]
    },
    {
      "cell_type": "markdown",
      "source": [
        "*At sub-class level*"
      ],
      "metadata": {
        "id": "ASiioeAzC1d_"
      }
    },
    {
      "cell_type": "code",
      "source": [
        "import pandas as pd\n",
        "\n",
        "truth_column = ' APipc'\n",
        "predicted_columns = ['APipc_GPTpred', 'APipc_BARDpred', 'APipc_abstract_GPTpred', 'APipc_abstract_BARDpred']\n",
        "\n",
        "# Function to extract class level from IPC code\n",
        "def extract_class(ipc_code):\n",
        "    return ipc_code.split('/')[0][:4]\n",
        "\n",
        "# Function to calculate accuracy\n",
        "def calculate_accuracy(row, predicted_column):\n",
        "    truth_list = row[truth_column]\n",
        "    predicted_list = row[predicted_column]\n",
        "\n",
        "\n",
        "    predicted_class = extract_class(predicted_list[1])\n",
        "\n",
        "    # Check if the class level of the predicted list matches any class level in the truth list\n",
        "    return any(extract_class(truth_code) == predicted_class for truth_code in truth_list)\n",
        "\n",
        "# Apply the accuracy calculation function to each predicted column and calculate the mean accuracy\n",
        "for predicted_column in predicted_columns:\n",
        "    accuracy = df.apply(lambda row: calculate_accuracy(row, predicted_column), axis=1).mean()\n",
        "\n",
        "    # Print the accuracy for each predicted column\n",
        "    print(f'Top2 accuracy of {predicted_column} at sub-class level: {accuracy:.2%}')"
      ],
      "metadata": {
        "colab": {
          "base_uri": "https://localhost:8080/"
        },
        "id": "_ej7wqlrCHdE",
        "outputId": "5f4d9217-b17e-4da1-fbd4-7373d5e96d84"
      },
      "execution_count": null,
      "outputs": [
        {
          "output_type": "stream",
          "name": "stdout",
          "text": [
            "Top2 accuracy of APipc_GPTpred at sub-class level: 75.51%\n",
            "Top2 accuracy of APipc_BARDpred at sub-class level: 53.06%\n",
            "Top2 accuracy of APipc_abstract_GPTpred at sub-class level: 67.35%\n",
            "Top2 accuracy of APipc_abstract_BARDpred at sub-class level: 44.90%\n"
          ]
        }
      ]
    },
    {
      "cell_type": "markdown",
      "source": [
        "*At sub-group level*"
      ],
      "metadata": {
        "id": "eFOpnoBIDHWh"
      }
    },
    {
      "cell_type": "code",
      "source": [
        "# Function to calculate accuracy\n",
        "def calculate_accuracy(row, predicted_column):\n",
        "    truth_list = row[truth_column]\n",
        "    predicted_list = row[predicted_column]\n",
        "\n",
        "    # Extract sub-group levels from the first item in the predicted list\n",
        "    predicted_subclass = predicted_list[1]\n",
        "\n",
        "    # Check if the sub-group level of the predicted list matches any sub-class level in the truth list\n",
        "    return any(truth_code == predicted_subclass for truth_code in truth_list)\n",
        "\n",
        "# Apply the accuracy calculation function to each predicted column and calculate the mean accuracy\n",
        "for predicted_column in predicted_columns:\n",
        "    accuracy = df.apply(lambda row: calculate_accuracy(row, predicted_column), axis=1).mean()\n",
        "\n",
        "    # Print the accuracy for each predicted column\n",
        "    print(f'Top2 accuracy of {predicted_column} at sub-group level: {accuracy:.2%}')"
      ],
      "metadata": {
        "colab": {
          "base_uri": "https://localhost:8080/"
        },
        "id": "7pdPHOROCHgO",
        "outputId": "8a364c7a-aa13-46ad-a575-c5eca4683de9"
      },
      "execution_count": null,
      "outputs": [
        {
          "output_type": "stream",
          "name": "stdout",
          "text": [
            "Top2 accuracy of APipc_GPTpred at sub-group level: 8.16%\n",
            "Top2 accuracy of APipc_BARDpred at sub-group level: 2.04%\n",
            "Top2 accuracy of APipc_abstract_GPTpred at sub-group level: 0.00%\n",
            "Top2 accuracy of APipc_abstract_BARDpred at sub-group level: 4.08%\n"
          ]
        }
      ]
    },
    {
      "cell_type": "code",
      "source": [],
      "metadata": {
        "id": "ty4X2mY1CHjM"
      },
      "execution_count": null,
      "outputs": []
    },
    {
      "cell_type": "markdown",
      "source": [
        "# Top3 accuracies"
      ],
      "metadata": {
        "id": "HwTTkXc-DXu3"
      }
    },
    {
      "cell_type": "markdown",
      "source": [
        "*At section level*"
      ],
      "metadata": {
        "id": "y64BjoKvDiNc"
      }
    },
    {
      "cell_type": "code",
      "source": [
        "import pandas as pd\n",
        "\n",
        "truth_column = ' APipc'\n",
        "predicted_columns = ['APipc_GPTpred', 'APipc_BARDpred', 'APipc_abstract_GPTpred', 'APipc_abstract_BARDpred']\n",
        "\n",
        "# Function to extract class level from IPC code\n",
        "def extract_class(ipc_code):\n",
        "    return ipc_code.split('/')[0][0]\n",
        "\n",
        "# Function to calculate accuracy\n",
        "def calculate_accuracy(row, predicted_column):\n",
        "    truth_list = row[truth_column]\n",
        "    predicted_list = row[predicted_column]\n",
        "\n",
        "\n",
        "    predicted_class = extract_class(predicted_list[2])\n",
        "\n",
        "    # Check if the class level of the predicted list matches any class level in the truth list\n",
        "    return any(extract_class(truth_code) == predicted_class for truth_code in truth_list)\n",
        "\n",
        "# Apply the accuracy calculation function to each predicted column and calculate the mean accuracy\n",
        "for predicted_column in predicted_columns:\n",
        "    accuracy = df.apply(lambda row: calculate_accuracy(row, predicted_column), axis=1).mean()\n",
        "\n",
        "    # Print the accuracy for each predicted column\n",
        "    print(f'Top3 accuracy of {predicted_column} at section level: {accuracy:.2%}')"
      ],
      "metadata": {
        "colab": {
          "base_uri": "https://localhost:8080/"
        },
        "id": "fv1A9QgmCHmL",
        "outputId": "a6bfcb60-0e15-4db2-a329-97d2b3e13b16"
      },
      "execution_count": null,
      "outputs": [
        {
          "output_type": "stream",
          "name": "stdout",
          "text": [
            "Top3 accuracy of APipc_GPTpred at section level: 93.88%\n",
            "Top3 accuracy of APipc_BARDpred at section level: 65.31%\n",
            "Top3 accuracy of APipc_abstract_GPTpred at section level: 97.96%\n",
            "Top3 accuracy of APipc_abstract_BARDpred at section level: 95.92%\n"
          ]
        }
      ]
    },
    {
      "cell_type": "markdown",
      "source": [
        "*At class level*"
      ],
      "metadata": {
        "id": "vtkd2Wr6D6Kw"
      }
    },
    {
      "cell_type": "code",
      "source": [
        "import pandas as pd\n",
        "\n",
        "truth_column = ' APipc'\n",
        "predicted_columns = ['APipc_GPTpred', 'APipc_BARDpred', 'APipc_abstract_GPTpred', 'APipc_abstract_BARDpred']\n",
        "\n",
        "# Function to extract class level from IPC code\n",
        "def extract_class(ipc_code):\n",
        "    return ipc_code.split('/')[0][:3]\n",
        "\n",
        "# Function to calculate accuracy\n",
        "def calculate_accuracy(row, predicted_column):\n",
        "    truth_list = row[truth_column]\n",
        "    predicted_list = row[predicted_column]\n",
        "\n",
        "\n",
        "    predicted_class = extract_class(predicted_list[2])\n",
        "\n",
        "    # Check if the class level of the predicted list matches any class level in the truth list\n",
        "    return any(extract_class(truth_code) == predicted_class for truth_code in truth_list)\n",
        "\n",
        "# Apply the accuracy calculation function to each predicted column and calculate the mean accuracy\n",
        "for predicted_column in predicted_columns:\n",
        "    accuracy = df.apply(lambda row: calculate_accuracy(row, predicted_column), axis=1).mean()\n",
        "\n",
        "    # Print the accuracy for each predicted column\n",
        "    print(f'Top3 accuracy of {predicted_column} at class level: {accuracy:.2%}')"
      ],
      "metadata": {
        "colab": {
          "base_uri": "https://localhost:8080/"
        },
        "id": "EyM0kI46CHpH",
        "outputId": "3b493e7e-4e31-4e21-a07b-5f55380ecab4"
      },
      "execution_count": null,
      "outputs": [
        {
          "output_type": "stream",
          "name": "stdout",
          "text": [
            "Top3 accuracy of APipc_GPTpred at class level: 93.88%\n",
            "Top3 accuracy of APipc_BARDpred at class level: 65.31%\n",
            "Top3 accuracy of APipc_abstract_GPTpred at class level: 97.96%\n",
            "Top3 accuracy of APipc_abstract_BARDpred at class level: 87.76%\n"
          ]
        }
      ]
    },
    {
      "cell_type": "markdown",
      "source": [
        "*At sub-class level*"
      ],
      "metadata": {
        "id": "HmgceSYREEQa"
      }
    },
    {
      "cell_type": "code",
      "source": [
        "import pandas as pd\n",
        "\n",
        "truth_column = ' APipc'\n",
        "predicted_columns = ['APipc_GPTpred', 'APipc_BARDpred', 'APipc_abstract_GPTpred', 'APipc_abstract_BARDpred']\n",
        "\n",
        "# Function to extract class level from IPC code\n",
        "def extract_class(ipc_code):\n",
        "    return ipc_code.split('/')[0][:4]\n",
        "\n",
        "# Function to calculate accuracy\n",
        "def calculate_accuracy(row, predicted_column):\n",
        "    truth_list = row[truth_column]\n",
        "    predicted_list = row[predicted_column]\n",
        "\n",
        "\n",
        "    predicted_class = extract_class(predicted_list[2])\n",
        "\n",
        "    # Check if the class level of the predicted list matches any class level in the truth list\n",
        "    return any(extract_class(truth_code) == predicted_class for truth_code in truth_list)\n",
        "\n",
        "# Apply the accuracy calculation function to each predicted column and calculate the mean accuracy\n",
        "for predicted_column in predicted_columns:\n",
        "    accuracy = df.apply(lambda row: calculate_accuracy(row, predicted_column), axis=1).mean()\n",
        "\n",
        "    # Print the accuracy for each predicted column\n",
        "    print(f'Top3 accuracy of {predicted_column} at sub-class level: {accuracy:.2%}')"
      ],
      "metadata": {
        "colab": {
          "base_uri": "https://localhost:8080/"
        },
        "id": "giIKJx9ZCHu1",
        "outputId": "b2658469-873b-4c5f-f2ba-da1f5193cbc5"
      },
      "execution_count": null,
      "outputs": [
        {
          "output_type": "stream",
          "name": "stdout",
          "text": [
            "Top3 accuracy of APipc_GPTpred at sub-class level: 83.67%\n",
            "Top3 accuracy of APipc_BARDpred at sub-class level: 48.98%\n",
            "Top3 accuracy of APipc_abstract_GPTpred at sub-class level: 91.84%\n",
            "Top3 accuracy of APipc_abstract_BARDpred at sub-class level: 73.47%\n"
          ]
        }
      ]
    },
    {
      "cell_type": "markdown",
      "source": [
        "*At sub-group level*"
      ],
      "metadata": {
        "id": "EDE6SZDOEg8F"
      }
    },
    {
      "cell_type": "code",
      "source": [
        "import pandas as pd\n",
        "\n",
        "\n",
        "truth_column = ' APipc'\n",
        "predicted_columns = ['APipc_GPTpred', 'APipc_BARDpred', 'APipc_abstract_GPTpred', 'APipc_abstract_BARDpred']\n",
        "\n",
        "\n",
        "# Function to calculate accuracy\n",
        "def calculate_accuracy(row, predicted_column):\n",
        "    truth_list = row[truth_column]\n",
        "    predicted_list = row[predicted_column]\n",
        "\n",
        "    # Extract sub-group levels from the first item in the predicted list\n",
        "    predicted_subclass = predicted_list[2]\n",
        "\n",
        "    # Check if the sub-group level of the predicted list matches any sub-class level in the truth list\n",
        "    return any(truth_code == predicted_subclass for truth_code in truth_list)\n",
        "\n",
        "# Apply the accuracy calculation function to each predicted column and calculate the mean accuracy\n",
        "for predicted_column in predicted_columns:\n",
        "    accuracy = df.apply(lambda row: calculate_accuracy(row, predicted_column), axis=1).mean()\n",
        "\n",
        "    # Print the accuracy for each predicted column\n",
        "    print(f'Top3 accuracy of {predicted_column} at sub-group level: {accuracy:.2%}')\n"
      ],
      "metadata": {
        "colab": {
          "base_uri": "https://localhost:8080/"
        },
        "id": "EKuc7pR4CHx_",
        "outputId": "44009e50-e4b1-49df-facb-906671a65729"
      },
      "execution_count": null,
      "outputs": [
        {
          "output_type": "stream",
          "name": "stdout",
          "text": [
            "Top3 accuracy of APipc_GPTpred at sub-group level: 0.00%\n",
            "Top3 accuracy of APipc_BARDpred at sub-group level: 0.00%\n",
            "Top3 accuracy of APipc_abstract_GPTpred at sub-group level: 0.00%\n",
            "Top3 accuracy of APipc_abstract_BARDpred at sub-group level: 2.04%\n"
          ]
        }
      ]
    },
    {
      "cell_type": "code",
      "source": [],
      "metadata": {
        "id": "TOop37ZXCH00"
      },
      "execution_count": null,
      "outputs": []
    },
    {
      "cell_type": "markdown",
      "source": [
        "# Top4 accuracies"
      ],
      "metadata": {
        "id": "XLeWMV7mEwgu"
      }
    },
    {
      "cell_type": "markdown",
      "source": [
        "*At section level*"
      ],
      "metadata": {
        "id": "mJxyFj9IFBhc"
      }
    },
    {
      "cell_type": "code",
      "source": [
        "import pandas as pd\n",
        "\n",
        "truth_column = ' APipc'\n",
        "predicted_columns = ['APipc_GPTpred', 'APipc_BARDpred', 'APipc_abstract_GPTpred', 'APipc_abstract_BARDpred']\n",
        "\n",
        "# Function to extract class level from IPC code\n",
        "def extract_class(ipc_code):\n",
        "    return ipc_code.split('/')[0][0]\n",
        "\n",
        "# Function to calculate accuracy\n",
        "def calculate_accuracy(row, predicted_column):\n",
        "    truth_list = row[truth_column]\n",
        "    predicted_list = row[predicted_column]\n",
        "\n",
        "\n",
        "    predicted_class = extract_class(predicted_list[3])\n",
        "\n",
        "    # Check if the class level of the predicted list matches any class level in the truth list\n",
        "    return any(extract_class(truth_code) == predicted_class for truth_code in truth_list)\n",
        "\n",
        "# Apply the accuracy calculation function to each predicted column and calculate the mean accuracy\n",
        "for predicted_column in predicted_columns:\n",
        "    accuracy = df.apply(lambda row: calculate_accuracy(row, predicted_column), axis=1).mean()\n",
        "\n",
        "    # Print the accuracy for each predicted column\n",
        "    print(f'Top4 accuracy of {predicted_column} at section level: {accuracy:.2%}')"
      ],
      "metadata": {
        "colab": {
          "base_uri": "https://localhost:8080/"
        },
        "id": "dip7QA8WCH3-",
        "outputId": "1e63e2a8-3212-4811-c958-a1e0ccbb9008"
      },
      "execution_count": null,
      "outputs": [
        {
          "output_type": "stream",
          "name": "stdout",
          "text": [
            "Top4 accuracy of APipc_GPTpred at section level: 95.92%\n",
            "Top4 accuracy of APipc_BARDpred at section level: 83.67%\n",
            "Top4 accuracy of APipc_abstract_GPTpred at section level: 100.00%\n",
            "Top4 accuracy of APipc_abstract_BARDpred at section level: 69.39%\n"
          ]
        }
      ]
    },
    {
      "cell_type": "markdown",
      "source": [
        "*At class level*"
      ],
      "metadata": {
        "id": "VwQOP0C3FEt6"
      }
    },
    {
      "cell_type": "code",
      "source": [
        "import pandas as pd\n",
        "\n",
        "truth_column = ' APipc'\n",
        "predicted_columns = ['APipc_GPTpred', 'APipc_BARDpred', 'APipc_abstract_GPTpred', 'APipc_abstract_BARDpred']\n",
        "\n",
        "# Function to extract class level from IPC code\n",
        "def extract_class(ipc_code):\n",
        "    return ipc_code.split('/')[0][:3]\n",
        "\n",
        "# Function to calculate accuracy\n",
        "def calculate_accuracy(row, predicted_column):\n",
        "    truth_list = row[truth_column]\n",
        "    predicted_list = row[predicted_column]\n",
        "\n",
        "\n",
        "    predicted_class = extract_class(predicted_list[3])\n",
        "\n",
        "    # Check if the class level of the predicted list matches any class level in the truth list\n",
        "    return any(extract_class(truth_code) == predicted_class for truth_code in truth_list)\n",
        "\n",
        "# Apply the accuracy calculation function to each predicted column and calculate the mean accuracy\n",
        "for predicted_column in predicted_columns:\n",
        "    accuracy = df.apply(lambda row: calculate_accuracy(row, predicted_column), axis=1).mean()\n",
        "\n",
        "    # Print the accuracy for each predicted column\n",
        "    print(f'Top4 accuracy of {predicted_column} at class level: {accuracy:.2%}')"
      ],
      "metadata": {
        "colab": {
          "base_uri": "https://localhost:8080/"
        },
        "id": "eP5t78MmCH9q",
        "outputId": "3dc6cc47-55e3-48ac-b6d4-4c33bce25aed"
      },
      "execution_count": null,
      "outputs": [
        {
          "output_type": "stream",
          "name": "stdout",
          "text": [
            "Top4 accuracy of APipc_GPTpred at class level: 87.76%\n",
            "Top4 accuracy of APipc_BARDpred at class level: 71.43%\n",
            "Top4 accuracy of APipc_abstract_GPTpred at class level: 93.88%\n",
            "Top4 accuracy of APipc_abstract_BARDpred at class level: 67.35%\n"
          ]
        }
      ]
    },
    {
      "cell_type": "markdown",
      "source": [
        "*At sub-class level*"
      ],
      "metadata": {
        "id": "mETH0aGxFUdj"
      }
    },
    {
      "cell_type": "code",
      "source": [
        "import pandas as pd\n",
        "\n",
        "truth_column = ' APipc'\n",
        "predicted_columns = ['APipc_GPTpred', 'APipc_BARDpred', 'APipc_abstract_GPTpred', 'APipc_abstract_BARDpred']\n",
        "\n",
        "# Function to extract class level from IPC code\n",
        "def extract_class(ipc_code):\n",
        "    return ipc_code.split('/')[0][:4]\n",
        "\n",
        "# Function to calculate accuracy\n",
        "def calculate_accuracy(row, predicted_column):\n",
        "    truth_list = row[truth_column]\n",
        "    predicted_list = row[predicted_column]\n",
        "\n",
        "\n",
        "    predicted_class = extract_class(predicted_list[3])\n",
        "\n",
        "    # Check if the class level of the predicted list matches any class level in the truth list\n",
        "    return any(extract_class(truth_code) == predicted_class for truth_code in truth_list)\n",
        "\n",
        "# Apply the accuracy calculation function to each predicted column and calculate the mean accuracy\n",
        "for predicted_column in predicted_columns:\n",
        "    accuracy = df.apply(lambda row: calculate_accuracy(row, predicted_column), axis=1).mean()\n",
        "\n",
        "    # Print the accuracy for each predicted column\n",
        "    print(f'Top4 accuracy of {predicted_column} at sub-class level: {accuracy:.2%}')"
      ],
      "metadata": {
        "colab": {
          "base_uri": "https://localhost:8080/"
        },
        "id": "jkgXhaWaE2_e",
        "outputId": "61dbd69c-e2c6-4fdc-a4b7-0039ab1cd6a6"
      },
      "execution_count": null,
      "outputs": [
        {
          "output_type": "stream",
          "name": "stdout",
          "text": [
            "Top4 accuracy of APipc_GPTpred at sub-class level: 65.31%\n",
            "Top4 accuracy of APipc_BARDpred at sub-class level: 59.18%\n",
            "Top4 accuracy of APipc_abstract_GPTpred at sub-class level: 42.86%\n",
            "Top4 accuracy of APipc_abstract_BARDpred at sub-class level: 51.02%\n"
          ]
        }
      ]
    },
    {
      "cell_type": "markdown",
      "source": [
        "*At sub-group level*"
      ],
      "metadata": {
        "id": "JlDkKkcdFomj"
      }
    },
    {
      "cell_type": "code",
      "source": [
        "import pandas as pd\n",
        "\n",
        "\n",
        "truth_column = ' APipc'\n",
        "predicted_columns = ['APipc_GPTpred', 'APipc_BARDpred', 'APipc_abstract_GPTpred', 'APipc_abstract_BARDpred']\n",
        "\n",
        "\n",
        "# Function to calculate accuracy\n",
        "def calculate_accuracy(row, predicted_column):\n",
        "    truth_list = row[truth_column]\n",
        "    predicted_list = row[predicted_column]\n",
        "\n",
        "    # Extract sub-group levels from the first item in the predicted list\n",
        "    predicted_subclass = predicted_list[3]\n",
        "\n",
        "    # Check if the sub-group level of the predicted list matches any sub-class level in the truth list\n",
        "    return any(truth_code == predicted_subclass for truth_code in truth_list)\n",
        "\n",
        "# Apply the accuracy calculation function to each predicted column and calculate the mean accuracy\n",
        "for predicted_column in predicted_columns:\n",
        "    accuracy = df.apply(lambda row: calculate_accuracy(row, predicted_column), axis=1).mean()\n",
        "\n",
        "    # Print the accuracy for each predicted column\n",
        "    print(f'Top4 accuracy of {predicted_column} at sub-group level: {accuracy:.2%}')"
      ],
      "metadata": {
        "colab": {
          "base_uri": "https://localhost:8080/"
        },
        "id": "lEUsgOyrE3Fh",
        "outputId": "4cb64b53-8955-4e3b-ee16-f1614fe54881"
      },
      "execution_count": null,
      "outputs": [
        {
          "output_type": "stream",
          "name": "stdout",
          "text": [
            "Top4 accuracy of APipc_GPTpred at sub-group level: 10.20%\n",
            "Top4 accuracy of APipc_BARDpred at sub-group level: 8.16%\n",
            "Top4 accuracy of APipc_abstract_GPTpred at sub-group level: 0.00%\n",
            "Top4 accuracy of APipc_abstract_BARDpred at sub-group level: 0.00%\n"
          ]
        }
      ]
    },
    {
      "cell_type": "code",
      "source": [],
      "metadata": {
        "id": "kNLzWviwFnwg"
      },
      "execution_count": null,
      "outputs": []
    },
    {
      "cell_type": "markdown",
      "source": [
        "# Top5 accuracies"
      ],
      "metadata": {
        "id": "EVa349OwFy06"
      }
    },
    {
      "cell_type": "markdown",
      "source": [
        "*At section level*"
      ],
      "metadata": {
        "id": "bsMfbntwGMa0"
      }
    },
    {
      "cell_type": "code",
      "source": [
        "import pandas as pd\n",
        "\n",
        "truth_column = ' APipc'\n",
        "predicted_columns = ['APipc_GPTpred', 'APipc_BARDpred', 'APipc_abstract_GPTpred', 'APipc_abstract_BARDpred']\n",
        "\n",
        "# Function to extract class level from IPC code\n",
        "def extract_class(ipc_code):\n",
        "    return ipc_code.split('/')[0][0]\n",
        "\n",
        "# Function to calculate accuracy\n",
        "def calculate_accuracy(row, predicted_column):\n",
        "    truth_list = row[truth_column]\n",
        "    predicted_list = row[predicted_column]\n",
        "\n",
        "\n",
        "    predicted_class = extract_class(predicted_list[0])\n",
        "\n",
        "    # Check if the class level of the predicted list matches any class level in the truth list\n",
        "    return any(extract_class(truth_code) == predicted_class for truth_code in truth_list)\n",
        "\n",
        "# Apply the accuracy calculation function to each predicted column and calculate the mean accuracy\n",
        "for predicted_column in predicted_columns:\n",
        "    accuracy = df.apply(lambda row: calculate_accuracy(row, predicted_column), axis=1).mean()\n",
        "\n",
        "    # Print the accuracy for each predicted column\n",
        "    print(f'Top5 accuracy of {predicted_column} at section level: {accuracy:.2%}')"
      ],
      "metadata": {
        "colab": {
          "base_uri": "https://localhost:8080/"
        },
        "id": "qYnyrUosFnzy",
        "outputId": "563cde04-4238-42dd-b5d0-c60352d9efdb"
      },
      "execution_count": null,
      "outputs": [
        {
          "output_type": "stream",
          "name": "stdout",
          "text": [
            "Top5 accuracy of APipc_GPTpred at section level: 100.00%\n",
            "Top5 accuracy of APipc_BARDpred at section level: 100.00%\n",
            "Top5 accuracy of APipc_abstract_GPTpred at section level: 95.92%\n",
            "Top5 accuracy of APipc_abstract_BARDpred at section level: 100.00%\n"
          ]
        }
      ]
    },
    {
      "cell_type": "markdown",
      "source": [
        "*At class level*"
      ],
      "metadata": {
        "id": "sEtLk1JiHI1c"
      }
    },
    {
      "cell_type": "code",
      "source": [
        "import pandas as pd\n",
        "\n",
        "truth_column = ' APipc'\n",
        "predicted_columns = ['APipc_GPTpred', 'APipc_BARDpred', 'APipc_abstract_GPTpred', 'APipc_abstract_BARDpred']\n",
        "\n",
        "# Function to extract class level from IPC code\n",
        "def extract_class(ipc_code):\n",
        "    return ipc_code.split('/')[0][:3]\n",
        "\n",
        "# Function to calculate accuracy\n",
        "def calculate_accuracy(row, predicted_column):\n",
        "    truth_list = row[truth_column]\n",
        "    predicted_list = row[predicted_column]\n",
        "\n",
        "\n",
        "    predicted_class = extract_class(predicted_list[4])\n",
        "\n",
        "    # Check if the class level of the predicted list matches any class level in the truth list\n",
        "    return any(extract_class(truth_code) == predicted_class for truth_code in truth_list)\n",
        "\n",
        "# Apply the accuracy calculation function to each predicted column and calculate the mean accuracy\n",
        "for predicted_column in predicted_columns:\n",
        "    accuracy = df.apply(lambda row: calculate_accuracy(row, predicted_column), axis=1).mean()\n",
        "\n",
        "    # Print the accuracy for each predicted column\n",
        "    print(f'Top5 accuracy of {predicted_column} at class level: {accuracy:.2%}')"
      ],
      "metadata": {
        "colab": {
          "base_uri": "https://localhost:8080/"
        },
        "id": "3ouKCpReFn3L",
        "outputId": "2de1c452-3ad8-4604-e572-146ef7445784"
      },
      "execution_count": null,
      "outputs": [
        {
          "output_type": "stream",
          "name": "stdout",
          "text": [
            "Top5 accuracy of APipc_GPTpred at class level: 89.80%\n",
            "Top5 accuracy of APipc_BARDpred at class level: 73.47%\n",
            "Top5 accuracy of APipc_abstract_GPTpred at class level: 87.76%\n",
            "Top5 accuracy of APipc_abstract_BARDpred at class level: 65.31%\n"
          ]
        }
      ]
    },
    {
      "cell_type": "markdown",
      "source": [
        "*At sub-class level*"
      ],
      "metadata": {
        "id": "yzIWOJgVHRI9"
      }
    },
    {
      "cell_type": "code",
      "source": [
        "import pandas as pd\n",
        "\n",
        "truth_column = ' APipc'\n",
        "predicted_columns = ['APipc_GPTpred', 'APipc_BARDpred', 'APipc_abstract_GPTpred', 'APipc_abstract_BARDpred']\n",
        "\n",
        "# Function to extract class level from IPC code\n",
        "def extract_class(ipc_code):\n",
        "    return ipc_code.split('/')[0][:4]\n",
        "\n",
        "# Function to calculate accuracy\n",
        "def calculate_accuracy(row, predicted_column):\n",
        "    truth_list = row[truth_column]\n",
        "    predicted_list = row[predicted_column]\n",
        "\n",
        "\n",
        "    predicted_class = extract_class(predicted_list[4])\n",
        "\n",
        "    # Check if the class level of the predicted list matches any class level in the truth list\n",
        "    return any(extract_class(truth_code) == predicted_class for truth_code in truth_list)\n",
        "\n",
        "# Apply the accuracy calculation function to each predicted column and calculate the mean accuracy\n",
        "for predicted_column in predicted_columns:\n",
        "    accuracy = df.apply(lambda row: calculate_accuracy(row, predicted_column), axis=1).mean()\n",
        "\n",
        "    # Print the accuracy for each predicted column\n",
        "    print(f'Top5 accuracy of {predicted_column} at sub-class level: {accuracy:.2%}')"
      ],
      "metadata": {
        "colab": {
          "base_uri": "https://localhost:8080/"
        },
        "id": "4tQP7ZiqE3Lc",
        "outputId": "0c2638e4-2b61-417d-a33b-852238cb55d4"
      },
      "execution_count": null,
      "outputs": [
        {
          "output_type": "stream",
          "name": "stdout",
          "text": [
            "Top5 accuracy of APipc_GPTpred at sub-class level: 59.18%\n",
            "Top5 accuracy of APipc_BARDpred at sub-class level: 55.10%\n",
            "Top5 accuracy of APipc_abstract_GPTpred at sub-class level: 44.90%\n",
            "Top5 accuracy of APipc_abstract_BARDpred at sub-class level: 61.22%\n"
          ]
        }
      ]
    },
    {
      "cell_type": "markdown",
      "source": [
        "*At sub-group level*"
      ],
      "metadata": {
        "id": "2147-6InHqd-"
      }
    },
    {
      "cell_type": "code",
      "source": [
        "import pandas as pd\n",
        "\n",
        "\n",
        "truth_column = ' APipc'\n",
        "predicted_columns = ['APipc_GPTpred', 'APipc_BARDpred', 'APipc_abstract_GPTpred', 'APipc_abstract_BARDpred']\n",
        "\n",
        "\n",
        "# Function to calculate accuracy\n",
        "def calculate_accuracy(row, predicted_column):\n",
        "    truth_list = row[truth_column]\n",
        "    predicted_list = row[predicted_column]\n",
        "\n",
        "    # Extract sub-group levels from the first item in the predicted list\n",
        "    predicted_subclass = predicted_list[4]\n",
        "\n",
        "    # Check if the sub-group level of the predicted list matches any sub-class level in the truth list\n",
        "    return any(truth_code == predicted_subclass for truth_code in truth_list)\n",
        "\n",
        "# Apply the accuracy calculation function to each predicted column and calculate the mean accuracy\n",
        "for predicted_column in predicted_columns:\n",
        "    accuracy = df.apply(lambda row: calculate_accuracy(row, predicted_column), axis=1).mean()\n",
        "\n",
        "    # Print the accuracy for each predicted column\n",
        "    print(f'Top5 accuracy of {predicted_column} at sub-group level: {accuracy:.2%}')"
      ],
      "metadata": {
        "colab": {
          "base_uri": "https://localhost:8080/"
        },
        "id": "WEMkPyHDE3Tz",
        "outputId": "a93a02b9-c072-4dbd-da0c-43c4d49b10a0"
      },
      "execution_count": null,
      "outputs": [
        {
          "output_type": "stream",
          "name": "stdout",
          "text": [
            "Top5 accuracy of APipc_GPTpred at sub-group level: 2.04%\n",
            "Top5 accuracy of APipc_BARDpred at sub-group level: 0.00%\n",
            "Top5 accuracy of APipc_abstract_GPTpred at sub-group level: 0.00%\n",
            "Top5 accuracy of APipc_abstract_BARDpred at sub-group level: 2.04%\n"
          ]
        }
      ]
    },
    {
      "cell_type": "code",
      "source": [],
      "metadata": {
        "id": "omKc4pq9E3YO"
      },
      "execution_count": null,
      "outputs": []
    },
    {
      "cell_type": "code",
      "source": [],
      "metadata": {
        "id": "1RLLveRLIGb8"
      },
      "execution_count": null,
      "outputs": []
    },
    {
      "cell_type": "code",
      "source": [],
      "metadata": {
        "id": "yIf3zz68IGfY"
      },
      "execution_count": null,
      "outputs": []
    },
    {
      "cell_type": "code",
      "source": [],
      "metadata": {
        "id": "IOqoPb4fF40h"
      },
      "execution_count": null,
      "outputs": []
    },
    {
      "cell_type": "code",
      "source": [],
      "metadata": {
        "id": "uDVfS2oQF43x"
      },
      "execution_count": null,
      "outputs": []
    },
    {
      "cell_type": "code",
      "source": [],
      "metadata": {
        "id": "bPJFBiHdF49W"
      },
      "execution_count": null,
      "outputs": []
    },
    {
      "cell_type": "code",
      "source": [],
      "metadata": {
        "id": "Pq21o4YJCIDu"
      },
      "execution_count": null,
      "outputs": []
    },
    {
      "cell_type": "markdown",
      "source": [
        "## Additional verification code"
      ],
      "metadata": {
        "id": "hornIsMqCIsn"
      }
    },
    {
      "cell_type": "code",
      "source": [
        "import pandas as pd\n",
        "\n",
        "# Assuming df is your DataFrame\n",
        "# ... (your DataFrame initialization)\n",
        "\n",
        "# Columns to compare\n",
        "truth_column = ' APipc'\n",
        "predicted_columns = ['APipc_GPTpred', 'APipc_BARDpred', 'APipc_abstract_GPTpred', 'APipc_abstract_BARDpred']\n",
        "\n",
        "# Function to extract section level from IPC code\n",
        "def extract_section(ipc_code):\n",
        "    return ipc_code.split('/')[0][0]\n",
        "\n",
        "# Function to calculate accuracy\n",
        "def calculate_accuracy(row, predicted_column):\n",
        "    truth_list = row[truth_column]\n",
        "    predicted_list = row[predicted_column]\n",
        "\n",
        "    # Check if predicted_list has enough elements\n",
        "    if len(predicted_list) > 0:\n",
        "        # Extract section levels from the first item in the predicted list\n",
        "        predicted_section = extract_section(predicted_list[0])\n",
        "\n",
        "        # Check if the section level of the predicted list matches any section level in the truth list\n",
        "        return any(extract_section(truth_code) == predicted_section for truth_code in truth_list)\n",
        "    else:\n",
        "        # Print information about rows with predicted_list length less than 2\n",
        "        print(f\"Row with predicted_list length less than 2: {row.name}\")\n",
        "\n",
        "        # Handle the case when predicted_list does not have enough elements\n",
        "        return False\n",
        "\n",
        "\n",
        "# Apply the accuracy calculation function to each predicted column and calculate the mean accuracy\n",
        "for predicted_column in predicted_columns:\n",
        "    accuracy = df.apply(lambda row: calculate_accuracy(row, predicted_column), axis=1).mean()\n",
        "\n",
        "    # Print the accuracy for each predicted column\n",
        "    print(f'Top2 accuracy of {predicted_column} at section level: {accuracy:.2%}')\n"
      ],
      "metadata": {
        "colab": {
          "base_uri": "https://localhost:8080/"
        },
        "id": "b_nFb3ObKS7L",
        "outputId": "69bada8f-744b-4d73-f540-fa50f78fe56e"
      },
      "execution_count": null,
      "outputs": [
        {
          "output_type": "stream",
          "name": "stdout",
          "text": [
            "Top2 accuracy of APipc_GPTpred at section level: 100.00%\n",
            "Top2 accuracy of APipc_BARDpred at section level: 100.00%\n",
            "Top2 accuracy of APipc_abstract_GPTpred at section level: 95.92%\n",
            "Top2 accuracy of APipc_abstract_BARDpred at section level: 100.00%\n"
          ]
        }
      ]
    },
    {
      "cell_type": "code",
      "source": [],
      "metadata": {
        "id": "NveTPg0aNS3P"
      },
      "execution_count": null,
      "outputs": []
    },
    {
      "cell_type": "markdown",
      "source": [
        "Code to avergae classification accuracies"
      ],
      "metadata": {
        "id": "mU5JLPYjrhmO"
      }
    },
    {
      "cell_type": "code",
      "source": [
        "import numpy as np\n",
        "import pandas as pd\n",
        "\n",
        "# Provided values\n",
        "data = np.array([\n",
        "    [100, 65.31, 61.22, 2.04],\n",
        "    [69.39, 67.35, 51.02, 0.00],\n",
        "    [95.92, 87.76, 73.47, 2.04],\n",
        "    [100, 95.92, 44.90, 4.08],\n",
        "    [100, 79.59, 75.51, 0.00]\n",
        "])\n",
        "\n",
        "# Create a DataFrame\n",
        "df = pd.DataFrame(data, columns=['Column1', 'Column2', 'Column3', 'Column4'])\n",
        "\n",
        "# Row-wise average\n",
        "row_avg = df.mean(axis=1)\n",
        "\n",
        "# Column-wise average\n",
        "col_avg = df.mean(axis=0)\n",
        "\n",
        "# Display results\n",
        "print(\"Row-wise averages:\")\n",
        "print(row_avg)\n",
        "\n",
        "print(\"\\nColumn-wise averages:\")\n",
        "print(col_avg)\n"
      ],
      "metadata": {
        "colab": {
          "base_uri": "https://localhost:8080/"
        },
        "id": "jbWXlbwHNS6R",
        "outputId": "9a3efef0-240c-4c0c-d6b8-211391bc9a3a"
      },
      "execution_count": null,
      "outputs": [
        {
          "output_type": "stream",
          "name": "stdout",
          "text": [
            "Row-wise averages:\n",
            "0    57.1425\n",
            "1    46.9400\n",
            "2    64.7975\n",
            "3    61.2250\n",
            "4    63.7750\n",
            "dtype: float64\n",
            "\n",
            "Column-wise averages:\n",
            "Column1    93.062\n",
            "Column2    79.186\n",
            "Column3    61.224\n",
            "Column4     1.632\n",
            "dtype: float64\n"
          ]
        }
      ]
    },
    {
      "cell_type": "code",
      "source": [
        "import numpy as np\n",
        "import pandas as pd\n",
        "\n",
        "# Provided values\n",
        "data = np.array([\n",
        "    [95.92, 95.92, 59.18, 4.08],\n",
        "    [100, 97.96, 67.35, 0.00],\n",
        "    [97.96, 97.96, 91.84, 0.00],\n",
        "    [100, 93.88, 42.86, 0.00],\n",
        "    [95.92, 87.76, 44.90, 0.00]\n",
        "])\n",
        "\n",
        "# Create a DataFrame\n",
        "df = pd.DataFrame(data, columns=['Column1', 'Column2', 'Column3', 'Column4'])\n",
        "\n",
        "# Row-wise average\n",
        "row_avg = df.mean(axis=1)\n",
        "\n",
        "# Column-wise average\n",
        "col_avg = df.mean(axis=0)\n",
        "\n",
        "# Display results\n",
        "print(\"Row-wise averages:\")\n",
        "print(row_avg)\n",
        "\n",
        "print(\"\\nColumn-wise averages:\")\n",
        "print(col_avg)\n"
      ],
      "metadata": {
        "colab": {
          "base_uri": "https://localhost:8080/"
        },
        "id": "S3kEfhasii4D",
        "outputId": "63c67a97-7c99-411d-ae94-e0d8bc52ec99"
      },
      "execution_count": null,
      "outputs": [
        {
          "output_type": "stream",
          "name": "stdout",
          "text": [
            "Row-wise averages:\n",
            "0    63.7750\n",
            "1    66.3275\n",
            "2    71.9400\n",
            "3    59.1850\n",
            "4    57.1450\n",
            "dtype: float64\n",
            "\n",
            "Column-wise averages:\n",
            "Column1    97.960\n",
            "Column2    94.696\n",
            "Column3    61.226\n",
            "Column4     0.816\n",
            "dtype: float64\n"
          ]
        }
      ]
    },
    {
      "cell_type": "code",
      "source": [
        "import numpy as np\n",
        "import pandas as pd\n",
        "\n",
        "# Provided values\n",
        "data = np.array([\n",
        "    [100, 100, 89.80, 2.04],\n",
        "    [89.88, 83.67, 53.06, 2.04],\n",
        "    [65.31, 65.31, 48.98, 0.00],\n",
        "    [83.67, 71.43, 59.18, 8.16],\n",
        "    [100, 73.47, 55.10, 0.00]\n",
        "])\n",
        "\n",
        "# Create a DataFrame\n",
        "df = pd.DataFrame(data, columns=['Column1', 'Column2', 'Column3', 'Column4'])\n",
        "\n",
        "# Row-wise average\n",
        "row_avg = df.mean(axis=1)\n",
        "\n",
        "# Column-wise average\n",
        "col_avg = df.mean(axis=0)\n",
        "\n",
        "# Display results\n",
        "print(\"Row-wise averages:\")\n",
        "print(row_avg)\n",
        "\n",
        "print(\"\\nColumn-wise averages:\")\n",
        "print(col_avg)\n"
      ],
      "metadata": {
        "colab": {
          "base_uri": "https://localhost:8080/"
        },
        "id": "GSowq7emii7D",
        "outputId": "fe832813-9570-4306-eb13-85e795ebb418"
      },
      "execution_count": null,
      "outputs": [
        {
          "output_type": "stream",
          "name": "stdout",
          "text": [
            "Row-wise averages:\n",
            "0    72.9600\n",
            "1    57.1625\n",
            "2    44.9000\n",
            "3    55.6100\n",
            "4    57.1425\n",
            "dtype: float64\n",
            "\n",
            "Column-wise averages:\n",
            "Column1    87.772\n",
            "Column2    78.776\n",
            "Column3    61.224\n",
            "Column4     2.448\n",
            "dtype: float64\n"
          ]
        }
      ]
    },
    {
      "cell_type": "code",
      "source": [
        "import numpy as np\n",
        "import pandas as pd\n",
        "\n",
        "# Provided values\n",
        "data = np.array([\n",
        "    [100, 100, 48.98, 10.20],\n",
        "    [100, 100, 75.51, 8.16],\n",
        "    [93.88, 93.88, 83.67, 0.00],\n",
        "    [95.92, 87.76, 65.31, 10.20],\n",
        "    [100, 89.80, 59.18, 2.04]\n",
        "])\n",
        "\n",
        "# Create a DataFrame\n",
        "df = pd.DataFrame(data, columns=['Column1', 'Column2', 'Column3', 'Column4'])\n",
        "\n",
        "# Row-wise average\n",
        "row_avg = df.mean(axis=1)\n",
        "\n",
        "# Column-wise average\n",
        "col_avg = df.mean(axis=0)\n",
        "\n",
        "# Display results\n",
        "print(\"Row-wise averages:\")\n",
        "print(row_avg)\n",
        "\n",
        "print(\"\\nColumn-wise averages:\")\n",
        "print(col_avg)\n"
      ],
      "metadata": {
        "colab": {
          "base_uri": "https://localhost:8080/"
        },
        "id": "_y7fdc0Mii-Q",
        "outputId": "996018da-a014-44f2-e2b8-18db9f06454f"
      },
      "execution_count": null,
      "outputs": [
        {
          "output_type": "stream",
          "name": "stdout",
          "text": [
            "Row-wise averages:\n",
            "0    64.7950\n",
            "1    70.9175\n",
            "2    67.8575\n",
            "3    64.7975\n",
            "4    62.7550\n",
            "dtype: float64\n",
            "\n",
            "Column-wise averages:\n",
            "Column1    97.960\n",
            "Column2    94.288\n",
            "Column3    66.530\n",
            "Column4     6.120\n",
            "dtype: float64\n"
          ]
        }
      ]
    },
    {
      "cell_type": "code",
      "source": [],
      "metadata": {
        "id": "t17TJPTaNS9w"
      },
      "execution_count": null,
      "outputs": []
    },
    {
      "cell_type": "code",
      "source": [],
      "metadata": {
        "id": "_5DLj4sOlCgh"
      },
      "execution_count": null,
      "outputs": []
    },
    {
      "cell_type": "code",
      "source": [],
      "metadata": {
        "id": "0QXqsbn1lWvh"
      },
      "execution_count": null,
      "outputs": []
    },
    {
      "cell_type": "code",
      "source": [],
      "metadata": {
        "id": "y2DL-GdBjQTg"
      },
      "execution_count": null,
      "outputs": []
    },
    {
      "cell_type": "code",
      "source": [],
      "metadata": {
        "id": "yr6dAXCAmJxg"
      },
      "execution_count": null,
      "outputs": []
    }
  ]
}