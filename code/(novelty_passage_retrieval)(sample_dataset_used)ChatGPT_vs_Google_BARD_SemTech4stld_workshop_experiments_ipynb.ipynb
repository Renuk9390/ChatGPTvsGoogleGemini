{
  "nbformat": 4,
  "nbformat_minor": 0,
  "metadata": {
    "colab": {
      "provenance": []
    },
    "kernelspec": {
      "name": "python3",
      "display_name": "Python 3"
    },
    "language_info": {
      "name": "python"
    }
  },
  "cells": [
    {
      "cell_type": "code",
      "execution_count": null,
      "metadata": {
        "id": "1bw_qUx5RFnK"
      },
      "outputs": [],
      "source": []
    },
    {
      "cell_type": "markdown",
      "source": [
        "# Novelty passage retrieval using GPT and Gemini"
      ],
      "metadata": {
        "id": "922SrOreSHFX"
      }
    },
    {
      "cell_type": "code",
      "source": [
        "from google.colab import drive\n",
        "\n",
        "drive.mount('/content/gdrive/', force_remount=True)"
      ],
      "metadata": {
        "colab": {
          "base_uri": "https://localhost:8080/"
        },
        "id": "_87nziK_SLGw",
        "outputId": "9cceeb2b-375f-470e-a182-93adcb6ae97f"
      },
      "execution_count": null,
      "outputs": [
        {
          "output_type": "stream",
          "name": "stdout",
          "text": [
            "Mounted at /content/gdrive/\n"
          ]
        }
      ]
    },
    {
      "cell_type": "code",
      "source": [
        "cd gdrive/MyDrive/SemTech4STLD_related_code_and_data/"
      ],
      "metadata": {
        "colab": {
          "base_uri": "https://localhost:8080/"
        },
        "id": "zjS8bq18SM1x",
        "outputId": "70747eba-04ab-4e3e-ff6f-b8b31e8a6d9f"
      },
      "execution_count": null,
      "outputs": [
        {
          "output_type": "stream",
          "name": "stdout",
          "text": [
            "/content/gdrive/MyDrive/SemTech4STLD_related_code_and_data\n"
          ]
        }
      ]
    },
    {
      "cell_type": "code",
      "source": [
        "ls"
      ],
      "metadata": {
        "colab": {
          "base_uri": "https://localhost:8080/"
        },
        "id": "-6yNcFI_SZm1",
        "outputId": "e9d7c67d-7a8c-420c-eed1-efa2bf454b91"
      },
      "execution_count": null,
      "outputs": [
        {
          "output_type": "stream",
          "name": "stdout",
          "text": [
            "sample-dataset-for-results-analysis-SemTech4stld.xlsx\n"
          ]
        }
      ]
    },
    {
      "cell_type": "code",
      "source": [
        "import pandas as pd"
      ],
      "metadata": {
        "id": "YzAV58oVToSM"
      },
      "execution_count": null,
      "outputs": []
    },
    {
      "cell_type": "code",
      "source": [
        "# Read xl file\n",
        "csv_file_path = './sample-dataset-for-results-analysis-SemTech4stld.xlsx'\n",
        "df = pd.read_excel(csv_file_path)"
      ],
      "metadata": {
        "id": "63tuU-mjSaU0"
      },
      "execution_count": null,
      "outputs": []
    },
    {
      "cell_type": "code",
      "source": [
        "df.head()"
      ],
      "metadata": {
        "colab": {
          "base_uri": "https://localhost:8080/",
          "height": 536
        },
        "id": "Y4fw_PgKTlvB",
        "outputId": "2838256d-5e92-440b-ace2-b126d4c00520"
      },
      "execution_count": null,
      "outputs": [
        {
          "output_type": "execute_result",
          "data": {
            "text/plain": [
              "       APnum            PAnum  \\\n",
              "0  EP4300511  US20140019162A1   \n",
              "1  EP4273738  US20080091405A1   \n",
              "2  EP4270403  US20200176098A1   \n",
              "3  EP4270403      US9984772B2   \n",
              "\n",
              "                                             APclaim  \\\n",
              "0  Text classification method to aid on clinical ...   \n",
              "1  A semantic representation generation method of...   \n",
              "2  A computer-implemented method comprising:\\next...   \n",
              "3  A computer-implemented method comprising:\\next...   \n",
              "\n",
              "                                             PAclaim  \\\n",
              "0  An automated triage system, comprising:\\na pat...   \n",
              "1  A method of analyzing a sentence in a source l...   \n",
              "2  A method, comprising:\\ndetermining a first con...   \n",
              "3  A computer-implemented method for predicting a...   \n",
              "\n",
              "                                          APabstract  \\\n",
              "0  The present application describes an automatic...   \n",
              "1  In a semantic representation generation method...   \n",
              "2  A computer-implemented method comprising\\nextr...   \n",
              "3  A computer-implemented method comprising\\nextr...   \n",
              "\n",
              "                                          PAabstract  \\\n",
              "0  An automated triage system may include a patie...   \n",
              "1  A method and computer system for analyzing sen...   \n",
              "2  A method includes the steps of determining a f...   \n",
              "3  A computer-implemented method for predicting a...   \n",
              "\n",
              "                                               APipc  \\\n",
              "0  G16H50/20, G16H10/60, G16H40/20, G06F40/10, G0...   \n",
              "1          G06F40/30, G06F40/211, G06F40/268, G06...   \n",
              "2          G16H10/20, G16H50/20, G16H50/30, G06F1...   \n",
              "3          G16H10/20, G16H50/20, G16H50/30, G06F1...   \n",
              "\n",
              "                                               PAipc  \\\n",
              "0                              G06F 9/00, G06O 50/24   \n",
              "1                                          G06F 7/28   \n",
              "2    G16H 15/00, G06F 40/30,G06F 40/295,\\nG16H 70/00   \n",
              "3  G06F 17/27,G06F 17/30,G06F 19/00,GO6N 3/08,GO6...   \n",
              "\n",
              "                                        PAparagraphs  \\\n",
              "0  [0057]\\nFIGS. 3A-3B illustrate a more detailed...   \n",
              "1    \\n[0004]\\nThe acquired ability to understand...   \n",
              "2  \\n[0001]\\nThis application claims the benefit ...   \n",
              "3  [0003] Traditionally, medical image radiology ...   \n",
              "\n",
              "                                    PApragraphs_Json  ... PApredGPT_top2  \\\n",
              "0  {\\n  \"sentences\": [\\n    {\\n      \"id\": \"0057\"...  ...            NaN   \n",
              "1  {\\n  \"sentences\": [\\n    {\\n      \"id\": \"0004\"...  ...            NaN   \n",
              "2  {\\n  \"sentences\": [\\n    {\\n      \"id\": \"0001\"...  ...            NaN   \n",
              "3  {\\n  \"sentences\": [\\n    {\\n      \"id\": \"0003\"...  ...            NaN   \n",
              "\n",
              "  PApredGPT_top3       PApredBARD_all3  PApredBARD_top1  PApredBARD_top2  \\\n",
              "0            NaN  \\n(0058, 0059, 0092)              NaN              NaN   \n",
              "1            NaN    (0004, 0005, 0015)              NaN              NaN   \n",
              "2            NaN  \\n(0002, 0039, 0040)              NaN              NaN   \n",
              "3            NaN  \\n(0003, 0004, 0005)              NaN              NaN   \n",
              "\n",
              "  PApredBARD_top3                                      APipc_GPTpred  \\\n",
              "0             NaN  G16H 30/20, G06Q 50/24, A61B 5/00, G06F 19/00,...   \n",
              "1             NaN  G06F 17/27, G06F 17/28, G06F 17/30, G06F 17/50...   \n",
              "2             NaN  G06F 17/30, G06N 5/02, G06F 17/27, G06F 19/00,...   \n",
              "3             NaN  G06F 17/30, G06N 5/02, G06F 17/27, G06F 19/00,...   \n",
              "\n",
              "                                      APipc_BARDpred  \\\n",
              "0  ipc1: G06F19/00, ipc2: G06N3/08, ipc3: G16H50/...   \n",
              "1  \\nipc1: G06N3/05, ipc2: G10L15/00, ipc3: H04L2...   \n",
              "2  \\nipc1: G06F17/30, ipc2: G06N3/08, ipc3: G16H5...   \n",
              "3  \\nipc1: G06F17/30, ipc2: G06N3/08, ipc3: G16H5...   \n",
              "\n",
              "                              APipc_abstract_GPTpred  \\\n",
              "0  G06F17/305, G16H30/20, A61B5/1503, G06N3/00, G...   \n",
              "1  G06F17/27, G06N3/04, G06F17/305, G06Q10/08, G0...   \n",
              "2  G06N3/08, G06F17/30, G06F17/27, G06Q50/22, A61...   \n",
              "3  G06N3/08, G06F17/30, G06F17/27, G06Q50/22, A61...   \n",
              "\n",
              "                             APipc_abstract_BARDpred  \n",
              "0  G06F17/30, G06F7/07, G16H50/20, G16H50/50, G06...  \n",
              "1  G10L15/00, G10L15/02, G10L25/00, G10L25/04, G0...  \n",
              "2  G16H50/50, G16H70/60, G06F17/30, G06N3/04, G06...  \n",
              "3  G16H50/50, G16H70/60, G06F17/30, G06N3/04, G06...  \n",
              "\n",
              "[4 rows x 23 columns]"
            ],
            "text/html": [
              "\n",
              "  <div id=\"df-19c345f9-1579-438b-936e-1203c7bef3eb\" class=\"colab-df-container\">\n",
              "    <div>\n",
              "<style scoped>\n",
              "    .dataframe tbody tr th:only-of-type {\n",
              "        vertical-align: middle;\n",
              "    }\n",
              "\n",
              "    .dataframe tbody tr th {\n",
              "        vertical-align: top;\n",
              "    }\n",
              "\n",
              "    .dataframe thead th {\n",
              "        text-align: right;\n",
              "    }\n",
              "</style>\n",
              "<table border=\"1\" class=\"dataframe\">\n",
              "  <thead>\n",
              "    <tr style=\"text-align: right;\">\n",
              "      <th></th>\n",
              "      <th>APnum</th>\n",
              "      <th>PAnum</th>\n",
              "      <th>APclaim</th>\n",
              "      <th>PAclaim</th>\n",
              "      <th>APabstract</th>\n",
              "      <th>PAabstract</th>\n",
              "      <th>APipc</th>\n",
              "      <th>PAipc</th>\n",
              "      <th>PAparagraphs</th>\n",
              "      <th>PApragraphs_Json</th>\n",
              "      <th>...</th>\n",
              "      <th>PApredGPT_top2</th>\n",
              "      <th>PApredGPT_top3</th>\n",
              "      <th>PApredBARD_all3</th>\n",
              "      <th>PApredBARD_top1</th>\n",
              "      <th>PApredBARD_top2</th>\n",
              "      <th>PApredBARD_top3</th>\n",
              "      <th>APipc_GPTpred</th>\n",
              "      <th>APipc_BARDpred</th>\n",
              "      <th>APipc_abstract_GPTpred</th>\n",
              "      <th>APipc_abstract_BARDpred</th>\n",
              "    </tr>\n",
              "  </thead>\n",
              "  <tbody>\n",
              "    <tr>\n",
              "      <th>0</th>\n",
              "      <td>EP4300511</td>\n",
              "      <td>US20140019162A1</td>\n",
              "      <td>Text classification method to aid on clinical ...</td>\n",
              "      <td>An automated triage system, comprising:\\na pat...</td>\n",
              "      <td>The present application describes an automatic...</td>\n",
              "      <td>An automated triage system may include a patie...</td>\n",
              "      <td>G16H50/20, G16H10/60, G16H40/20, G06F40/10, G0...</td>\n",
              "      <td>G06F 9/00, G06O 50/24</td>\n",
              "      <td>[0057]\\nFIGS. 3A-3B illustrate a more detailed...</td>\n",
              "      <td>{\\n  \"sentences\": [\\n    {\\n      \"id\": \"0057\"...</td>\n",
              "      <td>...</td>\n",
              "      <td>NaN</td>\n",
              "      <td>NaN</td>\n",
              "      <td>\\n(0058, 0059, 0092)</td>\n",
              "      <td>NaN</td>\n",
              "      <td>NaN</td>\n",
              "      <td>NaN</td>\n",
              "      <td>G16H 30/20, G06Q 50/24, A61B 5/00, G06F 19/00,...</td>\n",
              "      <td>ipc1: G06F19/00, ipc2: G06N3/08, ipc3: G16H50/...</td>\n",
              "      <td>G06F17/305, G16H30/20, A61B5/1503, G06N3/00, G...</td>\n",
              "      <td>G06F17/30, G06F7/07, G16H50/20, G16H50/50, G06...</td>\n",
              "    </tr>\n",
              "    <tr>\n",
              "      <th>1</th>\n",
              "      <td>EP4273738</td>\n",
              "      <td>US20080091405A1</td>\n",
              "      <td>A semantic representation generation method of...</td>\n",
              "      <td>A method of analyzing a sentence in a source l...</td>\n",
              "      <td>In a semantic representation generation method...</td>\n",
              "      <td>A method and computer system for analyzing sen...</td>\n",
              "      <td>G06F40/30, G06F40/211, G06F40/268, G06...</td>\n",
              "      <td>G06F 7/28</td>\n",
              "      <td>\\n[0004]\\nThe acquired ability to understand...</td>\n",
              "      <td>{\\n  \"sentences\": [\\n    {\\n      \"id\": \"0004\"...</td>\n",
              "      <td>...</td>\n",
              "      <td>NaN</td>\n",
              "      <td>NaN</td>\n",
              "      <td>(0004, 0005, 0015)</td>\n",
              "      <td>NaN</td>\n",
              "      <td>NaN</td>\n",
              "      <td>NaN</td>\n",
              "      <td>G06F 17/27, G06F 17/28, G06F 17/30, G06F 17/50...</td>\n",
              "      <td>\\nipc1: G06N3/05, ipc2: G10L15/00, ipc3: H04L2...</td>\n",
              "      <td>G06F17/27, G06N3/04, G06F17/305, G06Q10/08, G0...</td>\n",
              "      <td>G10L15/00, G10L15/02, G10L25/00, G10L25/04, G0...</td>\n",
              "    </tr>\n",
              "    <tr>\n",
              "      <th>2</th>\n",
              "      <td>EP4270403</td>\n",
              "      <td>US20200176098A1</td>\n",
              "      <td>A computer-implemented method comprising:\\next...</td>\n",
              "      <td>A method, comprising:\\ndetermining a first con...</td>\n",
              "      <td>A computer-implemented method comprising\\nextr...</td>\n",
              "      <td>A method includes the steps of determining a f...</td>\n",
              "      <td>G16H10/20, G16H50/20, G16H50/30, G06F1...</td>\n",
              "      <td>G16H 15/00, G06F 40/30,G06F 40/295,\\nG16H 70/00</td>\n",
              "      <td>\\n[0001]\\nThis application claims the benefit ...</td>\n",
              "      <td>{\\n  \"sentences\": [\\n    {\\n      \"id\": \"0001\"...</td>\n",
              "      <td>...</td>\n",
              "      <td>NaN</td>\n",
              "      <td>NaN</td>\n",
              "      <td>\\n(0002, 0039, 0040)</td>\n",
              "      <td>NaN</td>\n",
              "      <td>NaN</td>\n",
              "      <td>NaN</td>\n",
              "      <td>G06F 17/30, G06N 5/02, G06F 17/27, G06F 19/00,...</td>\n",
              "      <td>\\nipc1: G06F17/30, ipc2: G06N3/08, ipc3: G16H5...</td>\n",
              "      <td>G06N3/08, G06F17/30, G06F17/27, G06Q50/22, A61...</td>\n",
              "      <td>G16H50/50, G16H70/60, G06F17/30, G06N3/04, G06...</td>\n",
              "    </tr>\n",
              "    <tr>\n",
              "      <th>3</th>\n",
              "      <td>EP4270403</td>\n",
              "      <td>US9984772B2</td>\n",
              "      <td>A computer-implemented method comprising:\\next...</td>\n",
              "      <td>A computer-implemented method for predicting a...</td>\n",
              "      <td>A computer-implemented method comprising\\nextr...</td>\n",
              "      <td>A computer-implemented method for predicting a...</td>\n",
              "      <td>G16H10/20, G16H50/20, G16H50/30, G06F1...</td>\n",
              "      <td>G06F 17/27,G06F 17/30,G06F 19/00,GO6N 3/08,GO6...</td>\n",
              "      <td>[0003] Traditionally, medical image radiology ...</td>\n",
              "      <td>{\\n  \"sentences\": [\\n    {\\n      \"id\": \"0003\"...</td>\n",
              "      <td>...</td>\n",
              "      <td>NaN</td>\n",
              "      <td>NaN</td>\n",
              "      <td>\\n(0003, 0004, 0005)</td>\n",
              "      <td>NaN</td>\n",
              "      <td>NaN</td>\n",
              "      <td>NaN</td>\n",
              "      <td>G06F 17/30, G06N 5/02, G06F 17/27, G06F 19/00,...</td>\n",
              "      <td>\\nipc1: G06F17/30, ipc2: G06N3/08, ipc3: G16H5...</td>\n",
              "      <td>G06N3/08, G06F17/30, G06F17/27, G06Q50/22, A61...</td>\n",
              "      <td>G16H50/50, G16H70/60, G06F17/30, G06N3/04, G06...</td>\n",
              "    </tr>\n",
              "  </tbody>\n",
              "</table>\n",
              "<p>4 rows × 23 columns</p>\n",
              "</div>\n",
              "    <div class=\"colab-df-buttons\">\n",
              "\n",
              "  <div class=\"colab-df-container\">\n",
              "    <button class=\"colab-df-convert\" onclick=\"convertToInteractive('df-19c345f9-1579-438b-936e-1203c7bef3eb')\"\n",
              "            title=\"Convert this dataframe to an interactive table.\"\n",
              "            style=\"display:none;\">\n",
              "\n",
              "  <svg xmlns=\"http://www.w3.org/2000/svg\" height=\"24px\" viewBox=\"0 -960 960 960\">\n",
              "    <path d=\"M120-120v-720h720v720H120Zm60-500h600v-160H180v160Zm220 220h160v-160H400v160Zm0 220h160v-160H400v160ZM180-400h160v-160H180v160Zm440 0h160v-160H620v160ZM180-180h160v-160H180v160Zm440 0h160v-160H620v160Z\"/>\n",
              "  </svg>\n",
              "    </button>\n",
              "\n",
              "  <style>\n",
              "    .colab-df-container {\n",
              "      display:flex;\n",
              "      gap: 12px;\n",
              "    }\n",
              "\n",
              "    .colab-df-convert {\n",
              "      background-color: #E8F0FE;\n",
              "      border: none;\n",
              "      border-radius: 50%;\n",
              "      cursor: pointer;\n",
              "      display: none;\n",
              "      fill: #1967D2;\n",
              "      height: 32px;\n",
              "      padding: 0 0 0 0;\n",
              "      width: 32px;\n",
              "    }\n",
              "\n",
              "    .colab-df-convert:hover {\n",
              "      background-color: #E2EBFA;\n",
              "      box-shadow: 0px 1px 2px rgba(60, 64, 67, 0.3), 0px 1px 3px 1px rgba(60, 64, 67, 0.15);\n",
              "      fill: #174EA6;\n",
              "    }\n",
              "\n",
              "    .colab-df-buttons div {\n",
              "      margin-bottom: 4px;\n",
              "    }\n",
              "\n",
              "    [theme=dark] .colab-df-convert {\n",
              "      background-color: #3B4455;\n",
              "      fill: #D2E3FC;\n",
              "    }\n",
              "\n",
              "    [theme=dark] .colab-df-convert:hover {\n",
              "      background-color: #434B5C;\n",
              "      box-shadow: 0px 1px 3px 1px rgba(0, 0, 0, 0.15);\n",
              "      filter: drop-shadow(0px 1px 2px rgba(0, 0, 0, 0.3));\n",
              "      fill: #FFFFFF;\n",
              "    }\n",
              "  </style>\n",
              "\n",
              "    <script>\n",
              "      const buttonEl =\n",
              "        document.querySelector('#df-19c345f9-1579-438b-936e-1203c7bef3eb button.colab-df-convert');\n",
              "      buttonEl.style.display =\n",
              "        google.colab.kernel.accessAllowed ? 'block' : 'none';\n",
              "\n",
              "      async function convertToInteractive(key) {\n",
              "        const element = document.querySelector('#df-19c345f9-1579-438b-936e-1203c7bef3eb');\n",
              "        const dataTable =\n",
              "          await google.colab.kernel.invokeFunction('convertToInteractive',\n",
              "                                                    [key], {});\n",
              "        if (!dataTable) return;\n",
              "\n",
              "        const docLinkHtml = 'Like what you see? Visit the ' +\n",
              "          '<a target=\"_blank\" href=https://colab.research.google.com/notebooks/data_table.ipynb>data table notebook</a>'\n",
              "          + ' to learn more about interactive tables.';\n",
              "        element.innerHTML = '';\n",
              "        dataTable['output_type'] = 'display_data';\n",
              "        await google.colab.output.renderOutput(dataTable, element);\n",
              "        const docLink = document.createElement('div');\n",
              "        docLink.innerHTML = docLinkHtml;\n",
              "        element.appendChild(docLink);\n",
              "      }\n",
              "    </script>\n",
              "  </div>\n",
              "\n",
              "\n",
              "<div id=\"df-855c3cbc-e645-4580-97e1-742d64b1eb80\">\n",
              "  <button class=\"colab-df-quickchart\" onclick=\"quickchart('df-855c3cbc-e645-4580-97e1-742d64b1eb80')\"\n",
              "            title=\"Suggest charts\"\n",
              "            style=\"display:none;\">\n",
              "\n",
              "<svg xmlns=\"http://www.w3.org/2000/svg\" height=\"24px\"viewBox=\"0 0 24 24\"\n",
              "     width=\"24px\">\n",
              "    <g>\n",
              "        <path d=\"M19 3H5c-1.1 0-2 .9-2 2v14c0 1.1.9 2 2 2h14c1.1 0 2-.9 2-2V5c0-1.1-.9-2-2-2zM9 17H7v-7h2v7zm4 0h-2V7h2v10zm4 0h-2v-4h2v4z\"/>\n",
              "    </g>\n",
              "</svg>\n",
              "  </button>\n",
              "\n",
              "<style>\n",
              "  .colab-df-quickchart {\n",
              "      --bg-color: #E8F0FE;\n",
              "      --fill-color: #1967D2;\n",
              "      --hover-bg-color: #E2EBFA;\n",
              "      --hover-fill-color: #174EA6;\n",
              "      --disabled-fill-color: #AAA;\n",
              "      --disabled-bg-color: #DDD;\n",
              "  }\n",
              "\n",
              "  [theme=dark] .colab-df-quickchart {\n",
              "      --bg-color: #3B4455;\n",
              "      --fill-color: #D2E3FC;\n",
              "      --hover-bg-color: #434B5C;\n",
              "      --hover-fill-color: #FFFFFF;\n",
              "      --disabled-bg-color: #3B4455;\n",
              "      --disabled-fill-color: #666;\n",
              "  }\n",
              "\n",
              "  .colab-df-quickchart {\n",
              "    background-color: var(--bg-color);\n",
              "    border: none;\n",
              "    border-radius: 50%;\n",
              "    cursor: pointer;\n",
              "    display: none;\n",
              "    fill: var(--fill-color);\n",
              "    height: 32px;\n",
              "    padding: 0;\n",
              "    width: 32px;\n",
              "  }\n",
              "\n",
              "  .colab-df-quickchart:hover {\n",
              "    background-color: var(--hover-bg-color);\n",
              "    box-shadow: 0 1px 2px rgba(60, 64, 67, 0.3), 0 1px 3px 1px rgba(60, 64, 67, 0.15);\n",
              "    fill: var(--button-hover-fill-color);\n",
              "  }\n",
              "\n",
              "  .colab-df-quickchart-complete:disabled,\n",
              "  .colab-df-quickchart-complete:disabled:hover {\n",
              "    background-color: var(--disabled-bg-color);\n",
              "    fill: var(--disabled-fill-color);\n",
              "    box-shadow: none;\n",
              "  }\n",
              "\n",
              "  .colab-df-spinner {\n",
              "    border: 2px solid var(--fill-color);\n",
              "    border-color: transparent;\n",
              "    border-bottom-color: var(--fill-color);\n",
              "    animation:\n",
              "      spin 1s steps(1) infinite;\n",
              "  }\n",
              "\n",
              "  @keyframes spin {\n",
              "    0% {\n",
              "      border-color: transparent;\n",
              "      border-bottom-color: var(--fill-color);\n",
              "      border-left-color: var(--fill-color);\n",
              "    }\n",
              "    20% {\n",
              "      border-color: transparent;\n",
              "      border-left-color: var(--fill-color);\n",
              "      border-top-color: var(--fill-color);\n",
              "    }\n",
              "    30% {\n",
              "      border-color: transparent;\n",
              "      border-left-color: var(--fill-color);\n",
              "      border-top-color: var(--fill-color);\n",
              "      border-right-color: var(--fill-color);\n",
              "    }\n",
              "    40% {\n",
              "      border-color: transparent;\n",
              "      border-right-color: var(--fill-color);\n",
              "      border-top-color: var(--fill-color);\n",
              "    }\n",
              "    60% {\n",
              "      border-color: transparent;\n",
              "      border-right-color: var(--fill-color);\n",
              "    }\n",
              "    80% {\n",
              "      border-color: transparent;\n",
              "      border-right-color: var(--fill-color);\n",
              "      border-bottom-color: var(--fill-color);\n",
              "    }\n",
              "    90% {\n",
              "      border-color: transparent;\n",
              "      border-bottom-color: var(--fill-color);\n",
              "    }\n",
              "  }\n",
              "</style>\n",
              "\n",
              "  <script>\n",
              "    async function quickchart(key) {\n",
              "      const quickchartButtonEl =\n",
              "        document.querySelector('#' + key + ' button');\n",
              "      quickchartButtonEl.disabled = true;  // To prevent multiple clicks.\n",
              "      quickchartButtonEl.classList.add('colab-df-spinner');\n",
              "      try {\n",
              "        const charts = await google.colab.kernel.invokeFunction(\n",
              "            'suggestCharts', [key], {});\n",
              "      } catch (error) {\n",
              "        console.error('Error during call to suggestCharts:', error);\n",
              "      }\n",
              "      quickchartButtonEl.classList.remove('colab-df-spinner');\n",
              "      quickchartButtonEl.classList.add('colab-df-quickchart-complete');\n",
              "    }\n",
              "    (() => {\n",
              "      let quickchartButtonEl =\n",
              "        document.querySelector('#df-855c3cbc-e645-4580-97e1-742d64b1eb80 button');\n",
              "      quickchartButtonEl.style.display =\n",
              "        google.colab.kernel.accessAllowed ? 'block' : 'none';\n",
              "    })();\n",
              "  </script>\n",
              "</div>\n",
              "    </div>\n",
              "  </div>\n"
            ],
            "application/vnd.google.colaboratory.intrinsic+json": {
              "type": "dataframe",
              "variable_name": "df"
            }
          },
          "metadata": {},
          "execution_count": 58
        }
      ]
    },
    {
      "cell_type": "code",
      "source": [
        "print(df.dtypes)"
      ],
      "metadata": {
        "colab": {
          "base_uri": "https://localhost:8080/"
        },
        "id": "Y3COr3sqTt93",
        "outputId": "dcc51226-fa6b-4f5c-8276-5c3745feff3a"
      },
      "execution_count": null,
      "outputs": [
        {
          "output_type": "stream",
          "name": "stdout",
          "text": [
            "APnum                       object\n",
            "PAnum                       object\n",
            "APclaim                     object\n",
            "PAclaim                     object\n",
            "APabstract                  object\n",
            "PAabstract                  object\n",
            " APipc                      object\n",
            "PAipc                       object\n",
            "PAparagraphs                object\n",
            "PApragraphs_Json            object\n",
            "PAcited                     object\n",
            "PApredGPT_all3              object\n",
            "PApredGPT_top1             float64\n",
            "PApredGPT_top2             float64\n",
            "PApredGPT_top3             float64\n",
            "PApredBARD_all3             object\n",
            "PApredBARD_top1            float64\n",
            "PApredBARD_top2            float64\n",
            "PApredBARD_top3            float64\n",
            "APipc_GPTpred               object\n",
            "APipc_BARDpred              object\n",
            "APipc_abstract_GPTpred      object\n",
            "APipc_abstract_BARDpred     object\n",
            "dtype: object\n"
          ]
        }
      ]
    },
    {
      "cell_type": "code",
      "source": [
        "df['PAcited'][0]"
      ],
      "metadata": {
        "colab": {
          "base_uri": "https://localhost:8080/",
          "height": 35
        },
        "id": "SpcI9ITgViHK",
        "outputId": "2a02fd29-f510-406c-e167-ba9be6b37b1e"
      },
      "execution_count": null,
      "outputs": [
        {
          "output_type": "execute_result",
          "data": {
            "text/plain": [
              "'[0061],[0062],[0063]'"
            ],
            "application/vnd.google.colaboratory.intrinsic+json": {
              "type": "string"
            }
          },
          "metadata": {},
          "execution_count": 68
        }
      ]
    },
    {
      "cell_type": "code",
      "source": [
        "df['PApredGPT_all3'][0]"
      ],
      "metadata": {
        "colab": {
          "base_uri": "https://localhost:8080/",
          "height": 35
        },
        "id": "MGhQ8TbyxONP",
        "outputId": "4be51d69-983b-43ea-98c8-33ea8d7b6f16"
      },
      "execution_count": null,
      "outputs": [
        {
          "output_type": "execute_result",
          "data": {
            "text/plain": [
              "'\\n(0058, 0059, 0061)\\n\\n\\n\\n\\n'"
            ],
            "application/vnd.google.colaboratory.intrinsic+json": {
              "type": "string"
            }
          },
          "metadata": {},
          "execution_count": 69
        }
      ]
    },
    {
      "cell_type": "code",
      "source": [
        "df['PApredBARD_all3'][0]"
      ],
      "metadata": {
        "colab": {
          "base_uri": "https://localhost:8080/",
          "height": 35
        },
        "id": "OPXN9667xUd9",
        "outputId": "bd2c001a-d06a-4718-9306-bf72b1d8d4b8"
      },
      "execution_count": null,
      "outputs": [
        {
          "output_type": "execute_result",
          "data": {
            "text/plain": [
              "'\\n(0058, 0059, 0092)'"
            ],
            "application/vnd.google.colaboratory.intrinsic+json": {
              "type": "string"
            }
          },
          "metadata": {},
          "execution_count": 70
        }
      ]
    },
    {
      "cell_type": "markdown",
      "source": [
        "## verification to list conversion"
      ],
      "metadata": {
        "id": "ACM36mCYvGGS"
      }
    },
    {
      "cell_type": "code",
      "source": [
        "import pandas as pd\n",
        "\n",
        "# Assuming df is your DataFrame\n",
        "# You can create a DataFrame for demonstration purposes\n",
        "data = {'PAcited': ['[0144],[0172],[0002]']}\n",
        "df = pd.DataFrame(data)\n",
        "\n",
        "# Extract the string values without converting them to integers\n",
        "df['PAcited'] = df['PAcited'].str.extractall(r'(\\d+)').astype(str).groupby(level=0).agg(','.join)\n",
        "\n",
        "# Convert the comma-separated string to a list of strings\n",
        "df['PAcited'] = df['PAcited'].apply(lambda x: [f'{num:04d}' for num in map(int, x.split(','))])\n",
        "\n",
        "# Print the updated DataFrame\n",
        "print(df)\n"
      ],
      "metadata": {
        "colab": {
          "base_uri": "https://localhost:8080/"
        },
        "id": "dyOfoWBHWPSp",
        "outputId": "6f27cdf5-49c5-49d4-8f71-0c3b0be4b6d6"
      },
      "execution_count": null,
      "outputs": [
        {
          "output_type": "stream",
          "name": "stdout",
          "text": [
            "              PAcited\n",
            "0  [0144, 0172, 0002]\n"
          ]
        }
      ]
    },
    {
      "cell_type": "markdown",
      "source": [
        "## verification to list conversion"
      ],
      "metadata": {
        "id": "3WZrDyievKhv"
      }
    },
    {
      "cell_type": "code",
      "source": [
        "import pandas as pd\n",
        "\n",
        "# Assuming df is your DataFrame\n",
        "# You can create a DataFrame for demonstration purposes\n",
        "data = {'PApredBARD_all3': ['(0058, 0059, 0061)']}\n",
        "df = pd.DataFrame(data)\n",
        "\n",
        "# Extract the string values without converting them to integers\n",
        "df['PApredBARD_all3'] = df['PApredBARD_all3'].str.extractall(r'(\\d+)').astype(str).groupby(level=0).agg(','.join)\n",
        "\n",
        "# Convert the comma-separated string to a list of strings with leading zeros preserved\n",
        "df['PApredBARD_all3'] = df['PApredBARD_all3'].apply(lambda x: [f'{num:04d}' for num in map(int, x.split(','))])\n",
        "\n",
        "# Print the updated DataFrame\n",
        "print(df)\n"
      ],
      "metadata": {
        "colab": {
          "base_uri": "https://localhost:8080/"
        },
        "id": "35mggti6Wcsr",
        "outputId": "d27e5b7d-3768-4dfe-ec27-c69feebee349"
      },
      "execution_count": null,
      "outputs": [
        {
          "output_type": "stream",
          "name": "stdout",
          "text": [
            "      PApredBARD_all3\n",
            "0  [0058, 0059, 0061]\n"
          ]
        }
      ]
    },
    {
      "cell_type": "markdown",
      "source": [
        "import pandas as pd\n",
        "\n",
        "#### Assuming df is your DataFrame\n",
        "#### You can create a DataFrame for demonstration purposes\n",
        "data = {'PAcited': ['[0144],[0172],[0002]']}\n",
        "df = pd.DataFrame(data)\n"
      ],
      "metadata": {
        "id": "ysNmQ1MMk54u"
      }
    },
    {
      "cell_type": "code",
      "source": [
        "\n",
        "# Extract the string values without converting them to integers\n",
        "df['PAcited'] = df['PAcited'].str.extractall(r'(\\d+)').astype(str).groupby(level=0).agg(','.join)\n",
        "\n",
        "# Convert the comma-separated string to a list of strings\n",
        "df['PAcited'] = df['PAcited'].apply(lambda x: [f'{num:04d}' for num in map(int, x.split(','))])"
      ],
      "metadata": {
        "id": "x1N4z4Askqfs"
      },
      "execution_count": null,
      "outputs": []
    },
    {
      "cell_type": "markdown",
      "source": [
        "import pandas as pd\n",
        "\n",
        "#### Assuming df is your DataFrame\n",
        "#### You can create a DataFrame for demonstration purposes\n",
        "data = {'PApredBARD_all3': ['(0058, 0059, 0061)']}\n",
        "df = pd.DataFrame(data)\n"
      ],
      "metadata": {
        "id": "L-vEudXJlmIN"
      }
    },
    {
      "cell_type": "code",
      "source": [
        "\n",
        "# Extract the string values without converting them to integers\n",
        "df['PApredBARD_all3'] = df['PApredBARD_all3'].str.extractall(r'(\\d+)').astype(str).groupby(level=0).agg(','.join)\n",
        "\n",
        "# Convert the comma-separated string to a list of strings with leading zeros preserved\n",
        "df['PApredBARD_all3'] = df['PApredBARD_all3'].apply(lambda x: [f'{num:04d}' for num in map(int, x.split(','))])\n"
      ],
      "metadata": {
        "id": "LM2cnzHDky6t"
      },
      "execution_count": null,
      "outputs": []
    },
    {
      "cell_type": "code",
      "source": [],
      "metadata": {
        "id": "-HfWYcGHl49_"
      },
      "execution_count": null,
      "outputs": []
    },
    {
      "cell_type": "code",
      "source": [
        "\n",
        "# Extract the string values without converting them to integers\n",
        "df['PApredGPT_all3'] = df['PApredGPT_all3'].str.extractall(r'(\\d+)').astype(str).groupby(level=0).agg(','.join)\n",
        "\n",
        "# Convert the comma-separated string to a list of strings with leading zeros preserved\n",
        "df['PApredGPT_all3'] = df['PApredGPT_all3'].apply(lambda x: [f'{num:04d}' for num in map(int, x.split(','))])"
      ],
      "metadata": {
        "id": "KSx0tVzdl6C2"
      },
      "execution_count": null,
      "outputs": []
    },
    {
      "cell_type": "code",
      "source": [],
      "metadata": {
        "id": "5t8GNz5Ayvyv"
      },
      "execution_count": null,
      "outputs": []
    },
    {
      "cell_type": "markdown",
      "source": [
        "## after converting to single list"
      ],
      "metadata": {
        "id": "tgiQ8wr6ywqQ"
      }
    },
    {
      "cell_type": "code",
      "source": [
        "df['PAcited'][0]"
      ],
      "metadata": {
        "colab": {
          "base_uri": "https://localhost:8080/"
        },
        "id": "tg6JNFy4yv2G",
        "outputId": "a0f56dee-57f8-4efa-dd80-ebab2c103f28"
      },
      "execution_count": null,
      "outputs": [
        {
          "output_type": "execute_result",
          "data": {
            "text/plain": [
              "['0061', '0062', '0063']"
            ]
          },
          "metadata": {},
          "execution_count": 74
        }
      ]
    },
    {
      "cell_type": "code",
      "source": [
        "df['PApredGPT_all3'][0]"
      ],
      "metadata": {
        "colab": {
          "base_uri": "https://localhost:8080/"
        },
        "id": "xSt1FEIdyv5-",
        "outputId": "5d63bcef-2766-41f5-836c-99b0e6bc008d"
      },
      "execution_count": null,
      "outputs": [
        {
          "output_type": "execute_result",
          "data": {
            "text/plain": [
              "['0058', '0059', '0061']"
            ]
          },
          "metadata": {},
          "execution_count": 75
        }
      ]
    },
    {
      "cell_type": "code",
      "source": [
        "df['PApredBARD_all3'][0]"
      ],
      "metadata": {
        "colab": {
          "base_uri": "https://localhost:8080/"
        },
        "id": "QejLFL77w9D5",
        "outputId": "fd82c493-cbbe-41e0-94f1-18c07e482714"
      },
      "execution_count": null,
      "outputs": [
        {
          "output_type": "execute_result",
          "data": {
            "text/plain": [
              "['0058', '0059', '0092']"
            ]
          },
          "metadata": {},
          "execution_count": 76
        }
      ]
    },
    {
      "cell_type": "code",
      "source": [],
      "metadata": {
        "id": "XPO92IpOw9Gy"
      },
      "execution_count": null,
      "outputs": []
    },
    {
      "cell_type": "markdown",
      "source": [
        "## Passage retrieval accuracy verification"
      ],
      "metadata": {
        "id": "wiAOqj4hoNfi"
      }
    },
    {
      "cell_type": "code",
      "source": [
        "import pandas as pd\n",
        "\n",
        "# Sample DataFrame\n",
        "data = {'PApredBARD_all3': [['0004', '0005', '0015'], ['0012', '0010', '0014'], ['0020', '0021', '0022']],\n",
        "        'PAcited': [['0058', '0059', '0004'], ['0012', '0013', '0015'], ['0020', '0021', '0023']]}\n",
        "df = pd.DataFrame(data)\n"
      ],
      "metadata": {
        "id": "7cJ86BI7p05d"
      },
      "execution_count": null,
      "outputs": []
    },
    {
      "cell_type": "code",
      "source": [
        "df.head()"
      ],
      "metadata": {
        "colab": {
          "base_uri": "https://localhost:8080/",
          "height": 143
        },
        "id": "bZqCqMrvtm9Y",
        "outputId": "97fc7349-932c-49f4-ddb5-dc9272450a31"
      },
      "execution_count": null,
      "outputs": [
        {
          "output_type": "execute_result",
          "data": {
            "text/plain": [
              "      PApredBARD_all3             PAcited\n",
              "0  [0004, 0005, 0015]  [0058, 0059, 0004]\n",
              "1  [0012, 0010, 0014]  [0012, 0013, 0015]\n",
              "2  [0020, 0021, 0022]  [0020, 0021, 0023]"
            ],
            "text/html": [
              "\n",
              "  <div id=\"df-700fc5a2-e293-471f-b451-b445b28fc527\" class=\"colab-df-container\">\n",
              "    <div>\n",
              "<style scoped>\n",
              "    .dataframe tbody tr th:only-of-type {\n",
              "        vertical-align: middle;\n",
              "    }\n",
              "\n",
              "    .dataframe tbody tr th {\n",
              "        vertical-align: top;\n",
              "    }\n",
              "\n",
              "    .dataframe thead th {\n",
              "        text-align: right;\n",
              "    }\n",
              "</style>\n",
              "<table border=\"1\" class=\"dataframe\">\n",
              "  <thead>\n",
              "    <tr style=\"text-align: right;\">\n",
              "      <th></th>\n",
              "      <th>PApredBARD_all3</th>\n",
              "      <th>PAcited</th>\n",
              "    </tr>\n",
              "  </thead>\n",
              "  <tbody>\n",
              "    <tr>\n",
              "      <th>0</th>\n",
              "      <td>[0004, 0005, 0015]</td>\n",
              "      <td>[0058, 0059, 0004]</td>\n",
              "    </tr>\n",
              "    <tr>\n",
              "      <th>1</th>\n",
              "      <td>[0012, 0010, 0014]</td>\n",
              "      <td>[0012, 0013, 0015]</td>\n",
              "    </tr>\n",
              "    <tr>\n",
              "      <th>2</th>\n",
              "      <td>[0020, 0021, 0022]</td>\n",
              "      <td>[0020, 0021, 0023]</td>\n",
              "    </tr>\n",
              "  </tbody>\n",
              "</table>\n",
              "</div>\n",
              "    <div class=\"colab-df-buttons\">\n",
              "\n",
              "  <div class=\"colab-df-container\">\n",
              "    <button class=\"colab-df-convert\" onclick=\"convertToInteractive('df-700fc5a2-e293-471f-b451-b445b28fc527')\"\n",
              "            title=\"Convert this dataframe to an interactive table.\"\n",
              "            style=\"display:none;\">\n",
              "\n",
              "  <svg xmlns=\"http://www.w3.org/2000/svg\" height=\"24px\" viewBox=\"0 -960 960 960\">\n",
              "    <path d=\"M120-120v-720h720v720H120Zm60-500h600v-160H180v160Zm220 220h160v-160H400v160Zm0 220h160v-160H400v160ZM180-400h160v-160H180v160Zm440 0h160v-160H620v160ZM180-180h160v-160H180v160Zm440 0h160v-160H620v160Z\"/>\n",
              "  </svg>\n",
              "    </button>\n",
              "\n",
              "  <style>\n",
              "    .colab-df-container {\n",
              "      display:flex;\n",
              "      gap: 12px;\n",
              "    }\n",
              "\n",
              "    .colab-df-convert {\n",
              "      background-color: #E8F0FE;\n",
              "      border: none;\n",
              "      border-radius: 50%;\n",
              "      cursor: pointer;\n",
              "      display: none;\n",
              "      fill: #1967D2;\n",
              "      height: 32px;\n",
              "      padding: 0 0 0 0;\n",
              "      width: 32px;\n",
              "    }\n",
              "\n",
              "    .colab-df-convert:hover {\n",
              "      background-color: #E2EBFA;\n",
              "      box-shadow: 0px 1px 2px rgba(60, 64, 67, 0.3), 0px 1px 3px 1px rgba(60, 64, 67, 0.15);\n",
              "      fill: #174EA6;\n",
              "    }\n",
              "\n",
              "    .colab-df-buttons div {\n",
              "      margin-bottom: 4px;\n",
              "    }\n",
              "\n",
              "    [theme=dark] .colab-df-convert {\n",
              "      background-color: #3B4455;\n",
              "      fill: #D2E3FC;\n",
              "    }\n",
              "\n",
              "    [theme=dark] .colab-df-convert:hover {\n",
              "      background-color: #434B5C;\n",
              "      box-shadow: 0px 1px 3px 1px rgba(0, 0, 0, 0.15);\n",
              "      filter: drop-shadow(0px 1px 2px rgba(0, 0, 0, 0.3));\n",
              "      fill: #FFFFFF;\n",
              "    }\n",
              "  </style>\n",
              "\n",
              "    <script>\n",
              "      const buttonEl =\n",
              "        document.querySelector('#df-700fc5a2-e293-471f-b451-b445b28fc527 button.colab-df-convert');\n",
              "      buttonEl.style.display =\n",
              "        google.colab.kernel.accessAllowed ? 'block' : 'none';\n",
              "\n",
              "      async function convertToInteractive(key) {\n",
              "        const element = document.querySelector('#df-700fc5a2-e293-471f-b451-b445b28fc527');\n",
              "        const dataTable =\n",
              "          await google.colab.kernel.invokeFunction('convertToInteractive',\n",
              "                                                    [key], {});\n",
              "        if (!dataTable) return;\n",
              "\n",
              "        const docLinkHtml = 'Like what you see? Visit the ' +\n",
              "          '<a target=\"_blank\" href=https://colab.research.google.com/notebooks/data_table.ipynb>data table notebook</a>'\n",
              "          + ' to learn more about interactive tables.';\n",
              "        element.innerHTML = '';\n",
              "        dataTable['output_type'] = 'display_data';\n",
              "        await google.colab.output.renderOutput(dataTable, element);\n",
              "        const docLink = document.createElement('div');\n",
              "        docLink.innerHTML = docLinkHtml;\n",
              "        element.appendChild(docLink);\n",
              "      }\n",
              "    </script>\n",
              "  </div>\n",
              "\n",
              "\n",
              "<div id=\"df-0b4bef04-408f-42d1-a378-ee55a228ba23\">\n",
              "  <button class=\"colab-df-quickchart\" onclick=\"quickchart('df-0b4bef04-408f-42d1-a378-ee55a228ba23')\"\n",
              "            title=\"Suggest charts\"\n",
              "            style=\"display:none;\">\n",
              "\n",
              "<svg xmlns=\"http://www.w3.org/2000/svg\" height=\"24px\"viewBox=\"0 0 24 24\"\n",
              "     width=\"24px\">\n",
              "    <g>\n",
              "        <path d=\"M19 3H5c-1.1 0-2 .9-2 2v14c0 1.1.9 2 2 2h14c1.1 0 2-.9 2-2V5c0-1.1-.9-2-2-2zM9 17H7v-7h2v7zm4 0h-2V7h2v10zm4 0h-2v-4h2v4z\"/>\n",
              "    </g>\n",
              "</svg>\n",
              "  </button>\n",
              "\n",
              "<style>\n",
              "  .colab-df-quickchart {\n",
              "      --bg-color: #E8F0FE;\n",
              "      --fill-color: #1967D2;\n",
              "      --hover-bg-color: #E2EBFA;\n",
              "      --hover-fill-color: #174EA6;\n",
              "      --disabled-fill-color: #AAA;\n",
              "      --disabled-bg-color: #DDD;\n",
              "  }\n",
              "\n",
              "  [theme=dark] .colab-df-quickchart {\n",
              "      --bg-color: #3B4455;\n",
              "      --fill-color: #D2E3FC;\n",
              "      --hover-bg-color: #434B5C;\n",
              "      --hover-fill-color: #FFFFFF;\n",
              "      --disabled-bg-color: #3B4455;\n",
              "      --disabled-fill-color: #666;\n",
              "  }\n",
              "\n",
              "  .colab-df-quickchart {\n",
              "    background-color: var(--bg-color);\n",
              "    border: none;\n",
              "    border-radius: 50%;\n",
              "    cursor: pointer;\n",
              "    display: none;\n",
              "    fill: var(--fill-color);\n",
              "    height: 32px;\n",
              "    padding: 0;\n",
              "    width: 32px;\n",
              "  }\n",
              "\n",
              "  .colab-df-quickchart:hover {\n",
              "    background-color: var(--hover-bg-color);\n",
              "    box-shadow: 0 1px 2px rgba(60, 64, 67, 0.3), 0 1px 3px 1px rgba(60, 64, 67, 0.15);\n",
              "    fill: var(--button-hover-fill-color);\n",
              "  }\n",
              "\n",
              "  .colab-df-quickchart-complete:disabled,\n",
              "  .colab-df-quickchart-complete:disabled:hover {\n",
              "    background-color: var(--disabled-bg-color);\n",
              "    fill: var(--disabled-fill-color);\n",
              "    box-shadow: none;\n",
              "  }\n",
              "\n",
              "  .colab-df-spinner {\n",
              "    border: 2px solid var(--fill-color);\n",
              "    border-color: transparent;\n",
              "    border-bottom-color: var(--fill-color);\n",
              "    animation:\n",
              "      spin 1s steps(1) infinite;\n",
              "  }\n",
              "\n",
              "  @keyframes spin {\n",
              "    0% {\n",
              "      border-color: transparent;\n",
              "      border-bottom-color: var(--fill-color);\n",
              "      border-left-color: var(--fill-color);\n",
              "    }\n",
              "    20% {\n",
              "      border-color: transparent;\n",
              "      border-left-color: var(--fill-color);\n",
              "      border-top-color: var(--fill-color);\n",
              "    }\n",
              "    30% {\n",
              "      border-color: transparent;\n",
              "      border-left-color: var(--fill-color);\n",
              "      border-top-color: var(--fill-color);\n",
              "      border-right-color: var(--fill-color);\n",
              "    }\n",
              "    40% {\n",
              "      border-color: transparent;\n",
              "      border-right-color: var(--fill-color);\n",
              "      border-top-color: var(--fill-color);\n",
              "    }\n",
              "    60% {\n",
              "      border-color: transparent;\n",
              "      border-right-color: var(--fill-color);\n",
              "    }\n",
              "    80% {\n",
              "      border-color: transparent;\n",
              "      border-right-color: var(--fill-color);\n",
              "      border-bottom-color: var(--fill-color);\n",
              "    }\n",
              "    90% {\n",
              "      border-color: transparent;\n",
              "      border-bottom-color: var(--fill-color);\n",
              "    }\n",
              "  }\n",
              "</style>\n",
              "\n",
              "  <script>\n",
              "    async function quickchart(key) {\n",
              "      const quickchartButtonEl =\n",
              "        document.querySelector('#' + key + ' button');\n",
              "      quickchartButtonEl.disabled = true;  // To prevent multiple clicks.\n",
              "      quickchartButtonEl.classList.add('colab-df-spinner');\n",
              "      try {\n",
              "        const charts = await google.colab.kernel.invokeFunction(\n",
              "            'suggestCharts', [key], {});\n",
              "      } catch (error) {\n",
              "        console.error('Error during call to suggestCharts:', error);\n",
              "      }\n",
              "      quickchartButtonEl.classList.remove('colab-df-spinner');\n",
              "      quickchartButtonEl.classList.add('colab-df-quickchart-complete');\n",
              "    }\n",
              "    (() => {\n",
              "      let quickchartButtonEl =\n",
              "        document.querySelector('#df-0b4bef04-408f-42d1-a378-ee55a228ba23 button');\n",
              "      quickchartButtonEl.style.display =\n",
              "        google.colab.kernel.accessAllowed ? 'block' : 'none';\n",
              "    })();\n",
              "  </script>\n",
              "</div>\n",
              "    </div>\n",
              "  </div>\n"
            ],
            "application/vnd.google.colaboratory.intrinsic+json": {
              "type": "dataframe",
              "variable_name": "df",
              "summary": "{\n  \"name\": \"df\",\n  \"rows\": 3,\n  \"fields\": [\n    {\n      \"column\": \"PApredBARD_all3\",\n      \"properties\": {\n        \"dtype\": \"object\",\n        \"semantic_type\": \"\",\n        \"description\": \"\"\n      }\n    },\n    {\n      \"column\": \"PAcited\",\n      \"properties\": {\n        \"dtype\": \"object\",\n        \"semantic_type\": \"\",\n        \"description\": \"\"\n      }\n    }\n  ]\n}"
            }
          },
          "metadata": {},
          "execution_count": 46
        }
      ]
    },
    {
      "cell_type": "code",
      "source": [
        "# Column to compare\n",
        "predicted_column = 'PApredBARD_all3'\n",
        "truth_column = 'PAcited'\n",
        "\n",
        "# Function to calculate accuracy\n",
        "def calculate_accuracy(row):\n",
        "    predicted_list = row[predicted_column][1]\n",
        "    truth_list = row[truth_column]\n",
        "\n",
        "    # Check if any item in the truth list matches the first item in the predicted list\n",
        "    return any(truth_item == predicted_list for truth_item in truth_list)\n",
        "\n",
        "# Apply the accuracy calculation function to the predicted column and calculate the mean accuracy\n",
        "accuracy_col = f'Top2_accuracy_of_{predicted_column}'\n",
        "accuracy = df.apply(calculate_accuracy, axis=1).mean()\n",
        "\n",
        "# Print the accuracy for the predicted column\n",
        "print(f'{accuracy_col}: {accuracy:.2%}')\n"
      ],
      "metadata": {
        "colab": {
          "base_uri": "https://localhost:8080/"
        },
        "id": "WS6V63UmtoMn",
        "outputId": "687e484b-13dc-4284-c75f-e6f06b159b11"
      },
      "execution_count": null,
      "outputs": [
        {
          "output_type": "stream",
          "name": "stdout",
          "text": [
            "Top2_accuracy_of_PApredBARD_all3: 33.33%\n"
          ]
        }
      ]
    },
    {
      "cell_type": "code",
      "source": [],
      "metadata": {
        "id": "gK-jM0C4ttRo"
      },
      "execution_count": null,
      "outputs": []
    },
    {
      "cell_type": "code",
      "source": [],
      "metadata": {
        "id": "GblaetYfwyoc"
      },
      "execution_count": null,
      "outputs": []
    },
    {
      "cell_type": "code",
      "source": [],
      "metadata": {
        "id": "zp3G2bAuwyuc"
      },
      "execution_count": null,
      "outputs": []
    },
    {
      "cell_type": "markdown",
      "source": [
        "# Calculate Top1, Top2, Top3 accuracies of passage retrieval"
      ],
      "metadata": {
        "id": "l8ALbfgpwzAe"
      }
    },
    {
      "cell_type": "code",
      "source": [
        "# Column to compare\n",
        "predicted_column = 'PApredGPT_all3'\n",
        "truth_column = 'PAcited'\n",
        "\n",
        "# Function to calculate accuracy\n",
        "def calculate_accuracy(row):\n",
        "    predicted_list = row[predicted_column][0]\n",
        "    truth_list = row[truth_column]\n",
        "\n",
        "    # Check if any item in the truth list matches the first item in the predicted list\n",
        "    return any(truth_item == predicted_list for truth_item in truth_list)\n",
        "\n",
        "# Apply the accuracy calculation function to the predicted column and calculate the mean accuracy\n",
        "accuracy_col = f'Top1_accuracy_of_{predicted_column}'\n",
        "accuracy = df.apply(calculate_accuracy, axis=1).mean()\n",
        "\n",
        "# Print the accuracy for the predicted column\n",
        "print(f'{accuracy_col}: {accuracy:.2%}')\n"
      ],
      "metadata": {
        "colab": {
          "base_uri": "https://localhost:8080/"
        },
        "id": "Rcz6D8ZFw5w9",
        "outputId": "eb5e64bb-ad11-41e2-a883-ccb4d88ddd7d"
      },
      "execution_count": null,
      "outputs": [
        {
          "output_type": "stream",
          "name": "stdout",
          "text": [
            "Top1_accuracy_of_PApredGPT_all3: 50.00%\n"
          ]
        }
      ]
    },
    {
      "cell_type": "code",
      "source": [
        "# Column to compare\n",
        "predicted_column = 'PApredGPT_all3'\n",
        "truth_column = 'PAcited'\n",
        "\n",
        "# Function to calculate accuracy\n",
        "def calculate_accuracy(row):\n",
        "    predicted_list = row[predicted_column][1]\n",
        "    truth_list = row[truth_column]\n",
        "\n",
        "    # Check if any item in the truth list matches the first item in the predicted list\n",
        "    return any(truth_item == predicted_list for truth_item in truth_list)\n",
        "\n",
        "# Apply the accuracy calculation function to the predicted column and calculate the mean accuracy\n",
        "accuracy_col = f'Top2_accuracy_of_{predicted_column}'\n",
        "accuracy = df.apply(calculate_accuracy, axis=1).mean()\n",
        "\n",
        "# Print the accuracy for the predicted column\n",
        "print(f'{accuracy_col}: {accuracy:.2%}')"
      ],
      "metadata": {
        "colab": {
          "base_uri": "https://localhost:8080/"
        },
        "id": "7gY8C3_KzNoN",
        "outputId": "45e592a4-20a0-4022-ec25-3552f3497569"
      },
      "execution_count": null,
      "outputs": [
        {
          "output_type": "stream",
          "name": "stdout",
          "text": [
            "Top2_accuracy_of_PApredGPT_all3: 50.00%\n"
          ]
        }
      ]
    },
    {
      "cell_type": "code",
      "source": [
        "# Column to compare\n",
        "predicted_column = 'PApredGPT_all3'\n",
        "truth_column = 'PAcited'\n",
        "\n",
        "# Function to calculate accuracy\n",
        "def calculate_accuracy(row):\n",
        "    predicted_list = row[predicted_column][2]\n",
        "    truth_list = row[truth_column]\n",
        "\n",
        "    # Check if any item in the truth list matches the first item in the predicted list\n",
        "    return any(truth_item == predicted_list for truth_item in truth_list)\n",
        "\n",
        "# Apply the accuracy calculation function to the predicted column and calculate the mean accuracy\n",
        "accuracy_col = f'Top3_accuracy_of_{predicted_column}'\n",
        "accuracy = df.apply(calculate_accuracy, axis=1).mean()\n",
        "\n",
        "# Print the accuracy for the predicted column\n",
        "print(f'{accuracy_col}: {accuracy:.2%}')"
      ],
      "metadata": {
        "colab": {
          "base_uri": "https://localhost:8080/"
        },
        "id": "H2cVPgikzNs9",
        "outputId": "006d576a-38a0-4c14-fd86-81ee3f8ef4d1"
      },
      "execution_count": null,
      "outputs": [
        {
          "output_type": "stream",
          "name": "stdout",
          "text": [
            "Top3_accuracy_of_PApredGPT_all3: 50.00%\n"
          ]
        }
      ]
    },
    {
      "cell_type": "code",
      "source": [
        "# Column to compare\n",
        "predicted_column = 'PApredBARD_all3'\n",
        "truth_column = 'PAcited'\n",
        "\n",
        "# Function to calculate accuracy\n",
        "def calculate_accuracy(row):\n",
        "    predicted_list = row[predicted_column][0]\n",
        "    truth_list = row[truth_column]\n",
        "\n",
        "    # Check if any item in the truth list matches the first item in the predicted list\n",
        "    return any(truth_item == predicted_list for truth_item in truth_list)\n",
        "\n",
        "# Apply the accuracy calculation function to the predicted column and calculate the mean accuracy\n",
        "accuracy_col = f'Top1_accuracy_of_{predicted_column}'\n",
        "accuracy = df.apply(calculate_accuracy, axis=1).mean()\n",
        "\n",
        "# Print the accuracy for the predicted column\n",
        "print(f'{accuracy_col}: {accuracy:.2%}')"
      ],
      "metadata": {
        "colab": {
          "base_uri": "https://localhost:8080/"
        },
        "id": "ZTKqZ5j-zv2l",
        "outputId": "5487fdda-5ef8-4edd-8cbb-ad3df905abae"
      },
      "execution_count": null,
      "outputs": [
        {
          "output_type": "stream",
          "name": "stdout",
          "text": [
            "Top1_accuracy_of_PApredBARD_all3: 25.00%\n"
          ]
        }
      ]
    },
    {
      "cell_type": "code",
      "source": [
        "  # Column to compare\n",
        "predicted_column = 'PApredBARD_all3'\n",
        "truth_column = 'PAcited'\n",
        "\n",
        "# Function to calculate accuracy\n",
        "def calculate_accuracy(row):\n",
        "    predicted_list = row[predicted_column][1]\n",
        "    truth_list = row[truth_column]\n",
        "\n",
        "    # Check if any item in the truth list matches the first item in the predicted list\n",
        "    return any(truth_item == predicted_list for truth_item in truth_list)\n",
        "\n",
        "# Apply the accuracy calculation function to the predicted column and calculate the mean accuracy\n",
        "accuracy_col = f'Top2_accuracy_of_{predicted_column}'\n",
        "accuracy = df.apply(calculate_accuracy, axis=1).mean()\n",
        "\n",
        "# Print the accuracy for the predicted column\n",
        "print(f'{accuracy_col}: {accuracy:.2%}')"
      ],
      "metadata": {
        "colab": {
          "base_uri": "https://localhost:8080/"
        },
        "id": "nJ6tComazNzY",
        "outputId": "0fb7dc86-6d89-41aa-f11a-3982275c4e97"
      },
      "execution_count": null,
      "outputs": [
        {
          "output_type": "stream",
          "name": "stdout",
          "text": [
            "Top2_accuracy_of_PApredBARD_all3: 25.00%\n"
          ]
        }
      ]
    },
    {
      "cell_type": "code",
      "source": [
        "  # Column to compare\n",
        "predicted_column = 'PApredBARD_all3'\n",
        "truth_column = 'PAcited'\n",
        "\n",
        "# Function to calculate accuracy\n",
        "def calculate_accuracy(row):\n",
        "    predicted_list = row[predicted_column][2]\n",
        "    truth_list = row[truth_column]\n",
        "\n",
        "    # Check if any item in the truth list matches the first item in the predicted list\n",
        "    return any(truth_item == predicted_list for truth_item in truth_list)\n",
        "\n",
        "# Apply the accuracy calculation function to the predicted column and calculate the mean accuracy\n",
        "accuracy_col = f'Top3_accuracy_of_{predicted_column}'\n",
        "accuracy = df.apply(calculate_accuracy, axis=1).mean()\n",
        "\n",
        "# Print the accuracy for the predicted column\n",
        "print(f'{accuracy_col}: {accuracy:.2%}')"
      ],
      "metadata": {
        "colab": {
          "base_uri": "https://localhost:8080/"
        },
        "id": "tXTH1oqe0amO",
        "outputId": "acd06d06-5f66-4201-ac11-74bfea220fe4"
      },
      "execution_count": null,
      "outputs": [
        {
          "output_type": "stream",
          "name": "stdout",
          "text": [
            "Top3_accuracy_of_PApredBARD_all3: 50.00%\n"
          ]
        }
      ]
    },
    {
      "cell_type": "code",
      "source": [],
      "metadata": {
        "id": "vBdsyY1hHfyV"
      },
      "execution_count": null,
      "outputs": []
    },
    {
      "cell_type": "code",
      "source": [],
      "metadata": {
        "id": "ZX3Q89wFHf1f"
      },
      "execution_count": null,
      "outputs": []
    },
    {
      "cell_type": "code",
      "source": [],
      "metadata": {
        "id": "j6TEWf0oHf5I"
      },
      "execution_count": null,
      "outputs": []
    },
    {
      "cell_type": "markdown",
      "source": [
        "## other verification code"
      ],
      "metadata": {
        "id": "xsLmOJYkHhF5"
      }
    },
    {
      "cell_type": "code",
      "source": [
        "import pandas as pd\n",
        "from sklearn.metrics import precision_score, recall_score, f1_score, accuracy_score\n",
        "\n",
        "# Sample DataFrame\n",
        "data = {\n",
        "    'PAcited': [['0061', '0064', '0063'], ['0071', '0072', '0073'], ['0081', '0082', '0083']],\n",
        "    'PApredGPT_all3': [['0061', '0064', '0065'], ['0071', '0095', '0096'], ['0081', '0082', '0083']],\n",
        "}\n",
        "\n",
        "# Add PAtotal containing 9 items (3 true + 6 non-true)\n",
        "data['PAtotal'] = [\n",
        "    ['0061', '0062', '0063', '0091', '0064', '0093', '0094', '0065', '0096'],\n",
        "    ['0071', '0072', '0073', '0091', '0092', '0093', '0094', '0095', '0096'],\n",
        "    ['0081', '0082', '0083', '0091', '0092', '0093', '0094', '0095', '0096'],\n",
        "]\n",
        "\n",
        "df = pd.DataFrame(data)\n",
        "\n",
        "# Function to calculate precision, recall, F1 score, and accuracy\n",
        "def calculate_performance(row):\n",
        "    # Extract actual cited values, predicted values, and total values from the row\n",
        "    actual_cited = row['PAcited']\n",
        "    predicted_values = row['PApredGPT_all3']\n",
        "    total_values = row['PAtotal']\n",
        "\n",
        "    # Calculate metrics\n",
        "    precision = precision_score(actual_cited, predicted_values, average='micro')\n",
        "    recall = recall_score(actual_cited, predicted_values, average='micro')\n",
        "    f1 = f1_score(actual_cited, predicted_values, average='micro')\n",
        "    accuracy = accuracy_score(actual_cited, predicted_values)\n",
        "\n",
        "    # Calculate additional metrics based on total values\n",
        "    true_positives = len(set(actual_cited).intersection(set(predicted_values)))\n",
        "    false_positives = len(set(predicted_values).difference(set(actual_cited)))\n",
        "    false_negatives = len(set(actual_cited).difference(set(predicted_values)))\n",
        "    true_negatives = len(set(total_values).difference(set(actual_cited).union(set(predicted_values))))\n",
        "\n",
        "    precision_macro = true_positives / (true_positives + false_positives) if (true_positives + false_positives) != 0 else 0\n",
        "    recall_macro = true_positives / (true_positives + false_negatives) if (true_positives + false_negatives) != 0 else 0\n",
        "    f1_macro = 2 * (precision_macro * recall_macro) / (precision_macro + recall_macro) if (precision_macro + recall_macro) != 0 else 0\n",
        "\n",
        "    return precision, recall, f1, accuracy, precision_macro, recall_macro, f1_macro\n",
        "\n",
        "# Apply the performance calculation function to each row and create a new DataFrame with results\n",
        "performance_df = df.apply(calculate_performance, axis=1, result_type='expand')\n",
        "performance_df.columns = ['Precision', 'Recall', 'F1 Score', 'Accuracy', 'Precision Macro', 'Recall Macro', 'F1 Macro']\n",
        "\n",
        "# Display the original DataFrame and the performance DataFrame\n",
        "print(\"Original DataFrame:\")\n",
        "print(df)\n",
        "\n",
        "print(\"\\nPerformance DataFrame:\")\n",
        "print(performance_df)"
      ],
      "metadata": {
        "colab": {
          "base_uri": "https://localhost:8080/"
        },
        "id": "MTiFFI0SHkYl",
        "outputId": "ed134793-fdce-4c42-e742-2ef66fc4a8f2"
      },
      "execution_count": null,
      "outputs": [
        {
          "output_type": "stream",
          "name": "stdout",
          "text": [
            "Original DataFrame:\n",
            "              PAcited      PApredGPT_all3  \\\n",
            "0  [0061, 0064, 0063]  [0061, 0064, 0065]   \n",
            "1  [0071, 0072, 0073]  [0071, 0095, 0096]   \n",
            "2  [0081, 0082, 0083]  [0081, 0082, 0083]   \n",
            "\n",
            "                                             PAtotal  \n",
            "0  [0061, 0062, 0063, 0091, 0064, 0093, 0094, 006...  \n",
            "1  [0071, 0072, 0073, 0091, 0092, 0093, 0094, 009...  \n",
            "2  [0081, 0082, 0083, 0091, 0092, 0093, 0094, 009...  \n",
            "\n",
            "Performance DataFrame:\n",
            "   Precision    Recall  F1 Score  Accuracy  Precision Macro  Recall Macro  \\\n",
            "0   0.666667  0.666667  0.666667  0.666667         0.666667      0.666667   \n",
            "1   0.333333  0.333333  0.333333  0.333333         0.333333      0.333333   \n",
            "2   1.000000  1.000000  1.000000  1.000000         1.000000      1.000000   \n",
            "\n",
            "   F1 Macro  \n",
            "0  0.666667  \n",
            "1  0.333333  \n",
            "2  1.000000  \n"
          ]
        }
      ]
    },
    {
      "cell_type": "code",
      "source": [
        "import numpy as np\n",
        "\n",
        "def average_precision(y_true, y_pred):\n",
        "    num_hits = 0\n",
        "    precision_sum = 0\n",
        "    for i, (true, pred) in enumerate(zip(y_true, y_pred)):\n",
        "        if true == 1:\n",
        "            num_hits += 1\n",
        "            precision_sum += num_hits / (i + 1)\n",
        "    if num_hits == 0:\n",
        "        return 0\n",
        "    return precision_sum / num_hits\n",
        "\n",
        "# Convert 'PAcited' to binary relevance indicators\n",
        "def get_relevance_indicator(row):\n",
        "    return [1 if item in row['PAcited'] else 0 for item in row['PAtotal']]\n",
        "\n",
        "df['Relevance'] = df.apply(get_relevance_indicator, axis=1)\n",
        "\n",
        "# Calculate Average Precision for each query\n",
        "df['AveragePrecision'] = df.apply(lambda row: average_precision(row['Relevance'], row['PApredGPT_all3']), axis=1)\n",
        "\n",
        "# Calculate Mean Average Precision (MAP)\n",
        "map_score = np.mean(df['AveragePrecision'])\n",
        "print(f'Mean Average Precision (MAP): {map_score}')\n"
      ],
      "metadata": {
        "colab": {
          "base_uri": "https://localhost:8080/"
        },
        "id": "LGo7QrbuLWvN",
        "outputId": "0326358b-d878-41af-d3f9-c4b613c47dbe"
      },
      "execution_count": null,
      "outputs": [
        {
          "output_type": "stream",
          "name": "stdout",
          "text": [
            "Mean Average Precision (MAP): 0.9444444444444443\n"
          ]
        }
      ]
    },
    {
      "cell_type": "code",
      "source": [],
      "metadata": {
        "id": "Jl8hr6WgYncq"
      },
      "execution_count": null,
      "outputs": []
    }
  ]
}